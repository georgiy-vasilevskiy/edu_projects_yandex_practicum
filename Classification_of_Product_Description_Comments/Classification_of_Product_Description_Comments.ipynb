{
 "cells": [
  {
   "cell_type": "markdown",
   "id": "4e3558ef",
   "metadata": {
    "id": "4e3558ef"
   },
   "source": [
    "# Классификация комментариев <br>к описаниям товаров интернет-магазина"
   ]
  },
  {
   "cell_type": "markdown",
   "id": "hk6CyyQ13FhM",
   "metadata": {
    "id": "hk6CyyQ13FhM"
   },
   "source": [
    "Интернет-магазин стал популярным способом продажи товаров. На таких площадках для каждого товара создаётся его карточка, которая содержит изображение товара, его описание, характеристики, информацию о преимуществах и недостатках, цену и, возможно, другую полезную информацию.\n",
    "\n",
    "Для улучшения качества описаний товаров и привлечения к ним ещё большего внимания интернет-магазин может предоставить клиентам возможность редактировать и дополнять описания товаров, комментировать исправления других покупателей. Такой сервис будет способствовать диалогу и обмену идеями между пользователями: это поможет не только улучшить качество описаний товаров, но, потенциально, сможет привлечь ещё большее количество покупателей.\n",
    "\n",
    "Редактирование описаний товаров и комментирование должно быть направлено на предоставление точной, ёмкой и привлекательной информации о товаре, чтобы помочь покупателям принять решение о покупке. Однако не все комментарии клиентов могут оказаться конструктивными. Токсичные комментарии могут вызвать негативные эмоции у других пользователей и нанести вред репутации интернет-магазина.\n",
    "\n",
    "Токсичные комментарии &mdash; это комментарии, содержащие оскорбительные высказывания, угрожающую или ненормативную лексику, призывы к экстремизму и насилию, а также другие формы негативного контента. Такие комментарии могут создавать небезопасную и нездоровую среду на онлайн-платформе.\n",
    "\n",
    "Чтобы создать и поддерживать комфортную среду для пользователей, нужно бороться с токсичными комментариями. Их необходимо обнаруживать и отправлять на модерацию. Задача обнаружения оскорбительного (токсичного) контента &mdash; это задача обработки естественного языка, которая заключается в автоматическом определении текстов, содержащих негативный контент. Одним из подходов в решении задачи является использование алгоритмов машинного обучения, которые обучаются на больших наборах данных, содержащих тексты как с позитивным, так и с негативным контентом. А уже затем используются для автоматического определения наличия токсичного контента в сообщениях пользователей.\n",
    "\n",
    "В нашем распоряжении находятся размеченные данные, содержащие тексты комментариев с разметкой об их токсичности.\n",
    "\n",
    "Для того чтобы автоматически определять наличие токсичного контента в комментариях пользователей, нужно построить модель, которая сможет проанализировать данные о токсичности комментариев и наиболее точным образом определит, является ли комментарий токсичным или нет.\n",
    "\n",
    "**Цель проекта:** построить модель, классифицирующую комментарии на позитивные и негативные.\n",
    "\n",
    "**Задачи проекта:**\n",
    "- выполнить предобработку данных;\n",
    "- разбить данные на тренировочную и валидационную выборки (при необходимости выделить тестовую выборку);\n",
    "- выбрать алгоритмы и построить модели;\n",
    "- учесть дисбаланс классов (при необходимости);\n",
    "- выбрать метрики качества моделей и оценить их значения."
   ]
  },
  {
   "cell_type": "markdown",
   "id": "b835fac0",
   "metadata": {
    "id": "b835fac0"
   },
   "source": [
    "<h1>Содержание<span class=\"tocSkip\"></span></h1>\n",
    "<div class=\"toc\"><ul class=\"toc-item\"><li><span><a href=\"#Обзор-данных\" data-toc-modified-id=\"Обзор-данных-1\"><span class=\"toc-item-num\">1&nbsp;&nbsp;</span>Обзор данных</a></span><ul class=\"toc-item\"><li><span><a href=\"#Импорт-библиотек-и-предварительные-настройки\" data-toc-modified-id=\"Импорт-библиотек-и-предварительные-настройки-1.1\"><span class=\"toc-item-num\">1.1&nbsp;&nbsp;</span>Импорт библиотек и предварительные настройки</a></span></li><li><span><a href=\"#Чтение-файла-и-загрузка-данных\" data-toc-modified-id=\"Чтение-файла-и-загрузка-данных-1.2\"><span class=\"toc-item-num\">1.2&nbsp;&nbsp;</span>Чтение файла и загрузка данных</a></span></li><li><span><a href=\"#Общая-характеристика-набора-данных\" data-toc-modified-id=\"Общая-характеристика-набора-данных-1.3\"><span class=\"toc-item-num\">1.3&nbsp;&nbsp;</span>Общая характеристика набора данных</a></span></li></ul></li><li><span><a href=\"#Понимание-данных\" data-toc-modified-id=\"Понимание-данных-2\"><span class=\"toc-item-num\">2&nbsp;&nbsp;</span>Понимание данных</a></span></li><li><span><a href=\"#Предобработка-данных\" data-toc-modified-id=\"Предобработка-данных-3\"><span class=\"toc-item-num\">3&nbsp;&nbsp;</span>Предобработка данных</a></span><ul class=\"toc-item\"><li><span><a href=\"#Удаление-небуквенных-символов-и-токенизация\" data-toc-modified-id=\"Удаление-небуквенных-символов-и-токенизация-3.1\"><span class=\"toc-item-num\">3.1&nbsp;&nbsp;</span>Удаление небуквенных символов и токенизация</a></span></li><li><span><a href=\"#Лемматизация\" data-toc-modified-id=\"Лемматизация-3.2\"><span class=\"toc-item-num\">3.2&nbsp;&nbsp;</span>Лемматизация</a></span></li><li><span><a href=\"#Обработка-пропусков\" data-toc-modified-id=\"Обработка-пропусков-3.3\"><span class=\"toc-item-num\">3.3&nbsp;&nbsp;</span>Обработка пропусков</a></span></li><li><span><a href=\"#Обработка-дубликатов\" data-toc-modified-id=\"Обработка-дубликатов-3.4\"><span class=\"toc-item-num\">3.4&nbsp;&nbsp;</span>Обработка дубликатов</a></span></li></ul></li><li><span><a href=\"#Построение-моделей\" data-toc-modified-id=\"Построение-моделей-4\"><span class=\"toc-item-num\">4&nbsp;&nbsp;</span>Построение моделей</a></span><ul class=\"toc-item\"><li><span><a href=\"#Подготовка-данных-для-обучения\" data-toc-modified-id=\"Подготовка-данных-для-обучения-4.1\"><span class=\"toc-item-num\">4.1&nbsp;&nbsp;</span>Подготовка данных для обучения</a></span><ul class=\"toc-item\"><li><span><a href=\"#Разделение-данных-на-выборки\" data-toc-modified-id=\"Разделение-данных-на-выборки-4.1.1\"><span class=\"toc-item-num\">4.1.1&nbsp;&nbsp;</span>Разделение данных на выборки</a></span></li><li><span><a href=\"#Векторизация\" data-toc-modified-id=\"Векторизация-4.1.2\"><span class=\"toc-item-num\">4.1.2&nbsp;&nbsp;</span>Векторизация</a></span></li></ul></li><li><span><a href=\"#Обучение-моделей\" data-toc-modified-id=\"Обучение-моделей-4.2\"><span class=\"toc-item-num\">4.2&nbsp;&nbsp;</span>Обучение моделей</a></span><ul class=\"toc-item\"><li><span><a href=\"#Простая-модель\" data-toc-modified-id=\"Простая-модель-4.2.1\"><span class=\"toc-item-num\">4.2.1&nbsp;&nbsp;</span>Простая модель</a></span></li><li><span><a href=\"#Логистическая-регрессия\" data-toc-modified-id=\"Логистическая-регрессия-4.2.2\"><span class=\"toc-item-num\">4.2.2&nbsp;&nbsp;</span>Логистическая регрессия</a></span></li><li><span><a href=\"#Классификатор-с-использованием-гребневой-регрессии\" data-toc-modified-id=\"Классификатор-с-использованием-гребневой-регрессии-4.2.3\"><span class=\"toc-item-num\">4.2.3&nbsp;&nbsp;</span>Классификатор с использованием гребневой регрессии</a></span></li><li><span><a href=\"#Классификатор-с-использованием-стохастического-градиентного-спуска\" data-toc-modified-id=\"Классификатор-с-использованием-стохастического-градиентного-спуска-4.2.4\"><span class=\"toc-item-num\">4.2.4&nbsp;&nbsp;</span>Классификатор с использованием стохастического градиентного спуска</a></span></li><li><span><a href=\"#Метод-опорных-векторов\" data-toc-modified-id=\"Метод-опорных-векторов-4.2.5\"><span class=\"toc-item-num\">4.2.5&nbsp;&nbsp;</span>Метод опорных векторов</a></span></li><li><span><a href=\"#Дерево-решений\" data-toc-modified-id=\"Дерево-решений-4.2.6\"><span class=\"toc-item-num\">4.2.6&nbsp;&nbsp;</span>Дерево решений</a></span></li><li><span><a href=\"#Градиентный-бустинг-на-основе-алгоритма-LightGBM\" data-toc-modified-id=\"Градиентный-бустинг-на-основе-алгоритма-LightGBM-4.2.7\"><span class=\"toc-item-num\">4.2.7&nbsp;&nbsp;</span>Градиентный бустинг на основе алгоритма LightGBM</a></span></li><li><span><a href=\"#Градиентный-бустинг-на-основе-алгоритма-CatBoost\" data-toc-modified-id=\"Градиентный-бустинг-на-основе-алгоритма-CatBoost-4.2.8\"><span class=\"toc-item-num\">4.2.8&nbsp;&nbsp;</span>Градиентный бустинг на основе алгоритма CatBoost</a></span></li></ul></li><li><span><a href=\"#Оценка-моделей\" data-toc-modified-id=\"Оценка-моделей-4.3\"><span class=\"toc-item-num\">4.3&nbsp;&nbsp;</span>Оценка моделей</a></span></li></ul></li><li><span><a href=\"#Общий-вывод\" data-toc-modified-id=\"Общий-вывод-5\"><span class=\"toc-item-num\">5&nbsp;&nbsp;</span>Общий вывод</a></span></li></ul></div>"
   ]
  },
  {
   "cell_type": "markdown",
   "id": "qBG-JyYxiYGB",
   "metadata": {
    "id": "qBG-JyYxiYGB"
   },
   "source": [
    "Внимание! Для корректной работы кода в ячейках рекомендуется предварительно установить следующие библиотеки:"
   ]
  },
  {
   "cell_type": "code",
   "execution_count": 1,
   "id": "ES9W1PK0lYB5",
   "metadata": {
    "colab": {
     "base_uri": "https://localhost:8080/"
    },
    "executionInfo": {
     "elapsed": 36634,
     "status": "ok",
     "timestamp": 1695673826277,
     "user": {
      "displayName": "Georgii Vasilevskii",
      "userId": "00484195698575717017"
     },
     "user_tz": -180
    },
    "id": "ES9W1PK0lYB5",
    "outputId": "65663d60-e14c-4450-fdc6-f2a42ee3f72b"
   },
   "outputs": [
    {
     "name": "stdout",
     "output_type": "stream",
     "text": [
      "2023-09-25 20:29:51.064104: I tensorflow/core/platform/cpu_feature_guard.cc:182] This TensorFlow binary is optimized to use available CPU instructions in performance-critical operations.\n",
      "To enable the following instructions: AVX2 FMA, in other operations, rebuild TensorFlow with the appropriate compiler flags.\n",
      "2023-09-25 20:29:53.069408: W tensorflow/compiler/tf2tensorrt/utils/py_utils.cc:38] TF-TRT Warning: Could not find TensorRT\n",
      "\u001b[2K     \u001b[90m━━━━━━━━━━━━━━━━━━━━━━━━━━━━━━━━━━━━━━━━\u001b[0m \u001b[32m12.8/12.8 MB\u001b[0m \u001b[31m30.9 MB/s\u001b[0m eta \u001b[36m0:00:00\u001b[0m\n",
      "\u001b[?25h\u001b[38;5;2m✔ Download and installation successful\u001b[0m\n",
      "You can now load the package via spacy.load('en_core_web_sm')\n"
     ]
    }
   ],
   "source": [
    "import sys\n",
    "!{sys.executable} -m pip install spacy -q\n",
    "!{sys.executable} -m spacy download en_core_web_sm -q"
   ]
  },
  {
   "cell_type": "code",
   "execution_count": 2,
   "id": "7f9a399f",
   "metadata": {
    "executionInfo": {
     "elapsed": 9024,
     "status": "ok",
     "timestamp": 1695673835288,
     "user": {
      "displayName": "Georgii Vasilevskii",
      "userId": "00484195698575717017"
     },
     "user_tz": -180
    },
    "id": "7f9a399f"
   },
   "outputs": [],
   "source": [
    "!pip install catboost -q"
   ]
  },
  {
   "cell_type": "code",
   "execution_count": 3,
   "id": "e05aed03",
   "metadata": {
    "executionInfo": {
     "elapsed": 6241,
     "status": "ok",
     "timestamp": 1695673841460,
     "user": {
      "displayName": "Georgii Vasilevskii",
      "userId": "00484195698575717017"
     },
     "user_tz": -180
    },
    "id": "e05aed03"
   },
   "outputs": [],
   "source": [
    "!pip install lightgbm -q"
   ]
  },
  {
   "cell_type": "markdown",
   "id": "0f6a5480",
   "metadata": {
    "id": "0f6a5480"
   },
   "source": [
    "## Обзор данных"
   ]
  },
  {
   "cell_type": "markdown",
   "id": "ef1fc044",
   "metadata": {
    "id": "ef1fc044"
   },
   "source": [
    "### Импорт библиотек и предварительные настройки"
   ]
  },
  {
   "cell_type": "code",
   "execution_count": 4,
   "id": "cbbd6b19",
   "metadata": {
    "colab": {
     "base_uri": "https://localhost:8080/"
    },
    "executionInfo": {
     "elapsed": 15529,
     "status": "ok",
     "timestamp": 1695673856953,
     "user": {
      "displayName": "Georgii Vasilevskii",
      "userId": "00484195698575717017"
     },
     "user_tz": -180
    },
    "id": "cbbd6b19",
    "outputId": "51a218fb-f97f-4824-c93e-b986cea052dc"
   },
   "outputs": [
    {
     "name": "stderr",
     "output_type": "stream",
     "text": [
      "[nltk_data] Downloading package stopwords to /root/nltk_data...\n",
      "[nltk_data]   Package stopwords is already up-to-date!\n"
     ]
    }
   ],
   "source": [
    "import pandas as pd\n",
    "import matplotlib.pyplot as plt\n",
    "import numpy as np\n",
    "import seaborn as sns\n",
    "import os\n",
    "import re\n",
    "import spacy\n",
    "import nltk\n",
    "\n",
    "from sklearn.feature_extraction.text import TfidfVectorizer\n",
    "from nltk.corpus import stopwords\n",
    "\n",
    "from sklearn.model_selection import train_test_split, RandomizedSearchCV\n",
    "from sklearn.pipeline import Pipeline\n",
    "from sklearn.dummy import DummyClassifier\n",
    "from sklearn.linear_model import (LogisticRegression,\n",
    "                                  SGDClassifier,\n",
    "                                  RidgeClassifier)\n",
    "from sklearn.tree import DecisionTreeClassifier\n",
    "from sklearn.svm import LinearSVC\n",
    "from catboost import CatBoostClassifier\n",
    "from lightgbm import LGBMClassifier\n",
    "from sklearn.metrics import f1_score\n",
    "\n",
    "nltk.download('stopwords')\n",
    "\n",
    "pd.set_option('display.max_columns', None)\n",
    "np.set_printoptions(threshold=sys.maxsize)\n",
    "\n",
    "RANDOM_STATE = 1"
   ]
  },
  {
   "cell_type": "markdown",
   "id": "d254499f",
   "metadata": {
    "id": "d254499f"
   },
   "source": [
    "### Чтение файла и загрузка данных"
   ]
  },
  {
   "cell_type": "markdown",
   "id": "ec6759aa",
   "metadata": {
    "id": "ec6759aa"
   },
   "source": [
    "Все данные хранятся в одном файле.\n",
    "<br> Файл данных `toxic_comments.csv` имеет формат `CSV`."
   ]
  },
  {
   "cell_type": "code",
   "execution_count": 5,
   "id": "23f54eee",
   "metadata": {
    "executionInfo": {
     "elapsed": 2658,
     "status": "ok",
     "timestamp": 1695673859591,
     "user": {
      "displayName": "Georgii Vasilevskii",
      "userId": "00484195698575717017"
     },
     "user_tz": -180
    },
    "id": "23f54eee"
   },
   "outputs": [],
   "source": [
    "pth1 = r'C:\\Users\\Георгий\\Documents\\DS_projects\\toxic_comments.csv'\n",
    "pth2 = '/datasets/toxic_comments.csv'\n",
    "pth3 = '/content/toxic_comments.csv'\n",
    "\n",
    "if os.path.exists(pth1):\n",
    "    data = pd.read_csv(pth1)\n",
    "elif os.path.exists(pth2):\n",
    "    data = pd.read_csv(pth2)\n",
    "elif os.path.exists(pth3):\n",
    "    data = pd.read_csv(pth3)\n",
    "else:\n",
    "    print('Something is wrong')"
   ]
  },
  {
   "cell_type": "markdown",
   "id": "48be8b9f",
   "metadata": {
    "id": "48be8b9f"
   },
   "source": [
    "Убедимся, что данные подгрузились верно, без ошибок.\n",
    "\n",
    "Для этого выведем первые 5 строк и последние 5 строк набора данных."
   ]
  },
  {
   "cell_type": "code",
   "execution_count": 6,
   "id": "72f3cdbf",
   "metadata": {
    "colab": {
     "base_uri": "https://localhost:8080/",
     "height": 206
    },
    "executionInfo": {
     "elapsed": 113,
     "status": "ok",
     "timestamp": 1695673859598,
     "user": {
      "displayName": "Georgii Vasilevskii",
      "userId": "00484195698575717017"
     },
     "user_tz": -180
    },
    "id": "72f3cdbf",
    "outputId": "503b6760-e067-44ce-ce37-b4d85c558563"
   },
   "outputs": [
    {
     "data": {
      "text/html": [
       "\n",
       "  <div id=\"df-a87b9960-e4af-450b-9a5a-84e16832b978\" class=\"colab-df-container\">\n",
       "    <div>\n",
       "<style scoped>\n",
       "    .dataframe tbody tr th:only-of-type {\n",
       "        vertical-align: middle;\n",
       "    }\n",
       "\n",
       "    .dataframe tbody tr th {\n",
       "        vertical-align: top;\n",
       "    }\n",
       "\n",
       "    .dataframe thead th {\n",
       "        text-align: right;\n",
       "    }\n",
       "</style>\n",
       "<table border=\"1\" class=\"dataframe\">\n",
       "  <thead>\n",
       "    <tr style=\"text-align: right;\">\n",
       "      <th></th>\n",
       "      <th>Unnamed: 0</th>\n",
       "      <th>text</th>\n",
       "      <th>toxic</th>\n",
       "    </tr>\n",
       "  </thead>\n",
       "  <tbody>\n",
       "    <tr>\n",
       "      <th>0</th>\n",
       "      <td>0</td>\n",
       "      <td>Explanation\\nWhy the edits made under my usern...</td>\n",
       "      <td>0</td>\n",
       "    </tr>\n",
       "    <tr>\n",
       "      <th>1</th>\n",
       "      <td>1</td>\n",
       "      <td>D'aww! He matches this background colour I'm s...</td>\n",
       "      <td>0</td>\n",
       "    </tr>\n",
       "    <tr>\n",
       "      <th>2</th>\n",
       "      <td>2</td>\n",
       "      <td>Hey man, I'm really not trying to edit war. It...</td>\n",
       "      <td>0</td>\n",
       "    </tr>\n",
       "    <tr>\n",
       "      <th>3</th>\n",
       "      <td>3</td>\n",
       "      <td>\"\\nMore\\nI can't make any real suggestions on ...</td>\n",
       "      <td>0</td>\n",
       "    </tr>\n",
       "    <tr>\n",
       "      <th>4</th>\n",
       "      <td>4</td>\n",
       "      <td>You, sir, are my hero. Any chance you remember...</td>\n",
       "      <td>0</td>\n",
       "    </tr>\n",
       "  </tbody>\n",
       "</table>\n",
       "</div>\n",
       "    <div class=\"colab-df-buttons\">\n",
       "\n",
       "  <div class=\"colab-df-container\">\n",
       "    <button class=\"colab-df-convert\" onclick=\"convertToInteractive('df-a87b9960-e4af-450b-9a5a-84e16832b978')\"\n",
       "            title=\"Convert this dataframe to an interactive table.\"\n",
       "            style=\"display:none;\">\n",
       "\n",
       "  <svg xmlns=\"http://www.w3.org/2000/svg\" height=\"24px\" viewBox=\"0 -960 960 960\">\n",
       "    <path d=\"M120-120v-720h720v720H120Zm60-500h600v-160H180v160Zm220 220h160v-160H400v160Zm0 220h160v-160H400v160ZM180-400h160v-160H180v160Zm440 0h160v-160H620v160ZM180-180h160v-160H180v160Zm440 0h160v-160H620v160Z\"/>\n",
       "  </svg>\n",
       "    </button>\n",
       "\n",
       "  <style>\n",
       "    .colab-df-container {\n",
       "      display:flex;\n",
       "      gap: 12px;\n",
       "    }\n",
       "\n",
       "    .colab-df-convert {\n",
       "      background-color: #E8F0FE;\n",
       "      border: none;\n",
       "      border-radius: 50%;\n",
       "      cursor: pointer;\n",
       "      display: none;\n",
       "      fill: #1967D2;\n",
       "      height: 32px;\n",
       "      padding: 0 0 0 0;\n",
       "      width: 32px;\n",
       "    }\n",
       "\n",
       "    .colab-df-convert:hover {\n",
       "      background-color: #E2EBFA;\n",
       "      box-shadow: 0px 1px 2px rgba(60, 64, 67, 0.3), 0px 1px 3px 1px rgba(60, 64, 67, 0.15);\n",
       "      fill: #174EA6;\n",
       "    }\n",
       "\n",
       "    .colab-df-buttons div {\n",
       "      margin-bottom: 4px;\n",
       "    }\n",
       "\n",
       "    [theme=dark] .colab-df-convert {\n",
       "      background-color: #3B4455;\n",
       "      fill: #D2E3FC;\n",
       "    }\n",
       "\n",
       "    [theme=dark] .colab-df-convert:hover {\n",
       "      background-color: #434B5C;\n",
       "      box-shadow: 0px 1px 3px 1px rgba(0, 0, 0, 0.15);\n",
       "      filter: drop-shadow(0px 1px 2px rgba(0, 0, 0, 0.3));\n",
       "      fill: #FFFFFF;\n",
       "    }\n",
       "  </style>\n",
       "\n",
       "    <script>\n",
       "      const buttonEl =\n",
       "        document.querySelector('#df-a87b9960-e4af-450b-9a5a-84e16832b978 button.colab-df-convert');\n",
       "      buttonEl.style.display =\n",
       "        google.colab.kernel.accessAllowed ? 'block' : 'none';\n",
       "\n",
       "      async function convertToInteractive(key) {\n",
       "        const element = document.querySelector('#df-a87b9960-e4af-450b-9a5a-84e16832b978');\n",
       "        const dataTable =\n",
       "          await google.colab.kernel.invokeFunction('convertToInteractive',\n",
       "                                                    [key], {});\n",
       "        if (!dataTable) return;\n",
       "\n",
       "        const docLinkHtml = 'Like what you see? Visit the ' +\n",
       "          '<a target=\"_blank\" href=https://colab.research.google.com/notebooks/data_table.ipynb>data table notebook</a>'\n",
       "          + ' to learn more about interactive tables.';\n",
       "        element.innerHTML = '';\n",
       "        dataTable['output_type'] = 'display_data';\n",
       "        await google.colab.output.renderOutput(dataTable, element);\n",
       "        const docLink = document.createElement('div');\n",
       "        docLink.innerHTML = docLinkHtml;\n",
       "        element.appendChild(docLink);\n",
       "      }\n",
       "    </script>\n",
       "  </div>\n",
       "\n",
       "\n",
       "<div id=\"df-7ce0eaea-ab37-4722-933d-fb8b5f4120db\">\n",
       "  <button class=\"colab-df-quickchart\" onclick=\"quickchart('df-7ce0eaea-ab37-4722-933d-fb8b5f4120db')\"\n",
       "            title=\"Suggest charts.\"\n",
       "            style=\"display:none;\">\n",
       "\n",
       "<svg xmlns=\"http://www.w3.org/2000/svg\" height=\"24px\"viewBox=\"0 0 24 24\"\n",
       "     width=\"24px\">\n",
       "    <g>\n",
       "        <path d=\"M19 3H5c-1.1 0-2 .9-2 2v14c0 1.1.9 2 2 2h14c1.1 0 2-.9 2-2V5c0-1.1-.9-2-2-2zM9 17H7v-7h2v7zm4 0h-2V7h2v10zm4 0h-2v-4h2v4z\"/>\n",
       "    </g>\n",
       "</svg>\n",
       "  </button>\n",
       "\n",
       "<style>\n",
       "  .colab-df-quickchart {\n",
       "      --bg-color: #E8F0FE;\n",
       "      --fill-color: #1967D2;\n",
       "      --hover-bg-color: #E2EBFA;\n",
       "      --hover-fill-color: #174EA6;\n",
       "      --disabled-fill-color: #AAA;\n",
       "      --disabled-bg-color: #DDD;\n",
       "  }\n",
       "\n",
       "  [theme=dark] .colab-df-quickchart {\n",
       "      --bg-color: #3B4455;\n",
       "      --fill-color: #D2E3FC;\n",
       "      --hover-bg-color: #434B5C;\n",
       "      --hover-fill-color: #FFFFFF;\n",
       "      --disabled-bg-color: #3B4455;\n",
       "      --disabled-fill-color: #666;\n",
       "  }\n",
       "\n",
       "  .colab-df-quickchart {\n",
       "    background-color: var(--bg-color);\n",
       "    border: none;\n",
       "    border-radius: 50%;\n",
       "    cursor: pointer;\n",
       "    display: none;\n",
       "    fill: var(--fill-color);\n",
       "    height: 32px;\n",
       "    padding: 0;\n",
       "    width: 32px;\n",
       "  }\n",
       "\n",
       "  .colab-df-quickchart:hover {\n",
       "    background-color: var(--hover-bg-color);\n",
       "    box-shadow: 0 1px 2px rgba(60, 64, 67, 0.3), 0 1px 3px 1px rgba(60, 64, 67, 0.15);\n",
       "    fill: var(--button-hover-fill-color);\n",
       "  }\n",
       "\n",
       "  .colab-df-quickchart-complete:disabled,\n",
       "  .colab-df-quickchart-complete:disabled:hover {\n",
       "    background-color: var(--disabled-bg-color);\n",
       "    fill: var(--disabled-fill-color);\n",
       "    box-shadow: none;\n",
       "  }\n",
       "\n",
       "  .colab-df-spinner {\n",
       "    border: 2px solid var(--fill-color);\n",
       "    border-color: transparent;\n",
       "    border-bottom-color: var(--fill-color);\n",
       "    animation:\n",
       "      spin 1s steps(1) infinite;\n",
       "  }\n",
       "\n",
       "  @keyframes spin {\n",
       "    0% {\n",
       "      border-color: transparent;\n",
       "      border-bottom-color: var(--fill-color);\n",
       "      border-left-color: var(--fill-color);\n",
       "    }\n",
       "    20% {\n",
       "      border-color: transparent;\n",
       "      border-left-color: var(--fill-color);\n",
       "      border-top-color: var(--fill-color);\n",
       "    }\n",
       "    30% {\n",
       "      border-color: transparent;\n",
       "      border-left-color: var(--fill-color);\n",
       "      border-top-color: var(--fill-color);\n",
       "      border-right-color: var(--fill-color);\n",
       "    }\n",
       "    40% {\n",
       "      border-color: transparent;\n",
       "      border-right-color: var(--fill-color);\n",
       "      border-top-color: var(--fill-color);\n",
       "    }\n",
       "    60% {\n",
       "      border-color: transparent;\n",
       "      border-right-color: var(--fill-color);\n",
       "    }\n",
       "    80% {\n",
       "      border-color: transparent;\n",
       "      border-right-color: var(--fill-color);\n",
       "      border-bottom-color: var(--fill-color);\n",
       "    }\n",
       "    90% {\n",
       "      border-color: transparent;\n",
       "      border-bottom-color: var(--fill-color);\n",
       "    }\n",
       "  }\n",
       "</style>\n",
       "\n",
       "  <script>\n",
       "    async function quickchart(key) {\n",
       "      const quickchartButtonEl =\n",
       "        document.querySelector('#' + key + ' button');\n",
       "      quickchartButtonEl.disabled = true;  // To prevent multiple clicks.\n",
       "      quickchartButtonEl.classList.add('colab-df-spinner');\n",
       "      try {\n",
       "        const charts = await google.colab.kernel.invokeFunction(\n",
       "            'suggestCharts', [key], {});\n",
       "      } catch (error) {\n",
       "        console.error('Error during call to suggestCharts:', error);\n",
       "      }\n",
       "      quickchartButtonEl.classList.remove('colab-df-spinner');\n",
       "      quickchartButtonEl.classList.add('colab-df-quickchart-complete');\n",
       "    }\n",
       "    (() => {\n",
       "      let quickchartButtonEl =\n",
       "        document.querySelector('#df-7ce0eaea-ab37-4722-933d-fb8b5f4120db button');\n",
       "      quickchartButtonEl.style.display =\n",
       "        google.colab.kernel.accessAllowed ? 'block' : 'none';\n",
       "    })();\n",
       "  </script>\n",
       "</div>\n",
       "    </div>\n",
       "  </div>\n"
      ],
      "text/plain": [
       "   Unnamed: 0                                               text  toxic\n",
       "0           0  Explanation\\nWhy the edits made under my usern...      0\n",
       "1           1  D'aww! He matches this background colour I'm s...      0\n",
       "2           2  Hey man, I'm really not trying to edit war. It...      0\n",
       "3           3  \"\\nMore\\nI can't make any real suggestions on ...      0\n",
       "4           4  You, sir, are my hero. Any chance you remember...      0"
      ]
     },
     "execution_count": 6,
     "metadata": {},
     "output_type": "execute_result"
    }
   ],
   "source": [
    "data.head()"
   ]
  },
  {
   "cell_type": "code",
   "execution_count": 7,
   "id": "13fd00fc",
   "metadata": {
    "colab": {
     "base_uri": "https://localhost:8080/",
     "height": 206
    },
    "executionInfo": {
     "elapsed": 105,
     "status": "ok",
     "timestamp": 1695673859604,
     "user": {
      "displayName": "Georgii Vasilevskii",
      "userId": "00484195698575717017"
     },
     "user_tz": -180
    },
    "id": "13fd00fc",
    "outputId": "019752b0-cf3a-4419-fc81-acf037b46d4c",
    "scrolled": true
   },
   "outputs": [
    {
     "data": {
      "text/html": [
       "\n",
       "  <div id=\"df-458a5c50-7e25-4304-b530-a58ef2bc0c9a\" class=\"colab-df-container\">\n",
       "    <div>\n",
       "<style scoped>\n",
       "    .dataframe tbody tr th:only-of-type {\n",
       "        vertical-align: middle;\n",
       "    }\n",
       "\n",
       "    .dataframe tbody tr th {\n",
       "        vertical-align: top;\n",
       "    }\n",
       "\n",
       "    .dataframe thead th {\n",
       "        text-align: right;\n",
       "    }\n",
       "</style>\n",
       "<table border=\"1\" class=\"dataframe\">\n",
       "  <thead>\n",
       "    <tr style=\"text-align: right;\">\n",
       "      <th></th>\n",
       "      <th>Unnamed: 0</th>\n",
       "      <th>text</th>\n",
       "      <th>toxic</th>\n",
       "    </tr>\n",
       "  </thead>\n",
       "  <tbody>\n",
       "    <tr>\n",
       "      <th>159287</th>\n",
       "      <td>159446</td>\n",
       "      <td>\":::::And for the second time of asking, when ...</td>\n",
       "      <td>0</td>\n",
       "    </tr>\n",
       "    <tr>\n",
       "      <th>159288</th>\n",
       "      <td>159447</td>\n",
       "      <td>You should be ashamed of yourself \\n\\nThat is ...</td>\n",
       "      <td>0</td>\n",
       "    </tr>\n",
       "    <tr>\n",
       "      <th>159289</th>\n",
       "      <td>159448</td>\n",
       "      <td>Spitzer \\n\\nUmm, theres no actual article for ...</td>\n",
       "      <td>0</td>\n",
       "    </tr>\n",
       "    <tr>\n",
       "      <th>159290</th>\n",
       "      <td>159449</td>\n",
       "      <td>And it looks like it was actually you who put ...</td>\n",
       "      <td>0</td>\n",
       "    </tr>\n",
       "    <tr>\n",
       "      <th>159291</th>\n",
       "      <td>159450</td>\n",
       "      <td>\"\\nAnd ... I really don't think you understand...</td>\n",
       "      <td>0</td>\n",
       "    </tr>\n",
       "  </tbody>\n",
       "</table>\n",
       "</div>\n",
       "    <div class=\"colab-df-buttons\">\n",
       "\n",
       "  <div class=\"colab-df-container\">\n",
       "    <button class=\"colab-df-convert\" onclick=\"convertToInteractive('df-458a5c50-7e25-4304-b530-a58ef2bc0c9a')\"\n",
       "            title=\"Convert this dataframe to an interactive table.\"\n",
       "            style=\"display:none;\">\n",
       "\n",
       "  <svg xmlns=\"http://www.w3.org/2000/svg\" height=\"24px\" viewBox=\"0 -960 960 960\">\n",
       "    <path d=\"M120-120v-720h720v720H120Zm60-500h600v-160H180v160Zm220 220h160v-160H400v160Zm0 220h160v-160H400v160ZM180-400h160v-160H180v160Zm440 0h160v-160H620v160ZM180-180h160v-160H180v160Zm440 0h160v-160H620v160Z\"/>\n",
       "  </svg>\n",
       "    </button>\n",
       "\n",
       "  <style>\n",
       "    .colab-df-container {\n",
       "      display:flex;\n",
       "      gap: 12px;\n",
       "    }\n",
       "\n",
       "    .colab-df-convert {\n",
       "      background-color: #E8F0FE;\n",
       "      border: none;\n",
       "      border-radius: 50%;\n",
       "      cursor: pointer;\n",
       "      display: none;\n",
       "      fill: #1967D2;\n",
       "      height: 32px;\n",
       "      padding: 0 0 0 0;\n",
       "      width: 32px;\n",
       "    }\n",
       "\n",
       "    .colab-df-convert:hover {\n",
       "      background-color: #E2EBFA;\n",
       "      box-shadow: 0px 1px 2px rgba(60, 64, 67, 0.3), 0px 1px 3px 1px rgba(60, 64, 67, 0.15);\n",
       "      fill: #174EA6;\n",
       "    }\n",
       "\n",
       "    .colab-df-buttons div {\n",
       "      margin-bottom: 4px;\n",
       "    }\n",
       "\n",
       "    [theme=dark] .colab-df-convert {\n",
       "      background-color: #3B4455;\n",
       "      fill: #D2E3FC;\n",
       "    }\n",
       "\n",
       "    [theme=dark] .colab-df-convert:hover {\n",
       "      background-color: #434B5C;\n",
       "      box-shadow: 0px 1px 3px 1px rgba(0, 0, 0, 0.15);\n",
       "      filter: drop-shadow(0px 1px 2px rgba(0, 0, 0, 0.3));\n",
       "      fill: #FFFFFF;\n",
       "    }\n",
       "  </style>\n",
       "\n",
       "    <script>\n",
       "      const buttonEl =\n",
       "        document.querySelector('#df-458a5c50-7e25-4304-b530-a58ef2bc0c9a button.colab-df-convert');\n",
       "      buttonEl.style.display =\n",
       "        google.colab.kernel.accessAllowed ? 'block' : 'none';\n",
       "\n",
       "      async function convertToInteractive(key) {\n",
       "        const element = document.querySelector('#df-458a5c50-7e25-4304-b530-a58ef2bc0c9a');\n",
       "        const dataTable =\n",
       "          await google.colab.kernel.invokeFunction('convertToInteractive',\n",
       "                                                    [key], {});\n",
       "        if (!dataTable) return;\n",
       "\n",
       "        const docLinkHtml = 'Like what you see? Visit the ' +\n",
       "          '<a target=\"_blank\" href=https://colab.research.google.com/notebooks/data_table.ipynb>data table notebook</a>'\n",
       "          + ' to learn more about interactive tables.';\n",
       "        element.innerHTML = '';\n",
       "        dataTable['output_type'] = 'display_data';\n",
       "        await google.colab.output.renderOutput(dataTable, element);\n",
       "        const docLink = document.createElement('div');\n",
       "        docLink.innerHTML = docLinkHtml;\n",
       "        element.appendChild(docLink);\n",
       "      }\n",
       "    </script>\n",
       "  </div>\n",
       "\n",
       "\n",
       "<div id=\"df-bfb547a1-abd9-4baf-98e5-e9c9175b9e43\">\n",
       "  <button class=\"colab-df-quickchart\" onclick=\"quickchart('df-bfb547a1-abd9-4baf-98e5-e9c9175b9e43')\"\n",
       "            title=\"Suggest charts.\"\n",
       "            style=\"display:none;\">\n",
       "\n",
       "<svg xmlns=\"http://www.w3.org/2000/svg\" height=\"24px\"viewBox=\"0 0 24 24\"\n",
       "     width=\"24px\">\n",
       "    <g>\n",
       "        <path d=\"M19 3H5c-1.1 0-2 .9-2 2v14c0 1.1.9 2 2 2h14c1.1 0 2-.9 2-2V5c0-1.1-.9-2-2-2zM9 17H7v-7h2v7zm4 0h-2V7h2v10zm4 0h-2v-4h2v4z\"/>\n",
       "    </g>\n",
       "</svg>\n",
       "  </button>\n",
       "\n",
       "<style>\n",
       "  .colab-df-quickchart {\n",
       "      --bg-color: #E8F0FE;\n",
       "      --fill-color: #1967D2;\n",
       "      --hover-bg-color: #E2EBFA;\n",
       "      --hover-fill-color: #174EA6;\n",
       "      --disabled-fill-color: #AAA;\n",
       "      --disabled-bg-color: #DDD;\n",
       "  }\n",
       "\n",
       "  [theme=dark] .colab-df-quickchart {\n",
       "      --bg-color: #3B4455;\n",
       "      --fill-color: #D2E3FC;\n",
       "      --hover-bg-color: #434B5C;\n",
       "      --hover-fill-color: #FFFFFF;\n",
       "      --disabled-bg-color: #3B4455;\n",
       "      --disabled-fill-color: #666;\n",
       "  }\n",
       "\n",
       "  .colab-df-quickchart {\n",
       "    background-color: var(--bg-color);\n",
       "    border: none;\n",
       "    border-radius: 50%;\n",
       "    cursor: pointer;\n",
       "    display: none;\n",
       "    fill: var(--fill-color);\n",
       "    height: 32px;\n",
       "    padding: 0;\n",
       "    width: 32px;\n",
       "  }\n",
       "\n",
       "  .colab-df-quickchart:hover {\n",
       "    background-color: var(--hover-bg-color);\n",
       "    box-shadow: 0 1px 2px rgba(60, 64, 67, 0.3), 0 1px 3px 1px rgba(60, 64, 67, 0.15);\n",
       "    fill: var(--button-hover-fill-color);\n",
       "  }\n",
       "\n",
       "  .colab-df-quickchart-complete:disabled,\n",
       "  .colab-df-quickchart-complete:disabled:hover {\n",
       "    background-color: var(--disabled-bg-color);\n",
       "    fill: var(--disabled-fill-color);\n",
       "    box-shadow: none;\n",
       "  }\n",
       "\n",
       "  .colab-df-spinner {\n",
       "    border: 2px solid var(--fill-color);\n",
       "    border-color: transparent;\n",
       "    border-bottom-color: var(--fill-color);\n",
       "    animation:\n",
       "      spin 1s steps(1) infinite;\n",
       "  }\n",
       "\n",
       "  @keyframes spin {\n",
       "    0% {\n",
       "      border-color: transparent;\n",
       "      border-bottom-color: var(--fill-color);\n",
       "      border-left-color: var(--fill-color);\n",
       "    }\n",
       "    20% {\n",
       "      border-color: transparent;\n",
       "      border-left-color: var(--fill-color);\n",
       "      border-top-color: var(--fill-color);\n",
       "    }\n",
       "    30% {\n",
       "      border-color: transparent;\n",
       "      border-left-color: var(--fill-color);\n",
       "      border-top-color: var(--fill-color);\n",
       "      border-right-color: var(--fill-color);\n",
       "    }\n",
       "    40% {\n",
       "      border-color: transparent;\n",
       "      border-right-color: var(--fill-color);\n",
       "      border-top-color: var(--fill-color);\n",
       "    }\n",
       "    60% {\n",
       "      border-color: transparent;\n",
       "      border-right-color: var(--fill-color);\n",
       "    }\n",
       "    80% {\n",
       "      border-color: transparent;\n",
       "      border-right-color: var(--fill-color);\n",
       "      border-bottom-color: var(--fill-color);\n",
       "    }\n",
       "    90% {\n",
       "      border-color: transparent;\n",
       "      border-bottom-color: var(--fill-color);\n",
       "    }\n",
       "  }\n",
       "</style>\n",
       "\n",
       "  <script>\n",
       "    async function quickchart(key) {\n",
       "      const quickchartButtonEl =\n",
       "        document.querySelector('#' + key + ' button');\n",
       "      quickchartButtonEl.disabled = true;  // To prevent multiple clicks.\n",
       "      quickchartButtonEl.classList.add('colab-df-spinner');\n",
       "      try {\n",
       "        const charts = await google.colab.kernel.invokeFunction(\n",
       "            'suggestCharts', [key], {});\n",
       "      } catch (error) {\n",
       "        console.error('Error during call to suggestCharts:', error);\n",
       "      }\n",
       "      quickchartButtonEl.classList.remove('colab-df-spinner');\n",
       "      quickchartButtonEl.classList.add('colab-df-quickchart-complete');\n",
       "    }\n",
       "    (() => {\n",
       "      let quickchartButtonEl =\n",
       "        document.querySelector('#df-bfb547a1-abd9-4baf-98e5-e9c9175b9e43 button');\n",
       "      quickchartButtonEl.style.display =\n",
       "        google.colab.kernel.accessAllowed ? 'block' : 'none';\n",
       "    })();\n",
       "  </script>\n",
       "</div>\n",
       "    </div>\n",
       "  </div>\n"
      ],
      "text/plain": [
       "        Unnamed: 0                                               text  toxic\n",
       "159287      159446  \":::::And for the second time of asking, when ...      0\n",
       "159288      159447  You should be ashamed of yourself \\n\\nThat is ...      0\n",
       "159289      159448  Spitzer \\n\\nUmm, theres no actual article for ...      0\n",
       "159290      159449  And it looks like it was actually you who put ...      0\n",
       "159291      159450  \"\\nAnd ... I really don't think you understand...      0"
      ]
     },
     "execution_count": 7,
     "metadata": {},
     "output_type": "execute_result"
    }
   ],
   "source": [
    "data.tail()"
   ]
  },
  {
   "cell_type": "markdown",
   "id": "fd1a0f79",
   "metadata": {
    "id": "fd1a0f79"
   },
   "source": [
    "### Общая характеристика набора данных"
   ]
  },
  {
   "cell_type": "markdown",
   "id": "c3b052e0",
   "metadata": {
    "id": "c3b052e0"
   },
   "source": [
    "Размер набора данных:"
   ]
  },
  {
   "cell_type": "code",
   "execution_count": 8,
   "id": "69fecbb7",
   "metadata": {
    "colab": {
     "base_uri": "https://localhost:8080/"
    },
    "executionInfo": {
     "elapsed": 100,
     "status": "ok",
     "timestamp": 1695673859606,
     "user": {
      "displayName": "Georgii Vasilevskii",
      "userId": "00484195698575717017"
     },
     "user_tz": -180
    },
    "id": "69fecbb7",
    "outputId": "688a17ea-01b6-4201-9b8f-6dfe890add39"
   },
   "outputs": [
    {
     "data": {
      "text/plain": [
       "(159292, 3)"
      ]
     },
     "execution_count": 8,
     "metadata": {},
     "output_type": "execute_result"
    }
   ],
   "source": [
    "data.shape"
   ]
  },
  {
   "cell_type": "markdown",
   "id": "24f76ab8",
   "metadata": {
    "id": "24f76ab8"
   },
   "source": [
    "Количество элементов данных:"
   ]
  },
  {
   "cell_type": "code",
   "execution_count": 9,
   "id": "91d7a9af",
   "metadata": {
    "colab": {
     "base_uri": "https://localhost:8080/"
    },
    "executionInfo": {
     "elapsed": 88,
     "status": "ok",
     "timestamp": 1695673859609,
     "user": {
      "displayName": "Georgii Vasilevskii",
      "userId": "00484195698575717017"
     },
     "user_tz": -180
    },
    "id": "91d7a9af",
    "outputId": "09cae25b-8706-46c8-b893-bd550af1977c"
   },
   "outputs": [
    {
     "data": {
      "text/plain": [
       "477876"
      ]
     },
     "execution_count": 9,
     "metadata": {},
     "output_type": "execute_result"
    }
   ],
   "source": [
    "data.size"
   ]
  },
  {
   "cell_type": "markdown",
   "id": "9f73487a",
   "metadata": {
    "id": "9f73487a"
   },
   "source": [
    "Типы данных набора данных:"
   ]
  },
  {
   "cell_type": "code",
   "execution_count": 10,
   "id": "3769a1b3",
   "metadata": {
    "colab": {
     "base_uri": "https://localhost:8080/"
    },
    "executionInfo": {
     "elapsed": 562,
     "status": "ok",
     "timestamp": 1695673860094,
     "user": {
      "displayName": "Georgii Vasilevskii",
      "userId": "00484195698575717017"
     },
     "user_tz": -180
    },
    "id": "3769a1b3",
    "outputId": "17a55aca-9077-4e05-adf9-a9c4826067e1"
   },
   "outputs": [
    {
     "data": {
      "text/plain": [
       "Unnamed: 0     int64\n",
       "text          object\n",
       "toxic          int64\n",
       "dtype: object"
      ]
     },
     "execution_count": 10,
     "metadata": {},
     "output_type": "execute_result"
    }
   ],
   "source": [
    "data.dtypes"
   ]
  },
  {
   "cell_type": "markdown",
   "id": "030c56a8",
   "metadata": {
    "id": "030c56a8"
   },
   "source": [
    "Пропущенные значения в данных:"
   ]
  },
  {
   "cell_type": "code",
   "execution_count": 11,
   "id": "294c04f8",
   "metadata": {
    "colab": {
     "base_uri": "https://localhost:8080/"
    },
    "executionInfo": {
     "elapsed": 29,
     "status": "ok",
     "timestamp": 1695673860097,
     "user": {
      "displayName": "Georgii Vasilevskii",
      "userId": "00484195698575717017"
     },
     "user_tz": -180
    },
    "id": "294c04f8",
    "outputId": "64d7c1e0-e405-4254-8ada-dc82dab1ba23"
   },
   "outputs": [
    {
     "data": {
      "text/plain": [
       "Unnamed: 0    0\n",
       "text          0\n",
       "toxic         0\n",
       "dtype: int64"
      ]
     },
     "execution_count": 11,
     "metadata": {},
     "output_type": "execute_result"
    }
   ],
   "source": [
    "data.isna().sum()"
   ]
  },
  {
   "cell_type": "markdown",
   "id": "071e2547",
   "metadata": {
    "id": "071e2547"
   },
   "source": [
    "**Промежуточный вывод**\n",
    "\n",
    "- Набор данных содержит 3 уникальных признака и 159 292 записи.\n",
    "- Всего: 477 876 элементов данных.\n",
    "- Набор данных содержит данные следующего типа:\n",
    "    - целочисленный &mdash; 2 признака,\n",
    "    - дата и время &mdash; 1 признак.\n",
    "- Все признаки содержат значения (не являются пустыми).\n",
    "- Все признаки не содержат пропущенные значения."
   ]
  },
  {
   "cell_type": "markdown",
   "id": "09d8a3b5",
   "metadata": {
    "id": "09d8a3b5"
   },
   "source": [
    "## Понимание данных"
   ]
  },
  {
   "cell_type": "markdown",
   "id": "58e533cc",
   "metadata": {
    "id": "58e533cc"
   },
   "source": [
    "> **Текст комментария к описанию товара** &mdash; это текст, который пользователи могут оставлять на странице товара в интернет-магазине.\n",
    "\n",
    "Комментарии могут содержать отзывы пользователей, их вопросы, рекомендации, а также другую информацию. Всё это поможет другим покупателям быть более информированными при выборе товара и поможет им принять более взвешенное решение о его покупке. Комментарии могут быть как позитивными, так и негативными.\n",
    "\n",
    "`text` &mdash; текст комментария к описанию товара\n",
    "<br> Признак является категориальным, номинальным.\n",
    "<br> Шкала измерения признака: номинальная шкала.\n",
    "\n",
    "**Факт того, является ли комментарий токсичным**, зависит от его содержания и от того, как он воспринимается другими пользователями. Комментарий может быть токсичным, если он содержит оскорбления, угрозы, ненормативную лексику или другой негативный контент.\n",
    "\n",
    "`toxic` &mdash; факт того, является ли комментарий токсичным &mdash; целевой признак\n",
    "<br> Признак является категориальным, бинарным.\n",
    "<br> Шкала измерения признака: дихотомическая шкала."
   ]
  },
  {
   "cell_type": "markdown",
   "id": "890fe28b",
   "metadata": {
    "id": "890fe28b"
   },
   "source": [
    "## Предобработка данных"
   ]
  },
  {
   "cell_type": "markdown",
   "id": "8d340bef",
   "metadata": {
    "id": "8d340bef"
   },
   "source": [
    "Признак `Unnamed: 0` был ошибочно оставлен при сохранении набора данных. Для построения модели он не представляет ценности. Удалим его."
   ]
  },
  {
   "cell_type": "code",
   "execution_count": 12,
   "id": "2cb8a07b",
   "metadata": {
    "executionInfo": {
     "elapsed": 26,
     "status": "ok",
     "timestamp": 1695673860098,
     "user": {
      "displayName": "Georgii Vasilevskii",
      "userId": "00484195698575717017"
     },
     "user_tz": -180
    },
    "id": "2cb8a07b"
   },
   "outputs": [],
   "source": [
    "data.drop(['Unnamed: 0'], axis=1, inplace=True)"
   ]
  },
  {
   "cell_type": "code",
   "execution_count": 13,
   "id": "de59aa65",
   "metadata": {
    "colab": {
     "base_uri": "https://localhost:8080/"
    },
    "executionInfo": {
     "elapsed": 27,
     "status": "ok",
     "timestamp": 1695673860100,
     "user": {
      "displayName": "Georgii Vasilevskii",
      "userId": "00484195698575717017"
     },
     "user_tz": -180
    },
    "id": "de59aa65",
    "outputId": "380bddbc-5c4e-4467-ba79-c81136946436"
   },
   "outputs": [
    {
     "data": {
      "text/plain": [
       "Index(['text', 'toxic'], dtype='object')"
      ]
     },
     "execution_count": 13,
     "metadata": {},
     "output_type": "execute_result"
    }
   ],
   "source": [
    "data.columns"
   ]
  },
  {
   "cell_type": "markdown",
   "id": "1cd62685",
   "metadata": {
    "id": "1cd62685"
   },
   "source": [
    "### Удаление небуквенных символов и токенизация"
   ]
  },
  {
   "cell_type": "markdown",
   "id": "W7fQU58-SDW8",
   "metadata": {
    "id": "W7fQU58-SDW8"
   },
   "source": [
    "Разобъём тексты на слова. Удалим из текстов лишние символы: знаки пунктуации, числовые и спецсимволы. Оставим только прописные и строчные латинские буквы."
   ]
  },
  {
   "cell_type": "code",
   "execution_count": 14,
   "id": "VHBLIyH-bXbM",
   "metadata": {
    "executionInfo": {
     "elapsed": 20,
     "status": "ok",
     "timestamp": 1695673860102,
     "user": {
      "displayName": "Georgii Vasilevskii",
      "userId": "00484195698575717017"
     },
     "user_tz": -180
    },
    "id": "VHBLIyH-bXbM"
   },
   "outputs": [],
   "source": [
    "def clear_text(text):\n",
    "    '''\n",
    "    Функция удаляет символы, если они не являются символами\n",
    "    латинского алфавита верхнего и нижнего регистров, и\n",
    "    сокращает несколько идущих подряд пробелов до одного.\n",
    "\n",
    "    Принимает необработанную строку текста.\n",
    "    Возвращает строку, содержащую только символы латинского\n",
    "    алфавита верхнего и нижнего регистра и одиночные пробелы.\n",
    "    '''\n",
    "\n",
    "    # Замена символов, не являющихся буквами латинского алфавита,\n",
    "    # на пробелы.\n",
    "    text = re.sub(r'[^a-zA-Z]', ' ', text)\n",
    "\n",
    "    # Разделение текста на слова (используя пробелы в качестве\n",
    "    # разделителя) и последующее соединение слов в строку\n",
    "    # с помощью одного пробела.\n",
    "    text = \" \".join(text.split())\n",
    "\n",
    "    return text"
   ]
  },
  {
   "cell_type": "code",
   "execution_count": 15,
   "id": "ev2Kix41bmhu",
   "metadata": {
    "executionInfo": {
     "elapsed": 5755,
     "status": "ok",
     "timestamp": 1695673865839,
     "user": {
      "displayName": "Georgii Vasilevskii",
      "userId": "00484195698575717017"
     },
     "user_tz": -180
    },
    "id": "ev2Kix41bmhu"
   },
   "outputs": [],
   "source": [
    "data['text'] = data['text'].apply(lambda x: clear_text(x))"
   ]
  },
  {
   "cell_type": "code",
   "execution_count": 16,
   "id": "rzetZm6McuWj",
   "metadata": {
    "colab": {
     "base_uri": "https://localhost:8080/"
    },
    "executionInfo": {
     "elapsed": 31,
     "status": "ok",
     "timestamp": 1695673865840,
     "user": {
      "displayName": "Georgii Vasilevskii",
      "userId": "00484195698575717017"
     },
     "user_tz": -180
    },
    "id": "rzetZm6McuWj",
    "outputId": "e437f8ca-8a2e-43b4-aee5-41d1f1a86a17",
    "scrolled": false
   },
   "outputs": [
    {
     "data": {
      "text/plain": [
       "0         Explanation Why the edits made under my userna...\n",
       "1         D aww He matches this background colour I m se...\n",
       "2         Hey man I m really not trying to edit war It s...\n",
       "3         More I can t make any real suggestions on impr...\n",
       "4         You sir are my hero Any chance you remember wh...\n",
       "                                ...                        \n",
       "159287    And for the second time of asking when your vi...\n",
       "159288    You should be ashamed of yourself That is a ho...\n",
       "159289    Spitzer Umm theres no actual article for prost...\n",
       "159290    And it looks like it was actually you who put ...\n",
       "159291    And I really don t think you understand I came...\n",
       "Name: text, Length: 159292, dtype: object"
      ]
     },
     "execution_count": 16,
     "metadata": {},
     "output_type": "execute_result"
    }
   ],
   "source": [
    "data['text']"
   ]
  },
  {
   "cell_type": "markdown",
   "id": "WMmAqz89ebO6",
   "metadata": {
    "id": "WMmAqz89ebO6"
   },
   "source": [
    "### Лемматизация"
   ]
  },
  {
   "cell_type": "markdown",
   "id": "27UmBYCuQZJ1",
   "metadata": {
    "id": "27UmBYCuQZJ1"
   },
   "source": [
    "Разобъём тексты на слова и приведём слова к их базовой форме &mdash; лемме."
   ]
  },
  {
   "cell_type": "code",
   "execution_count": 17,
   "id": "lJMELXddedFp",
   "metadata": {
    "executionInfo": {
     "elapsed": 1816,
     "status": "ok",
     "timestamp": 1695673873418,
     "user": {
      "displayName": "Georgii Vasilevskii",
      "userId": "00484195698575717017"
     },
     "user_tz": -180
    },
    "id": "lJMELXddedFp"
   },
   "outputs": [],
   "source": [
    "# Загрузка языковой модели.\n",
    "nlp = spacy.load('en_core_web_sm', disable=['parser', 'ner'])"
   ]
  },
  {
   "cell_type": "code",
   "execution_count": 18,
   "id": "l3PDh9n-esMo",
   "metadata": {
    "executionInfo": {
     "elapsed": 323,
     "status": "ok",
     "timestamp": 1695673875761,
     "user": {
      "displayName": "Georgii Vasilevskii",
      "userId": "00484195698575717017"
     },
     "user_tz": -180
    },
    "id": "l3PDh9n-esMo"
   },
   "outputs": [],
   "source": [
    "def lemmatize(text):\n",
    "    '''\n",
    "    Функция лемматизирует входной текст,\n",
    "    преобразуя каждое слово в его базовую или словарную форму.\n",
    "\n",
    "    Принимает строку текста, которую необходимо лемматизировать.\n",
    "    Возвращает строку лемматизированного текста.\n",
    "    '''\n",
    "\n",
    "    # Токенизация и последующая лемматизация строки текста.\n",
    "    text = nlp(text)\n",
    "    text = \" \".join([token.lemma_ for token in text])\n",
    "\n",
    "    return text"
   ]
  },
  {
   "cell_type": "code",
   "execution_count": 19,
   "id": "WPHG8xPEfZjC",
   "metadata": {
    "colab": {
     "base_uri": "https://localhost:8080/"
    },
    "executionInfo": {
     "elapsed": 1180342,
     "status": "ok",
     "timestamp": 1695675058960,
     "user": {
      "displayName": "Georgii Vasilevskii",
      "userId": "00484195698575717017"
     },
     "user_tz": -180
    },
    "id": "WPHG8xPEfZjC",
    "outputId": "923dbdaf-5e06-4fd0-ef9f-eca8346f1c99"
   },
   "outputs": [
    {
     "name": "stdout",
     "output_type": "stream",
     "text": [
      "CPU times: user 19min 20s, sys: 3.54 s, total: 19min 24s\n",
      "Wall time: 19min 40s\n"
     ]
    }
   ],
   "source": [
    "%%time\n",
    "\n",
    "data['text'] = data['text'].apply(lambda x: lemmatize(x))"
   ]
  },
  {
   "cell_type": "code",
   "execution_count": 20,
   "id": "fnZGsmOlxt_4",
   "metadata": {
    "colab": {
     "base_uri": "https://localhost:8080/"
    },
    "executionInfo": {
     "elapsed": 298,
     "status": "ok",
     "timestamp": 1695675109053,
     "user": {
      "displayName": "Georgii Vasilevskii",
      "userId": "00484195698575717017"
     },
     "user_tz": -180
    },
    "id": "fnZGsmOlxt_4",
    "outputId": "4da621fa-e174-4928-9744-766e58dd6716"
   },
   "outputs": [
    {
     "data": {
      "text/plain": [
       "0         Explanation why the edit make under my usernam...\n",
       "1         d aww he match this background colour I m seem...\n",
       "2         hey man I m really not try to edit war it s ju...\n",
       "3         More I can t make any real suggestion on impro...\n",
       "4         you sir be my hero any chance you remember wha...\n",
       "                                ...                        \n",
       "159287    and for the second time of ask when your view ...\n",
       "159288    you should be ashamed of yourself that be a ho...\n",
       "159289    Spitzer Umm there s no actual article for pros...\n",
       "159290    and it look like it be actually you who put on...\n",
       "159291    and I really don t think you understand I come...\n",
       "Name: text, Length: 159292, dtype: object"
      ]
     },
     "execution_count": 20,
     "metadata": {},
     "output_type": "execute_result"
    }
   ],
   "source": [
    "data['text']"
   ]
  },
  {
   "cell_type": "markdown",
   "id": "6gMb9dcm2CUv",
   "metadata": {
    "id": "6gMb9dcm2CUv"
   },
   "source": [
    "### Обработка пропусков"
   ]
  },
  {
   "cell_type": "code",
   "execution_count": 21,
   "id": "7w_DTTvpNDMZ",
   "metadata": {
    "colab": {
     "base_uri": "https://localhost:8080/"
    },
    "executionInfo": {
     "elapsed": 313,
     "status": "ok",
     "timestamp": 1695675113012,
     "user": {
      "displayName": "Georgii Vasilevskii",
      "userId": "00484195698575717017"
     },
     "user_tz": -180
    },
    "id": "7w_DTTvpNDMZ",
    "outputId": "d00ddbec-1ea3-49f9-ddf4-cdb2e8d3327c"
   },
   "outputs": [
    {
     "data": {
      "text/plain": [
       "11"
      ]
     },
     "execution_count": 21,
     "metadata": {},
     "output_type": "execute_result"
    }
   ],
   "source": [
    "sum(data['text'] == '')"
   ]
  },
  {
   "cell_type": "markdown",
   "id": "VOTd7a9yUDW6",
   "metadata": {
    "id": "VOTd7a9yUDW6"
   },
   "source": [
    "Записей с пропущенными значениями &mdash; всего 11. Вероятно, это были либо пустые сообщения, либо короткие и не содержательные."
   ]
  },
  {
   "cell_type": "code",
   "execution_count": 22,
   "id": "pLJIm6yT2KKa",
   "metadata": {
    "colab": {
     "base_uri": "https://localhost:8080/"
    },
    "executionInfo": {
     "elapsed": 297,
     "status": "ok",
     "timestamp": 1695675116991,
     "user": {
      "displayName": "Georgii Vasilevskii",
      "userId": "00484195698575717017"
     },
     "user_tz": -180
    },
    "id": "pLJIm6yT2KKa",
    "outputId": "ce1be24a-6cd8-44e6-b147-e8420f957724"
   },
   "outputs": [
    {
     "data": {
      "text/plain": [
       "(159292, 2)"
      ]
     },
     "execution_count": 22,
     "metadata": {},
     "output_type": "execute_result"
    }
   ],
   "source": [
    "data.shape"
   ]
  },
  {
   "cell_type": "markdown",
   "id": "sborH9gUUZg3",
   "metadata": {
    "id": "sborH9gUUZg3"
   },
   "source": [
    "Удалим записи с пропущенными значениями."
   ]
  },
  {
   "cell_type": "code",
   "execution_count": 23,
   "id": "4a8EI2XjpYMr",
   "metadata": {
    "colab": {
     "base_uri": "https://localhost:8080/"
    },
    "executionInfo": {
     "elapsed": 329,
     "status": "ok",
     "timestamp": 1695675119956,
     "user": {
      "displayName": "Georgii Vasilevskii",
      "userId": "00484195698575717017"
     },
     "user_tz": -180
    },
    "id": "4a8EI2XjpYMr",
    "outputId": "e521b287-23eb-4f25-b074-4a88365323b0"
   },
   "outputs": [
    {
     "data": {
      "text/plain": [
       "(159281, 2)"
      ]
     },
     "execution_count": 23,
     "metadata": {},
     "output_type": "execute_result"
    }
   ],
   "source": [
    "data.drop(data[data['text'] == ''].index, axis=0, inplace=True)\n",
    "data.shape"
   ]
  },
  {
   "cell_type": "markdown",
   "id": "e7rAB97VJG9R",
   "metadata": {
    "id": "e7rAB97VJG9R"
   },
   "source": [
    "### Обработка дубликатов"
   ]
  },
  {
   "cell_type": "code",
   "execution_count": 24,
   "id": "uXm3AEQiXBdM",
   "metadata": {
    "colab": {
     "base_uri": "https://localhost:8080/",
     "height": 238
    },
    "executionInfo": {
     "elapsed": 2067,
     "status": "ok",
     "timestamp": 1695675128870,
     "user": {
      "displayName": "Georgii Vasilevskii",
      "userId": "00484195698575717017"
     },
     "user_tz": -180
    },
    "id": "uXm3AEQiXBdM",
    "outputId": "6490782b-adcb-4d72-e4ce-a8486f1498ec"
   },
   "outputs": [
    {
     "data": {
      "text/html": [
       "\n",
       "  <div id=\"df-45709a24-74b8-4e7e-9dfc-c11d5c313e61\" class=\"colab-df-container\">\n",
       "    <div>\n",
       "<style scoped>\n",
       "    .dataframe tbody tr th:only-of-type {\n",
       "        vertical-align: middle;\n",
       "    }\n",
       "\n",
       "    .dataframe tbody tr th {\n",
       "        vertical-align: top;\n",
       "    }\n",
       "\n",
       "    .dataframe thead th {\n",
       "        text-align: right;\n",
       "    }\n",
       "</style>\n",
       "<table border=\"1\" class=\"dataframe\">\n",
       "  <thead>\n",
       "    <tr style=\"text-align: right;\">\n",
       "      <th></th>\n",
       "      <th>text</th>\n",
       "      <th>toxic</th>\n",
       "    </tr>\n",
       "  </thead>\n",
       "  <tbody>\n",
       "    <tr>\n",
       "      <th>165</th>\n",
       "      <td>July UTC P S Feel free to leave a message on m...</td>\n",
       "      <td>0</td>\n",
       "    </tr>\n",
       "    <tr>\n",
       "      <th>177</th>\n",
       "      <td>may</td>\n",
       "      <td>0</td>\n",
       "    </tr>\n",
       "    <tr>\n",
       "      <th>235</th>\n",
       "      <td>please stop add nonsense to Wikipedia it be co...</td>\n",
       "      <td>0</td>\n",
       "    </tr>\n",
       "    <tr>\n",
       "      <th>351</th>\n",
       "      <td>Future Perfect at Sunrise</td>\n",
       "      <td>0</td>\n",
       "    </tr>\n",
       "    <tr>\n",
       "      <th>522</th>\n",
       "      <td>apparently other editor agree that the edit I ...</td>\n",
       "      <td>0</td>\n",
       "    </tr>\n",
       "    <tr>\n",
       "      <th>568</th>\n",
       "      <td>whoever write the Plot I feel terrible for who...</td>\n",
       "      <td>0</td>\n",
       "    </tr>\n",
       "  </tbody>\n",
       "</table>\n",
       "</div>\n",
       "    <div class=\"colab-df-buttons\">\n",
       "\n",
       "  <div class=\"colab-df-container\">\n",
       "    <button class=\"colab-df-convert\" onclick=\"convertToInteractive('df-45709a24-74b8-4e7e-9dfc-c11d5c313e61')\"\n",
       "            title=\"Convert this dataframe to an interactive table.\"\n",
       "            style=\"display:none;\">\n",
       "\n",
       "  <svg xmlns=\"http://www.w3.org/2000/svg\" height=\"24px\" viewBox=\"0 -960 960 960\">\n",
       "    <path d=\"M120-120v-720h720v720H120Zm60-500h600v-160H180v160Zm220 220h160v-160H400v160Zm0 220h160v-160H400v160ZM180-400h160v-160H180v160Zm440 0h160v-160H620v160ZM180-180h160v-160H180v160Zm440 0h160v-160H620v160Z\"/>\n",
       "  </svg>\n",
       "    </button>\n",
       "\n",
       "  <style>\n",
       "    .colab-df-container {\n",
       "      display:flex;\n",
       "      gap: 12px;\n",
       "    }\n",
       "\n",
       "    .colab-df-convert {\n",
       "      background-color: #E8F0FE;\n",
       "      border: none;\n",
       "      border-radius: 50%;\n",
       "      cursor: pointer;\n",
       "      display: none;\n",
       "      fill: #1967D2;\n",
       "      height: 32px;\n",
       "      padding: 0 0 0 0;\n",
       "      width: 32px;\n",
       "    }\n",
       "\n",
       "    .colab-df-convert:hover {\n",
       "      background-color: #E2EBFA;\n",
       "      box-shadow: 0px 1px 2px rgba(60, 64, 67, 0.3), 0px 1px 3px 1px rgba(60, 64, 67, 0.15);\n",
       "      fill: #174EA6;\n",
       "    }\n",
       "\n",
       "    .colab-df-buttons div {\n",
       "      margin-bottom: 4px;\n",
       "    }\n",
       "\n",
       "    [theme=dark] .colab-df-convert {\n",
       "      background-color: #3B4455;\n",
       "      fill: #D2E3FC;\n",
       "    }\n",
       "\n",
       "    [theme=dark] .colab-df-convert:hover {\n",
       "      background-color: #434B5C;\n",
       "      box-shadow: 0px 1px 3px 1px rgba(0, 0, 0, 0.15);\n",
       "      filter: drop-shadow(0px 1px 2px rgba(0, 0, 0, 0.3));\n",
       "      fill: #FFFFFF;\n",
       "    }\n",
       "  </style>\n",
       "\n",
       "    <script>\n",
       "      const buttonEl =\n",
       "        document.querySelector('#df-45709a24-74b8-4e7e-9dfc-c11d5c313e61 button.colab-df-convert');\n",
       "      buttonEl.style.display =\n",
       "        google.colab.kernel.accessAllowed ? 'block' : 'none';\n",
       "\n",
       "      async function convertToInteractive(key) {\n",
       "        const element = document.querySelector('#df-45709a24-74b8-4e7e-9dfc-c11d5c313e61');\n",
       "        const dataTable =\n",
       "          await google.colab.kernel.invokeFunction('convertToInteractive',\n",
       "                                                    [key], {});\n",
       "        if (!dataTable) return;\n",
       "\n",
       "        const docLinkHtml = 'Like what you see? Visit the ' +\n",
       "          '<a target=\"_blank\" href=https://colab.research.google.com/notebooks/data_table.ipynb>data table notebook</a>'\n",
       "          + ' to learn more about interactive tables.';\n",
       "        element.innerHTML = '';\n",
       "        dataTable['output_type'] = 'display_data';\n",
       "        await google.colab.output.renderOutput(dataTable, element);\n",
       "        const docLink = document.createElement('div');\n",
       "        docLink.innerHTML = docLinkHtml;\n",
       "        element.appendChild(docLink);\n",
       "      }\n",
       "    </script>\n",
       "  </div>\n",
       "\n",
       "\n",
       "<div id=\"df-575be3c9-23bb-4861-af83-243755993d71\">\n",
       "  <button class=\"colab-df-quickchart\" onclick=\"quickchart('df-575be3c9-23bb-4861-af83-243755993d71')\"\n",
       "            title=\"Suggest charts.\"\n",
       "            style=\"display:none;\">\n",
       "\n",
       "<svg xmlns=\"http://www.w3.org/2000/svg\" height=\"24px\"viewBox=\"0 0 24 24\"\n",
       "     width=\"24px\">\n",
       "    <g>\n",
       "        <path d=\"M19 3H5c-1.1 0-2 .9-2 2v14c0 1.1.9 2 2 2h14c1.1 0 2-.9 2-2V5c0-1.1-.9-2-2-2zM9 17H7v-7h2v7zm4 0h-2V7h2v10zm4 0h-2v-4h2v4z\"/>\n",
       "    </g>\n",
       "</svg>\n",
       "  </button>\n",
       "\n",
       "<style>\n",
       "  .colab-df-quickchart {\n",
       "      --bg-color: #E8F0FE;\n",
       "      --fill-color: #1967D2;\n",
       "      --hover-bg-color: #E2EBFA;\n",
       "      --hover-fill-color: #174EA6;\n",
       "      --disabled-fill-color: #AAA;\n",
       "      --disabled-bg-color: #DDD;\n",
       "  }\n",
       "\n",
       "  [theme=dark] .colab-df-quickchart {\n",
       "      --bg-color: #3B4455;\n",
       "      --fill-color: #D2E3FC;\n",
       "      --hover-bg-color: #434B5C;\n",
       "      --hover-fill-color: #FFFFFF;\n",
       "      --disabled-bg-color: #3B4455;\n",
       "      --disabled-fill-color: #666;\n",
       "  }\n",
       "\n",
       "  .colab-df-quickchart {\n",
       "    background-color: var(--bg-color);\n",
       "    border: none;\n",
       "    border-radius: 50%;\n",
       "    cursor: pointer;\n",
       "    display: none;\n",
       "    fill: var(--fill-color);\n",
       "    height: 32px;\n",
       "    padding: 0;\n",
       "    width: 32px;\n",
       "  }\n",
       "\n",
       "  .colab-df-quickchart:hover {\n",
       "    background-color: var(--hover-bg-color);\n",
       "    box-shadow: 0 1px 2px rgba(60, 64, 67, 0.3), 0 1px 3px 1px rgba(60, 64, 67, 0.15);\n",
       "    fill: var(--button-hover-fill-color);\n",
       "  }\n",
       "\n",
       "  .colab-df-quickchart-complete:disabled,\n",
       "  .colab-df-quickchart-complete:disabled:hover {\n",
       "    background-color: var(--disabled-bg-color);\n",
       "    fill: var(--disabled-fill-color);\n",
       "    box-shadow: none;\n",
       "  }\n",
       "\n",
       "  .colab-df-spinner {\n",
       "    border: 2px solid var(--fill-color);\n",
       "    border-color: transparent;\n",
       "    border-bottom-color: var(--fill-color);\n",
       "    animation:\n",
       "      spin 1s steps(1) infinite;\n",
       "  }\n",
       "\n",
       "  @keyframes spin {\n",
       "    0% {\n",
       "      border-color: transparent;\n",
       "      border-bottom-color: var(--fill-color);\n",
       "      border-left-color: var(--fill-color);\n",
       "    }\n",
       "    20% {\n",
       "      border-color: transparent;\n",
       "      border-left-color: var(--fill-color);\n",
       "      border-top-color: var(--fill-color);\n",
       "    }\n",
       "    30% {\n",
       "      border-color: transparent;\n",
       "      border-left-color: var(--fill-color);\n",
       "      border-top-color: var(--fill-color);\n",
       "      border-right-color: var(--fill-color);\n",
       "    }\n",
       "    40% {\n",
       "      border-color: transparent;\n",
       "      border-right-color: var(--fill-color);\n",
       "      border-top-color: var(--fill-color);\n",
       "    }\n",
       "    60% {\n",
       "      border-color: transparent;\n",
       "      border-right-color: var(--fill-color);\n",
       "    }\n",
       "    80% {\n",
       "      border-color: transparent;\n",
       "      border-right-color: var(--fill-color);\n",
       "      border-bottom-color: var(--fill-color);\n",
       "    }\n",
       "    90% {\n",
       "      border-color: transparent;\n",
       "      border-bottom-color: var(--fill-color);\n",
       "    }\n",
       "  }\n",
       "</style>\n",
       "\n",
       "  <script>\n",
       "    async function quickchart(key) {\n",
       "      const quickchartButtonEl =\n",
       "        document.querySelector('#' + key + ' button');\n",
       "      quickchartButtonEl.disabled = true;  // To prevent multiple clicks.\n",
       "      quickchartButtonEl.classList.add('colab-df-spinner');\n",
       "      try {\n",
       "        const charts = await google.colab.kernel.invokeFunction(\n",
       "            'suggestCharts', [key], {});\n",
       "      } catch (error) {\n",
       "        console.error('Error during call to suggestCharts:', error);\n",
       "      }\n",
       "      quickchartButtonEl.classList.remove('colab-df-spinner');\n",
       "      quickchartButtonEl.classList.add('colab-df-quickchart-complete');\n",
       "    }\n",
       "    (() => {\n",
       "      let quickchartButtonEl =\n",
       "        document.querySelector('#df-575be3c9-23bb-4861-af83-243755993d71 button');\n",
       "      quickchartButtonEl.style.display =\n",
       "        google.colab.kernel.accessAllowed ? 'block' : 'none';\n",
       "    })();\n",
       "  </script>\n",
       "</div>\n",
       "    </div>\n",
       "  </div>\n"
      ],
      "text/plain": [
       "                                                  text  toxic\n",
       "165  July UTC P S Feel free to leave a message on m...      0\n",
       "177                                                may      0\n",
       "235  please stop add nonsense to Wikipedia it be co...      0\n",
       "351                          Future Perfect at Sunrise      0\n",
       "522  apparently other editor agree that the edit I ...      0\n",
       "568  whoever write the Plot I feel terrible for who...      0"
      ]
     },
     "execution_count": 24,
     "metadata": {},
     "output_type": "execute_result"
    }
   ],
   "source": [
    "data[data.duplicated(keep=False)].head(6)"
   ]
  },
  {
   "cell_type": "code",
   "execution_count": 25,
   "id": "dL1ufrhQI3em",
   "metadata": {
    "colab": {
     "base_uri": "https://localhost:8080/"
    },
    "executionInfo": {
     "elapsed": 307,
     "status": "ok",
     "timestamp": 1695675133961,
     "user": {
      "displayName": "Georgii Vasilevskii",
      "userId": "00484195698575717017"
     },
     "user_tz": -180
    },
    "id": "dL1ufrhQI3em",
    "outputId": "3d147085-be71-40d5-afea-2bd9d4e4fc04"
   },
   "outputs": [
    {
     "data": {
      "text/plain": [
       "1250"
      ]
     },
     "execution_count": 25,
     "metadata": {},
     "output_type": "execute_result"
    }
   ],
   "source": [
    "data.duplicated().sum()"
   ]
  },
  {
   "cell_type": "markdown",
   "id": "mjkl0oRzXOH2",
   "metadata": {
    "id": "mjkl0oRzXOH2"
   },
   "source": [
    "Полных дубликатов в наборе данных &mdash; 1250."
   ]
  },
  {
   "cell_type": "code",
   "execution_count": 26,
   "id": "xTg22SeaI74C",
   "metadata": {
    "colab": {
     "base_uri": "https://localhost:8080/"
    },
    "executionInfo": {
     "elapsed": 316,
     "status": "ok",
     "timestamp": 1695675136851,
     "user": {
      "displayName": "Georgii Vasilevskii",
      "userId": "00484195698575717017"
     },
     "user_tz": -180
    },
    "id": "xTg22SeaI74C",
    "outputId": "fdaed5a1-0869-48cb-b82b-b977029463c2",
    "scrolled": true
   },
   "outputs": [
    {
     "data": {
      "text/plain": [
       "1277"
      ]
     },
     "execution_count": 26,
     "metadata": {},
     "output_type": "execute_result"
    }
   ],
   "source": [
    "data['text'].duplicated().sum()"
   ]
  },
  {
   "cell_type": "markdown",
   "id": "n2YALAtnXXwe",
   "metadata": {
    "id": "n2YALAtnXXwe"
   },
   "source": [
    "Кандидатами в дубли являются такие записи, у которых значения признака `text` после лемматизации являются одинаковыми, а значения признака `toxic` являются различными. Такими кандидатами в дубли являются 27 записей. И общее количество записей с дублями составляет 1277. Удалим эти записи."
   ]
  },
  {
   "cell_type": "code",
   "execution_count": 27,
   "id": "NQaPrd1dJg61",
   "metadata": {
    "colab": {
     "base_uri": "https://localhost:8080/"
    },
    "executionInfo": {
     "elapsed": 347,
     "status": "ok",
     "timestamp": 1695675140875,
     "user": {
      "displayName": "Georgii Vasilevskii",
      "userId": "00484195698575717017"
     },
     "user_tz": -180
    },
    "id": "NQaPrd1dJg61",
    "outputId": "aae5fe86-351e-4222-8c78-e835cf35e5e3"
   },
   "outputs": [
    {
     "data": {
      "text/plain": [
       "(159281, 2)"
      ]
     },
     "execution_count": 27,
     "metadata": {},
     "output_type": "execute_result"
    }
   ],
   "source": [
    "data.shape"
   ]
  },
  {
   "cell_type": "code",
   "execution_count": 28,
   "id": "8DAF9vKvJSP-",
   "metadata": {
    "colab": {
     "base_uri": "https://localhost:8080/"
    },
    "executionInfo": {
     "elapsed": 319,
     "status": "ok",
     "timestamp": 1695675142979,
     "user": {
      "displayName": "Georgii Vasilevskii",
      "userId": "00484195698575717017"
     },
     "user_tz": -180
    },
    "id": "8DAF9vKvJSP-",
    "outputId": "4eb64674-9015-4f6f-d132-450a05874b0c"
   },
   "outputs": [
    {
     "data": {
      "text/plain": [
       "(157285, 2)"
      ]
     },
     "execution_count": 28,
     "metadata": {},
     "output_type": "execute_result"
    }
   ],
   "source": [
    "data.drop_duplicates(subset='text', keep=False, inplace=True)\n",
    "data.shape"
   ]
  },
  {
   "cell_type": "code",
   "execution_count": 29,
   "id": "Bgw5gun_c8y_",
   "metadata": {
    "colab": {
     "base_uri": "https://localhost:8080/"
    },
    "executionInfo": {
     "elapsed": 339,
     "status": "ok",
     "timestamp": 1695675146083,
     "user": {
      "displayName": "Georgii Vasilevskii",
      "userId": "00484195698575717017"
     },
     "user_tz": -180
    },
    "id": "Bgw5gun_c8y_",
    "outputId": "da6ee222-3554-48c0-ff67-2a209de53f03"
   },
   "outputs": [
    {
     "data": {
      "text/plain": [
       "0"
      ]
     },
     "execution_count": 29,
     "metadata": {},
     "output_type": "execute_result"
    }
   ],
   "source": [
    "data['text'].duplicated().sum()"
   ]
  },
  {
   "cell_type": "markdown",
   "id": "lTz4j1CrHKHL",
   "metadata": {
    "id": "lTz4j1CrHKHL"
   },
   "source": [
    "## Построение моделей"
   ]
  },
  {
   "cell_type": "markdown",
   "id": "o2P_VgORzdKz",
   "metadata": {
    "id": "o2P_VgORzdKz"
   },
   "source": [
    "### Подготовка данных для обучения"
   ]
  },
  {
   "cell_type": "markdown",
   "id": "o1RPfwq-zvtl",
   "metadata": {
    "id": "o1RPfwq-zvtl"
   },
   "source": [
    "#### Разделение данных на выборки"
   ]
  },
  {
   "cell_type": "markdown",
   "id": "pQ7M2C_2Y3-m",
   "metadata": {
    "id": "pQ7M2C_2Y3-m"
   },
   "source": [
    "Выделим из данных целевой признак `toxic`."
   ]
  },
  {
   "cell_type": "code",
   "execution_count": 30,
   "id": "Oxc8GQQkzZh6",
   "metadata": {
    "executionInfo": {
     "elapsed": 345,
     "status": "ok",
     "timestamp": 1695675150787,
     "user": {
      "displayName": "Georgii Vasilevskii",
      "userId": "00484195698575717017"
     },
     "user_tz": -180
    },
    "id": "Oxc8GQQkzZh6"
   },
   "outputs": [],
   "source": [
    "features = data['text']\n",
    "target = data['toxic']"
   ]
  },
  {
   "cell_type": "markdown",
   "id": "TPANqoErY9AK",
   "metadata": {
    "id": "TPANqoErY9AK"
   },
   "source": [
    "Поскольку отдельной тестовой выборки нет и большой объём данных позволяет обучать алгоритмы без отдельной кросс-валидации, разделим данные на тренировочную, валидационную и тестовую выборки в отношении 3 : 1 : 1. Таким образом, размеры валидационной и тестовой выборок будут равными."
   ]
  },
  {
   "cell_type": "code",
   "execution_count": 31,
   "id": "phbZQy5_z_oW",
   "metadata": {
    "executionInfo": {
     "elapsed": 434,
     "status": "ok",
     "timestamp": 1695675154184,
     "user": {
      "displayName": "Georgii Vasilevskii",
      "userId": "00484195698575717017"
     },
     "user_tz": -180
    },
    "id": "phbZQy5_z_oW"
   },
   "outputs": [],
   "source": [
    "features_other, features_test, target_other, target_test = train_test_split(\n",
    "    features, target, test_size=0.2, random_state=RANDOM_STATE)"
   ]
  },
  {
   "cell_type": "code",
   "execution_count": 32,
   "id": "zsvEYHnO0MJY",
   "metadata": {
    "executionInfo": {
     "elapsed": 298,
     "status": "ok",
     "timestamp": 1695675156483,
     "user": {
      "displayName": "Georgii Vasilevskii",
      "userId": "00484195698575717017"
     },
     "user_tz": -180
    },
    "id": "zsvEYHnO0MJY"
   },
   "outputs": [],
   "source": [
    "features_train, features_valid, target_train, target_valid = train_test_split(\n",
    "    features_other, target_other, test_size=0.25, random_state=RANDOM_STATE)"
   ]
  },
  {
   "cell_type": "markdown",
   "id": "BGKykS7W0ncR",
   "metadata": {
    "id": "BGKykS7W0ncR"
   },
   "source": [
    "#### Векторизация"
   ]
  },
  {
   "cell_type": "markdown",
   "id": "CKA5_lPJZ7xz",
   "metadata": {
    "id": "CKA5_lPJZ7xz"
   },
   "source": [
    "Для векторизации текстов будем использовать метод TF-IDF. В процессе векторизации не будем учитывать стоп-слова из списка стоп-слов английского языка."
   ]
  },
  {
   "cell_type": "code",
   "execution_count": 33,
   "id": "09WHj4H99mSt",
   "metadata": {
    "executionInfo": {
     "elapsed": 1430,
     "status": "ok",
     "timestamp": 1695675160446,
     "user": {
      "displayName": "Georgii Vasilevskii",
      "userId": "00484195698575717017"
     },
     "user_tz": -180
    },
    "id": "09WHj4H99mSt"
   },
   "outputs": [],
   "source": [
    "stop_words = list(stopwords.words('english'))"
   ]
  },
  {
   "cell_type": "markdown",
   "id": "IZaiJ3BlaaDQ",
   "metadata": {
    "id": "IZaiJ3BlaaDQ"
   },
   "source": [
    "Для обучения линейных алгоритмов и алгоритмов на основе метода опорных векторов будем дополнительно использовать N-граммы: биграммы и триграммы. Алгоритмы, основанные на использовании деревьев решений, будем изучать без N-грамм."
   ]
  },
  {
   "cell_type": "markdown",
   "id": "ewKw7eenbkkv",
   "metadata": {
    "id": "ewKw7eenbkkv"
   },
   "source": [
    "### Обучение моделей"
   ]
  },
  {
   "cell_type": "markdown",
   "id": "SLbMafZZT21m",
   "metadata": {
    "id": "SLbMafZZT21m"
   },
   "source": [
    "Поскольку целевой признак `toxic` &mdash; категориальный (бинарный), следовательно, необходимо решить задачу бинарной классификации.\n",
    "\n",
    "Зафиксируем псевдослучайность для алгоритмов обучения.\n",
    "\n",
    "Оценку качества обученных моделей будем проводить, рассчитывая значение F1-меры. Обученная модель будет считаться выполняющей качественный прогноз, если значение F1-меры будет составлять не менее 0,75.\n",
    "\n",
    "Для того чтобы получить максимально высокое качество предсказания, нужно перебрать в алгоритмах обучения разные значения гиперпараметров.\n",
    "\n",
    "Наилучшими гиперпараметрами для моделей классификации признаем те, при которых получится максимальное значение F1-меры обученной модели, оценённой на валидационной выборке.\n",
    "\n",
    "В данных наблюдается дисбаланс классов признака `toxic`. Поэтому необходимо при обучении алгоритмов использовать взвешивание классов."
   ]
  },
  {
   "cell_type": "code",
   "execution_count": 34,
   "id": "QW1aOpXWfSD0",
   "metadata": {
    "colab": {
     "base_uri": "https://localhost:8080/",
     "height": 311
    },
    "executionInfo": {
     "elapsed": 339,
     "status": "ok",
     "timestamp": 1695675164484,
     "user": {
      "displayName": "Georgii Vasilevskii",
      "userId": "00484195698575717017"
     },
     "user_tz": -180
    },
    "id": "QW1aOpXWfSD0",
    "outputId": "a8420ca1-7565-4be7-c0fd-6e22a0abf19f"
   },
   "outputs": [
    {
     "data": {
      "image/png": "[encoded data removed]",
      "text/plain": [
       "<Figure size 300x300 with 1 Axes>"
      ]
     },
     "metadata": {},
     "output_type": "display_data"
    }
   ],
   "source": [
    "labels = 'Позитивный', 'Негативный'\n",
    "plt.figure(figsize=(3, 3))\n",
    "plt.pie(data['toxic'].value_counts(), labels=labels, autopct='%.0f %%')\n",
    "plt.title('Круговая диаграмма\\nраспределения комментариев')\n",
    "plt.show()"
   ]
  },
  {
   "cell_type": "markdown",
   "id": "1UojBOqVAofp",
   "metadata": {
    "id": "1UojBOqVAofp"
   },
   "source": [
    "#### Простая модель"
   ]
  },
  {
   "cell_type": "code",
   "execution_count": 35,
   "id": "aWzElFiRArmR",
   "metadata": {
    "colab": {
     "base_uri": "https://localhost:8080/"
    },
    "executionInfo": {
     "elapsed": 8523,
     "status": "ok",
     "timestamp": 1695675178419,
     "user": {
      "displayName": "Georgii Vasilevskii",
      "userId": "00484195698575717017"
     },
     "user_tz": -180
    },
    "id": "aWzElFiRArmR",
    "outputId": "2508f694-0414-426f-b0a6-dcf63f44f393"
   },
   "outputs": [
    {
     "name": "stdout",
     "output_type": "stream",
     "text": [
      "Простая модель, предсказывающая значение меньшего класса\n",
      "\n",
      "F1 = 0.183\n",
      "CPU times: user 7.9 s, sys: 167 ms, total: 8.07 s\n",
      "Wall time: 8.21 s\n"
     ]
    }
   ],
   "source": [
    "%%time\n",
    "\n",
    "pipeliner = Pipeline([\n",
    "    ('vectorizer', TfidfVectorizer(stop_words=stop_words, dtype=np.float32)),\n",
    "    ('model', DummyClassifier(strategy=\"constant\", constant=1))\n",
    "])\n",
    "\n",
    "pipeliner.fit(features_train, target_train)\n",
    "\n",
    "predictions = pipeliner.predict(features_valid)\n",
    "\n",
    "print('Простая модель, предсказывающая значение меньшего класса')\n",
    "print('\\nF1 =', round(f1_score(predictions, target_valid), 3))"
   ]
  },
  {
   "cell_type": "markdown",
   "id": "2j6S9XHZJ-k8",
   "metadata": {
    "id": "2j6S9XHZJ-k8"
   },
   "source": [
    "#### Логистическая регрессия"
   ]
  },
  {
   "cell_type": "code",
   "execution_count": null,
   "id": "DDMnoQgf_k_f",
   "metadata": {
    "colab": {
     "base_uri": "https://localhost:8080/"
    },
    "id": "DDMnoQgf_k_f",
    "outputId": "c390d9c9-05c8-4209-9197-83074700f709"
   },
   "outputs": [
    {
     "name": "stdout",
     "output_type": "stream",
     "text": [
      "Модель логистической регрессии\n",
      "\n",
      "F1 = 0.786\n",
      "\n",
      "Параметры наилучшей модели:                          \n",
      "model__tol           0.01\n",
      "model__max_iter  10000.00\n",
      "model__C           100.00 \n",
      "\n",
      "CPU times: user 1min 29s, sys: 15.3 s, total: 1min 44s\n",
      "Wall time: 28min 16s\n"
     ]
    }
   ],
   "source": [
    "%%time\n",
    "\n",
    "pipeliner = Pipeline([\n",
    "    ('vectorizer', TfidfVectorizer(stop_words=stop_words, dtype=np.float32,\n",
    "                                   ngram_range=(1, 3))),\n",
    "    ('model', LogisticRegression(solver='liblinear', class_weight='balanced',\n",
    "                                 random_state=RANDOM_STATE))\n",
    "])\n",
    "\n",
    "parameters = {'model__tol': [10**n for n in range(-1, -4, -1)],\n",
    "              'model__C': [10**n for n in range(4, -6, -1)],\n",
    "              'model__max_iter': [10**n for n in range(2, 6, 1)]}\n",
    "\n",
    "lr = RandomizedSearchCV(pipeliner, param_distributions=parameters, n_iter=10,\n",
    "                        scoring='f1', random_state=RANDOM_STATE, n_jobs=-1,\n",
    "                        error_score='raise')\n",
    "\n",
    "lr.fit(features_train, target_train)\n",
    "\n",
    "predictions = lr.predict(features_valid)\n",
    "\n",
    "print('Модель логистической регрессии')\n",
    "print('\\nF1 =', round(f1_score(predictions, target_valid), 3))\n",
    "print('\\nПараметры наилучшей модели:',\n",
    "      pd.DataFrame(lr.best_params_, index = ['']).T, '\\n')"
   ]
  },
  {
   "cell_type": "markdown",
   "id": "n5qriBkHJ73N",
   "metadata": {
    "id": "n5qriBkHJ73N"
   },
   "source": [
    "#### Классификатор с использованием гребневой регрессии"
   ]
  },
  {
   "cell_type": "code",
   "execution_count": null,
   "id": "hmYksi3rLEfJ",
   "metadata": {
    "colab": {
     "base_uri": "https://localhost:8080/"
    },
    "id": "hmYksi3rLEfJ",
    "outputId": "d5bf27f2-68b2-4067-9d24-8149a7a5fb33"
   },
   "outputs": [
    {
     "name": "stdout",
     "output_type": "stream",
     "text": [
      "Модель классификатора на основе гребневой регрессии\n",
      "\n",
      "F1 = 0.756\n",
      "\n",
      "Параметры наилучшей модели:                          \n",
      "model__tol          0.001\n",
      "model__max_iter  1000.000\n",
      "model__alpha        1.000 \n",
      "\n",
      "CPU times: user 1min 13s, sys: 11.4 s, total: 1min 24s\n",
      "Wall time: 26min 49s\n"
     ]
    }
   ],
   "source": [
    "%%time\n",
    "\n",
    "pipeliner = Pipeline([\n",
    "    ('vectorizer', TfidfVectorizer(stop_words=stop_words, dtype=np.float32,\n",
    "                                   ngram_range=(1, 3))),\n",
    "    ('model', RidgeClassifier(class_weight='balanced',\n",
    "                              random_state=RANDOM_STATE))\n",
    "])\n",
    "\n",
    "parameters = {'model__tol': [10**n for n in range(1, -4, -1)],\n",
    "              'model__alpha': [10**n for n in range(2, -2, -1)],\n",
    "              'model__max_iter': [None]+[10**n for n in range(1, 5, 1)]}\n",
    "\n",
    "rc = RandomizedSearchCV(pipeliner, param_distributions=parameters, n_iter=10,\n",
    "                        scoring='f1', random_state=RANDOM_STATE, n_jobs=-1,\n",
    "                        error_score='raise')\n",
    "\n",
    "rc.fit(features_train, target_train)\n",
    "\n",
    "predictions = rc.predict(features_valid)\n",
    "\n",
    "print('Модель классификатора на основе гребневой регрессии')\n",
    "print('\\nF1 =', round(f1_score(predictions, target_valid), 3))\n",
    "print('\\nПараметры наилучшей модели:',\n",
    "      pd.DataFrame(rc.best_params_, index = ['']).T, '\\n')"
   ]
  },
  {
   "cell_type": "markdown",
   "id": "cRyQ8nDiMuSI",
   "metadata": {
    "id": "cRyQ8nDiMuSI"
   },
   "source": [
    "#### Классификатор с использованием стохастического градиентного спуска"
   ]
  },
  {
   "cell_type": "code",
   "execution_count": null,
   "id": "9S5CnvNMMzuW",
   "metadata": {
    "colab": {
     "base_uri": "https://localhost:8080/"
    },
    "id": "9S5CnvNMMzuW",
    "outputId": "718dc984-c7e4-4292-a7d2-c0d405905c77"
   },
   "outputs": [
    {
     "name": "stdout",
     "output_type": "stream",
     "text": [
      "Модель классификатора на основе стохастического градиентного спуска\n",
      "\n",
      "F1 = 0.788\n",
      "\n",
      "Параметры наилучшей модели:                      \n",
      "model__tol    0.00100\n",
      "model__eta0   1.00000\n",
      "model__alpha  0.00001 \n",
      "\n",
      "CPU times: user 1min 5s, sys: 5.94 s, total: 1min 11s\n",
      "Wall time: 27min 2s\n"
     ]
    }
   ],
   "source": [
    "%%time\n",
    "\n",
    "pipeliner = Pipeline([\n",
    "    ('vectorizer', TfidfVectorizer(stop_words=stop_words, dtype=np.float32,\n",
    "                                   ngram_range=(1, 3))),\n",
    "    ('model', SGDClassifier(class_weight='balanced', random_state=RANDOM_STATE,\n",
    "                            n_jobs=-1))\n",
    "])\n",
    "\n",
    "parameters = {'model__tol': [10**n for n in range(-1, -4, -1)],\n",
    "              'model__alpha': [10**n for n in range(1, -7, -1)],\n",
    "              'model__eta0': [10**n for n in range(1, -4, -1)]}\n",
    "\n",
    "sgdc = RandomizedSearchCV(pipeliner, param_distributions=parameters, n_iter=10,\n",
    "                          scoring='f1', random_state=RANDOM_STATE, n_jobs=-1,\n",
    "                          error_score='raise')\n",
    "\n",
    "sgdc.fit(features_train, target_train)\n",
    "\n",
    "predictions = sgdc.predict(features_valid)\n",
    "\n",
    "print('Модель классификатора на основе стохастического градиентного спуска')\n",
    "print('\\nF1 =', round(f1_score(predictions, target_valid), 3))\n",
    "print('\\nПараметры наилучшей модели:',\n",
    "      pd.DataFrame(sgdc.best_params_, index = ['']).T, '\\n')"
   ]
  },
  {
   "cell_type": "markdown",
   "id": "UPUi7FG3nIrh",
   "metadata": {
    "id": "UPUi7FG3nIrh"
   },
   "source": [
    "#### Метод опорных векторов"
   ]
  },
  {
   "cell_type": "code",
   "execution_count": null,
   "id": "lBi2xfnFftI_",
   "metadata": {
    "colab": {
     "base_uri": "https://localhost:8080/"
    },
    "id": "lBi2xfnFftI_",
    "outputId": "a468797c-c166-447b-ff9e-72830f46d0c6"
   },
   "outputs": [
    {
     "name": "stdout",
     "output_type": "stream",
     "text": [
      "Модель метода опорных векторов\n",
      "\n",
      "F1 = 0.784\n",
      "\n",
      "Параметры наилучшей модели:                           \n",
      "model__tol            0.01\n",
      "model__max_iter  100000.00\n",
      "model__C             10.00 \n",
      "\n",
      "CPU times: user 1min 48s, sys: 9.51 s, total: 1min 57s\n",
      "Wall time: 44min 37s\n"
     ]
    }
   ],
   "source": [
    "%%time\n",
    "\n",
    "pipeliner = Pipeline([\n",
    "    ('vectorizer', TfidfVectorizer(stop_words=stop_words, dtype=np.float32,\n",
    "                                   ngram_range=(1, 3))),\n",
    "    ('model', LinearSVC(class_weight='balanced', random_state=RANDOM_STATE))\n",
    "])\n",
    "\n",
    "parameters = {'model__tol': [10**n for n in range(-1, -4, -1)],\n",
    "              'model__C': [10**n for n in range(4, -6, -1)],\n",
    "              'model__max_iter': [10**n for n in range(2, 6, 1)]}\n",
    "\n",
    "lsvc = RandomizedSearchCV(pipeliner, param_distributions=parameters, n_iter=10,\n",
    "                         scoring='f1', random_state=RANDOM_STATE, n_jobs=-1,\n",
    "                         error_score='raise')\n",
    "\n",
    "lsvc.fit(features_train, target_train)\n",
    "\n",
    "predictions = lsvc.predict(features_valid)\n",
    "\n",
    "print('Модель метода опорных векторов')\n",
    "print('\\nF1 =', round(f1_score(predictions, target_valid), 3))\n",
    "print('\\nПараметры наилучшей модели:',\n",
    "      pd.DataFrame(lsvc.best_params_, index = ['']).T, '\\n')"
   ]
  },
  {
   "cell_type": "markdown",
   "id": "EebQWlViEbT5",
   "metadata": {
    "id": "EebQWlViEbT5"
   },
   "source": [
    "#### Дерево решений"
   ]
  },
  {
   "cell_type": "code",
   "execution_count": null,
   "id": "haQWsRpQEfGH",
   "metadata": {
    "colab": {
     "base_uri": "https://localhost:8080/"
    },
    "id": "haQWsRpQEfGH",
    "outputId": "b8453bb5-a668-4576-ec49-5e0163f24f4a"
   },
   "outputs": [
    {
     "name": "stdout",
     "output_type": "stream",
     "text": [
      "Модель решающего дерева\n",
      "\n",
      "F1 = 0.619\n",
      "\n",
      "Параметры наилучшей модели:                             \n",
      "model__min_samples_split  10\n",
      "model__min_samples_leaf    7\n",
      "model__max_depth          19 \n",
      "\n",
      "CPU times: user 34.9 s, sys: 3.62 s, total: 38.6 s\n",
      "Wall time: 15min 26s\n"
     ]
    }
   ],
   "source": [
    "%%time\n",
    "\n",
    "pipeliner = Pipeline([\n",
    "    ('vectorizer', TfidfVectorizer(stop_words=stop_words, dtype=np.float32,\n",
    "                                   ngram_range=(1, 1))),\n",
    "    ('model', DecisionTreeClassifier(class_weight='balanced',\n",
    "                                     random_state=RANDOM_STATE))\n",
    "])\n",
    "\n",
    "parameters = {'model__max_depth': [None]+[n for n in range(1, 31, 1)],\n",
    "              'model__min_samples_leaf': [n for n in range(1, 31, 1)],\n",
    "              'model__min_samples_split': [n for n in range(2, 11, 1)]}\n",
    "\n",
    "rfr = RandomizedSearchCV(pipeliner, param_distributions=parameters, n_iter=10,\n",
    "                         scoring='f1', random_state=RANDOM_STATE, n_jobs=-1,\n",
    "                         error_score='raise')\n",
    "\n",
    "rfr.fit(features_train, target_train)\n",
    "\n",
    "predictions = rfr.predict(features_valid)\n",
    "\n",
    "print('Модель решающего дерева')\n",
    "print('\\nF1 =', round(f1_score(predictions, target_valid), 3))\n",
    "print('\\nПараметры наилучшей модели:',\n",
    "      pd.DataFrame(rfr.best_params_, index = ['']).T, '\\n')"
   ]
  },
  {
   "cell_type": "markdown",
   "id": "jjdU4xjeg0sr",
   "metadata": {
    "id": "jjdU4xjeg0sr"
   },
   "source": [
    "#### Градиентный бустинг на основе алгоритма LightGBM"
   ]
  },
  {
   "cell_type": "code",
   "execution_count": null,
   "id": "qWIsODBZg3XX",
   "metadata": {
    "colab": {
     "base_uri": "https://localhost:8080/"
    },
    "id": "qWIsODBZg3XX",
    "outputId": "664da4e2-5cec-4c3d-f9a0-29181d90cac1"
   },
   "outputs": [
    {
     "name": "stderr",
     "output_type": "stream",
     "text": [
      "/usr/local/lib/python3.10/dist-packages/sklearn/model_selection/_search.py:305: UserWarning: The total space of parameters 1 is smaller than n_iter=10. Running 1 iterations. For exhaustive searches, use GridSearchCV.\n",
      "  warnings.warn(\n"
     ]
    },
    {
     "name": "stdout",
     "output_type": "stream",
     "text": [
      "[LightGBM] [Info] Number of positive: 9677, number of negative: 84694\n",
      "[LightGBM] [Warning] Auto-choosing col-wise multi-threading, the overhead of testing was 13.717363 seconds.\n",
      "You can set `force_col_wise=true` to remove the overhead.\n",
      "[LightGBM] [Info] Total Bins 437853\n",
      "[LightGBM] [Info] Number of data points in the train set: 94371, number of used features: 8341\n",
      "[LightGBM] [Info] [binary:BoostFromScore]: pavg=0.500000 -> initscore=-0.000000\n",
      "[LightGBM] [Info] Start training from score -0.000000\n",
      "Модель градиентного бустинга на основе алгоритма LightGBM\n",
      "\n",
      "F1 = 0.768\n",
      "\n",
      "Параметры наилучшей модели:                             \n",
      "model__n_estimators   1000.0\n",
      "model__learning_rate     0.1 \n",
      "\n",
      "CPU times: user 9min 31s, sys: 4.21 s, total: 9min 35s\n",
      "Wall time: 41min 18s\n"
     ]
    }
   ],
   "source": [
    "%%time\n",
    "\n",
    "pipeliner = Pipeline([\n",
    "    ('vectorizer', TfidfVectorizer(stop_words=stop_words, dtype=np.float32,\n",
    "                                   ngram_range=(1, 1))),\n",
    "    ('model', LGBMClassifier(class_weight='balanced', n_jobs=-1,\n",
    "                             random_state=RANDOM_STATE))\n",
    "])\n",
    "\n",
    "parameters = {'model__n_estimators': [1000],\n",
    "              'model__learning_rate': [0.1]}\n",
    "\n",
    "lgbm = RandomizedSearchCV(pipeliner, param_distributions=parameters, n_iter=10,\n",
    "                          scoring='f1', random_state=RANDOM_STATE, n_jobs=-1,\n",
    "                          error_score='raise')\n",
    "\n",
    "lgbm.fit(features_train, target_train)\n",
    "\n",
    "predictions = lgbm.predict(features_valid)\n",
    "\n",
    "print('Модель градиентного бустинга на основе алгоритма LightGBM')\n",
    "print('\\nF1 =', round(f1_score(predictions, target_valid), 3))\n",
    "print('\\nПараметры наилучшей модели:',\n",
    "      pd.DataFrame(lgbm.best_params_, index = ['']).T, '\\n')"
   ]
  },
  {
   "cell_type": "markdown",
   "id": "s05pld7S4Wyq",
   "metadata": {
    "id": "s05pld7S4Wyq"
   },
   "source": [
    "#### Градиентный бустинг на основе алгоритма CatBoost"
   ]
  },
  {
   "cell_type": "markdown",
   "id": "1W-4n6U7e_0E",
   "metadata": {
    "id": "1W-4n6U7e_0E"
   },
   "source": [
    "Для алгоритма CatBoost не нужно проводить взвешивание классов, поскольку это приводит к значительному снижению F1 меры."
   ]
  },
  {
   "cell_type": "code",
   "execution_count": null,
   "id": "6_ET_RGw4ZRx",
   "metadata": {
    "colab": {
     "base_uri": "https://localhost:8080/"
    },
    "id": "6_ET_RGw4ZRx",
    "outputId": "697b35ab-a17d-46c8-93e8-c3e045f33e55"
   },
   "outputs": [
    {
     "name": "stderr",
     "output_type": "stream",
     "text": [
      "/usr/local/lib/python3.10/dist-packages/joblib/externals/loky/process_executor.py:752: UserWarning: A worker stopped while some jobs were given to the executor. This can be caused by a too short worker timeout or by a memory leak.\n",
      "  warnings.warn(\n"
     ]
    },
    {
     "name": "stdout",
     "output_type": "stream",
     "text": [
      "Модель градиентного бустинга на основе алгоритма CatBoost\n",
      "\n",
      "F1 = 0.745\n",
      "\n",
      "Параметры наилучшей модели:                            \n",
      "model__n_estimators   120.0\n",
      "model__learning_rate    0.7 \n",
      "\n",
      "CPU times: user 5min 22s, sys: 7.99 s, total: 5min 30s\n",
      "Wall time: 54min 47s\n"
     ]
    }
   ],
   "source": [
    "%%time\n",
    "\n",
    "pipeliner = Pipeline([\n",
    "    ('vectorizer', TfidfVectorizer(stop_words=stop_words, dtype=np.float32,\n",
    "                                   ngram_range=(1, 1), max_features=15000)),\n",
    "    ('model', CatBoostClassifier(random_state=RANDOM_STATE, verbose=False))\n",
    "])\n",
    "\n",
    "parameters = {'model__n_estimators': [10*n+50 for n in range(10)],\n",
    "              'model__learning_rate': [0.1*n+0.5 for n in range(5)]}\n",
    "\n",
    "cb = RandomizedSearchCV(pipeliner, param_distributions=parameters, n_iter=5,\n",
    "                        scoring='f1', random_state=RANDOM_STATE, n_jobs=-1,\n",
    "                        error_score='raise')\n",
    "\n",
    "cb.fit(features_train, target_train)\n",
    "\n",
    "predictions = cb.predict(features_valid)\n",
    "\n",
    "print('Модель градиентного бустинга на основе алгоритма CatBoost')\n",
    "print('\\nF1 =', round(f1_score(predictions, target_valid), 3))\n",
    "print('\\nПараметры наилучшей модели:',\n",
    "      pd.DataFrame(cb.best_params_, index = ['']).T, '\\n')"
   ]
  },
  {
   "cell_type": "code",
   "execution_count": null,
   "id": "6BEDvOqeXMcA",
   "metadata": {
    "colab": {
     "base_uri": "https://localhost:8080/"
    },
    "id": "6BEDvOqeXMcA",
    "outputId": "9d12eb54-c02d-4ea3-a828-f91cd768dde6"
   },
   "outputs": [
    {
     "name": "stderr",
     "output_type": "stream",
     "text": [
      "/usr/local/lib/python3.10/dist-packages/sklearn/model_selection/_search.py:305: UserWarning: The total space of parameters 1 is smaller than n_iter=5. Running 1 iterations. For exhaustive searches, use GridSearchCV.\n",
      "  warnings.warn(\n"
     ]
    },
    {
     "name": "stdout",
     "output_type": "stream",
     "text": [
      "Модель градиентного бустинга на основе алгоритма CatBoost\n",
      "\n",
      "F1 = 0.754\n",
      "\n",
      "Параметры наилучшей модели:                            \n",
      "model__n_estimators   100.0\n",
      "model__learning_rate    0.9 \n",
      "\n",
      "CPU times: user 4min 12s, sys: 3.21 s, total: 4min 15s\n",
      "Wall time: 14min 16s\n"
     ]
    }
   ],
   "source": [
    "%%time\n",
    "\n",
    "pipeliner = Pipeline([\n",
    "    ('vectorizer', TfidfVectorizer(stop_words=stop_words, dtype=np.float32,\n",
    "                                   ngram_range=(1, 1), max_features=15000)),\n",
    "    ('model', CatBoostClassifier(random_state=RANDOM_STATE, verbose=False))\n",
    "])\n",
    "\n",
    "parameters = {'model__n_estimators': [100],\n",
    "              'model__learning_rate': [0.9]}\n",
    "\n",
    "cb = RandomizedSearchCV(pipeliner, param_distributions=parameters, n_iter=5,\n",
    "                        scoring='f1', random_state=RANDOM_STATE, n_jobs=-1,\n",
    "                        error_score='raise')\n",
    "\n",
    "cb.fit(features_train, target_train)\n",
    "\n",
    "predictions = cb.predict(features_valid)\n",
    "\n",
    "print('Модель градиентного бустинга на основе алгоритма CatBoost')\n",
    "print('\\nF1 =', round(f1_score(predictions, target_valid), 3))\n",
    "print('\\nПараметры наилучшей модели:',\n",
    "      pd.DataFrame(cb.best_params_, index = ['']).T, '\\n')"
   ]
  },
  {
   "cell_type": "markdown",
   "id": "ZDyTI8i2G_gO",
   "metadata": {
    "id": "ZDyTI8i2G_gO"
   },
   "source": [
    "### Оценка моделей"
   ]
  },
  {
   "cell_type": "code",
   "execution_count": null,
   "id": "nYxQWJhYHnub",
   "metadata": {
    "colab": {
     "base_uri": "https://localhost:8080/"
    },
    "id": "nYxQWJhYHnub",
    "outputId": "12e070f2-7ed6-4c13-ba4c-b21d9e09bc65"
   },
   "outputs": [
    {
     "name": "stdout",
     "output_type": "stream",
     "text": [
      "Модель классификатора на основе стохастического градиентного спуска\n",
      "\n",
      "F1 = 0.782\n"
     ]
    }
   ],
   "source": [
    "pipeliner = Pipeline([\n",
    "    ('vectorizer', TfidfVectorizer(stop_words=stop_words, dtype=np.float32,\n",
    "                                   ngram_range=(1, 3))),\n",
    "    ('model', SGDClassifier(class_weight='balanced',\n",
    "                            tol=0.001,\n",
    "                            alpha=0.00001,\n",
    "                            eta0=1,\n",
    "                            random_state=RANDOM_STATE,\n",
    "                            n_jobs=-1))\n",
    "])\n",
    "\n",
    "pipeliner.fit(features_train, target_train)\n",
    "\n",
    "predictions = pipeliner.predict(features_test)\n",
    "\n",
    "print('Модель классификатора на основе стохастического градиентного спуска')\n",
    "print('\\nF1 =', round(f1_score(predictions, target_test), 3))"
   ]
  },
  {
   "cell_type": "markdown",
   "id": "yJZkssyLHoOS",
   "metadata": {
    "id": "yJZkssyLHoOS"
   },
   "source": [
    "## Общий вывод"
   ]
  },
  {
   "cell_type": "markdown",
   "id": "z-TVU-_EIYkc",
   "metadata": {
    "id": "z-TVU-_EIYkc"
   },
   "source": [
    "1. Для целей предсказания токсичности комментариев были построены линейные модели:\n",
    "- логистическая регрессия,\n",
    "- классификатор на основе стохастического градиентного спуска,\n",
    "- классификатор на основе гребневой регрессии,\n",
    "\n",
    "модели, основанные на использовании деревьев решений:\n",
    "- дерево решений,\n",
    "- градиентный бустинг LightGBM,\n",
    "- градиентный бустинг CatBoost,\n",
    "\n",
    "а также модели, основанные на методе опорных векторов.\n",
    "\n",
    "2. Для сравнения алгоритмов была обучена простая модель, предсказывающая значение меньшего класса.\n",
    "\n",
    "3. Для каждого алгоритма было обучено несколько моделей с различными гиперпараметрами.\n",
    "\n",
    "4. Критерием отбора моделей было значение F1-меры, полученной в результате проведения кросс-валидации при подборе значений параметров модели. Пороговое значение F1-меры установлено на уровне 0,75.\n",
    "\n",
    "5. Все классификаторы на основе линейных алгоритмов, а также модель, использующая метод опорных векторов, обеспечивают высокое качество предсказания. Значения F1-меры для них превышают 0,75.\n",
    "\n",
    "|Модель и её параметры|F1-мера|\n",
    "|:-|:-:|\n",
    "|**Простая модель**|0,183\n",
    "|&ndash; предсказывает значение меньшего класса\n",
    "|**Логистическая регрессия**|0,786\n",
    "|&ndash; C: 100, максимальное число итераций: 10000, порог остановки обучения: 0,01\n",
    "|**Классификатор с использованием алгоритма гребневой регрессии**|0,756\n",
    "|&ndash; альфа: 1, максимальное число итераций: 1000, порог остановки обучения: 0,001\n",
    "|**Классификатор с использованием алгоритма стохастического градиентного спуска**|0,788\n",
    "|&ndash; альфа: 0,00001, начальная скорость обучения: 1, порог остановки обучения: 0,001\n",
    "|**Классификатор с использованием алгоритма на основе метода опорных векторов**|0,784\n",
    "|&ndash; С: 10, максимальное число итераций: 100000, порог остановки обучения: 0,01\n",
    "|**Дерево решений**|0,619\n",
    "|&ndash; глубина дерева: 19, минимальное число листьев: 7, минимальное количество выборок: 10\n",
    "|**LightGBM**|0,768\n",
    "|&ndash; число итераций: 1000, скорость обучения: 0,1\n",
    "|**CatBoost**|0,754\n",
    "|&ndash; число итераций: 1000, скорость обучения: 0,9\n",
    "\n",
    "6. Наилучшие показатели качества демонстрирует модель классификатора, использующая алгоритм стохастического градиентного спуска с параметрами &mdash; альфа: 0,00001, начальная скорость обучения: 1, порог остановки обучения: 0,001, обученный на тексте, векторизованном методом TF-IDF, с включением в обучающий набор биграмм и триграмм.\n"
   ]
  }
 ],
 "metadata": {
  "ExecuteTimeLog": [
   {
    "duration": 6476,
    "start_time": "2023-08-14T16:55:56.491Z"
   },
   {
    "duration": 13151,
    "start_time": "2023-08-14T16:56:16.583Z"
   },
   {
    "duration": 5989,
    "start_time": "2023-08-14T16:56:36.785Z"
   },
   {
    "duration": 10,
    "start_time": "2023-08-14T16:56:59.389Z"
   },
   {
    "duration": 11876,
    "start_time": "2023-08-14T17:03:49.099Z"
   },
   {
    "duration": 1354,
    "start_time": "2023-08-14T17:04:35.208Z"
   },
   {
    "duration": 5997,
    "start_time": "2023-08-14T17:04:36.565Z"
   },
   {
    "duration": 2548,
    "start_time": "2023-08-14T17:04:42.564Z"
   },
   {
    "duration": 13,
    "start_time": "2023-08-14T17:04:45.115Z"
   },
   {
    "duration": 26,
    "start_time": "2023-08-14T17:04:45.130Z"
   },
   {
    "duration": 16,
    "start_time": "2023-08-14T17:04:45.158Z"
   },
   {
    "duration": 13,
    "start_time": "2023-08-14T17:04:45.176Z"
   },
   {
    "duration": 16,
    "start_time": "2023-08-14T17:04:45.190Z"
   },
   {
    "duration": 39,
    "start_time": "2023-08-14T17:04:45.208Z"
   },
   {
    "duration": 19,
    "start_time": "2023-08-14T17:04:45.250Z"
   },
   {
    "duration": 16,
    "start_time": "2023-08-14T17:04:45.271Z"
   },
   {
    "duration": 16,
    "start_time": "2023-08-14T17:04:45.289Z"
   },
   {
    "duration": 4148,
    "start_time": "2023-08-14T17:04:45.307Z"
   },
   {
    "duration": 7,
    "start_time": "2023-08-14T17:04:49.457Z"
   },
   {
    "duration": 4,
    "start_time": "2023-08-14T17:05:58.286Z"
   },
   {
    "duration": 36,
    "start_time": "2023-08-14T17:05:59.842Z"
   },
   {
    "duration": 34,
    "start_time": "2023-08-14T17:06:00.475Z"
   },
   {
    "duration": 2871,
    "start_time": "2023-08-14T17:08:38.610Z"
   },
   {
    "duration": 6,
    "start_time": "2023-08-14T17:10:09.834Z"
   },
   {
    "duration": 3,
    "start_time": "2023-08-14T17:14:35.457Z"
   },
   {
    "duration": 1338,
    "start_time": "2023-08-14T17:15:24.670Z"
   },
   {
    "duration": 6089,
    "start_time": "2023-08-14T17:15:26.010Z"
   },
   {
    "duration": 2423,
    "start_time": "2023-08-14T17:15:32.100Z"
   },
   {
    "duration": 12,
    "start_time": "2023-08-14T17:15:34.525Z"
   },
   {
    "duration": 17,
    "start_time": "2023-08-14T17:15:34.538Z"
   },
   {
    "duration": 13,
    "start_time": "2023-08-14T17:15:34.556Z"
   },
   {
    "duration": 11,
    "start_time": "2023-08-14T17:15:34.571Z"
   },
   {
    "duration": 17,
    "start_time": "2023-08-14T17:15:34.584Z"
   },
   {
    "duration": 50,
    "start_time": "2023-08-14T17:15:34.603Z"
   },
   {
    "duration": 16,
    "start_time": "2023-08-14T17:15:34.656Z"
   },
   {
    "duration": 13,
    "start_time": "2023-08-14T17:15:34.674Z"
   },
   {
    "duration": 12,
    "start_time": "2023-08-14T17:15:34.689Z"
   },
   {
    "duration": 4232,
    "start_time": "2023-08-14T17:15:34.702Z"
   },
   {
    "duration": 6,
    "start_time": "2023-08-14T17:15:38.936Z"
   },
   {
    "duration": 4,
    "start_time": "2023-08-14T17:16:02.553Z"
   },
   {
    "duration": 44,
    "start_time": "2023-08-14T17:16:05.107Z"
   },
   {
    "duration": 32,
    "start_time": "2023-08-14T17:16:05.657Z"
   },
   {
    "duration": 346,
    "start_time": "2023-08-14T17:19:04.847Z"
   },
   {
    "duration": 3,
    "start_time": "2023-08-14T17:19:15.618Z"
   },
   {
    "duration": 4,
    "start_time": "2023-08-14T17:19:18.982Z"
   },
   {
    "duration": 1665,
    "start_time": "2023-08-14T17:19:19.667Z"
   },
   {
    "duration": 3,
    "start_time": "2023-08-14T17:20:17.119Z"
   },
   {
    "duration": 3,
    "start_time": "2023-08-14T17:20:19.821Z"
   },
   {
    "duration": 1655,
    "start_time": "2023-08-14T17:20:22.844Z"
   },
   {
    "duration": 7,
    "start_time": "2023-08-14T17:21:11.170Z"
   },
   {
    "duration": 12,
    "start_time": "2023-08-14T17:27:01.194Z"
   },
   {
    "duration": 8,
    "start_time": "2023-08-14T17:27:03.381Z"
   },
   {
    "duration": 45152,
    "start_time": "2023-08-14T17:27:06.763Z"
   },
   {
    "duration": 1384,
    "start_time": "2023-08-14T17:28:28.199Z"
   },
   {
    "duration": 5992,
    "start_time": "2023-08-14T17:28:29.585Z"
   },
   {
    "duration": 913,
    "start_time": "2023-08-14T17:28:35.578Z"
   },
   {
    "duration": 13,
    "start_time": "2023-08-14T17:28:36.494Z"
   },
   {
    "duration": 12,
    "start_time": "2023-08-14T17:28:36.509Z"
   },
   {
    "duration": 9,
    "start_time": "2023-08-14T17:28:36.523Z"
   },
   {
    "duration": 8,
    "start_time": "2023-08-14T17:28:36.534Z"
   },
   {
    "duration": 6,
    "start_time": "2023-08-14T17:28:36.558Z"
   },
   {
    "duration": 34,
    "start_time": "2023-08-14T17:28:36.566Z"
   },
   {
    "duration": 14,
    "start_time": "2023-08-14T17:28:36.604Z"
   },
   {
    "duration": 11,
    "start_time": "2023-08-14T17:28:36.619Z"
   },
   {
    "duration": 29,
    "start_time": "2023-08-14T17:28:36.632Z"
   },
   {
    "duration": 4020,
    "start_time": "2023-08-14T17:28:36.663Z"
   },
   {
    "duration": 3301,
    "start_time": "2023-08-14T17:28:42.515Z"
   },
   {
    "duration": 7,
    "start_time": "2023-08-14T17:28:49.147Z"
   },
   {
    "duration": 3,
    "start_time": "2023-08-14T17:28:55.852Z"
   },
   {
    "duration": 34,
    "start_time": "2023-08-14T17:28:56.817Z"
   },
   {
    "duration": 31,
    "start_time": "2023-08-14T17:28:57.220Z"
   },
   {
    "duration": 13,
    "start_time": "2023-08-14T17:29:11.545Z"
   },
   {
    "duration": 7,
    "start_time": "2023-08-14T17:29:15.022Z"
   },
   {
    "duration": 6,
    "start_time": "2023-08-14T17:29:26.983Z"
   },
   {
    "duration": 3,
    "start_time": "2023-08-14T17:29:51.651Z"
   },
   {
    "duration": 38,
    "start_time": "2023-08-14T17:29:53.066Z"
   },
   {
    "duration": 26,
    "start_time": "2023-08-14T17:29:54.355Z"
   },
   {
    "duration": 6,
    "start_time": "2023-08-14T17:30:09.818Z"
   },
   {
    "duration": 8,
    "start_time": "2023-08-14T17:30:16.257Z"
   },
   {
    "duration": 6,
    "start_time": "2023-08-14T17:30:17.251Z"
   },
   {
    "duration": 4,
    "start_time": "2023-08-14T17:30:42.358Z"
   },
   {
    "duration": 1323,
    "start_time": "2023-08-14T17:32:31.459Z"
   },
   {
    "duration": 5894,
    "start_time": "2023-08-14T17:32:32.785Z"
   },
   {
    "duration": 915,
    "start_time": "2023-08-14T17:32:38.681Z"
   },
   {
    "duration": 13,
    "start_time": "2023-08-14T17:32:39.598Z"
   },
   {
    "duration": 9,
    "start_time": "2023-08-14T17:32:39.613Z"
   },
   {
    "duration": 14,
    "start_time": "2023-08-14T17:32:39.624Z"
   },
   {
    "duration": 20,
    "start_time": "2023-08-14T17:32:39.640Z"
   },
   {
    "duration": 11,
    "start_time": "2023-08-14T17:32:39.662Z"
   },
   {
    "duration": 34,
    "start_time": "2023-08-14T17:32:39.675Z"
   },
   {
    "duration": 19,
    "start_time": "2023-08-14T17:32:39.711Z"
   },
   {
    "duration": 8,
    "start_time": "2023-08-14T17:32:39.732Z"
   },
   {
    "duration": 13,
    "start_time": "2023-08-14T17:32:39.742Z"
   },
   {
    "duration": 4028,
    "start_time": "2023-08-14T17:32:39.759Z"
   },
   {
    "duration": 6,
    "start_time": "2023-08-14T17:32:43.789Z"
   },
   {
    "duration": 4,
    "start_time": "2023-08-14T17:33:11.356Z"
   },
   {
    "duration": 41,
    "start_time": "2023-08-14T17:33:12.863Z"
   },
   {
    "duration": 35,
    "start_time": "2023-08-14T17:33:13.589Z"
   },
   {
    "duration": 7,
    "start_time": "2023-08-14T17:33:30.493Z"
   },
   {
    "duration": 8,
    "start_time": "2023-08-14T17:33:56.080Z"
   },
   {
    "duration": 7,
    "start_time": "2023-08-14T17:34:08.732Z"
   },
   {
    "duration": 3,
    "start_time": "2023-08-14T17:34:23.463Z"
   },
   {
    "duration": 7,
    "start_time": "2023-08-14T17:34:25.092Z"
   },
   {
    "duration": 5,
    "start_time": "2023-08-14T17:34:25.882Z"
   },
   {
    "duration": 6,
    "start_time": "2023-08-14T17:34:28.789Z"
   },
   {
    "duration": 12,
    "start_time": "2023-08-14T17:36:00.592Z"
   },
   {
    "duration": 5,
    "start_time": "2023-08-14T17:36:01.382Z"
   },
   {
    "duration": 8,
    "start_time": "2023-08-14T17:36:04.280Z"
   },
   {
    "duration": 1330,
    "start_time": "2023-08-14T17:36:58.735Z"
   },
   {
    "duration": 6188,
    "start_time": "2023-08-14T17:37:00.067Z"
   },
   {
    "duration": 937,
    "start_time": "2023-08-14T17:37:06.257Z"
   },
   {
    "duration": 14,
    "start_time": "2023-08-14T17:37:07.196Z"
   },
   {
    "duration": 18,
    "start_time": "2023-08-14T17:37:07.211Z"
   },
   {
    "duration": 23,
    "start_time": "2023-08-14T17:37:07.230Z"
   },
   {
    "duration": 9,
    "start_time": "2023-08-14T17:37:07.256Z"
   },
   {
    "duration": 14,
    "start_time": "2023-08-14T17:37:07.267Z"
   },
   {
    "duration": 50,
    "start_time": "2023-08-14T17:37:07.282Z"
   },
   {
    "duration": 29,
    "start_time": "2023-08-14T17:37:07.335Z"
   },
   {
    "duration": 14,
    "start_time": "2023-08-14T17:37:07.367Z"
   },
   {
    "duration": 19,
    "start_time": "2023-08-14T17:37:07.383Z"
   },
   {
    "duration": 4147,
    "start_time": "2023-08-14T17:37:07.404Z"
   },
   {
    "duration": 10,
    "start_time": "2023-08-14T17:37:11.553Z"
   },
   {
    "duration": 3,
    "start_time": "2023-08-14T17:37:35.019Z"
   },
   {
    "duration": 38,
    "start_time": "2023-08-14T17:37:36.388Z"
   },
   {
    "duration": 34,
    "start_time": "2023-08-14T17:37:37.001Z"
   },
   {
    "duration": 16,
    "start_time": "2023-08-14T17:37:51.961Z"
   },
   {
    "duration": 7,
    "start_time": "2023-08-14T17:37:52.868Z"
   },
   {
    "duration": 55099,
    "start_time": "2023-08-14T17:37:56.452Z"
   },
   {
    "duration": 155091,
    "start_time": "2023-08-14T17:40:45.042Z"
   },
   {
    "duration": 485864,
    "start_time": "2023-08-14T18:09:22.768Z"
   }
  ],
  "colab": {
   "provenance": [],
   "toc_visible": true
  },
  "kernelspec": {
   "display_name": "Python 3 (ipykernel)",
   "language": "python",
   "name": "python3"
  },
  "language_info": {
   "codemirror_mode": {
    "name": "ipython",
    "version": 3
   },
   "file_extension": ".py",
   "mimetype": "text/x-python",
   "name": "python",
   "nbconvert_exporter": "python",
   "pygments_lexer": "ipython3",
   "version": "3.9.15"
  },
  "toc": {
   "base_numbering": 1,
   "nav_menu": {},
   "number_sections": true,
   "sideBar": true,
   "skip_h1_title": true,
   "title_cell": "Содержание",
   "title_sidebar": "Содержание",
   "toc_cell": true,
   "toc_position": {
    "height": "calc(100% - 180px)",
    "left": "10px",
    "top": "150px",
    "width": "263.594px"
   },
   "toc_section_display": true,
   "toc_window_display": true
  }
 },
 "nbformat": 4,
 "nbformat_minor": 5
}
