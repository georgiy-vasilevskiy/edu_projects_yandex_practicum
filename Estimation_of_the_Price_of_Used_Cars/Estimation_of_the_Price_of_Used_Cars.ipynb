{
 "cells": [
  {
   "cell_type": "markdown",
   "id": "d0682cd0",
   "metadata": {
    "id": "d0682cd0"
   },
   "source": [
    "# Определение стоимости автомобилей с пробегом"
   ]
  },
  {
   "cell_type": "markdown",
   "id": "95c93acc",
   "metadata": {
    "id": "95c93acc"
   },
   "source": [
    "Автомобилем с пробегом является автомобиль, который уже был в употреблении и имеет определённый пробег на одометре. Цены на автомобили с пробегом, как правило, ниже, чем на новые автомобили. Поэтому покупка автомобиля с пробегом может быть выгодной для тех, кто ищет более доступные варианты транспорта. С другой стороны, после продажи своего автомобиля владельцу удаётся выручить денежные средства, которые ранее были вложены в автомобиль, и теперь он может использовать их на новую покупку (в том числе, и нового автомобиля) или на другие цели.\n",
    "\n",
    "Для упрощения процесса покупки и продажи подержанных автомобилей создаются специальные интернет-площадки. Сервис по продаже автомобилей с пробегом &mdash; это онлайн-платформа, которая позволяет покупателям и продавцам автомобилей находить друг друга и проводить сделки. На таких сервисах можно найти объявления о продаже автомобилей с пробегом, ознакомиться с их характеристиками и ценами, а также связаться с продавцом. На сервисах представлен широкий выбор машин разных марок, моделей, годов выпуска и ценовых категорий.\n",
    "\n",
    "Некоторые сервисы предоставляют дополнительные услуги, такие как проверка технического состояния автомобиля, проверка истории автомобиля, предлагают гарантию на приобретённый автомобиль, а также способствуют проведению сделки между покупателем и продавцом, обеспечивают консультации и помощь в оформлении документов.\n",
    "Кроме этого, сервисы могут предоставлять услугу оценки стоимости продаваемого автомобиля. Эта услуга будет полезна как владельцам автомобилей, так и покупателям &mdash; потенциальным клиентам сервиса.\n",
    "\n",
    "Поэтому в целях привлечения новых клиентов сервис по продаже подержанных автомобилей может разработать приложение для определения стоимости продаваемого автомобиля. Приложение может помочь потенциальным продавцам и покупателям определить справедливую рыночную стоимость автомобиля. Для владельцев она будет ориентиром при назначении цены своего автомобиля, покупателям знание такой стоимости поможет уверенно проводить переговоры с продавцом перед покупкой автомобиля.\n",
    "\n",
    "Приложение позволит онлайн оценить ориентировочную стоимость автомобиля, исходя из его характеристик (типа кузова, двигателя, коробки передач и других), пробега, состояния, модели, марки, местоположения и других сведений. Приложение, которое будет учитывать эти факторы, сможет выполнить наиболее точную оценку стоимости автомобиля.\n",
    "\n",
    "В нашем распоряжении исторические данные о продаже подержанных автомобилей. Для каждого автомобиля доступны информация о технических характеристиках автомобилей (марка, модель, тип кузова, коробки передач, тип и мощность двигателя), административные сведения (год и месяц регистрации автомобиля), информация об эксплуатации автомобиля (пробег, состояние автомобиля &mdash; был ли он в ремонте или нет) и о его местонахождении (почтовый индекс владельца), цена автомобиля, а также другая информация, характеризующая активность пользователя и свойства объявления о продаже.\n",
    "\n",
    "Для того чтобы определить рыночную стоимость автомобиля, нужно построить модель, которая сможет проанализировать данные о характеристиках автомобиля и предложит наиболее точную оценку его стоимости. Поскольку предполагается использовать приложение в онлайн-режиме, помимо точности предсказанной оценки, важны также скорость обучения модели и скорость выполнения предсказания.\n",
    "\n",
    "**Цель проекта:** построить модель, которая наилучшим образом предсказывает стоимость автомобиля, быстрее всех обучается и выполняет предсказание.\n",
    "\n",
    "**Задачи проекта:**\n",
    "- выполнить предобработку данных (при необходимости);\n",
    "- разбить данные на тренировочную и тестовую выборки;\n",
    "- выбрать алгоритмы и построить модели;\n",
    "- выбрать метрики качества моделей и оценить их значения;\n",
    "- измерить время обучения моделей и время выполнения предсказания."
   ]
  },
  {
   "cell_type": "markdown",
   "id": "e21a5f3f",
   "metadata": {
    "id": "e21a5f3f"
   },
   "source": [
    "<h1>Содержание<span class=\"tocSkip\"></span></h1>\n",
    "<div class=\"toc\"><ul class=\"toc-item\"><li><span><a href=\"#Обзор-данных\" data-toc-modified-id=\"Обзор-данных-1\"><span class=\"toc-item-num\">1&nbsp;&nbsp;</span>Обзор данных</a></span><ul class=\"toc-item\"><li><span><a href=\"#Импорт-библиотек-и-предварительные-настройки\" data-toc-modified-id=\"Импорт-библиотек-и-предварительные-настройки-1.1\"><span class=\"toc-item-num\">1.1&nbsp;&nbsp;</span>Импорт библиотек и предварительные настройки</a></span></li><li><span><a href=\"#Чтение-файла-и-загрузка-данных\" data-toc-modified-id=\"Чтение-файла-и-загрузка-данных-1.2\"><span class=\"toc-item-num\">1.2&nbsp;&nbsp;</span>Чтение файла и загрузка данных</a></span></li><li><span><a href=\"#Общая-характеристика-набора-данных\" data-toc-modified-id=\"Общая-характеристика-набора-данных-1.3\"><span class=\"toc-item-num\">1.3&nbsp;&nbsp;</span>Общая характеристика набора данных</a></span></li><li><span><a href=\"#Преобразование-наименований-признаков\" data-toc-modified-id=\"Преобразование-наименований-признаков-1.4\"><span class=\"toc-item-num\">1.4&nbsp;&nbsp;</span>Преобразование наименований признаков</a></span></li></ul></li><li><span><a href=\"#Понимание-данных\" data-toc-modified-id=\"Понимание-данных-2\"><span class=\"toc-item-num\">2&nbsp;&nbsp;</span>Понимание данных</a></span></li><li><span><a href=\"#Описание-данных\" data-toc-modified-id=\"Описание-данных-3\"><span class=\"toc-item-num\">3&nbsp;&nbsp;</span>Описание данных</a></span><ul class=\"toc-item\"><li><span><a href=\"#Признаки,-измеряемые-в-шкале-отношений,-абсолютной-и-порядковой-шкале\" data-toc-modified-id=\"Признаки,-измеряемые-в-шкале-отношений,-абсолютной-и-порядковой-шкале-3.1\"><span class=\"toc-item-num\">3.1&nbsp;&nbsp;</span>Признаки, измеряемые в шкале отношений, абсолютной и порядковой шкале</a></span></li><li><span><a href=\"#Признаки,-измеряемые-в-номинальной-шкале\" data-toc-modified-id=\"Признаки,-измеряемые-в-номинальной-шкале-3.2\"><span class=\"toc-item-num\">3.2&nbsp;&nbsp;</span>Признаки, измеряемые в номинальной шкале</a></span></li><li><span><a href=\"#Признаки,-измеряемые-в-интервальной-и-дихотомической-шкале\" data-toc-modified-id=\"Признаки,-измеряемые-в-интервальной-и-дихотомической-шкале-3.3\"><span class=\"toc-item-num\">3.3&nbsp;&nbsp;</span>Признаки, измеряемые в интервальной и дихотомической шкале</a></span></li></ul></li><li><span><a href=\"#Предобработка-данных\" data-toc-modified-id=\"Предобработка-данных-4\"><span class=\"toc-item-num\">4&nbsp;&nbsp;</span>Предобработка данных</a></span><ul class=\"toc-item\"><li><span><a href=\"#Редактирование-значений\" data-toc-modified-id=\"Редактирование-значений-4.1\"><span class=\"toc-item-num\">4.1&nbsp;&nbsp;</span>Редактирование значений</a></span></li><li><span><a href=\"#Удаление-признаков\" data-toc-modified-id=\"Удаление-признаков-4.2\"><span class=\"toc-item-num\">4.2&nbsp;&nbsp;</span>Удаление признаков</a></span></li><li><span><a href=\"#Удаление-записей\" data-toc-modified-id=\"Удаление-записей-4.3\"><span class=\"toc-item-num\">4.3&nbsp;&nbsp;</span>Удаление записей</a></span></li><li><span><a href=\"#Обработка-пропусков\" data-toc-modified-id=\"Обработка-пропусков-4.4\"><span class=\"toc-item-num\">4.4&nbsp;&nbsp;</span>Обработка пропусков</a></span></li><li><span><a href=\"#Обработка-хронометрических-данных\" data-toc-modified-id=\"Обработка-хронометрических-данных-4.5\"><span class=\"toc-item-num\">4.5&nbsp;&nbsp;</span>Обработка хронометрических данных</a></span></li><li><span><a href=\"#Обработка-дубликатов\" data-toc-modified-id=\"Обработка-дубликатов-4.6\"><span class=\"toc-item-num\">4.6&nbsp;&nbsp;</span>Обработка дубликатов</a></span></li></ul></li><li><span><a href=\"#Построение-моделей\" data-toc-modified-id=\"Построение-моделей-5\"><span class=\"toc-item-num\">5&nbsp;&nbsp;</span>Построение моделей</a></span><ul class=\"toc-item\"><li><span><a href=\"#Подготовка-данных-для-обучения\" data-toc-modified-id=\"Подготовка-данных-для-обучения-5.1\"><span class=\"toc-item-num\">5.1&nbsp;&nbsp;</span>Подготовка данных для обучения</a></span><ul class=\"toc-item\"><li><span><a href=\"#Удаление-лишних-признаков\" data-toc-modified-id=\"Удаление-лишних-признаков-5.1.1\"><span class=\"toc-item-num\">5.1.1&nbsp;&nbsp;</span>Удаление лишних признаков</a></span></li><li><span><a href=\"#Кодирование-значений-признаков\" data-toc-modified-id=\"Кодирование-значений-признаков-5.1.2\"><span class=\"toc-item-num\">5.1.2&nbsp;&nbsp;</span>Кодирование значений признаков</a></span></li><li><span><a href=\"#Разделение-данных-на-выборки\" data-toc-modified-id=\"Разделение-данных-на-выборки-5.1.3\"><span class=\"toc-item-num\">5.1.3&nbsp;&nbsp;</span>Разделение данных на выборки</a></span></li></ul></li><li><span><a href=\"#Обучение-моделей\" data-toc-modified-id=\"Обучение-моделей-5.2\"><span class=\"toc-item-num\">5.2&nbsp;&nbsp;</span>Обучение моделей</a></span><ul class=\"toc-item\"><li><span><a href=\"#Валидация\" data-toc-modified-id=\"Валидация-5.2.1\"><span class=\"toc-item-num\">5.2.1&nbsp;&nbsp;</span>Валидация</a></span></li><li><span><a href=\"#Простая-модель\" data-toc-modified-id=\"Простая-модель-5.2.2\"><span class=\"toc-item-num\">5.2.2&nbsp;&nbsp;</span>Простая модель</a></span></li><li><span><a href=\"#Линейная-регрессия\" data-toc-modified-id=\"Линейная-регрессия-5.2.3\"><span class=\"toc-item-num\">5.2.3&nbsp;&nbsp;</span>Линейная регрессия</a></span></li><li><span><a href=\"#Стохастический-градиентный-спуск\" data-toc-modified-id=\"Стохастический-градиентный-спуск-5.2.4\"><span class=\"toc-item-num\">5.2.4&nbsp;&nbsp;</span>Стохастический градиентный спуск</a></span></li><li><span><a href=\"#Гребневая-регрессия\" data-toc-modified-id=\"Гребневая-регрессия-5.2.5\"><span class=\"toc-item-num\">5.2.5&nbsp;&nbsp;</span>Гребневая регрессия</a></span></li><li><span><a href=\"#Регрессия-LASSO\" data-toc-modified-id=\"Регрессия-LASSO-5.2.6\"><span class=\"toc-item-num\">5.2.6&nbsp;&nbsp;</span>Регрессия LASSO</a></span></li><li><span><a href=\"#Дерево-решений\" data-toc-modified-id=\"Дерево-решений-5.2.7\"><span class=\"toc-item-num\">5.2.7&nbsp;&nbsp;</span>Дерево решений</a></span></li><li><span><a href=\"#Случайный-лес\" data-toc-modified-id=\"Случайный-лес-5.2.8\"><span class=\"toc-item-num\">5.2.8&nbsp;&nbsp;</span>Случайный лес</a></span></li><li><span><a href=\"#Градиентный-бустинг\" data-toc-modified-id=\"Градиентный-бустинг-5.2.9\"><span class=\"toc-item-num\">5.2.9&nbsp;&nbsp;</span>Градиентный бустинг</a></span><ul class=\"toc-item\"><li><span><a href=\"#Базовая-модель-градиентного-бустинга\" data-toc-modified-id=\"Базовая-модель-градиентного-бустинга-5.2.9.1\"><span class=\"toc-item-num\">5.2.9.1&nbsp;&nbsp;</span>Базовая модель градиентного бустинга</a></span></li><li><span><a href=\"#LightGBM\" data-toc-modified-id=\"LightGBM-5.2.9.2\"><span class=\"toc-item-num\">5.2.9.2&nbsp;&nbsp;</span>LightGBM</a></span></li><li><span><a href=\"#XGBoost\" data-toc-modified-id=\"XGBoost-5.2.9.3\"><span class=\"toc-item-num\">5.2.9.3&nbsp;&nbsp;</span>XGBoost</a></span></li><li><span><a href=\"#CatBoost\" data-toc-modified-id=\"CatBoost-5.2.9.4\"><span class=\"toc-item-num\">5.2.9.4&nbsp;&nbsp;</span>CatBoost</a></span></li></ul></li></ul></li><li><span><a href=\"#Оценка-моделей\" data-toc-modified-id=\"Оценка-моделей-5.3\"><span class=\"toc-item-num\">5.3&nbsp;&nbsp;</span>Оценка моделей</a></span><ul class=\"toc-item\"><li><span><a href=\"#Оценка-скорости-обучения-и-скорости-предсказания\" data-toc-modified-id=\"Оценка-скорости-обучения-и-скорости-предсказания-5.3.1\"><span class=\"toc-item-num\">5.3.1&nbsp;&nbsp;</span>Оценка скорости обучения и скорости предсказания</a></span><ul class=\"toc-item\"><li><span><a href=\"#Дерево-решений\" data-toc-modified-id=\"Дерево-решений-5.3.1.1\"><span class=\"toc-item-num\">5.3.1.1&nbsp;&nbsp;</span>Дерево решений</a></span></li><li><span><a href=\"#Случайный-лес\" data-toc-modified-id=\"Случайный-лес-5.3.1.2\"><span class=\"toc-item-num\">5.3.1.2&nbsp;&nbsp;</span>Случайный лес</a></span></li><li><span><a href=\"#Базовая-модель-градиентного-бустинга\" data-toc-modified-id=\"Базовая-модель-градиентного-бустинга-5.3.1.3\"><span class=\"toc-item-num\">5.3.1.3&nbsp;&nbsp;</span>Базовая модель градиентного бустинга</a></span></li><li><span><a href=\"#LightGBM\" data-toc-modified-id=\"LightGBM-5.3.1.4\"><span class=\"toc-item-num\">5.3.1.4&nbsp;&nbsp;</span>LightGBM</a></span></li><li><span><a href=\"#XGBoost\" data-toc-modified-id=\"XGBoost-5.3.1.5\"><span class=\"toc-item-num\">5.3.1.5&nbsp;&nbsp;</span>XGBoost</a></span></li><li><span><a href=\"#CatBoost\" data-toc-modified-id=\"CatBoost-5.3.1.6\"><span class=\"toc-item-num\">5.3.1.6&nbsp;&nbsp;</span>CatBoost</a></span></li></ul></li><li><span><a href=\"#Тестирование-лучшей-модели\" data-toc-modified-id=\"Тестирование-лучшей-модели-5.3.2\"><span class=\"toc-item-num\">5.3.2&nbsp;&nbsp;</span>Тестирование лучшей модели</a></span></li></ul></li></ul></li><li><span><a href=\"#Общий-вывод\" data-toc-modified-id=\"Общий-вывод-6\"><span class=\"toc-item-num\">6&nbsp;&nbsp;</span>Общий вывод</a></span></li></ul></div>"
   ]
  },
  {
   "cell_type": "markdown",
   "id": "dab170fa",
   "metadata": {
    "id": "dab170fa"
   },
   "source": [
    "*Внимание:* для корректной работы кода в ячейках рекомендуется предварительно установить следующие библиотеки:"
   ]
  },
  {
   "cell_type": "code",
   "execution_count": 1,
   "id": "27a1bfb5",
   "metadata": {
    "colab": {
     "base_uri": "https://localhost:8080/"
    },
    "id": "27a1bfb5",
    "outputId": "9acbf337-5379-438a-fdf5-eb9b0992b16f"
   },
   "outputs": [
    {
     "name": "stdout",
     "output_type": "stream",
     "text": [
      "\u001b[?25l     \u001b[90m━━━━━━━━━━━━━━━━━━━━━━━━━━━━━━━━━━━━━━━━\u001b[0m \u001b[32m0.0/10.8 MB\u001b[0m \u001b[31m?\u001b[0m eta \u001b[36m-:--:--\u001b[0m\r",
      "\u001b[2K     \u001b[91m╸\u001b[0m\u001b[90m━━━━━━━━━━━━━━━━━━━━━━━━━━━━━━━━━━━━━━━\u001b[0m \u001b[32m0.2/10.8 MB\u001b[0m \u001b[31m4.4 MB/s\u001b[0m eta \u001b[36m0:00:03\u001b[0m\r",
      "\u001b[2K     \u001b[91m━━━━━━━\u001b[0m\u001b[90m╺\u001b[0m\u001b[90m━━━━━━━━━━━━━━━━━━━━━━━━━━━━━━━━\u001b[0m \u001b[32m2.0/10.8 MB\u001b[0m \u001b[31m28.8 MB/s\u001b[0m eta \u001b[36m0:00:01\u001b[0m\r",
      "\u001b[2K     \u001b[91m━━━━━━━━━━━━━━━━━━━━━━━━━━━\u001b[0m\u001b[90m╺\u001b[0m\u001b[90m━━━━━━━━━━━━\u001b[0m \u001b[32m7.3/10.8 MB\u001b[0m \u001b[31m70.3 MB/s\u001b[0m eta \u001b[36m0:00:01\u001b[0m\r",
      "\u001b[2K     \u001b[91m━━━━━━━━━━━━━━━━━━━━━━━━━━━━━━━━━━━━━━━\u001b[0m\u001b[91m╸\u001b[0m \u001b[32m10.8/10.8 MB\u001b[0m \u001b[31m137.9 MB/s\u001b[0m eta \u001b[36m0:00:01\u001b[0m\r",
      "\u001b[2K     \u001b[91m━━━━━━━━━━━━━━━━━━━━━━━━━━━━━━━━━━━━━━━\u001b[0m\u001b[91m╸\u001b[0m \u001b[32m10.8/10.8 MB\u001b[0m \u001b[31m137.9 MB/s\u001b[0m eta \u001b[36m0:00:01\u001b[0m\r",
      "\u001b[2K     \u001b[90m━━━━━━━━━━━━━━━━━━━━━━━━━━━━━━━━━━━━━━━━\u001b[0m \u001b[32m10.8/10.8 MB\u001b[0m \u001b[31m75.1 MB/s\u001b[0m eta \u001b[36m0:00:00\u001b[0m\n",
      "\u001b[?25h"
     ]
    }
   ],
   "source": [
    "!pip install scikit-learn --upgrade -q"
   ]
  },
  {
   "cell_type": "code",
   "execution_count": 2,
   "id": "mAHG2pAB3mPR",
   "metadata": {
    "id": "mAHG2pAB3mPR"
   },
   "outputs": [],
   "source": [
    "!pip install lightgbm -q"
   ]
  },
  {
   "cell_type": "code",
   "execution_count": 3,
   "id": "de3qVtcz3n-9",
   "metadata": {
    "colab": {
     "base_uri": "https://localhost:8080/"
    },
    "id": "de3qVtcz3n-9",
    "outputId": "ad750d08-b9d8-4a5c-d098-01867e496fcd"
   },
   "outputs": [
    {
     "name": "stdout",
     "output_type": "stream",
     "text": [
      "\u001b[2K     \u001b[90m━━━━━━━━━━━━━━━━━━━━━━━━━━━━━━━━━━━━━━━━\u001b[0m \u001b[32m98.7/98.7 MB\u001b[0m \u001b[31m8.8 MB/s\u001b[0m eta \u001b[36m0:00:00\u001b[0m\n",
      "\u001b[?25h"
     ]
    }
   ],
   "source": [
    "!pip install catboost -q"
   ]
  },
  {
   "cell_type": "code",
   "execution_count": 4,
   "id": "1Hie58Pf39OA",
   "metadata": {
    "id": "1Hie58Pf39OA"
   },
   "outputs": [],
   "source": [
    "!pip install xgboost -q"
   ]
  },
  {
   "cell_type": "markdown",
   "id": "2f935d5a",
   "metadata": {
    "id": "2f935d5a"
   },
   "source": [
    "## Обзор данных"
   ]
  },
  {
   "cell_type": "markdown",
   "id": "24cd97c2",
   "metadata": {
    "id": "24cd97c2"
   },
   "source": [
    "### Импорт библиотек и предварительные настройки"
   ]
  },
  {
   "cell_type": "code",
   "execution_count": 5,
   "id": "8b5b3c4a",
   "metadata": {
    "id": "8b5b3c4a"
   },
   "outputs": [],
   "source": [
    "import pandas as pd\n",
    "import matplotlib.pyplot as plt\n",
    "import numpy as np\n",
    "import seaborn as sns\n",
    "import sys\n",
    "import re\n",
    "import os\n",
    "import time\n",
    "import warnings\n",
    "\n",
    "from sklearn.model_selection import (train_test_split,\n",
    "                                     GridSearchCV,\n",
    "                                     RandomizedSearchCV,\n",
    "                                     cross_val_score)\n",
    "from sklearn.pipeline import Pipeline\n",
    "from sklearn.compose import ColumnTransformer\n",
    "from sklearn.preprocessing import StandardScaler, OneHotEncoder\n",
    "from sklearn.tree import DecisionTreeRegressor\n",
    "from sklearn.ensemble import RandomForestRegressor, GradientBoostingRegressor\n",
    "from sklearn.linear_model import LinearRegression, SGDRegressor, Ridge, Lasso\n",
    "from sklearn.dummy import DummyRegressor\n",
    "from catboost import CatBoostRegressor\n",
    "from lightgbm import LGBMRegressor\n",
    "from xgboost import XGBRegressor\n",
    "from sklearn.metrics import mean_squared_error, get_scorer_names\n",
    "\n",
    "pd.set_option('display.max_columns', None)\n",
    "np.set_printoptions(threshold=sys.maxsize)\n",
    "warnings.filterwarnings('ignore')\n",
    "\n",
    "RANDOM_STATE = 1"
   ]
  },
  {
   "cell_type": "markdown",
   "id": "ef1a62dd",
   "metadata": {
    "id": "ef1a62dd"
   },
   "source": [
    "### Чтение файла и загрузка данных"
   ]
  },
  {
   "cell_type": "markdown",
   "id": "667e98e8",
   "metadata": {
    "id": "667e98e8"
   },
   "source": [
    "Все данные хранятся в одном файле.\n",
    "<br> Файл данных `autos.csv` имеет формат `CSV`."
   ]
  },
  {
   "cell_type": "code",
   "execution_count": 6,
   "id": "fbGslaoeIau4",
   "metadata": {
    "id": "fbGslaoeIau4"
   },
   "outputs": [],
   "source": [
    "pth1 = r'C:\\Users\\Георгий\\Documents\\DS_projects\\autos.csv'\n",
    "pth2 = '/datasets/autos.csv'\n",
    "pth3 = '/content/autos.csv'\n",
    "\n",
    "if os.path.exists(pth1):\n",
    "    data = pd.read_csv(pth1)\n",
    "elif os.path.exists(pth2):\n",
    "    data = pd.read_csv(pth2)\n",
    "elif os.path.exists(pth3):\n",
    "    data = pd.read_csv(pth3)\n",
    "else:\n",
    "    print('Something is wrong')"
   ]
  },
  {
   "cell_type": "markdown",
   "id": "4907f25c",
   "metadata": {
    "id": "4907f25c"
   },
   "source": [
    "Убедимся, что данные подгрузились верно, без ошибок.\n",
    "\n",
    "Для этого выведем первые 5 строк и последние 5 строк набора данных."
   ]
  },
  {
   "cell_type": "code",
   "execution_count": 7,
   "id": "0274ba9e",
   "metadata": {
    "colab": {
     "base_uri": "https://localhost:8080/",
     "height": 400
    },
    "id": "0274ba9e",
    "outputId": "af40e4f3-0800-4530-aa91-b63ec2e2d633"
   },
   "outputs": [
    {
     "data": {
      "text/html": [
       "\n",
       "  <div id=\"df-27128100-b487-49a8-a937-607c67aa2228\" class=\"colab-df-container\">\n",
       "    <div>\n",
       "<style scoped>\n",
       "    .dataframe tbody tr th:only-of-type {\n",
       "        vertical-align: middle;\n",
       "    }\n",
       "\n",
       "    .dataframe tbody tr th {\n",
       "        vertical-align: top;\n",
       "    }\n",
       "\n",
       "    .dataframe thead th {\n",
       "        text-align: right;\n",
       "    }\n",
       "</style>\n",
       "<table border=\"1\" class=\"dataframe\">\n",
       "  <thead>\n",
       "    <tr style=\"text-align: right;\">\n",
       "      <th></th>\n",
       "      <th>DateCrawled</th>\n",
       "      <th>Price</th>\n",
       "      <th>VehicleType</th>\n",
       "      <th>RegistrationYear</th>\n",
       "      <th>Gearbox</th>\n",
       "      <th>Power</th>\n",
       "      <th>Model</th>\n",
       "      <th>Kilometer</th>\n",
       "      <th>RegistrationMonth</th>\n",
       "      <th>FuelType</th>\n",
       "      <th>Brand</th>\n",
       "      <th>Repaired</th>\n",
       "      <th>DateCreated</th>\n",
       "      <th>NumberOfPictures</th>\n",
       "      <th>PostalCode</th>\n",
       "      <th>LastSeen</th>\n",
       "    </tr>\n",
       "  </thead>\n",
       "  <tbody>\n",
       "    <tr>\n",
       "      <th>0</th>\n",
       "      <td>2016-03-24 11:52:17</td>\n",
       "      <td>480</td>\n",
       "      <td>NaN</td>\n",
       "      <td>1993</td>\n",
       "      <td>manual</td>\n",
       "      <td>0</td>\n",
       "      <td>golf</td>\n",
       "      <td>150000</td>\n",
       "      <td>0</td>\n",
       "      <td>petrol</td>\n",
       "      <td>volkswagen</td>\n",
       "      <td>NaN</td>\n",
       "      <td>2016-03-24 00:00:00</td>\n",
       "      <td>0</td>\n",
       "      <td>70435</td>\n",
       "      <td>2016-04-07 03:16:57</td>\n",
       "    </tr>\n",
       "    <tr>\n",
       "      <th>1</th>\n",
       "      <td>2016-03-24 10:58:45</td>\n",
       "      <td>18300</td>\n",
       "      <td>coupe</td>\n",
       "      <td>2011</td>\n",
       "      <td>manual</td>\n",
       "      <td>190</td>\n",
       "      <td>NaN</td>\n",
       "      <td>125000</td>\n",
       "      <td>5</td>\n",
       "      <td>gasoline</td>\n",
       "      <td>audi</td>\n",
       "      <td>yes</td>\n",
       "      <td>2016-03-24 00:00:00</td>\n",
       "      <td>0</td>\n",
       "      <td>66954</td>\n",
       "      <td>2016-04-07 01:46:50</td>\n",
       "    </tr>\n",
       "    <tr>\n",
       "      <th>2</th>\n",
       "      <td>2016-03-14 12:52:21</td>\n",
       "      <td>9800</td>\n",
       "      <td>suv</td>\n",
       "      <td>2004</td>\n",
       "      <td>auto</td>\n",
       "      <td>163</td>\n",
       "      <td>grand</td>\n",
       "      <td>125000</td>\n",
       "      <td>8</td>\n",
       "      <td>gasoline</td>\n",
       "      <td>jeep</td>\n",
       "      <td>NaN</td>\n",
       "      <td>2016-03-14 00:00:00</td>\n",
       "      <td>0</td>\n",
       "      <td>90480</td>\n",
       "      <td>2016-04-05 12:47:46</td>\n",
       "    </tr>\n",
       "    <tr>\n",
       "      <th>3</th>\n",
       "      <td>2016-03-17 16:54:04</td>\n",
       "      <td>1500</td>\n",
       "      <td>small</td>\n",
       "      <td>2001</td>\n",
       "      <td>manual</td>\n",
       "      <td>75</td>\n",
       "      <td>golf</td>\n",
       "      <td>150000</td>\n",
       "      <td>6</td>\n",
       "      <td>petrol</td>\n",
       "      <td>volkswagen</td>\n",
       "      <td>no</td>\n",
       "      <td>2016-03-17 00:00:00</td>\n",
       "      <td>0</td>\n",
       "      <td>91074</td>\n",
       "      <td>2016-03-17 17:40:17</td>\n",
       "    </tr>\n",
       "    <tr>\n",
       "      <th>4</th>\n",
       "      <td>2016-03-31 17:25:20</td>\n",
       "      <td>3600</td>\n",
       "      <td>small</td>\n",
       "      <td>2008</td>\n",
       "      <td>manual</td>\n",
       "      <td>69</td>\n",
       "      <td>fabia</td>\n",
       "      <td>90000</td>\n",
       "      <td>7</td>\n",
       "      <td>gasoline</td>\n",
       "      <td>skoda</td>\n",
       "      <td>no</td>\n",
       "      <td>2016-03-31 00:00:00</td>\n",
       "      <td>0</td>\n",
       "      <td>60437</td>\n",
       "      <td>2016-04-06 10:17:21</td>\n",
       "    </tr>\n",
       "  </tbody>\n",
       "</table>\n",
       "</div>\n",
       "    <div class=\"colab-df-buttons\">\n",
       "\n",
       "  <div class=\"colab-df-container\">\n",
       "    <button class=\"colab-df-convert\" onclick=\"convertToInteractive('df-27128100-b487-49a8-a937-607c67aa2228')\"\n",
       "            title=\"Convert this dataframe to an interactive table.\"\n",
       "            style=\"display:none;\">\n",
       "\n",
       "  <svg xmlns=\"http://www.w3.org/2000/svg\" height=\"24px\" viewBox=\"0 -960 960 960\">\n",
       "    <path d=\"M120-120v-720h720v720H120Zm60-500h600v-160H180v160Zm220 220h160v-160H400v160Zm0 220h160v-160H400v160ZM180-400h160v-160H180v160Zm440 0h160v-160H620v160ZM180-180h160v-160H180v160Zm440 0h160v-160H620v160Z\"/>\n",
       "  </svg>\n",
       "    </button>\n",
       "\n",
       "  <style>\n",
       "    .colab-df-container {\n",
       "      display:flex;\n",
       "      gap: 12px;\n",
       "    }\n",
       "\n",
       "    .colab-df-convert {\n",
       "      background-color: #E8F0FE;\n",
       "      border: none;\n",
       "      border-radius: 50%;\n",
       "      cursor: pointer;\n",
       "      display: none;\n",
       "      fill: #1967D2;\n",
       "      height: 32px;\n",
       "      padding: 0 0 0 0;\n",
       "      width: 32px;\n",
       "    }\n",
       "\n",
       "    .colab-df-convert:hover {\n",
       "      background-color: #E2EBFA;\n",
       "      box-shadow: 0px 1px 2px rgba(60, 64, 67, 0.3), 0px 1px 3px 1px rgba(60, 64, 67, 0.15);\n",
       "      fill: #174EA6;\n",
       "    }\n",
       "\n",
       "    .colab-df-buttons div {\n",
       "      margin-bottom: 4px;\n",
       "    }\n",
       "\n",
       "    [theme=dark] .colab-df-convert {\n",
       "      background-color: #3B4455;\n",
       "      fill: #D2E3FC;\n",
       "    }\n",
       "\n",
       "    [theme=dark] .colab-df-convert:hover {\n",
       "      background-color: #434B5C;\n",
       "      box-shadow: 0px 1px 3px 1px rgba(0, 0, 0, 0.15);\n",
       "      filter: drop-shadow(0px 1px 2px rgba(0, 0, 0, 0.3));\n",
       "      fill: #FFFFFF;\n",
       "    }\n",
       "  </style>\n",
       "\n",
       "    <script>\n",
       "      const buttonEl =\n",
       "        document.querySelector('#df-27128100-b487-49a8-a937-607c67aa2228 button.colab-df-convert');\n",
       "      buttonEl.style.display =\n",
       "        google.colab.kernel.accessAllowed ? 'block' : 'none';\n",
       "\n",
       "      async function convertToInteractive(key) {\n",
       "        const element = document.querySelector('#df-27128100-b487-49a8-a937-607c67aa2228');\n",
       "        const dataTable =\n",
       "          await google.colab.kernel.invokeFunction('convertToInteractive',\n",
       "                                                    [key], {});\n",
       "        if (!dataTable) return;\n",
       "\n",
       "        const docLinkHtml = 'Like what you see? Visit the ' +\n",
       "          '<a target=\"_blank\" href=https://colab.research.google.com/notebooks/data_table.ipynb>data table notebook</a>'\n",
       "          + ' to learn more about interactive tables.';\n",
       "        element.innerHTML = '';\n",
       "        dataTable['output_type'] = 'display_data';\n",
       "        await google.colab.output.renderOutput(dataTable, element);\n",
       "        const docLink = document.createElement('div');\n",
       "        docLink.innerHTML = docLinkHtml;\n",
       "        element.appendChild(docLink);\n",
       "      }\n",
       "    </script>\n",
       "  </div>\n",
       "\n",
       "\n",
       "<div id=\"df-8f758209-175d-4c5b-b55f-85d9018a7275\">\n",
       "  <button class=\"colab-df-quickchart\" onclick=\"quickchart('df-8f758209-175d-4c5b-b55f-85d9018a7275')\"\n",
       "            title=\"Suggest charts.\"\n",
       "            style=\"display:none;\">\n",
       "\n",
       "<svg xmlns=\"http://www.w3.org/2000/svg\" height=\"24px\"viewBox=\"0 0 24 24\"\n",
       "     width=\"24px\">\n",
       "    <g>\n",
       "        <path d=\"M19 3H5c-1.1 0-2 .9-2 2v14c0 1.1.9 2 2 2h14c1.1 0 2-.9 2-2V5c0-1.1-.9-2-2-2zM9 17H7v-7h2v7zm4 0h-2V7h2v10zm4 0h-2v-4h2v4z\"/>\n",
       "    </g>\n",
       "</svg>\n",
       "  </button>\n",
       "\n",
       "<style>\n",
       "  .colab-df-quickchart {\n",
       "      --bg-color: #E8F0FE;\n",
       "      --fill-color: #1967D2;\n",
       "      --hover-bg-color: #E2EBFA;\n",
       "      --hover-fill-color: #174EA6;\n",
       "      --disabled-fill-color: #AAA;\n",
       "      --disabled-bg-color: #DDD;\n",
       "  }\n",
       "\n",
       "  [theme=dark] .colab-df-quickchart {\n",
       "      --bg-color: #3B4455;\n",
       "      --fill-color: #D2E3FC;\n",
       "      --hover-bg-color: #434B5C;\n",
       "      --hover-fill-color: #FFFFFF;\n",
       "      --disabled-bg-color: #3B4455;\n",
       "      --disabled-fill-color: #666;\n",
       "  }\n",
       "\n",
       "  .colab-df-quickchart {\n",
       "    background-color: var(--bg-color);\n",
       "    border: none;\n",
       "    border-radius: 50%;\n",
       "    cursor: pointer;\n",
       "    display: none;\n",
       "    fill: var(--fill-color);\n",
       "    height: 32px;\n",
       "    padding: 0;\n",
       "    width: 32px;\n",
       "  }\n",
       "\n",
       "  .colab-df-quickchart:hover {\n",
       "    background-color: var(--hover-bg-color);\n",
       "    box-shadow: 0 1px 2px rgba(60, 64, 67, 0.3), 0 1px 3px 1px rgba(60, 64, 67, 0.15);\n",
       "    fill: var(--button-hover-fill-color);\n",
       "  }\n",
       "\n",
       "  .colab-df-quickchart-complete:disabled,\n",
       "  .colab-df-quickchart-complete:disabled:hover {\n",
       "    background-color: var(--disabled-bg-color);\n",
       "    fill: var(--disabled-fill-color);\n",
       "    box-shadow: none;\n",
       "  }\n",
       "\n",
       "  .colab-df-spinner {\n",
       "    border: 2px solid var(--fill-color);\n",
       "    border-color: transparent;\n",
       "    border-bottom-color: var(--fill-color);\n",
       "    animation:\n",
       "      spin 1s steps(1) infinite;\n",
       "  }\n",
       "\n",
       "  @keyframes spin {\n",
       "    0% {\n",
       "      border-color: transparent;\n",
       "      border-bottom-color: var(--fill-color);\n",
       "      border-left-color: var(--fill-color);\n",
       "    }\n",
       "    20% {\n",
       "      border-color: transparent;\n",
       "      border-left-color: var(--fill-color);\n",
       "      border-top-color: var(--fill-color);\n",
       "    }\n",
       "    30% {\n",
       "      border-color: transparent;\n",
       "      border-left-color: var(--fill-color);\n",
       "      border-top-color: var(--fill-color);\n",
       "      border-right-color: var(--fill-color);\n",
       "    }\n",
       "    40% {\n",
       "      border-color: transparent;\n",
       "      border-right-color: var(--fill-color);\n",
       "      border-top-color: var(--fill-color);\n",
       "    }\n",
       "    60% {\n",
       "      border-color: transparent;\n",
       "      border-right-color: var(--fill-color);\n",
       "    }\n",
       "    80% {\n",
       "      border-color: transparent;\n",
       "      border-right-color: var(--fill-color);\n",
       "      border-bottom-color: var(--fill-color);\n",
       "    }\n",
       "    90% {\n",
       "      border-color: transparent;\n",
       "      border-bottom-color: var(--fill-color);\n",
       "    }\n",
       "  }\n",
       "</style>\n",
       "\n",
       "  <script>\n",
       "    async function quickchart(key) {\n",
       "      const quickchartButtonEl =\n",
       "        document.querySelector('#' + key + ' button');\n",
       "      quickchartButtonEl.disabled = true;  // To prevent multiple clicks.\n",
       "      quickchartButtonEl.classList.add('colab-df-spinner');\n",
       "      try {\n",
       "        const charts = await google.colab.kernel.invokeFunction(\n",
       "            'suggestCharts', [key], {});\n",
       "      } catch (error) {\n",
       "        console.error('Error during call to suggestCharts:', error);\n",
       "      }\n",
       "      quickchartButtonEl.classList.remove('colab-df-spinner');\n",
       "      quickchartButtonEl.classList.add('colab-df-quickchart-complete');\n",
       "    }\n",
       "    (() => {\n",
       "      let quickchartButtonEl =\n",
       "        document.querySelector('#df-8f758209-175d-4c5b-b55f-85d9018a7275 button');\n",
       "      quickchartButtonEl.style.display =\n",
       "        google.colab.kernel.accessAllowed ? 'block' : 'none';\n",
       "    })();\n",
       "  </script>\n",
       "</div>\n",
       "    </div>\n",
       "  </div>\n"
      ],
      "text/plain": [
       "           DateCrawled  Price VehicleType  RegistrationYear Gearbox  Power  \\\n",
       "0  2016-03-24 11:52:17    480         NaN              1993  manual      0   \n",
       "1  2016-03-24 10:58:45  18300       coupe              2011  manual    190   \n",
       "2  2016-03-14 12:52:21   9800         suv              2004    auto    163   \n",
       "3  2016-03-17 16:54:04   1500       small              2001  manual     75   \n",
       "4  2016-03-31 17:25:20   3600       small              2008  manual     69   \n",
       "\n",
       "   Model  Kilometer  RegistrationMonth  FuelType       Brand Repaired  \\\n",
       "0   golf     150000                  0    petrol  volkswagen      NaN   \n",
       "1    NaN     125000                  5  gasoline        audi      yes   \n",
       "2  grand     125000                  8  gasoline        jeep      NaN   \n",
       "3   golf     150000                  6    petrol  volkswagen       no   \n",
       "4  fabia      90000                  7  gasoline       skoda       no   \n",
       "\n",
       "           DateCreated  NumberOfPictures  PostalCode             LastSeen  \n",
       "0  2016-03-24 00:00:00                 0       70435  2016-04-07 03:16:57  \n",
       "1  2016-03-24 00:00:00                 0       66954  2016-04-07 01:46:50  \n",
       "2  2016-03-14 00:00:00                 0       90480  2016-04-05 12:47:46  \n",
       "3  2016-03-17 00:00:00                 0       91074  2016-03-17 17:40:17  \n",
       "4  2016-03-31 00:00:00                 0       60437  2016-04-06 10:17:21  "
      ]
     },
     "execution_count": 7,
     "metadata": {},
     "output_type": "execute_result"
    }
   ],
   "source": [
    "data.head()"
   ]
  },
  {
   "cell_type": "code",
   "execution_count": 8,
   "id": "666a93e5",
   "metadata": {
    "colab": {
     "base_uri": "https://localhost:8080/",
     "height": 400
    },
    "id": "666a93e5",
    "outputId": "4be00078-25d0-402c-ad92-e3a67208a49f"
   },
   "outputs": [
    {
     "data": {
      "text/html": [
       "\n",
       "  <div id=\"df-44904b11-0261-4b8b-97f0-b9131fee88c1\" class=\"colab-df-container\">\n",
       "    <div>\n",
       "<style scoped>\n",
       "    .dataframe tbody tr th:only-of-type {\n",
       "        vertical-align: middle;\n",
       "    }\n",
       "\n",
       "    .dataframe tbody tr th {\n",
       "        vertical-align: top;\n",
       "    }\n",
       "\n",
       "    .dataframe thead th {\n",
       "        text-align: right;\n",
       "    }\n",
       "</style>\n",
       "<table border=\"1\" class=\"dataframe\">\n",
       "  <thead>\n",
       "    <tr style=\"text-align: right;\">\n",
       "      <th></th>\n",
       "      <th>DateCrawled</th>\n",
       "      <th>Price</th>\n",
       "      <th>VehicleType</th>\n",
       "      <th>RegistrationYear</th>\n",
       "      <th>Gearbox</th>\n",
       "      <th>Power</th>\n",
       "      <th>Model</th>\n",
       "      <th>Kilometer</th>\n",
       "      <th>RegistrationMonth</th>\n",
       "      <th>FuelType</th>\n",
       "      <th>Brand</th>\n",
       "      <th>Repaired</th>\n",
       "      <th>DateCreated</th>\n",
       "      <th>NumberOfPictures</th>\n",
       "      <th>PostalCode</th>\n",
       "      <th>LastSeen</th>\n",
       "    </tr>\n",
       "  </thead>\n",
       "  <tbody>\n",
       "    <tr>\n",
       "      <th>354364</th>\n",
       "      <td>2016-03-21 09:50:58</td>\n",
       "      <td>0</td>\n",
       "      <td>NaN</td>\n",
       "      <td>2005</td>\n",
       "      <td>manual</td>\n",
       "      <td>0</td>\n",
       "      <td>colt</td>\n",
       "      <td>150000</td>\n",
       "      <td>7</td>\n",
       "      <td>petrol</td>\n",
       "      <td>mitsubishi</td>\n",
       "      <td>yes</td>\n",
       "      <td>2016-03-21 00:00:00</td>\n",
       "      <td>0</td>\n",
       "      <td>2694</td>\n",
       "      <td>2016-03-21 10:42:49</td>\n",
       "    </tr>\n",
       "    <tr>\n",
       "      <th>354365</th>\n",
       "      <td>2016-03-14 17:48:27</td>\n",
       "      <td>2200</td>\n",
       "      <td>NaN</td>\n",
       "      <td>2005</td>\n",
       "      <td>NaN</td>\n",
       "      <td>0</td>\n",
       "      <td>NaN</td>\n",
       "      <td>20000</td>\n",
       "      <td>1</td>\n",
       "      <td>NaN</td>\n",
       "      <td>sonstige_autos</td>\n",
       "      <td>NaN</td>\n",
       "      <td>2016-03-14 00:00:00</td>\n",
       "      <td>0</td>\n",
       "      <td>39576</td>\n",
       "      <td>2016-04-06 00:46:52</td>\n",
       "    </tr>\n",
       "    <tr>\n",
       "      <th>354366</th>\n",
       "      <td>2016-03-05 19:56:21</td>\n",
       "      <td>1199</td>\n",
       "      <td>convertible</td>\n",
       "      <td>2000</td>\n",
       "      <td>auto</td>\n",
       "      <td>101</td>\n",
       "      <td>fortwo</td>\n",
       "      <td>125000</td>\n",
       "      <td>3</td>\n",
       "      <td>petrol</td>\n",
       "      <td>smart</td>\n",
       "      <td>no</td>\n",
       "      <td>2016-03-05 00:00:00</td>\n",
       "      <td>0</td>\n",
       "      <td>26135</td>\n",
       "      <td>2016-03-11 18:17:12</td>\n",
       "    </tr>\n",
       "    <tr>\n",
       "      <th>354367</th>\n",
       "      <td>2016-03-19 18:57:12</td>\n",
       "      <td>9200</td>\n",
       "      <td>bus</td>\n",
       "      <td>1996</td>\n",
       "      <td>manual</td>\n",
       "      <td>102</td>\n",
       "      <td>transporter</td>\n",
       "      <td>150000</td>\n",
       "      <td>3</td>\n",
       "      <td>gasoline</td>\n",
       "      <td>volkswagen</td>\n",
       "      <td>no</td>\n",
       "      <td>2016-03-19 00:00:00</td>\n",
       "      <td>0</td>\n",
       "      <td>87439</td>\n",
       "      <td>2016-04-07 07:15:26</td>\n",
       "    </tr>\n",
       "    <tr>\n",
       "      <th>354368</th>\n",
       "      <td>2016-03-20 19:41:08</td>\n",
       "      <td>3400</td>\n",
       "      <td>wagon</td>\n",
       "      <td>2002</td>\n",
       "      <td>manual</td>\n",
       "      <td>100</td>\n",
       "      <td>golf</td>\n",
       "      <td>150000</td>\n",
       "      <td>6</td>\n",
       "      <td>gasoline</td>\n",
       "      <td>volkswagen</td>\n",
       "      <td>NaN</td>\n",
       "      <td>2016-03-20 00:00:00</td>\n",
       "      <td>0</td>\n",
       "      <td>40764</td>\n",
       "      <td>2016-03-24 12:45:21</td>\n",
       "    </tr>\n",
       "  </tbody>\n",
       "</table>\n",
       "</div>\n",
       "    <div class=\"colab-df-buttons\">\n",
       "\n",
       "  <div class=\"colab-df-container\">\n",
       "    <button class=\"colab-df-convert\" onclick=\"convertToInteractive('df-44904b11-0261-4b8b-97f0-b9131fee88c1')\"\n",
       "            title=\"Convert this dataframe to an interactive table.\"\n",
       "            style=\"display:none;\">\n",
       "\n",
       "  <svg xmlns=\"http://www.w3.org/2000/svg\" height=\"24px\" viewBox=\"0 -960 960 960\">\n",
       "    <path d=\"M120-120v-720h720v720H120Zm60-500h600v-160H180v160Zm220 220h160v-160H400v160Zm0 220h160v-160H400v160ZM180-400h160v-160H180v160Zm440 0h160v-160H620v160ZM180-180h160v-160H180v160Zm440 0h160v-160H620v160Z\"/>\n",
       "  </svg>\n",
       "    </button>\n",
       "\n",
       "  <style>\n",
       "    .colab-df-container {\n",
       "      display:flex;\n",
       "      gap: 12px;\n",
       "    }\n",
       "\n",
       "    .colab-df-convert {\n",
       "      background-color: #E8F0FE;\n",
       "      border: none;\n",
       "      border-radius: 50%;\n",
       "      cursor: pointer;\n",
       "      display: none;\n",
       "      fill: #1967D2;\n",
       "      height: 32px;\n",
       "      padding: 0 0 0 0;\n",
       "      width: 32px;\n",
       "    }\n",
       "\n",
       "    .colab-df-convert:hover {\n",
       "      background-color: #E2EBFA;\n",
       "      box-shadow: 0px 1px 2px rgba(60, 64, 67, 0.3), 0px 1px 3px 1px rgba(60, 64, 67, 0.15);\n",
       "      fill: #174EA6;\n",
       "    }\n",
       "\n",
       "    .colab-df-buttons div {\n",
       "      margin-bottom: 4px;\n",
       "    }\n",
       "\n",
       "    [theme=dark] .colab-df-convert {\n",
       "      background-color: #3B4455;\n",
       "      fill: #D2E3FC;\n",
       "    }\n",
       "\n",
       "    [theme=dark] .colab-df-convert:hover {\n",
       "      background-color: #434B5C;\n",
       "      box-shadow: 0px 1px 3px 1px rgba(0, 0, 0, 0.15);\n",
       "      filter: drop-shadow(0px 1px 2px rgba(0, 0, 0, 0.3));\n",
       "      fill: #FFFFFF;\n",
       "    }\n",
       "  </style>\n",
       "\n",
       "    <script>\n",
       "      const buttonEl =\n",
       "        document.querySelector('#df-44904b11-0261-4b8b-97f0-b9131fee88c1 button.colab-df-convert');\n",
       "      buttonEl.style.display =\n",
       "        google.colab.kernel.accessAllowed ? 'block' : 'none';\n",
       "\n",
       "      async function convertToInteractive(key) {\n",
       "        const element = document.querySelector('#df-44904b11-0261-4b8b-97f0-b9131fee88c1');\n",
       "        const dataTable =\n",
       "          await google.colab.kernel.invokeFunction('convertToInteractive',\n",
       "                                                    [key], {});\n",
       "        if (!dataTable) return;\n",
       "\n",
       "        const docLinkHtml = 'Like what you see? Visit the ' +\n",
       "          '<a target=\"_blank\" href=https://colab.research.google.com/notebooks/data_table.ipynb>data table notebook</a>'\n",
       "          + ' to learn more about interactive tables.';\n",
       "        element.innerHTML = '';\n",
       "        dataTable['output_type'] = 'display_data';\n",
       "        await google.colab.output.renderOutput(dataTable, element);\n",
       "        const docLink = document.createElement('div');\n",
       "        docLink.innerHTML = docLinkHtml;\n",
       "        element.appendChild(docLink);\n",
       "      }\n",
       "    </script>\n",
       "  </div>\n",
       "\n",
       "\n",
       "<div id=\"df-1439d22a-dbb7-40ab-8e38-a94aacbc86fc\">\n",
       "  <button class=\"colab-df-quickchart\" onclick=\"quickchart('df-1439d22a-dbb7-40ab-8e38-a94aacbc86fc')\"\n",
       "            title=\"Suggest charts.\"\n",
       "            style=\"display:none;\">\n",
       "\n",
       "<svg xmlns=\"http://www.w3.org/2000/svg\" height=\"24px\"viewBox=\"0 0 24 24\"\n",
       "     width=\"24px\">\n",
       "    <g>\n",
       "        <path d=\"M19 3H5c-1.1 0-2 .9-2 2v14c0 1.1.9 2 2 2h14c1.1 0 2-.9 2-2V5c0-1.1-.9-2-2-2zM9 17H7v-7h2v7zm4 0h-2V7h2v10zm4 0h-2v-4h2v4z\"/>\n",
       "    </g>\n",
       "</svg>\n",
       "  </button>\n",
       "\n",
       "<style>\n",
       "  .colab-df-quickchart {\n",
       "      --bg-color: #E8F0FE;\n",
       "      --fill-color: #1967D2;\n",
       "      --hover-bg-color: #E2EBFA;\n",
       "      --hover-fill-color: #174EA6;\n",
       "      --disabled-fill-color: #AAA;\n",
       "      --disabled-bg-color: #DDD;\n",
       "  }\n",
       "\n",
       "  [theme=dark] .colab-df-quickchart {\n",
       "      --bg-color: #3B4455;\n",
       "      --fill-color: #D2E3FC;\n",
       "      --hover-bg-color: #434B5C;\n",
       "      --hover-fill-color: #FFFFFF;\n",
       "      --disabled-bg-color: #3B4455;\n",
       "      --disabled-fill-color: #666;\n",
       "  }\n",
       "\n",
       "  .colab-df-quickchart {\n",
       "    background-color: var(--bg-color);\n",
       "    border: none;\n",
       "    border-radius: 50%;\n",
       "    cursor: pointer;\n",
       "    display: none;\n",
       "    fill: var(--fill-color);\n",
       "    height: 32px;\n",
       "    padding: 0;\n",
       "    width: 32px;\n",
       "  }\n",
       "\n",
       "  .colab-df-quickchart:hover {\n",
       "    background-color: var(--hover-bg-color);\n",
       "    box-shadow: 0 1px 2px rgba(60, 64, 67, 0.3), 0 1px 3px 1px rgba(60, 64, 67, 0.15);\n",
       "    fill: var(--button-hover-fill-color);\n",
       "  }\n",
       "\n",
       "  .colab-df-quickchart-complete:disabled,\n",
       "  .colab-df-quickchart-complete:disabled:hover {\n",
       "    background-color: var(--disabled-bg-color);\n",
       "    fill: var(--disabled-fill-color);\n",
       "    box-shadow: none;\n",
       "  }\n",
       "\n",
       "  .colab-df-spinner {\n",
       "    border: 2px solid var(--fill-color);\n",
       "    border-color: transparent;\n",
       "    border-bottom-color: var(--fill-color);\n",
       "    animation:\n",
       "      spin 1s steps(1) infinite;\n",
       "  }\n",
       "\n",
       "  @keyframes spin {\n",
       "    0% {\n",
       "      border-color: transparent;\n",
       "      border-bottom-color: var(--fill-color);\n",
       "      border-left-color: var(--fill-color);\n",
       "    }\n",
       "    20% {\n",
       "      border-color: transparent;\n",
       "      border-left-color: var(--fill-color);\n",
       "      border-top-color: var(--fill-color);\n",
       "    }\n",
       "    30% {\n",
       "      border-color: transparent;\n",
       "      border-left-color: var(--fill-color);\n",
       "      border-top-color: var(--fill-color);\n",
       "      border-right-color: var(--fill-color);\n",
       "    }\n",
       "    40% {\n",
       "      border-color: transparent;\n",
       "      border-right-color: var(--fill-color);\n",
       "      border-top-color: var(--fill-color);\n",
       "    }\n",
       "    60% {\n",
       "      border-color: transparent;\n",
       "      border-right-color: var(--fill-color);\n",
       "    }\n",
       "    80% {\n",
       "      border-color: transparent;\n",
       "      border-right-color: var(--fill-color);\n",
       "      border-bottom-color: var(--fill-color);\n",
       "    }\n",
       "    90% {\n",
       "      border-color: transparent;\n",
       "      border-bottom-color: var(--fill-color);\n",
       "    }\n",
       "  }\n",
       "</style>\n",
       "\n",
       "  <script>\n",
       "    async function quickchart(key) {\n",
       "      const quickchartButtonEl =\n",
       "        document.querySelector('#' + key + ' button');\n",
       "      quickchartButtonEl.disabled = true;  // To prevent multiple clicks.\n",
       "      quickchartButtonEl.classList.add('colab-df-spinner');\n",
       "      try {\n",
       "        const charts = await google.colab.kernel.invokeFunction(\n",
       "            'suggestCharts', [key], {});\n",
       "      } catch (error) {\n",
       "        console.error('Error during call to suggestCharts:', error);\n",
       "      }\n",
       "      quickchartButtonEl.classList.remove('colab-df-spinner');\n",
       "      quickchartButtonEl.classList.add('colab-df-quickchart-complete');\n",
       "    }\n",
       "    (() => {\n",
       "      let quickchartButtonEl =\n",
       "        document.querySelector('#df-1439d22a-dbb7-40ab-8e38-a94aacbc86fc button');\n",
       "      quickchartButtonEl.style.display =\n",
       "        google.colab.kernel.accessAllowed ? 'block' : 'none';\n",
       "    })();\n",
       "  </script>\n",
       "</div>\n",
       "    </div>\n",
       "  </div>\n"
      ],
      "text/plain": [
       "                DateCrawled  Price  VehicleType  RegistrationYear Gearbox  \\\n",
       "354364  2016-03-21 09:50:58      0          NaN              2005  manual   \n",
       "354365  2016-03-14 17:48:27   2200          NaN              2005     NaN   \n",
       "354366  2016-03-05 19:56:21   1199  convertible              2000    auto   \n",
       "354367  2016-03-19 18:57:12   9200          bus              1996  manual   \n",
       "354368  2016-03-20 19:41:08   3400        wagon              2002  manual   \n",
       "\n",
       "        Power        Model  Kilometer  RegistrationMonth  FuelType  \\\n",
       "354364      0         colt     150000                  7    petrol   \n",
       "354365      0          NaN      20000                  1       NaN   \n",
       "354366    101       fortwo     125000                  3    petrol   \n",
       "354367    102  transporter     150000                  3  gasoline   \n",
       "354368    100         golf     150000                  6  gasoline   \n",
       "\n",
       "                 Brand Repaired          DateCreated  NumberOfPictures  \\\n",
       "354364      mitsubishi      yes  2016-03-21 00:00:00                 0   \n",
       "354365  sonstige_autos      NaN  2016-03-14 00:00:00                 0   \n",
       "354366           smart       no  2016-03-05 00:00:00                 0   \n",
       "354367      volkswagen       no  2016-03-19 00:00:00                 0   \n",
       "354368      volkswagen      NaN  2016-03-20 00:00:00                 0   \n",
       "\n",
       "        PostalCode             LastSeen  \n",
       "354364        2694  2016-03-21 10:42:49  \n",
       "354365       39576  2016-04-06 00:46:52  \n",
       "354366       26135  2016-03-11 18:17:12  \n",
       "354367       87439  2016-04-07 07:15:26  \n",
       "354368       40764  2016-03-24 12:45:21  "
      ]
     },
     "execution_count": 8,
     "metadata": {},
     "output_type": "execute_result"
    }
   ],
   "source": [
    "data.tail()"
   ]
  },
  {
   "cell_type": "markdown",
   "id": "e4bf9d46",
   "metadata": {
    "id": "e4bf9d46"
   },
   "source": [
    "### Общая характеристика набора данных"
   ]
  },
  {
   "cell_type": "markdown",
   "id": "04add4c3",
   "metadata": {
    "id": "04add4c3"
   },
   "source": [
    "Размер набора данных:"
   ]
  },
  {
   "cell_type": "code",
   "execution_count": 9,
   "id": "6177159f",
   "metadata": {
    "colab": {
     "base_uri": "https://localhost:8080/"
    },
    "id": "6177159f",
    "outputId": "b1bdf771-62b8-4a77-9a5a-ac6ad50f1349"
   },
   "outputs": [
    {
     "data": {
      "text/plain": [
       "(354369, 16)"
      ]
     },
     "execution_count": 9,
     "metadata": {},
     "output_type": "execute_result"
    }
   ],
   "source": [
    "data.shape"
   ]
  },
  {
   "cell_type": "markdown",
   "id": "e2b3da5b",
   "metadata": {
    "id": "e2b3da5b"
   },
   "source": [
    "Количество дубликатов в наименованиях признаков:"
   ]
  },
  {
   "cell_type": "code",
   "execution_count": 10,
   "id": "02cb71f4",
   "metadata": {
    "colab": {
     "base_uri": "https://localhost:8080/"
    },
    "id": "02cb71f4",
    "outputId": "ad030de0-00aa-4663-da3e-a4b0c8ca72d1"
   },
   "outputs": [
    {
     "data": {
      "text/plain": [
       "0"
      ]
     },
     "execution_count": 10,
     "metadata": {},
     "output_type": "execute_result"
    }
   ],
   "source": [
    "data.columns.duplicated().sum()"
   ]
  },
  {
   "cell_type": "markdown",
   "id": "6d6e4cd3",
   "metadata": {
    "id": "6d6e4cd3"
   },
   "source": [
    "Уникальные наименования признаков:"
   ]
  },
  {
   "cell_type": "code",
   "execution_count": 11,
   "id": "2c032b49",
   "metadata": {
    "colab": {
     "base_uri": "https://localhost:8080/"
    },
    "id": "2c032b49",
    "outputId": "3207ce07-29f6-4c82-f00c-c2484a5ad425"
   },
   "outputs": [
    {
     "data": {
      "text/plain": [
       "['Brand',\n",
       " 'DateCrawled',\n",
       " 'DateCreated',\n",
       " 'FuelType',\n",
       " 'Gearbox',\n",
       " 'Kilometer',\n",
       " 'LastSeen',\n",
       " 'Model',\n",
       " 'NumberOfPictures',\n",
       " 'PostalCode',\n",
       " 'Power',\n",
       " 'Price',\n",
       " 'RegistrationMonth',\n",
       " 'RegistrationYear',\n",
       " 'Repaired',\n",
       " 'VehicleType']"
      ]
     },
     "execution_count": 11,
     "metadata": {},
     "output_type": "execute_result"
    }
   ],
   "source": [
    "data.columns.sort_values().tolist()"
   ]
  },
  {
   "cell_type": "markdown",
   "id": "ebe48014",
   "metadata": {
    "id": "ebe48014"
   },
   "source": [
    "Количество элементов данных:"
   ]
  },
  {
   "cell_type": "code",
   "execution_count": 12,
   "id": "c5f44e04",
   "metadata": {
    "colab": {
     "base_uri": "https://localhost:8080/"
    },
    "id": "c5f44e04",
    "outputId": "d3a051d1-d10f-48f4-eadf-0ebf8e4f77cd"
   },
   "outputs": [
    {
     "data": {
      "text/plain": [
       "5669904"
      ]
     },
     "execution_count": 12,
     "metadata": {},
     "output_type": "execute_result"
    }
   ],
   "source": [
    "data.size"
   ]
  },
  {
   "cell_type": "markdown",
   "id": "1961349a",
   "metadata": {
    "id": "1961349a"
   },
   "source": [
    "Типы данных набора данных:"
   ]
  },
  {
   "cell_type": "code",
   "execution_count": 13,
   "id": "bb2f4fe9",
   "metadata": {
    "colab": {
     "base_uri": "https://localhost:8080/"
    },
    "id": "bb2f4fe9",
    "outputId": "6b792915-4737-4db5-dd42-9c8350544b10"
   },
   "outputs": [
    {
     "data": {
      "text/plain": [
       "object    9\n",
       "int64     7\n",
       "dtype: int64"
      ]
     },
     "execution_count": 13,
     "metadata": {},
     "output_type": "execute_result"
    }
   ],
   "source": [
    "data.dtypes.value_counts()"
   ]
  },
  {
   "cell_type": "markdown",
   "id": "dafe84ac",
   "metadata": {
    "id": "dafe84ac"
   },
   "source": [
    "Пропущенные значения в данных:"
   ]
  },
  {
   "cell_type": "code",
   "execution_count": 14,
   "id": "181b7ed3",
   "metadata": {
    "colab": {
     "base_uri": "https://localhost:8080/"
    },
    "id": "181b7ed3",
    "outputId": "b1a2d38c-0ffa-4f8d-e710-33c71781fdd4"
   },
   "outputs": [
    {
     "data": {
      "text/plain": [
       "DateCrawled              0\n",
       "Price                    0\n",
       "VehicleType          37490\n",
       "RegistrationYear         0\n",
       "Gearbox              19833\n",
       "Power                    0\n",
       "Model                19705\n",
       "Kilometer                0\n",
       "RegistrationMonth        0\n",
       "FuelType             32895\n",
       "Brand                    0\n",
       "Repaired             71154\n",
       "DateCreated              0\n",
       "NumberOfPictures         0\n",
       "PostalCode               0\n",
       "LastSeen                 0\n",
       "dtype: int64"
      ]
     },
     "execution_count": 14,
     "metadata": {},
     "output_type": "execute_result"
    }
   ],
   "source": [
    "data.isna().sum()"
   ]
  },
  {
   "cell_type": "markdown",
   "id": "30dce62c",
   "metadata": {
    "id": "30dce62c"
   },
   "source": [
    "Распределение пропущенных значений в наборе данных:"
   ]
  },
  {
   "cell_type": "code",
   "execution_count": 15,
   "id": "8475fa1d",
   "metadata": {
    "colab": {
     "base_uri": "https://localhost:8080/",
     "height": 585
    },
    "id": "8475fa1d",
    "outputId": "e093927d-7f4d-4b26-a01e-8b6d1bc26b44"
   },
   "outputs": [
    {
     "data": {
      "image/png": "[encoded data removed]",
      "text/plain": [
       "<Figure size 640x480 with 2 Axes>"
      ]
     },
     "metadata": {},
     "output_type": "display_data"
    }
   ],
   "source": [
    "sns.heatmap(data.isna(), cmap=sns.color_palette(['#000000', '#ffffff']))\n",
    "plt.title('Тепловая карта распределения пропущенных значений')\n",
    "plt.xlabel('Название признака')\n",
    "plt.ylabel('Номер записи')\n",
    "plt.show()"
   ]
  },
  {
   "cell_type": "markdown",
   "id": "73264c51",
   "metadata": {
    "id": "73264c51"
   },
   "source": [
    "Количество признаков без пропущенных значений:"
   ]
  },
  {
   "cell_type": "code",
   "execution_count": 16,
   "id": "14019bbd",
   "metadata": {
    "colab": {
     "base_uri": "https://localhost:8080/"
    },
    "id": "14019bbd",
    "outputId": "2f61f0de-54e8-446f-ae6d-2cd54b15cdef"
   },
   "outputs": [
    {
     "data": {
      "text/plain": [
       "11"
      ]
     },
     "execution_count": 16,
     "metadata": {},
     "output_type": "execute_result"
    }
   ],
   "source": [
    "(data.isna().sum() == 0).sum()"
   ]
  },
  {
   "cell_type": "markdown",
   "id": "0a039db7",
   "metadata": {
    "id": "0a039db7"
   },
   "source": [
    "Общее количество пропущенных значений:"
   ]
  },
  {
   "cell_type": "code",
   "execution_count": 17,
   "id": "e60dbdc9",
   "metadata": {
    "colab": {
     "base_uri": "https://localhost:8080/"
    },
    "id": "e60dbdc9",
    "outputId": "7ead39d3-fc1e-4e7e-9381-55d1373fadd8"
   },
   "outputs": [
    {
     "data": {
      "text/plain": [
       "181077"
      ]
     },
     "execution_count": 17,
     "metadata": {},
     "output_type": "execute_result"
    }
   ],
   "source": [
    "data.isna().sum().sum()"
   ]
  },
  {
   "cell_type": "markdown",
   "id": "61d179bf",
   "metadata": {
    "id": "61d179bf"
   },
   "source": [
    "**Промежуточный вывод**\n",
    "\n",
    "* Набор данных содержит 16 уникальных признаков и 354 369 записей.\n",
    "* Всего: 5 669 904 элементов данных.\n",
    "* Набор данных содержит данные следующего типа:\n",
    "    - целочисленный — 7 признаков,\n",
    "    - смешанного типа — 9 признаков.\n",
    "* Все признаки содержат значения (не являются пустыми).\n",
    "* 11 признаков не содержат пропущенные значения.\n",
    "* 5 признаков содержат пропущенные значения:\n",
    "    - распределение пропусков в данных не носит регулярный характер,\n",
    "    - всего в данных 181 077 пропущенное значение — около 3 % от всех элементов данных.\n",
    "* Необходимо привести названия признаков к \"змеиному_регистру\"."
   ]
  },
  {
   "cell_type": "markdown",
   "id": "cf602d11",
   "metadata": {
    "id": "cf602d11"
   },
   "source": [
    "### Преобразование наименований признаков"
   ]
  },
  {
   "cell_type": "markdown",
   "id": "956ec683",
   "metadata": {
    "id": "956ec683"
   },
   "source": [
    "Приведение названий столбцов к \"змеиному_регистру\"."
   ]
  },
  {
   "cell_type": "code",
   "execution_count": 18,
   "id": "8166ab7d",
   "metadata": {
    "colab": {
     "base_uri": "https://localhost:8080/"
    },
    "id": "8166ab7d",
    "outputId": "11478ad8-d752-40a0-9865-348d8bbe252a",
    "scrolled": true
   },
   "outputs": [
    {
     "data": {
      "text/plain": [
       "['date_crawled',\n",
       " 'price',\n",
       " 'vehicle_type',\n",
       " 'registration_year',\n",
       " 'gearbox',\n",
       " 'power',\n",
       " 'model',\n",
       " 'kilometer',\n",
       " 'registration_month',\n",
       " 'fuel_type',\n",
       " 'brand',\n",
       " 'repaired',\n",
       " 'date_created',\n",
       " 'number_of_pictures',\n",
       " 'postal_code',\n",
       " 'last_seen']"
      ]
     },
     "execution_count": 18,
     "metadata": {},
     "output_type": "execute_result"
    }
   ],
   "source": [
    "data = data.rename(\n",
    "    columns=lambda column: re.sub(r'(?<!^)(?=[A-Z])', '_', column).lower())\n",
    "data.columns.tolist()"
   ]
  },
  {
   "cell_type": "markdown",
   "id": "4b8c9d9e",
   "metadata": {
    "id": "4b8c9d9e"
   },
   "source": [
    "## Понимание данных"
   ]
  },
  {
   "cell_type": "markdown",
   "id": "4655c121",
   "metadata": {
    "id": "4655c121"
   },
   "source": [
    "Все данные по своему содержанию можно разделить на несколько категорий:\n",
    "- признаки, характеризующие объявление и активность пользователя;\n",
    "- признаки, характеризующие автомобиль:\n",
    "     - административные сведения;\n",
    "     - конструкционные и инженерно-технические сведения;\n",
    "     - сведения об эксплуатации;\n",
    "- финансовая информация;\n",
    "- технические данных о работе с базой данных сервиса по продаже автомобилей.\n",
    "\n",
    "***Техническая данные***\n",
    "\n",
    "Каждая запись сопровождается датой и временем её сохранения из базы данных. Эти сведения носят технический характер, не влияют на характеристики продаваемого автомобиля и не могут определять его стоимость.\n",
    "\n",
    "`date_crawled` &mdash; дата сохранения анкеты из базы\n",
    "<br> Признак является количественным, непрерывным.\n",
    "<br> Шкала измерения признака: интервальная шкала.\n",
    "\n",
    "***Признаки, характеризующие объявление и активность пользователя***\n",
    "\n",
    ">**Объявление о продаже автомобиля** &mdash; это опубликованное объявление о том, что владелец автомобиля желает продать своё транспортное средство, которое уже было использовано некоторое время и имеет пробег (расстояние, пройденное автомобилем).\n",
    "\n",
    "В объявлении обычно указывается марка, модель, год выпуска, техническое состояние и другие характеристики автомобиля, а также контактные данные продавца для связи.\n",
    "\n",
    "Каждое объявление о продаже сопровождается датой его создания.\n",
    "\n",
    ">**Дата создания объявления о продаже** &mdash; это дата размещения владельцем автомобиля объявления о продаже своего подержанного автомобиля.\n",
    "\n",
    "Дата создания объявления является важной информацией для потенциальных покупателей, так как может указывать на то, как долго автомобиль находится в продаже.\n",
    "\n",
    "`date_created` &mdash; дата создания объявления\n",
    "<br> Признак является количественным, непрерывным.\n",
    "<br> Шкала измерения признака: интервальная шкала.\n",
    "\n",
    "**Активность пользователя** сервиса по продаже автомобилей отражает все действия, совершаемые им в рамках данного сервиса. Это не только размещение объявления о продаже автомобиля, но и обновление информации об автомобиле, просмотр объявлений других пользователей, общение с другими пользователями, в том числе с потенциальными покупателями.\n",
    "\n",
    "`last_seen` &mdash; дата последней активности пользователя\n",
    "<br> Признак является количественным, непрерывным.\n",
    "<br> Шкала измерения признака: интервальная шкала.\n",
    "\n",
    "Часто объявления о продаже сопровождаются и **фотографиями** продаваемого объекта. Они помогают привлечь внимание потенциальных покупателей, дать им представление об оснащении и внешнем виде автомобиля, а также экономить время покупателей и продавцов &mdash; уменьшить количество телефонных звонков и отправляемых сообщений с вопросами о состоянии автомобиля.\n",
    "\n",
    "`number_of_pictures` &mdash; количество фотографий автомобиля\n",
    "<br> Признак является количественным, дискретным.\n",
    "<br> Шкала измерения признака: абсолютная шкала.\n",
    "\n",
    ">**Почтовый индекс владельца автомобиля** &mdash; это уникальный код, который определяет местонахождение (регион или город) владельца автомобиля.\n",
    "\n",
    "Почтовый индекс может использоваться для уточнения возможности осмотра автомобиля перед покупкой, для определения удалённости продавца от места жительства покупателя и возможности доставки автомобиля, для определения рыночной стоимости автомобиля в зависимости от региона, что может помочь покупателю принять решение о целесообразности покупки автомобиля из данного региона.\n",
    "\n",
    "`postal_code` &mdash; почтовый индекс владельца (пользователя)\n",
    "<br> Признак является категориальным, номинальным.\n",
    "<br> Шкала измерения признака: номинальная шкала.\n",
    "\n",
    "***Признаки, характеризующие автомобиль***\n",
    "\n",
    "- ***Административные сведения***\n",
    "\n",
    ">**Дата регистрации автомобиля** (год и месяц) &mdash; это дата первоначальной регистрации автомобиля в транспортной организации или управлении по транспорту.\n",
    "\n",
    "Наличие даты регистрации указывает на то, что автомобиль приобретён владельцем и используется им легально с указанного момента времени. Год регистрации автомобиля может стать важным фактором при покупке подержанного автомобиля, так как потенциально может указывать на пробег и возраст автомобиля.\n",
    "\n",
    "`registration_year` &mdash; год регистрации автомобиля\n",
    "<br> Признак является количественным, непрерывным.\n",
    "<br> Шкала измерения признака: интервальная шкала.\n",
    "\n",
    "`registration_month` &mdash; месяц регистрации автомобиля\n",
    "<br> Признак является качественным, порядковым.\n",
    "<br> Шкала измерения признака: порядковая шкала.\n",
    "\n",
    "- ***Конструкционные и инженерно-технические сведения***\n",
    "\n",
    ">**Марка автомобиля** &mdash; это торговая марка, под которой производитель выпускает свои автомобили.\n",
    "\n",
    "Марка автомобиля обычно указывает на происхождение автомобиля и его производителя, а также может иметь связанные с ней стилистические и технические характеристики. Каждая марка имеет свою уникальную идентичность и репутацию на автомобильном рынке.\n",
    "\n",
    "`brand` &mdash; марка автомобиля\n",
    "<br> Признак является категориальным, номинальным.\n",
    "<br> Шкала измерения признака: номинальная шкала.\n",
    "\n",
    ">**Модель автомобиля** &mdash; это версия или исполнение автомобиля определённой марки, которое отличается от других версий автомобиля той же марки по некоторым характеристикам, таким как размеры, мощность двигателя, комплектация, дизайн и так далее.\n",
    "\n",
    "Знание модели автомобиля может быть полезным при поиске и покупке автомобиля, так как позволяет более точно определить его технические характеристики и рыночную стоимость. Также при поиске автомобиля для покупки можно выбирать различные модели одной марки и сравнивать их по цене и характеристикам.\n",
    "\n",
    "`model` &mdash; модель автомобиля\n",
    "<br> Признак является категориальным, номинальным.\n",
    "<br> Шкала измерения признака: номинальная шкала.\n",
    "\n",
    ">**Тип автомобильного кузова** &mdash; это форма и конструкция кузова автомобиля, которая определяет его внешний вид, размеры, количество дверей, способ доступа к багажнику и другие характеристики.\n",
    "\n",
    "Кузов является внешней оболочкой автомобиля, которая включает в себя крышу, капот, двери, багажник и другие внешние элементы. Тип кузова определяется формой и организацией внутреннего пространства автомобиля, а также его предназначением. Каждый тип кузова имеет свои преимущества и недостатки в зависимости от конкретных потребностей владельца автомобиля. Знание типа кузова автомобиля позволяет определить его функциональность, практичность, вместительность.\n",
    "\n",
    "`vehicle_type` &mdash; тип автомобильного кузова\n",
    "<br> Признак является категориальным, номинальным.\n",
    "<br> Шкала измерения признака: номинальная шкала.\n",
    "\n",
    "**Купе** (*'coupe'*) &mdash; тип закрытого кузова легкового автомобиля, который обычно имеет две двери и спортивный дизайн. Купе обычно ассоциируется с элегантностью, стилем и спортивностью. Такой автомобиль выбирают те, кто ищет уникальный дизайн и наилучшие динамические характеристики, но готовы пожертвовать практичностью и вместительностью автомобиля.\n",
    "\n",
    "**Седан** (*'sedan'*) &mdash; тип кузова легкового автомобиля, который обычно имеет четыре двери и закрытый салон. Седаны обычно ассоциируются с комфортом, престижем и просторным салоном. Они пользуются популярностью у тех, кто ищет автомобиль для повседневного использования, деловых поездок или для использования всей семьёй.\n",
    "\n",
    "**Универсал** (*'wagon'*) &mdash; тип автомобильного кузова, максимально ориентированный на совмещение функций пассажирского транспортного средства и лёгкого грузовика. Обычно создаётся на базе седана, максимально используя все его детали и узлы. Универсалы пользуются популярностью у тех, кто ищет автомобиль с большим количеством мест для пассажиров и грузов, а также у тех, кто нуждается в автомобиле для семейного использования или у кого стоит цель перевезти пассажиров на короткие и длинные расстояния.\n",
    "\n",
    "**Хэтчбек** (*'small'*) &mdash; тип кузова легкового автомобиля, который имеет укороченную версию седана или универсала. Хэтчбеки пользуются популярностью у тех, кто ищет автомобиль с хорошей манёвренностью, практичностью и удобством использования в городских условиях.\n",
    "\n",
    "**Кабриолет** (*'convertible'*) &mdash; тип кузова легкового автомобиля, который отличает наличие откидывающегося верха или съёмной крыши. Кабриолеты обычно предпочитают те, кто ценит свободу и уникальный стиль вождения, а также те, кто хочет наслаждаться открытым небом и атмосферой во время поездок.\n",
    "\n",
    "**Внедорожник** (*sport utility vehicle, 'suv'*) &mdash; тип автомобильного кузова, который специально разработан и оборудован для прохождения по бездорожью и экстремальным условиям вождения. Внедорожники пользуются популярностью у тех, кто нуждается в автомобиле с хорошей проходимостью и способностью справляться с различными дорожными условиями (грунт, грязь, снег, песок). Их также используют для активного отдыха и путешествий на природе.\n",
    "\n",
    "**Минивэн** (микроавтобус, *'bus'*) &mdash; тип кузова легкового автомобиля, который обычно имеет просторный салон и большой багажник. Минивэны пользуются популярностью у тех, кто ищет автомобиль с большим количеством мест для пассажиров и грузов, а также у тех, кто нуждается в автомобиле для семейного использования или у кого стоит цель перевезти пассажиров на короткие и длинные расстояния.\n",
    "\n",
    "**Другие** (*'other'*) &mdash; все остальные типы кузовов, не упомянутые выше.\n",
    "\n",
    ">**Тип коробки передач** автомобиля относится к системе, которая позволяет передавать мощность от двигателя к колёсам и изменять передаточное отношение для обеспечения оптимальной скорости и ускорения.\n",
    "\n",
    "`gearbox` &mdash; тип коробки передач\n",
    "<br> Признак является категориальным, бинарным.\n",
    "<br> Шкала измерения признака: дихотомическая шкала.\n",
    "\n",
    "**Механическая коробка передач** (*'manual'*) &mdash; наиболее распространённый тип коробки передач, который требует смены передач вручную с помощью педали сцепления и рычага переключения передач.\n",
    "\n",
    "**Автоматическая коробка передач** (*'auto'*) &mdash; тип коробки передач, который позволят выполнять автоматическую смену передач без необходимости вмешательства водителя. Она использует гидравлическую систему для переключения передач в зависимости от оборотов двигателя и скорости автомобиля.\n",
    "\n",
    ">**Тип двигателя** автомобиля определяет его конструкцию и принцип работы: относится к роду применяемого топлива и способу образования горючей смеси.\n",
    "\n",
    "`fuel_type` &mdash; тип двигателя автомобиля\n",
    "<br> Признак является категориальным, номинальным.\n",
    "<br> Шкала измерения признака: номинальная шкала.\n",
    "\n",
    "**Бензиновый двигатель** (*'petrol', 'gasoline'*) &mdash; тип двигателя, который использует бензин в качестве топлива. Бензиновые двигатели работают по принципу внутреннего сгорания, при котором топливо смешивается с воздухом и затем сжигается в цилиндрах двигателя. Бензиновые двигатели обычно имеют высокую мощность и обеспечивают более высокую скорость, чем дизельные двигатели.\n",
    "\n",
    "**Двигатель на сжиженном нефтяном газе** (СНГ; *liquefied petroleum gas, 'lpg'*) &mdash; двигатель, который работает на сжиженном нефтяном газе (пропан-бутановой смеси) вместо бензина. Для перехода на СНГ необходимо установить специальное оборудование, включая испаритель, редуктор и баллон для хранения газа. СНГ обычно имеет более низкую цену и более высокую экологическую чистоту, чем бензин или дизельное топливо.\n",
    "\n",
    "**Двигатель на сжиженном природном газе** (СПГ; *compressed natural gas, 'cng'*) &mdash; двигатель, который работает на сжиженном природном газе вместо бензина или дизельного топлива. СПГ &mdash; это газ, который состоит главным образом из метана и используется в качестве альтернативного топлива для автомобилей. Для перехода на СПГ необходимо установить специальное оборудование, включая баллон для хранения газа, редуктор и испаритель. СПГ обычно имеет более низкую цену и более высокую экологическую чистоту, чем бензин или дизельное топливо.\n",
    "\n",
    "**Гибридный двигатель** (*'hybrid'*) &mdash; тип двигателя, который использует как бензиновый, так и электрический двигатель. Гибридные двигатели обычно более экономичные и обеспечивают более высокую мощность, чем обычные бензиновые или дизельные двигатели.\n",
    "\n",
    "**Электрический двигатель** (*'electric'*) &mdash; тип двигателя, который использует электрическую энергию в качестве источника энергии. Электрические двигатели также более экономичные и обеспечивают более высокую мощность, чем обычные двигатели внутреннего сгорания.\n",
    "\n",
    "**Другой** (*'other'*) &mdash; типы двигателей, не упомянутые выше (в том числе, и дизельный двигатель).\n",
    "\n",
    ">**Мощность двигателя автомобиля** &mdash; это показатель полезной работы, которую двигатель способен совершать в единицу времени.\n",
    "\n",
    "Мощность измеряется в ваттах (Вт) или лошадиных силах (л. с.) и указывается в технических характеристиках автомобиля. Мощность двигателя влияет на динамические характеристики автомобиля: скорость, ускорение, манёвренность и способность перевозить грузы. Чем выше мощность, тем больше работы двигатель способен произвести за определённый промежуток времени, что обычно приводит к лучшей динамике автомобиля. В то же время, автомобили с более мощными двигателями обычно потребляют больше топлива, чем автомобили с менее мощными двигателями.\n",
    "\n",
    "`power` &mdash; мощность двигателя автомобиля (л. с.)\n",
    "<br> Признак является количественным, непрерывным.\n",
    "<br> Шкала измерения признака: шкала отношений.\n",
    "\n",
    "- ***Сведения об эксплуатации***\n",
    "\n",
    ">**Пробег автомобиля** &mdash; это общее расстояние, которое автомобиль проехал с момента его производства или с момента последнего обнуления одометра.\n",
    "\n",
    "Обычно пробег измеряется в километрах или милях. Пробег является важным показателем состояния автомобиля и может влиять на его стоимость и надёжность. Он указывает на то, насколько интенсивно автомобиль использовался и сколько износа он мог испытать.\n",
    "\n",
    "`kilometer` &mdash; пробег автомобиля (км)\n",
    "<br> Признак является количественным, непрерывным.\n",
    "<br> Шкала измерения признака: шкала отношений.\n",
    "\n",
    ">**Факт ремонта автомобиля** &mdash; это информация о том, что с автомобилем проводили ремонтные работы, он был частично или полностью восстановлен, или были заменены его компоненты для исправления какой-либо поломки, повреждения или неисправности.\n",
    "\n",
    "Факт ремонта может быть указан в истории обслуживания автомобиля или в документах, связанных с продажей автомобиля (записи, квитанции, счета и другие документы, свидетельствующие о проведении работ). Он может влиять на стоимость автомобиля и на его физическое состояние, поэтому важно учитывать этот фактор.\n",
    "\n",
    "`repaired` &mdash; факт ремонта автомобиля\n",
    "<br> Признак является категориальным, бинарным.\n",
    "<br> Шкала измерения признака: дихотомическая шкала.\n",
    "\n",
    "***Финансовая информация***\n",
    "\n",
    ">**Цена автомобиля с пробегом**, указанная в объявлении о его продаже, представляет собой сумму денежных средств, за которую продавец готов реализовать данный автомобиль.\n",
    "\n",
    "Обычно цена автомобиля с пробегом в объявлении о продаже указывается продавцом самостоятельно, и может быть как фиксированной, так и подлежать торгу. Цена может быть указана в различных валютах, в зависимости от страны и региона продажи. Обычно цена автомобиля с пробегом ниже, чем цена нового экземпляра этой же модели, из-за износа автомобиля.\n",
    "\n",
    "`price` &mdash; цена автомобиля (евро) &mdash; целевой признак\n",
    "<br> Признак является количественным, непрерывным.\n",
    "<br> Шкала измерения признака: шкала отношений."
   ]
  },
  {
   "cell_type": "markdown",
   "id": "0e4f7e37",
   "metadata": {
    "id": "0e4f7e37"
   },
   "source": [
    "## Описание данных"
   ]
  },
  {
   "cell_type": "markdown",
   "id": "ff5991cb",
   "metadata": {
    "id": "ff5991cb"
   },
   "source": [
    "### Признаки, измеряемые в шкале отношений, абсолютной и порядковой шкале"
   ]
  },
  {
   "cell_type": "code",
   "execution_count": 19,
   "id": "16dddb4d",
   "metadata": {
    "colab": {
     "base_uri": "https://localhost:8080/",
     "height": 363
    },
    "id": "16dddb4d",
    "outputId": "ee37a54e-50f2-4e69-82e3-3e029ce7fa73"
   },
   "outputs": [
    {
     "data": {
      "text/html": [
       "\n",
       "  <div id=\"df-7c4ea188-a6eb-4eab-ba1d-d6b179b750cb\" class=\"colab-df-container\">\n",
       "    <div>\n",
       "<style scoped>\n",
       "    .dataframe tbody tr th:only-of-type {\n",
       "        vertical-align: middle;\n",
       "    }\n",
       "\n",
       "    .dataframe tbody tr th {\n",
       "        vertical-align: top;\n",
       "    }\n",
       "\n",
       "    .dataframe thead th {\n",
       "        text-align: right;\n",
       "    }\n",
       "</style>\n",
       "<table border=\"1\" class=\"dataframe\">\n",
       "  <thead>\n",
       "    <tr style=\"text-align: right;\">\n",
       "      <th></th>\n",
       "      <th>price</th>\n",
       "      <th>kilometer</th>\n",
       "      <th>power</th>\n",
       "      <th>number_of_pictures</th>\n",
       "      <th>registration_month</th>\n",
       "    </tr>\n",
       "  </thead>\n",
       "  <tbody>\n",
       "    <tr>\n",
       "      <th>count</th>\n",
       "      <td>354369.0</td>\n",
       "      <td>354369.0</td>\n",
       "      <td>354369.0</td>\n",
       "      <td>354369.0</td>\n",
       "      <td>354369.0</td>\n",
       "    </tr>\n",
       "    <tr>\n",
       "      <th>mean</th>\n",
       "      <td>4417.0</td>\n",
       "      <td>128211.0</td>\n",
       "      <td>110.0</td>\n",
       "      <td>0.0</td>\n",
       "      <td>6.0</td>\n",
       "    </tr>\n",
       "    <tr>\n",
       "      <th>min</th>\n",
       "      <td>0.0</td>\n",
       "      <td>5000.0</td>\n",
       "      <td>0.0</td>\n",
       "      <td>0.0</td>\n",
       "      <td>0.0</td>\n",
       "    </tr>\n",
       "    <tr>\n",
       "      <th>25%</th>\n",
       "      <td>1050.0</td>\n",
       "      <td>125000.0</td>\n",
       "      <td>69.0</td>\n",
       "      <td>0.0</td>\n",
       "      <td>3.0</td>\n",
       "    </tr>\n",
       "    <tr>\n",
       "      <th>50%</th>\n",
       "      <td>2700.0</td>\n",
       "      <td>150000.0</td>\n",
       "      <td>105.0</td>\n",
       "      <td>0.0</td>\n",
       "      <td>6.0</td>\n",
       "    </tr>\n",
       "    <tr>\n",
       "      <th>75%</th>\n",
       "      <td>6400.0</td>\n",
       "      <td>150000.0</td>\n",
       "      <td>143.0</td>\n",
       "      <td>0.0</td>\n",
       "      <td>9.0</td>\n",
       "    </tr>\n",
       "    <tr>\n",
       "      <th>max</th>\n",
       "      <td>20000.0</td>\n",
       "      <td>150000.0</td>\n",
       "      <td>20000.0</td>\n",
       "      <td>0.0</td>\n",
       "      <td>12.0</td>\n",
       "    </tr>\n",
       "    <tr>\n",
       "      <th>unique</th>\n",
       "      <td>3731</td>\n",
       "      <td>13</td>\n",
       "      <td>712</td>\n",
       "      <td>1</td>\n",
       "      <td>13</td>\n",
       "    </tr>\n",
       "    <tr>\n",
       "      <th>top</th>\n",
       "      <td>0</td>\n",
       "      <td>150000</td>\n",
       "      <td>0</td>\n",
       "      <td>0</td>\n",
       "      <td>0</td>\n",
       "    </tr>\n",
       "    <tr>\n",
       "      <th>freq</th>\n",
       "      <td>10772</td>\n",
       "      <td>238209</td>\n",
       "      <td>40225</td>\n",
       "      <td>354369</td>\n",
       "      <td>37352</td>\n",
       "    </tr>\n",
       "  </tbody>\n",
       "</table>\n",
       "</div>\n",
       "    <div class=\"colab-df-buttons\">\n",
       "\n",
       "  <div class=\"colab-df-container\">\n",
       "    <button class=\"colab-df-convert\" onclick=\"convertToInteractive('df-7c4ea188-a6eb-4eab-ba1d-d6b179b750cb')\"\n",
       "            title=\"Convert this dataframe to an interactive table.\"\n",
       "            style=\"display:none;\">\n",
       "\n",
       "  <svg xmlns=\"http://www.w3.org/2000/svg\" height=\"24px\" viewBox=\"0 -960 960 960\">\n",
       "    <path d=\"M120-120v-720h720v720H120Zm60-500h600v-160H180v160Zm220 220h160v-160H400v160Zm0 220h160v-160H400v160ZM180-400h160v-160H180v160Zm440 0h160v-160H620v160ZM180-180h160v-160H180v160Zm440 0h160v-160H620v160Z\"/>\n",
       "  </svg>\n",
       "    </button>\n",
       "\n",
       "  <style>\n",
       "    .colab-df-container {\n",
       "      display:flex;\n",
       "      gap: 12px;\n",
       "    }\n",
       "\n",
       "    .colab-df-convert {\n",
       "      background-color: #E8F0FE;\n",
       "      border: none;\n",
       "      border-radius: 50%;\n",
       "      cursor: pointer;\n",
       "      display: none;\n",
       "      fill: #1967D2;\n",
       "      height: 32px;\n",
       "      padding: 0 0 0 0;\n",
       "      width: 32px;\n",
       "    }\n",
       "\n",
       "    .colab-df-convert:hover {\n",
       "      background-color: #E2EBFA;\n",
       "      box-shadow: 0px 1px 2px rgba(60, 64, 67, 0.3), 0px 1px 3px 1px rgba(60, 64, 67, 0.15);\n",
       "      fill: #174EA6;\n",
       "    }\n",
       "\n",
       "    .colab-df-buttons div {\n",
       "      margin-bottom: 4px;\n",
       "    }\n",
       "\n",
       "    [theme=dark] .colab-df-convert {\n",
       "      background-color: #3B4455;\n",
       "      fill: #D2E3FC;\n",
       "    }\n",
       "\n",
       "    [theme=dark] .colab-df-convert:hover {\n",
       "      background-color: #434B5C;\n",
       "      box-shadow: 0px 1px 3px 1px rgba(0, 0, 0, 0.15);\n",
       "      filter: drop-shadow(0px 1px 2px rgba(0, 0, 0, 0.3));\n",
       "      fill: #FFFFFF;\n",
       "    }\n",
       "  </style>\n",
       "\n",
       "    <script>\n",
       "      const buttonEl =\n",
       "        document.querySelector('#df-7c4ea188-a6eb-4eab-ba1d-d6b179b750cb button.colab-df-convert');\n",
       "      buttonEl.style.display =\n",
       "        google.colab.kernel.accessAllowed ? 'block' : 'none';\n",
       "\n",
       "      async function convertToInteractive(key) {\n",
       "        const element = document.querySelector('#df-7c4ea188-a6eb-4eab-ba1d-d6b179b750cb');\n",
       "        const dataTable =\n",
       "          await google.colab.kernel.invokeFunction('convertToInteractive',\n",
       "                                                    [key], {});\n",
       "        if (!dataTable) return;\n",
       "\n",
       "        const docLinkHtml = 'Like what you see? Visit the ' +\n",
       "          '<a target=\"_blank\" href=https://colab.research.google.com/notebooks/data_table.ipynb>data table notebook</a>'\n",
       "          + ' to learn more about interactive tables.';\n",
       "        element.innerHTML = '';\n",
       "        dataTable['output_type'] = 'display_data';\n",
       "        await google.colab.output.renderOutput(dataTable, element);\n",
       "        const docLink = document.createElement('div');\n",
       "        docLink.innerHTML = docLinkHtml;\n",
       "        element.appendChild(docLink);\n",
       "      }\n",
       "    </script>\n",
       "  </div>\n",
       "\n",
       "\n",
       "<div id=\"df-7cb43356-7296-4d3b-a5e7-05e94a4dcf2e\">\n",
       "  <button class=\"colab-df-quickchart\" onclick=\"quickchart('df-7cb43356-7296-4d3b-a5e7-05e94a4dcf2e')\"\n",
       "            title=\"Suggest charts.\"\n",
       "            style=\"display:none;\">\n",
       "\n",
       "<svg xmlns=\"http://www.w3.org/2000/svg\" height=\"24px\"viewBox=\"0 0 24 24\"\n",
       "     width=\"24px\">\n",
       "    <g>\n",
       "        <path d=\"M19 3H5c-1.1 0-2 .9-2 2v14c0 1.1.9 2 2 2h14c1.1 0 2-.9 2-2V5c0-1.1-.9-2-2-2zM9 17H7v-7h2v7zm4 0h-2V7h2v10zm4 0h-2v-4h2v4z\"/>\n",
       "    </g>\n",
       "</svg>\n",
       "  </button>\n",
       "\n",
       "<style>\n",
       "  .colab-df-quickchart {\n",
       "      --bg-color: #E8F0FE;\n",
       "      --fill-color: #1967D2;\n",
       "      --hover-bg-color: #E2EBFA;\n",
       "      --hover-fill-color: #174EA6;\n",
       "      --disabled-fill-color: #AAA;\n",
       "      --disabled-bg-color: #DDD;\n",
       "  }\n",
       "\n",
       "  [theme=dark] .colab-df-quickchart {\n",
       "      --bg-color: #3B4455;\n",
       "      --fill-color: #D2E3FC;\n",
       "      --hover-bg-color: #434B5C;\n",
       "      --hover-fill-color: #FFFFFF;\n",
       "      --disabled-bg-color: #3B4455;\n",
       "      --disabled-fill-color: #666;\n",
       "  }\n",
       "\n",
       "  .colab-df-quickchart {\n",
       "    background-color: var(--bg-color);\n",
       "    border: none;\n",
       "    border-radius: 50%;\n",
       "    cursor: pointer;\n",
       "    display: none;\n",
       "    fill: var(--fill-color);\n",
       "    height: 32px;\n",
       "    padding: 0;\n",
       "    width: 32px;\n",
       "  }\n",
       "\n",
       "  .colab-df-quickchart:hover {\n",
       "    background-color: var(--hover-bg-color);\n",
       "    box-shadow: 0 1px 2px rgba(60, 64, 67, 0.3), 0 1px 3px 1px rgba(60, 64, 67, 0.15);\n",
       "    fill: var(--button-hover-fill-color);\n",
       "  }\n",
       "\n",
       "  .colab-df-quickchart-complete:disabled,\n",
       "  .colab-df-quickchart-complete:disabled:hover {\n",
       "    background-color: var(--disabled-bg-color);\n",
       "    fill: var(--disabled-fill-color);\n",
       "    box-shadow: none;\n",
       "  }\n",
       "\n",
       "  .colab-df-spinner {\n",
       "    border: 2px solid var(--fill-color);\n",
       "    border-color: transparent;\n",
       "    border-bottom-color: var(--fill-color);\n",
       "    animation:\n",
       "      spin 1s steps(1) infinite;\n",
       "  }\n",
       "\n",
       "  @keyframes spin {\n",
       "    0% {\n",
       "      border-color: transparent;\n",
       "      border-bottom-color: var(--fill-color);\n",
       "      border-left-color: var(--fill-color);\n",
       "    }\n",
       "    20% {\n",
       "      border-color: transparent;\n",
       "      border-left-color: var(--fill-color);\n",
       "      border-top-color: var(--fill-color);\n",
       "    }\n",
       "    30% {\n",
       "      border-color: transparent;\n",
       "      border-left-color: var(--fill-color);\n",
       "      border-top-color: var(--fill-color);\n",
       "      border-right-color: var(--fill-color);\n",
       "    }\n",
       "    40% {\n",
       "      border-color: transparent;\n",
       "      border-right-color: var(--fill-color);\n",
       "      border-top-color: var(--fill-color);\n",
       "    }\n",
       "    60% {\n",
       "      border-color: transparent;\n",
       "      border-right-color: var(--fill-color);\n",
       "    }\n",
       "    80% {\n",
       "      border-color: transparent;\n",
       "      border-right-color: var(--fill-color);\n",
       "      border-bottom-color: var(--fill-color);\n",
       "    }\n",
       "    90% {\n",
       "      border-color: transparent;\n",
       "      border-bottom-color: var(--fill-color);\n",
       "    }\n",
       "  }\n",
       "</style>\n",
       "\n",
       "  <script>\n",
       "    async function quickchart(key) {\n",
       "      const quickchartButtonEl =\n",
       "        document.querySelector('#' + key + ' button');\n",
       "      quickchartButtonEl.disabled = true;  // To prevent multiple clicks.\n",
       "      quickchartButtonEl.classList.add('colab-df-spinner');\n",
       "      try {\n",
       "        const charts = await google.colab.kernel.invokeFunction(\n",
       "            'suggestCharts', [key], {});\n",
       "      } catch (error) {\n",
       "        console.error('Error during call to suggestCharts:', error);\n",
       "      }\n",
       "      quickchartButtonEl.classList.remove('colab-df-spinner');\n",
       "      quickchartButtonEl.classList.add('colab-df-quickchart-complete');\n",
       "    }\n",
       "    (() => {\n",
       "      let quickchartButtonEl =\n",
       "        document.querySelector('#df-7cb43356-7296-4d3b-a5e7-05e94a4dcf2e button');\n",
       "      quickchartButtonEl.style.display =\n",
       "        google.colab.kernel.accessAllowed ? 'block' : 'none';\n",
       "    })();\n",
       "  </script>\n",
       "</div>\n",
       "    </div>\n",
       "  </div>\n"
      ],
      "text/plain": [
       "           price kilometer     power number_of_pictures registration_month\n",
       "count   354369.0  354369.0  354369.0           354369.0           354369.0\n",
       "mean      4417.0  128211.0     110.0                0.0                6.0\n",
       "min          0.0    5000.0       0.0                0.0                0.0\n",
       "25%       1050.0  125000.0      69.0                0.0                3.0\n",
       "50%       2700.0  150000.0     105.0                0.0                6.0\n",
       "75%       6400.0  150000.0     143.0                0.0                9.0\n",
       "max      20000.0  150000.0   20000.0                0.0               12.0\n",
       "unique      3731        13       712                  1                 13\n",
       "top            0    150000         0                  0                  0\n",
       "freq       10772    238209     40225             354369              37352"
      ]
     },
     "execution_count": 19,
     "metadata": {},
     "output_type": "execute_result"
    }
   ],
   "source": [
    "columns = ['price', 'kilometer', 'power',\n",
    "           'number_of_pictures', 'registration_month']\n",
    "\n",
    "pd.concat([\n",
    "    data[columns].describe().round(0).drop(['std'], axis=0),\n",
    "    data[columns].astype('str').describe().drop(['count'], axis=0)\n",
    "])"
   ]
  },
  {
   "cell_type": "code",
   "execution_count": 20,
   "id": "bff50559",
   "metadata": {
    "id": "bff50559"
   },
   "outputs": [],
   "source": [
    "def view(column):\n",
    "    '''\n",
    "    Функция строит график распределения.\n",
    "    \n",
    "    Принимает название признака (имя колонки) набора данных 'data'.\n",
    "    Возвращает диаграмму распределения значений и диаграмму размаха.\n",
    "    \n",
    "    '''\n",
    "\n",
    "    plt.figure(figsize=(7, 2))\n",
    "    plt.title(label=f'Диаграмма распределения значений признака\\n{column}')\n",
    "    plt.hist(data[column], bins=100)\n",
    "    plt.xlabel('Значение признака')\n",
    "    plt.ylabel('Частота')\n",
    "    plt.show()"
   ]
  },
  {
   "cell_type": "code",
   "execution_count": 21,
   "id": "169f33b4",
   "metadata": {
    "colab": {
     "base_uri": "https://localhost:8080/",
     "height": 1000
    },
    "id": "169f33b4",
    "outputId": "f6c88914-8eec-4ef6-fd07-32d566c41eb6"
   },
   "outputs": [
    {
     "data": {
      "image/png": "[encoded data removed]",
      "text/plain": [
       "<Figure size 700x200 with 1 Axes>"
      ]
     },
     "metadata": {},
     "output_type": "display_data"
    },
    {
     "data": {
      "image/png": "[encoded data removed]",
      "text/plain": [
       "<Figure size 700x200 with 1 Axes>"
      ]
     },
     "metadata": {},
     "output_type": "display_data"
    },
    {
     "data": {
      "image/png": "[encoded data removed]",
      "text/plain": [
       "<Figure size 700x200 with 1 Axes>"
      ]
     },
     "metadata": {},
     "output_type": "display_data"
    },
    {
     "data": {
      "image/png": "[encoded data removed]",
      "text/plain": [
       "<Figure size 700x200 with 1 Axes>"
      ]
     },
     "metadata": {},
     "output_type": "display_data"
    },
    {
     "data": {
      "image/png": "[encoded data removed]",
      "text/plain": [
       "<Figure size 700x200 with 1 Axes>"
      ]
     },
     "metadata": {},
     "output_type": "display_data"
    }
   ],
   "source": [
    "for column in columns:\n",
    "    view(column)"
   ]
  },
  {
   "cell_type": "markdown",
   "id": "708cf114",
   "metadata": {
    "id": "708cf114"
   },
   "source": [
    "`price` &mdash; цена автомобиля\n",
    "<br> Значения определены для всех записей.\n",
    "<br> Количество уникальных значений &mdash; 3731.\n",
    "<br> Значения определены с точностью до 1 евро.\n",
    "<br> Минимальное значение составляет 0, максимальное &mdash; 20 000 евро.\n",
    "<br> Среднее арифметическое значение равно 4417 евро, медиана &mdash; 2700 евро, мода &mdash; 0 (её частота &mdash; 10 772).\n",
    "<br> Распределение значений смещено влево.\n",
    "<br> Значения цены неравномерно распределены на отрезке \\[0; 20 000\\]. И если цена автомобиля действительно может достигать величины 20 000 евро, то значения ниже 100 евро (порядка нескольких десятков евро) представляются сомнительными. Особенно неправдоподобным является значение 0, поскольку это противоречит цели использования сервиса &mdash; продаже автомобиля.\n",
    "\n",
    "`kilometer` &mdash; пробег автомобиля\n",
    "<br> Значения определены для всех записей.\n",
    "<br> Количество уникальных значений &mdash; 13.\n",
    "<br> Значения определены с точностью до 5000 км.\n",
    "<br> Минимальное значение составляет 5000 км, максимальное &mdash; 150 000 км.\n",
    "<br> Среднее арифметическое значение равно 128 211 км, медиана &mdash; 150 000 км, мода &mdash; 150 000 (её частота &mdash; 238 209).\n",
    "<br> Распределение значений смещено вправо, к максимальному значению.\n",
    "<br> В связи с малым количеством уникальных значений распределение скорее носит дискретный характер.\n",
    "\n",
    "`power` &mdash; мощность двигателя\n",
    "<br> Значения определены для всех записей.\n",
    "<br> Количество уникальных значений &mdash; 712.\n",
    "<br> Значения определены с точностью до 1 л. с.\n",
    "<br> Минимальное значение составляет 0, максимальное &mdash; 20 000 л. с.\n",
    "<br> Среднее арифметическое значение равно 110 л. с., медиана &mdash; 105 л. с., мода &mdash; 0 (её частота &mdash; 40 225).\n",
    "<br> Распределение значений сильно смещено влево.\n",
    "<br> Значения мощности неравномерно распределены на отрезке \\[0; 20 000\\]. Мощность двигателей автомобилей обычно принимает значения в диапазоне от нескольких десятков до нескольких сотен лошадиных сил. Конечно, в наборе данных могут встречаться записи о ретро автомобилях, у которых мощность двигателя ниже, чем у современных автомобилей. Самой маленькой мощностью обладают двигатели автомобиля Citroen 2CV &mdash; 9 л. с., самой большой мощностью обладают двигатели автомобиля Koenigsegg Regera &mdash; 1600 л. с. Очевидно, что мощность двигателя не может быть выше 1600 л. с. и ниже 9 л. с. И уж тем более, не может достигать значения 0. Мощность двигателя устанавливается на заводе-изготовителе в соответствии со стандартами на испытания. Конечно, мощность двигателя может со временем снижаться, в результате эксплуатации автомобиля. Однако вряд ли собственник автомобиля проводит дополнительные испытания по установлению текущего (на момент публикации объявления) значения мощности автомобиля.\n",
    "\n",
    "`number_of_pictures` &mdash; количество фотографий автомобиля\n",
    "<br> Значения определены для всех записей.\n",
    "<br> Количество уникальных значений &mdash; 1. Это значение 0.\n",
    "<br> Значения признака не являются основой для выбора и не носят информационной ценности. Признак не будет использован для анализа и построения моделей.\n",
    "\n",
    "`registration_month` &mdash; месяц регистрации автомобиля\n",
    "<br> Значения определены для всех записей.\n",
    "<br> Количество уникальных значений &mdash; 13.\n",
    "<br> Значения определены с точностью до 1.\n",
    "<br> Минимальное значение составляет 0, максимальное &mdash; 12.\n",
    "<br> Медиана &mdash; 6, мода &mdash; 0 (её частота &mdash; 37 352).\n",
    "<br> Распределение значений практически равномерное.\n",
    "<br> Значениями признака могут быть только 12 уникальных значений. Значение 0 недостижимо для этого признака. Появление нуля среди значений признака может быть вызвано либо ошибкой при сохранении данных из базы данных, либо выставляется системой сбора данных автоматически, если не был указан месяц регистрации автомобиля."
   ]
  },
  {
   "cell_type": "markdown",
   "id": "ed2e072a",
   "metadata": {
    "id": "ed2e072a"
   },
   "source": [
    "### Признаки, измеряемые в номинальной шкале"
   ]
  },
  {
   "cell_type": "code",
   "execution_count": 22,
   "id": "4c234fb0",
   "metadata": {
    "colab": {
     "base_uri": "https://localhost:8080/",
     "height": 175
    },
    "id": "4c234fb0",
    "outputId": "c866cac8-8a7f-441f-8d93-f87caf270dbb"
   },
   "outputs": [
    {
     "data": {
      "text/html": [
       "\n",
       "  <div id=\"df-b801088b-a9d3-413e-8c29-fd2485a3bba9\" class=\"colab-df-container\">\n",
       "    <div>\n",
       "<style scoped>\n",
       "    .dataframe tbody tr th:only-of-type {\n",
       "        vertical-align: middle;\n",
       "    }\n",
       "\n",
       "    .dataframe tbody tr th {\n",
       "        vertical-align: top;\n",
       "    }\n",
       "\n",
       "    .dataframe thead th {\n",
       "        text-align: right;\n",
       "    }\n",
       "</style>\n",
       "<table border=\"1\" class=\"dataframe\">\n",
       "  <thead>\n",
       "    <tr style=\"text-align: right;\">\n",
       "      <th></th>\n",
       "      <th>brand</th>\n",
       "      <th>model</th>\n",
       "      <th>vehicle_type</th>\n",
       "      <th>fuel_type</th>\n",
       "      <th>postal_code</th>\n",
       "    </tr>\n",
       "  </thead>\n",
       "  <tbody>\n",
       "    <tr>\n",
       "      <th>count</th>\n",
       "      <td>354369</td>\n",
       "      <td>334664</td>\n",
       "      <td>316879</td>\n",
       "      <td>321474</td>\n",
       "      <td>354369</td>\n",
       "    </tr>\n",
       "    <tr>\n",
       "      <th>unique</th>\n",
       "      <td>40</td>\n",
       "      <td>250</td>\n",
       "      <td>8</td>\n",
       "      <td>7</td>\n",
       "      <td>8143</td>\n",
       "    </tr>\n",
       "    <tr>\n",
       "      <th>top</th>\n",
       "      <td>volkswagen</td>\n",
       "      <td>golf</td>\n",
       "      <td>sedan</td>\n",
       "      <td>petrol</td>\n",
       "      <td>10115</td>\n",
       "    </tr>\n",
       "    <tr>\n",
       "      <th>freq</th>\n",
       "      <td>77013</td>\n",
       "      <td>29232</td>\n",
       "      <td>91457</td>\n",
       "      <td>216352</td>\n",
       "      <td>819</td>\n",
       "    </tr>\n",
       "  </tbody>\n",
       "</table>\n",
       "</div>\n",
       "    <div class=\"colab-df-buttons\">\n",
       "\n",
       "  <div class=\"colab-df-container\">\n",
       "    <button class=\"colab-df-convert\" onclick=\"convertToInteractive('df-b801088b-a9d3-413e-8c29-fd2485a3bba9')\"\n",
       "            title=\"Convert this dataframe to an interactive table.\"\n",
       "            style=\"display:none;\">\n",
       "\n",
       "  <svg xmlns=\"http://www.w3.org/2000/svg\" height=\"24px\" viewBox=\"0 -960 960 960\">\n",
       "    <path d=\"M120-120v-720h720v720H120Zm60-500h600v-160H180v160Zm220 220h160v-160H400v160Zm0 220h160v-160H400v160ZM180-400h160v-160H180v160Zm440 0h160v-160H620v160ZM180-180h160v-160H180v160Zm440 0h160v-160H620v160Z\"/>\n",
       "  </svg>\n",
       "    </button>\n",
       "\n",
       "  <style>\n",
       "    .colab-df-container {\n",
       "      display:flex;\n",
       "      gap: 12px;\n",
       "    }\n",
       "\n",
       "    .colab-df-convert {\n",
       "      background-color: #E8F0FE;\n",
       "      border: none;\n",
       "      border-radius: 50%;\n",
       "      cursor: pointer;\n",
       "      display: none;\n",
       "      fill: #1967D2;\n",
       "      height: 32px;\n",
       "      padding: 0 0 0 0;\n",
       "      width: 32px;\n",
       "    }\n",
       "\n",
       "    .colab-df-convert:hover {\n",
       "      background-color: #E2EBFA;\n",
       "      box-shadow: 0px 1px 2px rgba(60, 64, 67, 0.3), 0px 1px 3px 1px rgba(60, 64, 67, 0.15);\n",
       "      fill: #174EA6;\n",
       "    }\n",
       "\n",
       "    .colab-df-buttons div {\n",
       "      margin-bottom: 4px;\n",
       "    }\n",
       "\n",
       "    [theme=dark] .colab-df-convert {\n",
       "      background-color: #3B4455;\n",
       "      fill: #D2E3FC;\n",
       "    }\n",
       "\n",
       "    [theme=dark] .colab-df-convert:hover {\n",
       "      background-color: #434B5C;\n",
       "      box-shadow: 0px 1px 3px 1px rgba(0, 0, 0, 0.15);\n",
       "      filter: drop-shadow(0px 1px 2px rgba(0, 0, 0, 0.3));\n",
       "      fill: #FFFFFF;\n",
       "    }\n",
       "  </style>\n",
       "\n",
       "    <script>\n",
       "      const buttonEl =\n",
       "        document.querySelector('#df-b801088b-a9d3-413e-8c29-fd2485a3bba9 button.colab-df-convert');\n",
       "      buttonEl.style.display =\n",
       "        google.colab.kernel.accessAllowed ? 'block' : 'none';\n",
       "\n",
       "      async function convertToInteractive(key) {\n",
       "        const element = document.querySelector('#df-b801088b-a9d3-413e-8c29-fd2485a3bba9');\n",
       "        const dataTable =\n",
       "          await google.colab.kernel.invokeFunction('convertToInteractive',\n",
       "                                                    [key], {});\n",
       "        if (!dataTable) return;\n",
       "\n",
       "        const docLinkHtml = 'Like what you see? Visit the ' +\n",
       "          '<a target=\"_blank\" href=https://colab.research.google.com/notebooks/data_table.ipynb>data table notebook</a>'\n",
       "          + ' to learn more about interactive tables.';\n",
       "        element.innerHTML = '';\n",
       "        dataTable['output_type'] = 'display_data';\n",
       "        await google.colab.output.renderOutput(dataTable, element);\n",
       "        const docLink = document.createElement('div');\n",
       "        docLink.innerHTML = docLinkHtml;\n",
       "        element.appendChild(docLink);\n",
       "      }\n",
       "    </script>\n",
       "  </div>\n",
       "\n",
       "\n",
       "<div id=\"df-c50b4517-e37c-4092-90ce-00f5e8363f5f\">\n",
       "  <button class=\"colab-df-quickchart\" onclick=\"quickchart('df-c50b4517-e37c-4092-90ce-00f5e8363f5f')\"\n",
       "            title=\"Suggest charts.\"\n",
       "            style=\"display:none;\">\n",
       "\n",
       "<svg xmlns=\"http://www.w3.org/2000/svg\" height=\"24px\"viewBox=\"0 0 24 24\"\n",
       "     width=\"24px\">\n",
       "    <g>\n",
       "        <path d=\"M19 3H5c-1.1 0-2 .9-2 2v14c0 1.1.9 2 2 2h14c1.1 0 2-.9 2-2V5c0-1.1-.9-2-2-2zM9 17H7v-7h2v7zm4 0h-2V7h2v10zm4 0h-2v-4h2v4z\"/>\n",
       "    </g>\n",
       "</svg>\n",
       "  </button>\n",
       "\n",
       "<style>\n",
       "  .colab-df-quickchart {\n",
       "      --bg-color: #E8F0FE;\n",
       "      --fill-color: #1967D2;\n",
       "      --hover-bg-color: #E2EBFA;\n",
       "      --hover-fill-color: #174EA6;\n",
       "      --disabled-fill-color: #AAA;\n",
       "      --disabled-bg-color: #DDD;\n",
       "  }\n",
       "\n",
       "  [theme=dark] .colab-df-quickchart {\n",
       "      --bg-color: #3B4455;\n",
       "      --fill-color: #D2E3FC;\n",
       "      --hover-bg-color: #434B5C;\n",
       "      --hover-fill-color: #FFFFFF;\n",
       "      --disabled-bg-color: #3B4455;\n",
       "      --disabled-fill-color: #666;\n",
       "  }\n",
       "\n",
       "  .colab-df-quickchart {\n",
       "    background-color: var(--bg-color);\n",
       "    border: none;\n",
       "    border-radius: 50%;\n",
       "    cursor: pointer;\n",
       "    display: none;\n",
       "    fill: var(--fill-color);\n",
       "    height: 32px;\n",
       "    padding: 0;\n",
       "    width: 32px;\n",
       "  }\n",
       "\n",
       "  .colab-df-quickchart:hover {\n",
       "    background-color: var(--hover-bg-color);\n",
       "    box-shadow: 0 1px 2px rgba(60, 64, 67, 0.3), 0 1px 3px 1px rgba(60, 64, 67, 0.15);\n",
       "    fill: var(--button-hover-fill-color);\n",
       "  }\n",
       "\n",
       "  .colab-df-quickchart-complete:disabled,\n",
       "  .colab-df-quickchart-complete:disabled:hover {\n",
       "    background-color: var(--disabled-bg-color);\n",
       "    fill: var(--disabled-fill-color);\n",
       "    box-shadow: none;\n",
       "  }\n",
       "\n",
       "  .colab-df-spinner {\n",
       "    border: 2px solid var(--fill-color);\n",
       "    border-color: transparent;\n",
       "    border-bottom-color: var(--fill-color);\n",
       "    animation:\n",
       "      spin 1s steps(1) infinite;\n",
       "  }\n",
       "\n",
       "  @keyframes spin {\n",
       "    0% {\n",
       "      border-color: transparent;\n",
       "      border-bottom-color: var(--fill-color);\n",
       "      border-left-color: var(--fill-color);\n",
       "    }\n",
       "    20% {\n",
       "      border-color: transparent;\n",
       "      border-left-color: var(--fill-color);\n",
       "      border-top-color: var(--fill-color);\n",
       "    }\n",
       "    30% {\n",
       "      border-color: transparent;\n",
       "      border-left-color: var(--fill-color);\n",
       "      border-top-color: var(--fill-color);\n",
       "      border-right-color: var(--fill-color);\n",
       "    }\n",
       "    40% {\n",
       "      border-color: transparent;\n",
       "      border-right-color: var(--fill-color);\n",
       "      border-top-color: var(--fill-color);\n",
       "    }\n",
       "    60% {\n",
       "      border-color: transparent;\n",
       "      border-right-color: var(--fill-color);\n",
       "    }\n",
       "    80% {\n",
       "      border-color: transparent;\n",
       "      border-right-color: var(--fill-color);\n",
       "      border-bottom-color: var(--fill-color);\n",
       "    }\n",
       "    90% {\n",
       "      border-color: transparent;\n",
       "      border-bottom-color: var(--fill-color);\n",
       "    }\n",
       "  }\n",
       "</style>\n",
       "\n",
       "  <script>\n",
       "    async function quickchart(key) {\n",
       "      const quickchartButtonEl =\n",
       "        document.querySelector('#' + key + ' button');\n",
       "      quickchartButtonEl.disabled = true;  // To prevent multiple clicks.\n",
       "      quickchartButtonEl.classList.add('colab-df-spinner');\n",
       "      try {\n",
       "        const charts = await google.colab.kernel.invokeFunction(\n",
       "            'suggestCharts', [key], {});\n",
       "      } catch (error) {\n",
       "        console.error('Error during call to suggestCharts:', error);\n",
       "      }\n",
       "      quickchartButtonEl.classList.remove('colab-df-spinner');\n",
       "      quickchartButtonEl.classList.add('colab-df-quickchart-complete');\n",
       "    }\n",
       "    (() => {\n",
       "      let quickchartButtonEl =\n",
       "        document.querySelector('#df-c50b4517-e37c-4092-90ce-00f5e8363f5f button');\n",
       "      quickchartButtonEl.style.display =\n",
       "        google.colab.kernel.accessAllowed ? 'block' : 'none';\n",
       "    })();\n",
       "  </script>\n",
       "</div>\n",
       "    </div>\n",
       "  </div>\n"
      ],
      "text/plain": [
       "             brand   model vehicle_type fuel_type postal_code\n",
       "count       354369  334664       316879    321474      354369\n",
       "unique          40     250            8         7        8143\n",
       "top     volkswagen    golf        sedan    petrol       10115\n",
       "freq         77013   29232        91457    216352         819"
      ]
     },
     "execution_count": 22,
     "metadata": {},
     "output_type": "execute_result"
    }
   ],
   "source": [
    "data[['brand', 'model', 'vehicle_type', 'fuel_type']].join(\n",
    "    data[['postal_code']].astype('str')).describe()"
   ]
  },
  {
   "cell_type": "code",
   "execution_count": 23,
   "id": "5396ed80",
   "metadata": {
    "id": "5396ed80"
   },
   "outputs": [],
   "source": [
    "def view(column):\n",
    "    '''\n",
    "    Функция строит график распределения.\n",
    "    \n",
    "    Принимает название признака (имя колонки) набора данных 'data'.\n",
    "    Возвращает диаграмму распределения значений и диаграмму размаха.\n",
    "    \n",
    "    '''\n",
    "\n",
    "    plt.figure(figsize=(7, 2))\n",
    "    plt.title(label=f'Диаграмма распределения значений признака\\n{column}')\n",
    "    data[column].value_counts(dropna=False).plot(kind='bar', rot=0)\n",
    "    plt.xlabel('Значение признака')\n",
    "    plt.ylabel('Частота')\n",
    "    plt.show()"
   ]
  },
  {
   "cell_type": "code",
   "execution_count": 24,
   "id": "3ee2afdf",
   "metadata": {
    "colab": {
     "base_uri": "https://localhost:8080/",
     "height": 662
    },
    "id": "3ee2afdf",
    "outputId": "27e4f367-3e66-491d-b5c8-2b7780495d20"
   },
   "outputs": [
    {
     "data": {
      "image/png": "[encoded data removed]",
      "text/plain": [
       "<Figure size 700x700 with 1 Axes>"
      ]
     },
     "metadata": {},
     "output_type": "display_data"
    }
   ],
   "source": [
    "plt.figure(figsize=(7, 7))\n",
    "plt.title(label='Диаграмма распределения значений признака\\nbrand')\n",
    "data['brand'].value_counts(dropna=False).plot(kind='barh')\n",
    "plt.xlabel('Значение признака')\n",
    "plt.ylabel('Частота')\n",
    "plt.show()"
   ]
  },
  {
   "cell_type": "code",
   "execution_count": 25,
   "id": "8f5466db",
   "metadata": {
    "colab": {
     "base_uri": "https://localhost:8080/",
     "height": 112
    },
    "id": "8f5466db",
    "outputId": "c9ffa0b2-016f-4cdf-ff97-80babe0c8880"
   },
   "outputs": [
    {
     "data": {
      "text/html": [
       "\n",
       "  <div id=\"df-45683a64-070e-413f-a43b-0755c6726a96\" class=\"colab-df-container\">\n",
       "    <div>\n",
       "<style scoped>\n",
       "    .dataframe tbody tr th:only-of-type {\n",
       "        vertical-align: middle;\n",
       "    }\n",
       "\n",
       "    .dataframe tbody tr th {\n",
       "        vertical-align: top;\n",
       "    }\n",
       "\n",
       "    .dataframe thead th {\n",
       "        text-align: right;\n",
       "    }\n",
       "</style>\n",
       "<table border=\"1\" class=\"dataframe\">\n",
       "  <thead>\n",
       "    <tr style=\"text-align: right;\">\n",
       "      <th></th>\n",
       "      <th>volkswagen</th>\n",
       "      <th>opel</th>\n",
       "      <th>bmw</th>\n",
       "      <th>mercedes_benz</th>\n",
       "      <th>audi</th>\n",
       "    </tr>\n",
       "  </thead>\n",
       "  <tbody>\n",
       "    <tr>\n",
       "      <th>Частота</th>\n",
       "      <td>77013.0</td>\n",
       "      <td>39931.0</td>\n",
       "      <td>36914.0</td>\n",
       "      <td>32046.0</td>\n",
       "      <td>29456.0</td>\n",
       "    </tr>\n",
       "    <tr>\n",
       "      <th>Доля, %</th>\n",
       "      <td>22.0</td>\n",
       "      <td>11.0</td>\n",
       "      <td>10.0</td>\n",
       "      <td>9.0</td>\n",
       "      <td>8.0</td>\n",
       "    </tr>\n",
       "  </tbody>\n",
       "</table>\n",
       "</div>\n",
       "    <div class=\"colab-df-buttons\">\n",
       "\n",
       "  <div class=\"colab-df-container\">\n",
       "    <button class=\"colab-df-convert\" onclick=\"convertToInteractive('df-45683a64-070e-413f-a43b-0755c6726a96')\"\n",
       "            title=\"Convert this dataframe to an interactive table.\"\n",
       "            style=\"display:none;\">\n",
       "\n",
       "  <svg xmlns=\"http://www.w3.org/2000/svg\" height=\"24px\" viewBox=\"0 -960 960 960\">\n",
       "    <path d=\"M120-120v-720h720v720H120Zm60-500h600v-160H180v160Zm220 220h160v-160H400v160Zm0 220h160v-160H400v160ZM180-400h160v-160H180v160Zm440 0h160v-160H620v160ZM180-180h160v-160H180v160Zm440 0h160v-160H620v160Z\"/>\n",
       "  </svg>\n",
       "    </button>\n",
       "\n",
       "  <style>\n",
       "    .colab-df-container {\n",
       "      display:flex;\n",
       "      gap: 12px;\n",
       "    }\n",
       "\n",
       "    .colab-df-convert {\n",
       "      background-color: #E8F0FE;\n",
       "      border: none;\n",
       "      border-radius: 50%;\n",
       "      cursor: pointer;\n",
       "      display: none;\n",
       "      fill: #1967D2;\n",
       "      height: 32px;\n",
       "      padding: 0 0 0 0;\n",
       "      width: 32px;\n",
       "    }\n",
       "\n",
       "    .colab-df-convert:hover {\n",
       "      background-color: #E2EBFA;\n",
       "      box-shadow: 0px 1px 2px rgba(60, 64, 67, 0.3), 0px 1px 3px 1px rgba(60, 64, 67, 0.15);\n",
       "      fill: #174EA6;\n",
       "    }\n",
       "\n",
       "    .colab-df-buttons div {\n",
       "      margin-bottom: 4px;\n",
       "    }\n",
       "\n",
       "    [theme=dark] .colab-df-convert {\n",
       "      background-color: #3B4455;\n",
       "      fill: #D2E3FC;\n",
       "    }\n",
       "\n",
       "    [theme=dark] .colab-df-convert:hover {\n",
       "      background-color: #434B5C;\n",
       "      box-shadow: 0px 1px 3px 1px rgba(0, 0, 0, 0.15);\n",
       "      filter: drop-shadow(0px 1px 2px rgba(0, 0, 0, 0.3));\n",
       "      fill: #FFFFFF;\n",
       "    }\n",
       "  </style>\n",
       "\n",
       "    <script>\n",
       "      const buttonEl =\n",
       "        document.querySelector('#df-45683a64-070e-413f-a43b-0755c6726a96 button.colab-df-convert');\n",
       "      buttonEl.style.display =\n",
       "        google.colab.kernel.accessAllowed ? 'block' : 'none';\n",
       "\n",
       "      async function convertToInteractive(key) {\n",
       "        const element = document.querySelector('#df-45683a64-070e-413f-a43b-0755c6726a96');\n",
       "        const dataTable =\n",
       "          await google.colab.kernel.invokeFunction('convertToInteractive',\n",
       "                                                    [key], {});\n",
       "        if (!dataTable) return;\n",
       "\n",
       "        const docLinkHtml = 'Like what you see? Visit the ' +\n",
       "          '<a target=\"_blank\" href=https://colab.research.google.com/notebooks/data_table.ipynb>data table notebook</a>'\n",
       "          + ' to learn more about interactive tables.';\n",
       "        element.innerHTML = '';\n",
       "        dataTable['output_type'] = 'display_data';\n",
       "        await google.colab.output.renderOutput(dataTable, element);\n",
       "        const docLink = document.createElement('div');\n",
       "        docLink.innerHTML = docLinkHtml;\n",
       "        element.appendChild(docLink);\n",
       "      }\n",
       "    </script>\n",
       "  </div>\n",
       "\n",
       "\n",
       "<div id=\"df-486b8653-426c-405a-a27a-98f6923eb286\">\n",
       "  <button class=\"colab-df-quickchart\" onclick=\"quickchart('df-486b8653-426c-405a-a27a-98f6923eb286')\"\n",
       "            title=\"Suggest charts.\"\n",
       "            style=\"display:none;\">\n",
       "\n",
       "<svg xmlns=\"http://www.w3.org/2000/svg\" height=\"24px\"viewBox=\"0 0 24 24\"\n",
       "     width=\"24px\">\n",
       "    <g>\n",
       "        <path d=\"M19 3H5c-1.1 0-2 .9-2 2v14c0 1.1.9 2 2 2h14c1.1 0 2-.9 2-2V5c0-1.1-.9-2-2-2zM9 17H7v-7h2v7zm4 0h-2V7h2v10zm4 0h-2v-4h2v4z\"/>\n",
       "    </g>\n",
       "</svg>\n",
       "  </button>\n",
       "\n",
       "<style>\n",
       "  .colab-df-quickchart {\n",
       "      --bg-color: #E8F0FE;\n",
       "      --fill-color: #1967D2;\n",
       "      --hover-bg-color: #E2EBFA;\n",
       "      --hover-fill-color: #174EA6;\n",
       "      --disabled-fill-color: #AAA;\n",
       "      --disabled-bg-color: #DDD;\n",
       "  }\n",
       "\n",
       "  [theme=dark] .colab-df-quickchart {\n",
       "      --bg-color: #3B4455;\n",
       "      --fill-color: #D2E3FC;\n",
       "      --hover-bg-color: #434B5C;\n",
       "      --hover-fill-color: #FFFFFF;\n",
       "      --disabled-bg-color: #3B4455;\n",
       "      --disabled-fill-color: #666;\n",
       "  }\n",
       "\n",
       "  .colab-df-quickchart {\n",
       "    background-color: var(--bg-color);\n",
       "    border: none;\n",
       "    border-radius: 50%;\n",
       "    cursor: pointer;\n",
       "    display: none;\n",
       "    fill: var(--fill-color);\n",
       "    height: 32px;\n",
       "    padding: 0;\n",
       "    width: 32px;\n",
       "  }\n",
       "\n",
       "  .colab-df-quickchart:hover {\n",
       "    background-color: var(--hover-bg-color);\n",
       "    box-shadow: 0 1px 2px rgba(60, 64, 67, 0.3), 0 1px 3px 1px rgba(60, 64, 67, 0.15);\n",
       "    fill: var(--button-hover-fill-color);\n",
       "  }\n",
       "\n",
       "  .colab-df-quickchart-complete:disabled,\n",
       "  .colab-df-quickchart-complete:disabled:hover {\n",
       "    background-color: var(--disabled-bg-color);\n",
       "    fill: var(--disabled-fill-color);\n",
       "    box-shadow: none;\n",
       "  }\n",
       "\n",
       "  .colab-df-spinner {\n",
       "    border: 2px solid var(--fill-color);\n",
       "    border-color: transparent;\n",
       "    border-bottom-color: var(--fill-color);\n",
       "    animation:\n",
       "      spin 1s steps(1) infinite;\n",
       "  }\n",
       "\n",
       "  @keyframes spin {\n",
       "    0% {\n",
       "      border-color: transparent;\n",
       "      border-bottom-color: var(--fill-color);\n",
       "      border-left-color: var(--fill-color);\n",
       "    }\n",
       "    20% {\n",
       "      border-color: transparent;\n",
       "      border-left-color: var(--fill-color);\n",
       "      border-top-color: var(--fill-color);\n",
       "    }\n",
       "    30% {\n",
       "      border-color: transparent;\n",
       "      border-left-color: var(--fill-color);\n",
       "      border-top-color: var(--fill-color);\n",
       "      border-right-color: var(--fill-color);\n",
       "    }\n",
       "    40% {\n",
       "      border-color: transparent;\n",
       "      border-right-color: var(--fill-color);\n",
       "      border-top-color: var(--fill-color);\n",
       "    }\n",
       "    60% {\n",
       "      border-color: transparent;\n",
       "      border-right-color: var(--fill-color);\n",
       "    }\n",
       "    80% {\n",
       "      border-color: transparent;\n",
       "      border-right-color: var(--fill-color);\n",
       "      border-bottom-color: var(--fill-color);\n",
       "    }\n",
       "    90% {\n",
       "      border-color: transparent;\n",
       "      border-bottom-color: var(--fill-color);\n",
       "    }\n",
       "  }\n",
       "</style>\n",
       "\n",
       "  <script>\n",
       "    async function quickchart(key) {\n",
       "      const quickchartButtonEl =\n",
       "        document.querySelector('#' + key + ' button');\n",
       "      quickchartButtonEl.disabled = true;  // To prevent multiple clicks.\n",
       "      quickchartButtonEl.classList.add('colab-df-spinner');\n",
       "      try {\n",
       "        const charts = await google.colab.kernel.invokeFunction(\n",
       "            'suggestCharts', [key], {});\n",
       "      } catch (error) {\n",
       "        console.error('Error during call to suggestCharts:', error);\n",
       "      }\n",
       "      quickchartButtonEl.classList.remove('colab-df-spinner');\n",
       "      quickchartButtonEl.classList.add('colab-df-quickchart-complete');\n",
       "    }\n",
       "    (() => {\n",
       "      let quickchartButtonEl =\n",
       "        document.querySelector('#df-486b8653-426c-405a-a27a-98f6923eb286 button');\n",
       "      quickchartButtonEl.style.display =\n",
       "        google.colab.kernel.accessAllowed ? 'block' : 'none';\n",
       "    })();\n",
       "  </script>\n",
       "</div>\n",
       "    </div>\n",
       "  </div>\n"
      ],
      "text/plain": [
       "         volkswagen     opel      bmw  mercedes_benz     audi\n",
       "Частота     77013.0  39931.0  36914.0        32046.0  29456.0\n",
       "Доля, %        22.0     11.0     10.0            9.0      8.0"
      ]
     },
     "execution_count": 25,
     "metadata": {},
     "output_type": "execute_result"
    }
   ],
   "source": [
    "pd.DataFrame({\n",
    "    'Частота': data['brand'].value_counts(),\n",
    "    'Доля, %': round(data['brand'].value_counts(normalize=True)*100)}).head().T"
   ]
  },
  {
   "cell_type": "code",
   "execution_count": 26,
   "id": "a6e0e716",
   "metadata": {
    "colab": {
     "base_uri": "https://localhost:8080/",
     "height": 537
    },
    "id": "a6e0e716",
    "outputId": "a086e780-5c90-4caf-d394-672093e7bf0e"
   },
   "outputs": [
    {
     "data": {
      "image/png": "[encoded data removed]",
      "text/plain": [
       "<Figure size 700x200 with 1 Axes>"
      ]
     },
     "metadata": {},
     "output_type": "display_data"
    },
    {
     "data": {
      "image/png": "[encoded data removed]",
      "text/plain": [
       "<Figure size 700x200 with 1 Axes>"
      ]
     },
     "metadata": {},
     "output_type": "display_data"
    }
   ],
   "source": [
    "for column in ['vehicle_type', 'fuel_type']:\n",
    "    view(column)"
   ]
  },
  {
   "cell_type": "markdown",
   "id": "4772c593",
   "metadata": {
    "id": "4772c593"
   },
   "source": [
    "`brand` &mdash; марка автомобиля\n",
    "<br> Значения определены для всех записей.\n",
    "<br> Количество уникальных значений &mdash; 40.\n",
    "<br> Мода &mdash; volkswagen, её частота &mdash; 77 013.\n",
    "<br> Большинство записей распределено между 7 значениями признаков. Остальные значения встречаются в наборе данных не более 10 000 раз.\n",
    "\n",
    "`model` &mdash; модель автомобиля\n",
    "<br> Значения определены для 334 664 записей &mdash; это 94 % всех записей.\n",
    "<br> Количество уникальных значений &mdash; 250.\n",
    "<br> Мода &mdash; golf, её частота &mdash; 29 232.\n",
    "<br> В среднем на каждую марку автомобиля приходится шесть моделей.\n",
    "\n",
    "`vehicle_type` &mdash; тип автомобильного кузова\n",
    "<br> Значения определены для 316 879 записей &mdash; это 89 % всех записей.\n",
    "<br> Количество уникальных значений &mdash; 8.\n",
    "<br> Мода &mdash; sedan, её частота &mdash; 91 457.\n",
    "<br> Большинство записей распределено между 3 значениями признаков, каждый из них встречается в наборе данных не менее 60 000 раз. Остальные значения встречаются менее 30 000 раз.\n",
    "\n",
    "`fuel_type` &mdash; тип двигателя\n",
    "<br> Значения определены для 321 474 записей &mdash; это 91 % всех записей.\n",
    "<br> Количество уникальных значений &mdash; 7.\n",
    "<br> Мода &mdash; petrol, её частота &mdash; 216 352.\n",
    "<br> Большинство записей распределено между 2 значениями признаков &mdash; petrol и gasoline, которые являются синонимами и обозначают бензиновый двигатель. Остальные типы двигателей встречаются редко. Среди типов двигателей нет керосинового, хотя есть категория other, которая может содержать и этот тип тоже. Однако она практически не встречается в наборе данных.\n",
    "\n",
    "`postal_code` &mdash; почтовый индекс владельца\n",
    "<br> Значения определены для всех записей.\n",
    "<br> Количество уникальных значений &mdash; 8143.\n",
    "<br> Мода &mdash; 10 115, её частота &mdash; 819."
   ]
  },
  {
   "cell_type": "markdown",
   "id": "ef4bbc53",
   "metadata": {
    "id": "ef4bbc53"
   },
   "source": [
    "### Признаки, измеряемые в интервальной и дихотомической шкале"
   ]
  },
  {
   "cell_type": "code",
   "execution_count": 27,
   "id": "22787dff",
   "metadata": {
    "colab": {
     "base_uri": "https://localhost:8080/",
     "height": 238
    },
    "id": "22787dff",
    "outputId": "f866ed74-c222-4d71-eec6-1154886d3ede"
   },
   "outputs": [
    {
     "data": {
      "text/html": [
       "\n",
       "  <div id=\"df-e7cbcdd1-d144-4e53-9689-5b18f84e3ed5\" class=\"colab-df-container\">\n",
       "    <div>\n",
       "<style scoped>\n",
       "    .dataframe tbody tr th:only-of-type {\n",
       "        vertical-align: middle;\n",
       "    }\n",
       "\n",
       "    .dataframe tbody tr th {\n",
       "        vertical-align: top;\n",
       "    }\n",
       "\n",
       "    .dataframe thead th {\n",
       "        text-align: right;\n",
       "    }\n",
       "</style>\n",
       "<table border=\"1\" class=\"dataframe\">\n",
       "  <thead>\n",
       "    <tr style=\"text-align: right;\">\n",
       "      <th></th>\n",
       "      <th>date_crawled</th>\n",
       "      <th>date_created</th>\n",
       "      <th>last_seen</th>\n",
       "      <th>repaired</th>\n",
       "      <th>gearbox</th>\n",
       "      <th>registration_year</th>\n",
       "    </tr>\n",
       "  </thead>\n",
       "  <tbody>\n",
       "    <tr>\n",
       "      <th>count</th>\n",
       "      <td>354369</td>\n",
       "      <td>354369</td>\n",
       "      <td>354369</td>\n",
       "      <td>283215</td>\n",
       "      <td>334536</td>\n",
       "      <td>354369</td>\n",
       "    </tr>\n",
       "    <tr>\n",
       "      <th>unique</th>\n",
       "      <td>271174</td>\n",
       "      <td>109</td>\n",
       "      <td>179150</td>\n",
       "      <td>3</td>\n",
       "      <td>3</td>\n",
       "      <td>151</td>\n",
       "    </tr>\n",
       "    <tr>\n",
       "      <th>top</th>\n",
       "      <td>2016-03-24 14:49:47</td>\n",
       "      <td>2016-04-03 00:00:00</td>\n",
       "      <td>2016-04-06 13:45:54</td>\n",
       "      <td>no</td>\n",
       "      <td>manual</td>\n",
       "      <td>2000</td>\n",
       "    </tr>\n",
       "    <tr>\n",
       "      <th>freq</th>\n",
       "      <td>7</td>\n",
       "      <td>13719</td>\n",
       "      <td>17</td>\n",
       "      <td>247161</td>\n",
       "      <td>268251</td>\n",
       "      <td>24490</td>\n",
       "    </tr>\n",
       "    <tr>\n",
       "      <th>min</th>\n",
       "      <td>2016-03-05 14:06:22</td>\n",
       "      <td>2014-03-10 00:00:00</td>\n",
       "      <td>2016-03-05 14:15:08</td>\n",
       "      <td>nan</td>\n",
       "      <td>auto</td>\n",
       "      <td>1000</td>\n",
       "    </tr>\n",
       "    <tr>\n",
       "      <th>max</th>\n",
       "      <td>2016-04-07 14:36:58</td>\n",
       "      <td>2016-04-07 00:00:00</td>\n",
       "      <td>2016-04-07 14:58:51</td>\n",
       "      <td>yes</td>\n",
       "      <td>nan</td>\n",
       "      <td>9999</td>\n",
       "    </tr>\n",
       "  </tbody>\n",
       "</table>\n",
       "</div>\n",
       "    <div class=\"colab-df-buttons\">\n",
       "\n",
       "  <div class=\"colab-df-container\">\n",
       "    <button class=\"colab-df-convert\" onclick=\"convertToInteractive('df-e7cbcdd1-d144-4e53-9689-5b18f84e3ed5')\"\n",
       "            title=\"Convert this dataframe to an interactive table.\"\n",
       "            style=\"display:none;\">\n",
       "\n",
       "  <svg xmlns=\"http://www.w3.org/2000/svg\" height=\"24px\" viewBox=\"0 -960 960 960\">\n",
       "    <path d=\"M120-120v-720h720v720H120Zm60-500h600v-160H180v160Zm220 220h160v-160H400v160Zm0 220h160v-160H400v160ZM180-400h160v-160H180v160Zm440 0h160v-160H620v160ZM180-180h160v-160H180v160Zm440 0h160v-160H620v160Z\"/>\n",
       "  </svg>\n",
       "    </button>\n",
       "\n",
       "  <style>\n",
       "    .colab-df-container {\n",
       "      display:flex;\n",
       "      gap: 12px;\n",
       "    }\n",
       "\n",
       "    .colab-df-convert {\n",
       "      background-color: #E8F0FE;\n",
       "      border: none;\n",
       "      border-radius: 50%;\n",
       "      cursor: pointer;\n",
       "      display: none;\n",
       "      fill: #1967D2;\n",
       "      height: 32px;\n",
       "      padding: 0 0 0 0;\n",
       "      width: 32px;\n",
       "    }\n",
       "\n",
       "    .colab-df-convert:hover {\n",
       "      background-color: #E2EBFA;\n",
       "      box-shadow: 0px 1px 2px rgba(60, 64, 67, 0.3), 0px 1px 3px 1px rgba(60, 64, 67, 0.15);\n",
       "      fill: #174EA6;\n",
       "    }\n",
       "\n",
       "    .colab-df-buttons div {\n",
       "      margin-bottom: 4px;\n",
       "    }\n",
       "\n",
       "    [theme=dark] .colab-df-convert {\n",
       "      background-color: #3B4455;\n",
       "      fill: #D2E3FC;\n",
       "    }\n",
       "\n",
       "    [theme=dark] .colab-df-convert:hover {\n",
       "      background-color: #434B5C;\n",
       "      box-shadow: 0px 1px 3px 1px rgba(0, 0, 0, 0.15);\n",
       "      filter: drop-shadow(0px 1px 2px rgba(0, 0, 0, 0.3));\n",
       "      fill: #FFFFFF;\n",
       "    }\n",
       "  </style>\n",
       "\n",
       "    <script>\n",
       "      const buttonEl =\n",
       "        document.querySelector('#df-e7cbcdd1-d144-4e53-9689-5b18f84e3ed5 button.colab-df-convert');\n",
       "      buttonEl.style.display =\n",
       "        google.colab.kernel.accessAllowed ? 'block' : 'none';\n",
       "\n",
       "      async function convertToInteractive(key) {\n",
       "        const element = document.querySelector('#df-e7cbcdd1-d144-4e53-9689-5b18f84e3ed5');\n",
       "        const dataTable =\n",
       "          await google.colab.kernel.invokeFunction('convertToInteractive',\n",
       "                                                    [key], {});\n",
       "        if (!dataTable) return;\n",
       "\n",
       "        const docLinkHtml = 'Like what you see? Visit the ' +\n",
       "          '<a target=\"_blank\" href=https://colab.research.google.com/notebooks/data_table.ipynb>data table notebook</a>'\n",
       "          + ' to learn more about interactive tables.';\n",
       "        element.innerHTML = '';\n",
       "        dataTable['output_type'] = 'display_data';\n",
       "        await google.colab.output.renderOutput(dataTable, element);\n",
       "        const docLink = document.createElement('div');\n",
       "        docLink.innerHTML = docLinkHtml;\n",
       "        element.appendChild(docLink);\n",
       "      }\n",
       "    </script>\n",
       "  </div>\n",
       "\n",
       "\n",
       "<div id=\"df-20ef6ece-ab79-41de-a4ce-25e405930dc3\">\n",
       "  <button class=\"colab-df-quickchart\" onclick=\"quickchart('df-20ef6ece-ab79-41de-a4ce-25e405930dc3')\"\n",
       "            title=\"Suggest charts.\"\n",
       "            style=\"display:none;\">\n",
       "\n",
       "<svg xmlns=\"http://www.w3.org/2000/svg\" height=\"24px\"viewBox=\"0 0 24 24\"\n",
       "     width=\"24px\">\n",
       "    <g>\n",
       "        <path d=\"M19 3H5c-1.1 0-2 .9-2 2v14c0 1.1.9 2 2 2h14c1.1 0 2-.9 2-2V5c0-1.1-.9-2-2-2zM9 17H7v-7h2v7zm4 0h-2V7h2v10zm4 0h-2v-4h2v4z\"/>\n",
       "    </g>\n",
       "</svg>\n",
       "  </button>\n",
       "\n",
       "<style>\n",
       "  .colab-df-quickchart {\n",
       "      --bg-color: #E8F0FE;\n",
       "      --fill-color: #1967D2;\n",
       "      --hover-bg-color: #E2EBFA;\n",
       "      --hover-fill-color: #174EA6;\n",
       "      --disabled-fill-color: #AAA;\n",
       "      --disabled-bg-color: #DDD;\n",
       "  }\n",
       "\n",
       "  [theme=dark] .colab-df-quickchart {\n",
       "      --bg-color: #3B4455;\n",
       "      --fill-color: #D2E3FC;\n",
       "      --hover-bg-color: #434B5C;\n",
       "      --hover-fill-color: #FFFFFF;\n",
       "      --disabled-bg-color: #3B4455;\n",
       "      --disabled-fill-color: #666;\n",
       "  }\n",
       "\n",
       "  .colab-df-quickchart {\n",
       "    background-color: var(--bg-color);\n",
       "    border: none;\n",
       "    border-radius: 50%;\n",
       "    cursor: pointer;\n",
       "    display: none;\n",
       "    fill: var(--fill-color);\n",
       "    height: 32px;\n",
       "    padding: 0;\n",
       "    width: 32px;\n",
       "  }\n",
       "\n",
       "  .colab-df-quickchart:hover {\n",
       "    background-color: var(--hover-bg-color);\n",
       "    box-shadow: 0 1px 2px rgba(60, 64, 67, 0.3), 0 1px 3px 1px rgba(60, 64, 67, 0.15);\n",
       "    fill: var(--button-hover-fill-color);\n",
       "  }\n",
       "\n",
       "  .colab-df-quickchart-complete:disabled,\n",
       "  .colab-df-quickchart-complete:disabled:hover {\n",
       "    background-color: var(--disabled-bg-color);\n",
       "    fill: var(--disabled-fill-color);\n",
       "    box-shadow: none;\n",
       "  }\n",
       "\n",
       "  .colab-df-spinner {\n",
       "    border: 2px solid var(--fill-color);\n",
       "    border-color: transparent;\n",
       "    border-bottom-color: var(--fill-color);\n",
       "    animation:\n",
       "      spin 1s steps(1) infinite;\n",
       "  }\n",
       "\n",
       "  @keyframes spin {\n",
       "    0% {\n",
       "      border-color: transparent;\n",
       "      border-bottom-color: var(--fill-color);\n",
       "      border-left-color: var(--fill-color);\n",
       "    }\n",
       "    20% {\n",
       "      border-color: transparent;\n",
       "      border-left-color: var(--fill-color);\n",
       "      border-top-color: var(--fill-color);\n",
       "    }\n",
       "    30% {\n",
       "      border-color: transparent;\n",
       "      border-left-color: var(--fill-color);\n",
       "      border-top-color: var(--fill-color);\n",
       "      border-right-color: var(--fill-color);\n",
       "    }\n",
       "    40% {\n",
       "      border-color: transparent;\n",
       "      border-right-color: var(--fill-color);\n",
       "      border-top-color: var(--fill-color);\n",
       "    }\n",
       "    60% {\n",
       "      border-color: transparent;\n",
       "      border-right-color: var(--fill-color);\n",
       "    }\n",
       "    80% {\n",
       "      border-color: transparent;\n",
       "      border-right-color: var(--fill-color);\n",
       "      border-bottom-color: var(--fill-color);\n",
       "    }\n",
       "    90% {\n",
       "      border-color: transparent;\n",
       "      border-bottom-color: var(--fill-color);\n",
       "    }\n",
       "  }\n",
       "</style>\n",
       "\n",
       "  <script>\n",
       "    async function quickchart(key) {\n",
       "      const quickchartButtonEl =\n",
       "        document.querySelector('#' + key + ' button');\n",
       "      quickchartButtonEl.disabled = true;  // To prevent multiple clicks.\n",
       "      quickchartButtonEl.classList.add('colab-df-spinner');\n",
       "      try {\n",
       "        const charts = await google.colab.kernel.invokeFunction(\n",
       "            'suggestCharts', [key], {});\n",
       "      } catch (error) {\n",
       "        console.error('Error during call to suggestCharts:', error);\n",
       "      }\n",
       "      quickchartButtonEl.classList.remove('colab-df-spinner');\n",
       "      quickchartButtonEl.classList.add('colab-df-quickchart-complete');\n",
       "    }\n",
       "    (() => {\n",
       "      let quickchartButtonEl =\n",
       "        document.querySelector('#df-20ef6ece-ab79-41de-a4ce-25e405930dc3 button');\n",
       "      quickchartButtonEl.style.display =\n",
       "        google.colab.kernel.accessAllowed ? 'block' : 'none';\n",
       "    })();\n",
       "  </script>\n",
       "</div>\n",
       "    </div>\n",
       "  </div>\n"
      ],
      "text/plain": [
       "               date_crawled         date_created            last_seen  \\\n",
       "count                354369               354369               354369   \n",
       "unique               271174                  109               179150   \n",
       "top     2016-03-24 14:49:47  2016-04-03 00:00:00  2016-04-06 13:45:54   \n",
       "freq                      7                13719                   17   \n",
       "min     2016-03-05 14:06:22  2014-03-10 00:00:00  2016-03-05 14:15:08   \n",
       "max     2016-04-07 14:36:58  2016-04-07 00:00:00  2016-04-07 14:58:51   \n",
       "\n",
       "       repaired gearbox registration_year  \n",
       "count    283215  334536            354369  \n",
       "unique        3       3               151  \n",
       "top          no  manual              2000  \n",
       "freq     247161  268251             24490  \n",
       "min         nan    auto              1000  \n",
       "max         yes     nan              9999  "
      ]
     },
     "execution_count": 27,
     "metadata": {},
     "output_type": "execute_result"
    }
   ],
   "source": [
    "df = data[['date_crawled', 'date_created', 'last_seen',\n",
    "           'repaired', 'gearbox', 'registration_year']]\n",
    "\n",
    "pd.concat([\n",
    "    pd.DataFrame({'count': df.notna().sum()}).T,\n",
    "    df.astype('str').describe().drop(['count'], axis=0),\n",
    "    pd.DataFrame({'min': df.astype('str').min(),\n",
    "                  'max': df.astype('str').max()}).T\n",
    "])"
   ]
  },
  {
   "cell_type": "code",
   "execution_count": 28,
   "id": "44cb60bc",
   "metadata": {
    "colab": {
     "base_uri": "https://localhost:8080/",
     "height": 537
    },
    "id": "44cb60bc",
    "outputId": "4e3367c9-cc7d-4972-f6ac-3ddfcf1598f5"
   },
   "outputs": [
    {
     "data": {
      "image/png": "[encoded data removed]",
      "text/plain": [
       "<Figure size 700x200 with 1 Axes>"
      ]
     },
     "metadata": {},
     "output_type": "display_data"
    },
    {
     "data": {
      "image/png": "[encoded data removed]",
      "text/plain": [
       "<Figure size 700x200 with 1 Axes>"
      ]
     },
     "metadata": {},
     "output_type": "display_data"
    }
   ],
   "source": [
    "for column in ['repaired', 'gearbox']:\n",
    "    view(column)"
   ]
  },
  {
   "cell_type": "code",
   "execution_count": 29,
   "id": "e2f9c3bc",
   "metadata": {
    "colab": {
     "base_uri": "https://localhost:8080/",
     "height": 255
    },
    "id": "e2f9c3bc",
    "outputId": "d71e94ed-8297-41a3-953a-835fc88f453f"
   },
   "outputs": [
    {
     "data": {
      "image/png": "[encoded data removed]",
      "text/plain": [
       "<Figure size 1500x300 with 1 Axes>"
      ]
     },
     "metadata": {},
     "output_type": "display_data"
    }
   ],
   "source": [
    "plt.figure(figsize=(15, 3))\n",
    "plt.title(label=f'Диаграмма распределения значений признака\\nregistration_year')\n",
    "data['registration_year'].value_counts(dropna=False).sort_index().plot(kind='bar',\n",
    "                                                                       rot=0)\n",
    "plt.xticks([10*n for n in range(16)])\n",
    "plt.xlabel('Значение признака')\n",
    "plt.ylabel('Частота')\n",
    "plt.show()"
   ]
  },
  {
   "cell_type": "markdown",
   "id": "3aff1589",
   "metadata": {
    "id": "3aff1589"
   },
   "source": [
    "`date_crawled` &mdash; дата сохранения анкеты из базы\n",
    "<br> Значения определены для всех записей.\n",
    "<br> Значения определены с точностью до 1 с.\n",
    "<br> Количество уникальных значений &mdash; 271 174.\n",
    "<br> Мода &mdash; 24 марта 2016 года 14:49:47, её частота &mdash; 7.\n",
    "<br> Первое сохранение сделано 5 марта 2016 года в 14:06:22, последнее &mdash; 7 апреля 2016 года в 14:36:58.\n",
    "\n",
    "`date_created` &mdash; дата создания анкеты\n",
    "<br> Значения определены для всех записей.\n",
    "<br> Значения определены с точностью до 1 дня.\n",
    "<br> Количество уникальных значений &mdash; 109.\n",
    "<br> Мода &mdash; 3 апреля 2016 года, её частота &mdash; 13 719.\n",
    "<br> Первая анкета создана 10 марта 2014 года, последняя &mdash; 7 апреля 2016 года.\n",
    "\n",
    "`last_seen` &mdash; дата последней активности пользователя\n",
    "<br> Значения определены для всех записей.\n",
    "<br> Значения определены с точностью до 1 c.\n",
    "<br> Количество уникальных значений &mdash; 179 150.\n",
    "<br> Мода &mdash; 6 апреля 2016 года 13:45:54, её частота &mdash; 17.\n",
    "<br> Самая ранняя последняя активность была 5 марта 2016 года в 14:15:08, самая поздняя активность пользователя была 7 апреля 2016 года в 14:58:51.\n",
    "\n",
    "`repaired` &mdash; факт ремонта автомобиля\n",
    "<br> Значения определены для 283 215 записей &mdash; это 80 % всех значений.\n",
    "<br> Количество уникальных значений &mdash; 2.\n",
    "<br> Мода &mdash; no, её частота &mdash; 247 161.\n",
    "<br> Соотношение значений no и yes составляет почти 7 : 1.\n",
    "<br> Значения могут быть заменены на 0 и 1 без потери смысла, поскольку признак измеряется в дихотомической шкале.\n",
    "\n",
    "`gearbox` &mdash; тип коробки передач\n",
    "<br> Значения определены для 334 536 записей &mdash; это 94 % всех записей.\n",
    "<br> Количество уникальных значений &mdash; 2.\n",
    "<br> Мода &mdash; manual, её частота &mdash; 268 251.\n",
    "<br> Соотношение значений manual и auto составляет почти 4 : 1.\n",
    "<br> Значения могут быть заменены на 0 и 1 без потери смысла, поскольку признак измеряется в дихотомической шкале.\n",
    "\n",
    "`registration_year` &mdash; год регистрации автомобиля\n",
    "<br> Значения определены для всех записей.\n",
    "<br> Количество уникальных значений &mdash; 151.\n",
    "<br> Мода &mdash; 2000 год, её частота &mdash; 24 490.\n",
    "<br> Минимальное значение года регистрации &mdash; 1000 год, максимальное &mdash; 9999 год.\n",
    "<br> Поскольку все объявления были созданы в 2014&ndash;2016 годах, и активность пользователей наблюдалась тоже до последнего дня, в который объявления были сохранены из базы, очевидно, что год регистрации ограничен сверху значением 2016. С другой стороны, минимальное значение года регистрации ограничено годом выпуска самого старого автомобиля в наборе данных. Так первый автомобиль, запущенный в серийное производство, появился в 1886 году, когда Карл Бенц разработал автомобиль с бензиновым двигателем и изготовил несколько идентичных копий. Более позднее автомобильное производство было отмечено Ford Model T, созданным Ford Motor Company в 1908 году, который стал первым автомобилем, массово выпускаемым на движущейся сборочной линии."
   ]
  },
  {
   "cell_type": "markdown",
   "id": "c08ab3cd",
   "metadata": {
    "id": "c08ab3cd"
   },
   "source": [
    "**Промежуточный вывод**\n",
    "\n",
    "- В наборе данных имеются признаки, измеряемые в различных количественных и качественных шкалах.\n",
    "- В наборе данных наблюдаются аномальные значения, противоречащие физической природе данных, вложенные сведения, пропуски в данных, изменённые типы данных, неинформативные признаки.\n",
    "- Необходимо провести предварительную обработку данных:\n",
    "    - выявить и отредактировать/удалить сведения, содержащие аномальные значения, ошибки в данных,\n",
    "    - извлечь вложенные сведения,\n",
    "    - заполнить пропуски подходящими значениями, где это возможно, в противном случае заполнить фиктивными значениями-метками или удалить записи,\n",
    "    - удалить неинформативные признаки,\n",
    "    - привести типы данных к требуемым в соответствии с природой признака и его шкалой,\n",
    "    - проверить наличие дубликатов: полных и частичных, удалить дубли."
   ]
  },
  {
   "cell_type": "markdown",
   "id": "a9ce01ea",
   "metadata": {
    "id": "a9ce01ea"
   },
   "source": [
    "## Предобработка данных"
   ]
  },
  {
   "cell_type": "markdown",
   "id": "938d1e34",
   "metadata": {
    "id": "938d1e34"
   },
   "source": [
    "### Редактирование значений"
   ]
  },
  {
   "cell_type": "markdown",
   "id": "8682a364",
   "metadata": {
    "id": "8682a364"
   },
   "source": [
    "Поскольку значения *'petrol'* и *'gasoline'* признака `fuel_type` являются [синонимами](https://en.wikipedia.org/wiki/Gasoline) и обозначают бензиновый двигатель, оставим только одно значение *'gasoline'*."
   ]
  },
  {
   "cell_type": "code",
   "execution_count": 30,
   "id": "61e9dc81",
   "metadata": {
    "colab": {
     "base_uri": "https://localhost:8080/"
    },
    "id": "61e9dc81",
    "outputId": "066d9bf4-6f78-4c27-c6a3-88110130156e"
   },
   "outputs": [
    {
     "data": {
      "text/plain": [
       "['gasoline', nan, 'lpg', 'other', 'hybrid', 'cng', 'electric']"
      ]
     },
     "execution_count": 30,
     "metadata": {},
     "output_type": "execute_result"
    }
   ],
   "source": [
    "data.loc[data['fuel_type'] == 'petrol', 'fuel_type'] = 'gasoline'\n",
    "data['fuel_type'].unique().tolist()"
   ]
  },
  {
   "cell_type": "markdown",
   "id": "f47dca08",
   "metadata": {
    "id": "f47dca08"
   },
   "source": [
    "В целях приведения значений к одному языку заменим словосочетание *'sonstige_autos'* (нем. *другие автомобили*) на *'other'*."
   ]
  },
  {
   "cell_type": "code",
   "execution_count": 31,
   "id": "d358dd93",
   "metadata": {
    "colab": {
     "base_uri": "https://localhost:8080/"
    },
    "id": "d358dd93",
    "outputId": "0499cbdb-a348-4a7e-a94a-d46ad29b855d",
    "scrolled": true
   },
   "outputs": [
    {
     "data": {
      "text/plain": [
       "array(['alfa_romeo', 'audi', 'bmw', 'chevrolet', 'chrysler', 'citroen',\n",
       "       'dacia', 'daewoo', 'daihatsu', 'fiat', 'ford', 'honda', 'hyundai',\n",
       "       'jaguar', 'jeep', 'kia', 'lada', 'lancia', 'land_rover', 'mazda',\n",
       "       'mercedes_benz', 'mini', 'mitsubishi', 'nissan', 'opel', 'other',\n",
       "       'peugeot', 'porsche', 'renault', 'rover', 'saab', 'seat', 'skoda',\n",
       "       'smart', 'subaru', 'suzuki', 'toyota', 'trabant', 'volkswagen',\n",
       "       'volvo'], dtype=object)"
      ]
     },
     "execution_count": 31,
     "metadata": {},
     "output_type": "execute_result"
    }
   ],
   "source": [
    "data.loc[data['brand'] == 'sonstige_autos', 'brand'] = 'other'\n",
    "data['brand'].sort_values().unique()"
   ]
  },
  {
   "cell_type": "markdown",
   "id": "e572d723",
   "metadata": {
    "id": "e572d723"
   },
   "source": [
    "Так как минимальное значение мощности двигателя составляет 9 л. с., а максимальное &mdash; 1600 л. с., заменим значения мощности двигателя в записях, в которые она не удовлетворяет этим условиям, на значение *NaN*."
   ]
  },
  {
   "cell_type": "code",
   "execution_count": 32,
   "id": "b9331cae",
   "metadata": {
    "colab": {
     "base_uri": "https://localhost:8080/"
    },
    "id": "b9331cae",
    "outputId": "cc05c648-2060-44fe-e937-42b77bde0d8e"
   },
   "outputs": [
    {
     "data": {
      "text/plain": [
       "0"
      ]
     },
     "execution_count": 32,
     "metadata": {},
     "output_type": "execute_result"
    }
   ],
   "source": [
    "data.loc[(data['power'] < 9) | (data['power'] > 1600), 'power'] = np.nan\n",
    "len(data[(data['power'] < 9) | (data['power'] > 1600)])"
   ]
  },
  {
   "cell_type": "markdown",
   "id": "ddbdedf4",
   "metadata": {
    "id": "ddbdedf4"
   },
   "source": [
    "Поскольку значение *'0'* месяца регистрации на практике недостижимо, заменим это значение в записях на *NaN*."
   ]
  },
  {
   "cell_type": "code",
   "execution_count": 33,
   "id": "80294629",
   "metadata": {
    "colab": {
     "base_uri": "https://localhost:8080/"
    },
    "id": "80294629",
    "outputId": "66378c0d-083e-4154-8f3c-8d53fb09b8c3"
   },
   "outputs": [
    {
     "data": {
      "text/plain": [
       "0"
      ]
     },
     "execution_count": 33,
     "metadata": {},
     "output_type": "execute_result"
    }
   ],
   "source": [
    "data.loc[data['registration_month'] == 0, 'registration_month'] = np.nan\n",
    "len(data[data['registration_month'] == 0])"
   ]
  },
  {
   "cell_type": "markdown",
   "id": "5683448e",
   "metadata": {
    "id": "5683448e"
   },
   "source": [
    "Так как автомобили серийно начали выпускаться с 1910 года, записи, в которых год регистрации указан раньше 1910 года (и года приходятся на века до XX века), вероятно, являются ошибочными. Но записи, в которых годом регистрации является 1910 г., являются сомнительными в данном наборе, поскольку такое количество записей аномально высоко, в то время как количество записей, в которых годом регистрации является какой-либо год следующих двух десятилетий, имеются в наборе данных в единичном количестве."
   ]
  },
  {
   "cell_type": "code",
   "execution_count": 34,
   "id": "e54961c9",
   "metadata": {
    "colab": {
     "base_uri": "https://localhost:8080/"
    },
    "id": "e54961c9",
    "outputId": "e70b651a-60fc-4675-a74b-fe0617ad1ecc",
    "scrolled": true
   },
   "outputs": [
    {
     "data": {
      "text/plain": [
       "1500      5\n",
       "1600      2\n",
       "1602      1\n",
       "1688      1\n",
       "1800      5\n",
       "1910    101\n",
       "1915      1\n",
       "1919      1\n",
       "1920      1\n",
       "1923      2\n",
       "1925      1\n",
       "1927      1\n",
       "1928      2\n",
       "1929      7\n",
       "1930      3\n",
       "Name: registration_year, dtype: int64"
      ]
     },
     "execution_count": 34,
     "metadata": {},
     "output_type": "execute_result"
    }
   ],
   "source": [
    "data['registration_year'].value_counts().sort_index().head(25).tail(15)"
   ]
  },
  {
   "cell_type": "code",
   "execution_count": 35,
   "id": "84b5c190",
   "metadata": {
    "colab": {
     "base_uri": "https://localhost:8080/"
    },
    "id": "84b5c190",
    "outputId": "04f692b3-4fc5-48ac-d7cd-42915c7e41f5"
   },
   "outputs": [
    {
     "data": {
      "text/plain": [
       "0"
      ]
     },
     "execution_count": 35,
     "metadata": {},
     "output_type": "execute_result"
    }
   ],
   "source": [
    "data.loc[(data['registration_year'] <= 1910) |\n",
    "         (data['registration_year'] > 2016), 'registration_year'] = np.nan\n",
    "len(data[(data['registration_year'] <= 1910) |\n",
    "         (data['registration_year'] > 2016)])"
   ]
  },
  {
   "cell_type": "markdown",
   "id": "f52e13c5",
   "metadata": {
    "id": "f52e13c5"
   },
   "source": [
    "### Удаление признаков"
   ]
  },
  {
   "cell_type": "markdown",
   "id": "0077365f",
   "metadata": {
    "id": "0077365f"
   },
   "source": [
    "Поскольку признак `number_of_pictures` содержит всего одно значение ноль и, таким образом, не является информативным, удалим его.\n",
    "\n",
    "Признак `date_crawled` носит технический характер (относится к данным о работе с базой данных сервиса) и не влияет на формирование цены автомобиля, удалим его тоже."
   ]
  },
  {
   "cell_type": "code",
   "execution_count": 36,
   "id": "e452f653",
   "metadata": {
    "colab": {
     "base_uri": "https://localhost:8080/"
    },
    "id": "e452f653",
    "outputId": "d09cfe2f-8ef5-4c96-cdb9-11ab0e9fa406"
   },
   "outputs": [
    {
     "data": {
      "text/plain": [
       "['brand',\n",
       " 'date_created',\n",
       " 'fuel_type',\n",
       " 'gearbox',\n",
       " 'kilometer',\n",
       " 'last_seen',\n",
       " 'model',\n",
       " 'postal_code',\n",
       " 'power',\n",
       " 'price',\n",
       " 'registration_month',\n",
       " 'registration_year',\n",
       " 'repaired',\n",
       " 'vehicle_type']"
      ]
     },
     "execution_count": 36,
     "metadata": {},
     "output_type": "execute_result"
    }
   ],
   "source": [
    "data.drop(['number_of_pictures', 'date_crawled'], axis=1, inplace=True)\n",
    "data.columns.sort_values().tolist()"
   ]
  },
  {
   "cell_type": "markdown",
   "id": "389d4e7e",
   "metadata": {
    "id": "389d4e7e"
   },
   "source": [
    "### Удаление записей"
   ]
  },
  {
   "cell_type": "markdown",
   "id": "6ca081dc",
   "metadata": {
    "id": "6ca081dc"
   },
   "source": [
    "Записи, в которых цена автомобиля `price` указана менее 100 евро, являются сомнительными. Для того чтобы не исказить данные и не изменить распределение значений целевого признака, удалим такие записи."
   ]
  },
  {
   "cell_type": "code",
   "execution_count": 37,
   "id": "d704996a",
   "metadata": {
    "colab": {
     "base_uri": "https://localhost:8080/"
    },
    "id": "d704996a",
    "outputId": "c5e98945-1d9d-44e3-ef5e-321217412564"
   },
   "outputs": [
    {
     "data": {
      "text/plain": [
       "0"
      ]
     },
     "execution_count": 37,
     "metadata": {},
     "output_type": "execute_result"
    }
   ],
   "source": [
    "data.drop(labels=data[data['price'] < 100].index, inplace=True)\n",
    "data[data['price'] < 100].shape[0]"
   ]
  },
  {
   "cell_type": "code",
   "execution_count": 38,
   "id": "de8c8219",
   "metadata": {
    "colab": {
     "base_uri": "https://localhost:8080/"
    },
    "id": "de8c8219",
    "outputId": "3804bdf3-c7f4-46e3-f503-66425b951cef"
   },
   "outputs": [
    {
     "data": {
      "text/plain": [
       "341055"
      ]
     },
     "execution_count": 38,
     "metadata": {},
     "output_type": "execute_result"
    }
   ],
   "source": [
    "data.shape[0]"
   ]
  },
  {
   "cell_type": "markdown",
   "id": "f7a96156",
   "metadata": {
    "id": "f7a96156"
   },
   "source": [
    "В наборе данных существуют записи, в которые имеются пропуски сразу в нескольких важных признаках, относящихся к конструктивным и инженерно-техническим характеристикам автомобиля &mdash; это типы кузова, двигателя и коробки передач. Поскольку для этих автомобилей неизвестна ещё и модель, то не представляется возможным применить какой-либо способ заполнения пропусков. Удалим такие записи."
   ]
  },
  {
   "cell_type": "code",
   "execution_count": 39,
   "id": "7c548474",
   "metadata": {
    "colab": {
     "base_uri": "https://localhost:8080/"
    },
    "id": "7c548474",
    "outputId": "b649a6e3-897c-4c60-ca7e-cfefff957339"
   },
   "outputs": [
    {
     "data": {
      "text/plain": [
       "339699"
      ]
     },
     "execution_count": 39,
     "metadata": {},
     "output_type": "execute_result"
    }
   ],
   "source": [
    "data.drop(labels=data[\n",
    "    data['vehicle_type'].isna()\n",
    "    & data['fuel_type'].isna()\n",
    "    & data['gearbox'].isna()\n",
    "    & data['model'].isna()\n",
    "].index, inplace=True)\n",
    "data.shape[0]"
   ]
  },
  {
   "cell_type": "markdown",
   "id": "8b6b1418",
   "metadata": {
    "id": "8b6b1418"
   },
   "source": [
    "### Обработка пропусков"
   ]
  },
  {
   "cell_type": "markdown",
   "id": "9d852f7d",
   "metadata": {
    "id": "9d852f7d"
   },
   "source": [
    "Предварительно зададим функцию, выводящую таблицу с распределением пропущенных значений."
   ]
  },
  {
   "cell_type": "code",
   "execution_count": 40,
   "id": "12d8d166",
   "metadata": {
    "id": "12d8d166"
   },
   "outputs": [],
   "source": [
    "def show_na():\n",
    "    '''\n",
    "    Функция подсчёта пропущенных значений.\n",
    "    \n",
    "    Возвращает таблицу распределения пропущенных значений,\n",
    "    отсортированную по убыванию значений.\n",
    "    \n",
    "    '''\n",
    "\n",
    "    total = data.isna().sum().sort_values(ascending=False)\n",
    "    percent = (data.isna().sum() /\n",
    "               data.isna().count() * 100).round(1).sort_values(ascending=False)\n",
    "    display(pd.concat([total, percent], axis=1, keys=['Всего пропусков', '%']))"
   ]
  },
  {
   "cell_type": "code",
   "execution_count": 41,
   "id": "cc3c3c79",
   "metadata": {
    "colab": {
     "base_uri": "https://localhost:8080/",
     "height": 488
    },
    "id": "cc3c3c79",
    "outputId": "35c226b9-c0f7-4283-f3bb-e6f216dde233"
   },
   "outputs": [
    {
     "data": {
      "text/html": [
       "\n",
       "  <div id=\"df-2c534cf5-b730-4452-b613-c97efaa482b6\" class=\"colab-df-container\">\n",
       "    <div>\n",
       "<style scoped>\n",
       "    .dataframe tbody tr th:only-of-type {\n",
       "        vertical-align: middle;\n",
       "    }\n",
       "\n",
       "    .dataframe tbody tr th {\n",
       "        vertical-align: top;\n",
       "    }\n",
       "\n",
       "    .dataframe thead th {\n",
       "        text-align: right;\n",
       "    }\n",
       "</style>\n",
       "<table border=\"1\" class=\"dataframe\">\n",
       "  <thead>\n",
       "    <tr style=\"text-align: right;\">\n",
       "      <th></th>\n",
       "      <th>Всего пропусков</th>\n",
       "      <th>%</th>\n",
       "    </tr>\n",
       "  </thead>\n",
       "  <tbody>\n",
       "    <tr>\n",
       "      <th>repaired</th>\n",
       "      <td>63108</td>\n",
       "      <td>18.6</td>\n",
       "    </tr>\n",
       "    <tr>\n",
       "      <th>power</th>\n",
       "      <td>34267</td>\n",
       "      <td>10.1</td>\n",
       "    </tr>\n",
       "    <tr>\n",
       "      <th>vehicle_type</th>\n",
       "      <td>31256</td>\n",
       "      <td>9.2</td>\n",
       "    </tr>\n",
       "    <tr>\n",
       "      <th>registration_month</th>\n",
       "      <td>30492</td>\n",
       "      <td>9.0</td>\n",
       "    </tr>\n",
       "    <tr>\n",
       "      <th>fuel_type</th>\n",
       "      <td>26993</td>\n",
       "      <td>7.9</td>\n",
       "    </tr>\n",
       "    <tr>\n",
       "      <th>model</th>\n",
       "      <td>15677</td>\n",
       "      <td>4.6</td>\n",
       "    </tr>\n",
       "    <tr>\n",
       "      <th>gearbox</th>\n",
       "      <td>14958</td>\n",
       "      <td>4.4</td>\n",
       "    </tr>\n",
       "    <tr>\n",
       "      <th>registration_year</th>\n",
       "      <td>13566</td>\n",
       "      <td>4.0</td>\n",
       "    </tr>\n",
       "    <tr>\n",
       "      <th>price</th>\n",
       "      <td>0</td>\n",
       "      <td>0.0</td>\n",
       "    </tr>\n",
       "    <tr>\n",
       "      <th>kilometer</th>\n",
       "      <td>0</td>\n",
       "      <td>0.0</td>\n",
       "    </tr>\n",
       "    <tr>\n",
       "      <th>brand</th>\n",
       "      <td>0</td>\n",
       "      <td>0.0</td>\n",
       "    </tr>\n",
       "    <tr>\n",
       "      <th>date_created</th>\n",
       "      <td>0</td>\n",
       "      <td>0.0</td>\n",
       "    </tr>\n",
       "    <tr>\n",
       "      <th>postal_code</th>\n",
       "      <td>0</td>\n",
       "      <td>0.0</td>\n",
       "    </tr>\n",
       "    <tr>\n",
       "      <th>last_seen</th>\n",
       "      <td>0</td>\n",
       "      <td>0.0</td>\n",
       "    </tr>\n",
       "  </tbody>\n",
       "</table>\n",
       "</div>\n",
       "    <div class=\"colab-df-buttons\">\n",
       "\n",
       "  <div class=\"colab-df-container\">\n",
       "    <button class=\"colab-df-convert\" onclick=\"convertToInteractive('df-2c534cf5-b730-4452-b613-c97efaa482b6')\"\n",
       "            title=\"Convert this dataframe to an interactive table.\"\n",
       "            style=\"display:none;\">\n",
       "\n",
       "  <svg xmlns=\"http://www.w3.org/2000/svg\" height=\"24px\" viewBox=\"0 -960 960 960\">\n",
       "    <path d=\"M120-120v-720h720v720H120Zm60-500h600v-160H180v160Zm220 220h160v-160H400v160Zm0 220h160v-160H400v160ZM180-400h160v-160H180v160Zm440 0h160v-160H620v160ZM180-180h160v-160H180v160Zm440 0h160v-160H620v160Z\"/>\n",
       "  </svg>\n",
       "    </button>\n",
       "\n",
       "  <style>\n",
       "    .colab-df-container {\n",
       "      display:flex;\n",
       "      gap: 12px;\n",
       "    }\n",
       "\n",
       "    .colab-df-convert {\n",
       "      background-color: #E8F0FE;\n",
       "      border: none;\n",
       "      border-radius: 50%;\n",
       "      cursor: pointer;\n",
       "      display: none;\n",
       "      fill: #1967D2;\n",
       "      height: 32px;\n",
       "      padding: 0 0 0 0;\n",
       "      width: 32px;\n",
       "    }\n",
       "\n",
       "    .colab-df-convert:hover {\n",
       "      background-color: #E2EBFA;\n",
       "      box-shadow: 0px 1px 2px rgba(60, 64, 67, 0.3), 0px 1px 3px 1px rgba(60, 64, 67, 0.15);\n",
       "      fill: #174EA6;\n",
       "    }\n",
       "\n",
       "    .colab-df-buttons div {\n",
       "      margin-bottom: 4px;\n",
       "    }\n",
       "\n",
       "    [theme=dark] .colab-df-convert {\n",
       "      background-color: #3B4455;\n",
       "      fill: #D2E3FC;\n",
       "    }\n",
       "\n",
       "    [theme=dark] .colab-df-convert:hover {\n",
       "      background-color: #434B5C;\n",
       "      box-shadow: 0px 1px 3px 1px rgba(0, 0, 0, 0.15);\n",
       "      filter: drop-shadow(0px 1px 2px rgba(0, 0, 0, 0.3));\n",
       "      fill: #FFFFFF;\n",
       "    }\n",
       "  </style>\n",
       "\n",
       "    <script>\n",
       "      const buttonEl =\n",
       "        document.querySelector('#df-2c534cf5-b730-4452-b613-c97efaa482b6 button.colab-df-convert');\n",
       "      buttonEl.style.display =\n",
       "        google.colab.kernel.accessAllowed ? 'block' : 'none';\n",
       "\n",
       "      async function convertToInteractive(key) {\n",
       "        const element = document.querySelector('#df-2c534cf5-b730-4452-b613-c97efaa482b6');\n",
       "        const dataTable =\n",
       "          await google.colab.kernel.invokeFunction('convertToInteractive',\n",
       "                                                    [key], {});\n",
       "        if (!dataTable) return;\n",
       "\n",
       "        const docLinkHtml = 'Like what you see? Visit the ' +\n",
       "          '<a target=\"_blank\" href=https://colab.research.google.com/notebooks/data_table.ipynb>data table notebook</a>'\n",
       "          + ' to learn more about interactive tables.';\n",
       "        element.innerHTML = '';\n",
       "        dataTable['output_type'] = 'display_data';\n",
       "        await google.colab.output.renderOutput(dataTable, element);\n",
       "        const docLink = document.createElement('div');\n",
       "        docLink.innerHTML = docLinkHtml;\n",
       "        element.appendChild(docLink);\n",
       "      }\n",
       "    </script>\n",
       "  </div>\n",
       "\n",
       "\n",
       "<div id=\"df-8395e317-04ab-40d9-8228-fddfb87917b1\">\n",
       "  <button class=\"colab-df-quickchart\" onclick=\"quickchart('df-8395e317-04ab-40d9-8228-fddfb87917b1')\"\n",
       "            title=\"Suggest charts.\"\n",
       "            style=\"display:none;\">\n",
       "\n",
       "<svg xmlns=\"http://www.w3.org/2000/svg\" height=\"24px\"viewBox=\"0 0 24 24\"\n",
       "     width=\"24px\">\n",
       "    <g>\n",
       "        <path d=\"M19 3H5c-1.1 0-2 .9-2 2v14c0 1.1.9 2 2 2h14c1.1 0 2-.9 2-2V5c0-1.1-.9-2-2-2zM9 17H7v-7h2v7zm4 0h-2V7h2v10zm4 0h-2v-4h2v4z\"/>\n",
       "    </g>\n",
       "</svg>\n",
       "  </button>\n",
       "\n",
       "<style>\n",
       "  .colab-df-quickchart {\n",
       "      --bg-color: #E8F0FE;\n",
       "      --fill-color: #1967D2;\n",
       "      --hover-bg-color: #E2EBFA;\n",
       "      --hover-fill-color: #174EA6;\n",
       "      --disabled-fill-color: #AAA;\n",
       "      --disabled-bg-color: #DDD;\n",
       "  }\n",
       "\n",
       "  [theme=dark] .colab-df-quickchart {\n",
       "      --bg-color: #3B4455;\n",
       "      --fill-color: #D2E3FC;\n",
       "      --hover-bg-color: #434B5C;\n",
       "      --hover-fill-color: #FFFFFF;\n",
       "      --disabled-bg-color: #3B4455;\n",
       "      --disabled-fill-color: #666;\n",
       "  }\n",
       "\n",
       "  .colab-df-quickchart {\n",
       "    background-color: var(--bg-color);\n",
       "    border: none;\n",
       "    border-radius: 50%;\n",
       "    cursor: pointer;\n",
       "    display: none;\n",
       "    fill: var(--fill-color);\n",
       "    height: 32px;\n",
       "    padding: 0;\n",
       "    width: 32px;\n",
       "  }\n",
       "\n",
       "  .colab-df-quickchart:hover {\n",
       "    background-color: var(--hover-bg-color);\n",
       "    box-shadow: 0 1px 2px rgba(60, 64, 67, 0.3), 0 1px 3px 1px rgba(60, 64, 67, 0.15);\n",
       "    fill: var(--button-hover-fill-color);\n",
       "  }\n",
       "\n",
       "  .colab-df-quickchart-complete:disabled,\n",
       "  .colab-df-quickchart-complete:disabled:hover {\n",
       "    background-color: var(--disabled-bg-color);\n",
       "    fill: var(--disabled-fill-color);\n",
       "    box-shadow: none;\n",
       "  }\n",
       "\n",
       "  .colab-df-spinner {\n",
       "    border: 2px solid var(--fill-color);\n",
       "    border-color: transparent;\n",
       "    border-bottom-color: var(--fill-color);\n",
       "    animation:\n",
       "      spin 1s steps(1) infinite;\n",
       "  }\n",
       "\n",
       "  @keyframes spin {\n",
       "    0% {\n",
       "      border-color: transparent;\n",
       "      border-bottom-color: var(--fill-color);\n",
       "      border-left-color: var(--fill-color);\n",
       "    }\n",
       "    20% {\n",
       "      border-color: transparent;\n",
       "      border-left-color: var(--fill-color);\n",
       "      border-top-color: var(--fill-color);\n",
       "    }\n",
       "    30% {\n",
       "      border-color: transparent;\n",
       "      border-left-color: var(--fill-color);\n",
       "      border-top-color: var(--fill-color);\n",
       "      border-right-color: var(--fill-color);\n",
       "    }\n",
       "    40% {\n",
       "      border-color: transparent;\n",
       "      border-right-color: var(--fill-color);\n",
       "      border-top-color: var(--fill-color);\n",
       "    }\n",
       "    60% {\n",
       "      border-color: transparent;\n",
       "      border-right-color: var(--fill-color);\n",
       "    }\n",
       "    80% {\n",
       "      border-color: transparent;\n",
       "      border-right-color: var(--fill-color);\n",
       "      border-bottom-color: var(--fill-color);\n",
       "    }\n",
       "    90% {\n",
       "      border-color: transparent;\n",
       "      border-bottom-color: var(--fill-color);\n",
       "    }\n",
       "  }\n",
       "</style>\n",
       "\n",
       "  <script>\n",
       "    async function quickchart(key) {\n",
       "      const quickchartButtonEl =\n",
       "        document.querySelector('#' + key + ' button');\n",
       "      quickchartButtonEl.disabled = true;  // To prevent multiple clicks.\n",
       "      quickchartButtonEl.classList.add('colab-df-spinner');\n",
       "      try {\n",
       "        const charts = await google.colab.kernel.invokeFunction(\n",
       "            'suggestCharts', [key], {});\n",
       "      } catch (error) {\n",
       "        console.error('Error during call to suggestCharts:', error);\n",
       "      }\n",
       "      quickchartButtonEl.classList.remove('colab-df-spinner');\n",
       "      quickchartButtonEl.classList.add('colab-df-quickchart-complete');\n",
       "    }\n",
       "    (() => {\n",
       "      let quickchartButtonEl =\n",
       "        document.querySelector('#df-8395e317-04ab-40d9-8228-fddfb87917b1 button');\n",
       "      quickchartButtonEl.style.display =\n",
       "        google.colab.kernel.accessAllowed ? 'block' : 'none';\n",
       "    })();\n",
       "  </script>\n",
       "</div>\n",
       "    </div>\n",
       "  </div>\n"
      ],
      "text/plain": [
       "                    Всего пропусков     %\n",
       "repaired                      63108  18.6\n",
       "power                         34267  10.1\n",
       "vehicle_type                  31256   9.2\n",
       "registration_month            30492   9.0\n",
       "fuel_type                     26993   7.9\n",
       "model                         15677   4.6\n",
       "gearbox                       14958   4.4\n",
       "registration_year             13566   4.0\n",
       "price                             0   0.0\n",
       "kilometer                         0   0.0\n",
       "brand                             0   0.0\n",
       "date_created                      0   0.0\n",
       "postal_code                       0   0.0\n",
       "last_seen                         0   0.0"
      ]
     },
     "metadata": {},
     "output_type": "display_data"
    }
   ],
   "source": [
    "show_na()"
   ]
  },
  {
   "cell_type": "markdown",
   "id": "dfa45e99",
   "metadata": {
    "id": "dfa45e99"
   },
   "source": [
    "Факт ремонта автомобиля `repaired` может принимать всего два значения: был ли ремонт &mdash; *'yes'*, или его не было &mdash; *'no'*. Наиболее вероятное значение для заполнения пропусков &mdash; это *'no'*, поскольку владелец при составлении объявления мог не указывать ничего в этой графе, если его автомобиль не был в ремонте. С другой стороны, владелец мог утаить о том, что автомобиль проходил ремонт, но такая ситуация представляется маловероятной.\n",
    "\n",
    "Поэтому заполним пропущенные значения признака `repaired` значением *'no'*."
   ]
  },
  {
   "cell_type": "code",
   "execution_count": 42,
   "id": "10401855",
   "metadata": {
    "colab": {
     "base_uri": "https://localhost:8080/"
    },
    "id": "10401855",
    "outputId": "e947dc93-c87e-4ab3-9e56-96177b7ad059"
   },
   "outputs": [
    {
     "data": {
      "text/plain": [
       "array(['no', 'yes'], dtype=object)"
      ]
     },
     "execution_count": 42,
     "metadata": {},
     "output_type": "execute_result"
    }
   ],
   "source": [
    "data['repaired'].fillna('no', inplace=True)\n",
    "data['repaired'].unique()"
   ]
  },
  {
   "cell_type": "markdown",
   "id": "1107c185",
   "metadata": {
    "id": "1107c185"
   },
   "source": [
    "Поскольку признак `model` допускает использование значения *'other'* для обозначения моделей автомобилей, которых нет в списке сервиса, заполнять пропуски в этом признаке значением из уже существующих нет оснований &mdash; это могут быть автомобили тех моделей, которые есть в наборе данных или же которых нет, но тогда для таких автомобилей есть значение *'other'*. Автомобили разных моделей даже одного производителя могут иметь схожие конструктивные и инженерно-технические характеристики, поэтому на основании этих значений и знания о марке автомобиля не представляется возможным заполнить пропуски. Скорее марка и модель автомобиля будут определять возможные инженерно-технические характеристики автомобиля, но не наоборот.\n",
    "\n",
    "Поэтому заполним пропущенные значения признака `model` значение *'unknown'*."
   ]
  },
  {
   "cell_type": "code",
   "execution_count": 43,
   "id": "aaed69d2",
   "metadata": {
    "colab": {
     "base_uri": "https://localhost:8080/"
    },
    "id": "aaed69d2",
    "outputId": "4ce3f76c-82a8-4650-83de-9b811cc601ef",
    "scrolled": false
   },
   "outputs": [
    {
     "data": {
      "text/plain": [
       "array(['100', '145', '147', '156', '159', '1_reihe', '1er', '200',\n",
       "       '2_reihe', '300c', '3_reihe', '3er', '4_reihe', '500', '5_reihe',\n",
       "       '5er', '601', '6_reihe', '6er', '7er', '80', '850', '90', '900',\n",
       "       '9000', '911', 'a1', 'a2', 'a3', 'a4', 'a5', 'a6', 'a8',\n",
       "       'a_klasse', 'accord', 'agila', 'alhambra', 'almera', 'altea',\n",
       "       'amarok', 'antara', 'arosa', 'astra', 'auris', 'avensis', 'aveo',\n",
       "       'aygo', 'b_klasse', 'b_max', 'beetle', 'berlingo', 'bora',\n",
       "       'boxster', 'bravo', 'c1', 'c2', 'c3', 'c4', 'c5', 'c_klasse',\n",
       "       'c_max', 'c_reihe', 'caddy', 'calibra', 'captiva', 'carisma',\n",
       "       'carnival', 'cayenne', 'cc', 'ceed', 'charade', 'cherokee',\n",
       "       'citigo', 'civic', 'cl', 'clio', 'clk', 'clubman', 'colt', 'combo',\n",
       "       'cooper', 'cordoba', 'corolla', 'corsa', 'cr_reihe', 'croma',\n",
       "       'crossfire', 'cuore', 'cx_reihe', 'defender', 'delta', 'discovery',\n",
       "       'doblo', 'ducato', 'duster', 'e_klasse', 'elefantino', 'eos',\n",
       "       'escort', 'espace', 'exeo', 'fabia', 'fiesta', 'focus', 'forester',\n",
       "       'forfour', 'fortwo', 'fox', 'freelander', 'fusion', 'g_klasse',\n",
       "       'galant', 'galaxy', 'getz', 'gl', 'glk', 'golf', 'grand', 'i3',\n",
       "       'i_reihe', 'ibiza', 'impreza', 'insignia', 'jazz', 'jetta',\n",
       "       'jimny', 'juke', 'justy', 'ka', 'kadett', 'kaefer', 'kalina',\n",
       "       'kalos', 'kangoo', 'kappa', 'kuga', 'laguna', 'lancer', 'lanos',\n",
       "       'legacy', 'leon', 'lodgy', 'logan', 'lupo', 'lybra', 'm_klasse',\n",
       "       'm_reihe', 'materia', 'matiz', 'megane', 'meriva', 'micra', 'mii',\n",
       "       'modus', 'mondeo', 'move', 'musa', 'mustang', 'mx_reihe', 'navara',\n",
       "       'niva', 'note', 'nubira', 'octavia', 'omega', 'one', 'other',\n",
       "       'outlander', 'pajero', 'panda', 'passat', 'phaeton', 'picanto',\n",
       "       'polo', 'primera', 'ptcruiser', 'punto', 'q3', 'q5', 'q7',\n",
       "       'qashqai', 'r19', 'range_rover', 'range_rover_evoque',\n",
       "       'range_rover_sport', 'rangerover', 'rav', 'rio', 'roadster',\n",
       "       'roomster', 'rx_reihe', 's60', 's_klasse', 's_max', 's_type',\n",
       "       'samara', 'sandero', 'santa', 'scenic', 'scirocco', 'seicento',\n",
       "       'serie_1', 'serie_2', 'serie_3', 'sharan', 'signum', 'sirion',\n",
       "       'sl', 'slk', 'sorento', 'spark', 'spider', 'sportage', 'sprinter',\n",
       "       'stilo', 'superb', 'swift', 'terios', 'tigra', 'tiguan', 'toledo',\n",
       "       'touareg', 'touran', 'transit', 'transporter', 'tt', 'tucson',\n",
       "       'twingo', 'unknown', 'up', 'v40', 'v50', 'v60', 'v70', 'v_klasse',\n",
       "       'vectra', 'verso', 'viano', 'vito', 'vivaro', 'voyager',\n",
       "       'wrangler', 'x_reihe', 'x_trail', 'x_type', 'xc_reihe', 'yaris',\n",
       "       'yeti', 'ypsilon', 'z_reihe', 'zafira'], dtype=object)"
      ]
     },
     "execution_count": 43,
     "metadata": {},
     "output_type": "execute_result"
    }
   ],
   "source": [
    "data['model'].fillna('unknown', inplace=True)\n",
    "data['model'].sort_values().unique()"
   ]
  },
  {
   "cell_type": "code",
   "execution_count": 44,
   "id": "482e0fed",
   "metadata": {
    "colab": {
     "base_uri": "https://localhost:8080/",
     "height": 488
    },
    "id": "482e0fed",
    "outputId": "4a53e7a1-9fcc-450f-ba0b-bfa75a6971f7"
   },
   "outputs": [
    {
     "data": {
      "text/html": [
       "\n",
       "  <div id=\"df-ae6b7675-b9d0-4776-8e28-acaa7d872a25\" class=\"colab-df-container\">\n",
       "    <div>\n",
       "<style scoped>\n",
       "    .dataframe tbody tr th:only-of-type {\n",
       "        vertical-align: middle;\n",
       "    }\n",
       "\n",
       "    .dataframe tbody tr th {\n",
       "        vertical-align: top;\n",
       "    }\n",
       "\n",
       "    .dataframe thead th {\n",
       "        text-align: right;\n",
       "    }\n",
       "</style>\n",
       "<table border=\"1\" class=\"dataframe\">\n",
       "  <thead>\n",
       "    <tr style=\"text-align: right;\">\n",
       "      <th></th>\n",
       "      <th>Всего пропусков</th>\n",
       "      <th>%</th>\n",
       "    </tr>\n",
       "  </thead>\n",
       "  <tbody>\n",
       "    <tr>\n",
       "      <th>power</th>\n",
       "      <td>34267</td>\n",
       "      <td>10.1</td>\n",
       "    </tr>\n",
       "    <tr>\n",
       "      <th>vehicle_type</th>\n",
       "      <td>31256</td>\n",
       "      <td>9.2</td>\n",
       "    </tr>\n",
       "    <tr>\n",
       "      <th>registration_month</th>\n",
       "      <td>30492</td>\n",
       "      <td>9.0</td>\n",
       "    </tr>\n",
       "    <tr>\n",
       "      <th>fuel_type</th>\n",
       "      <td>26993</td>\n",
       "      <td>7.9</td>\n",
       "    </tr>\n",
       "    <tr>\n",
       "      <th>gearbox</th>\n",
       "      <td>14958</td>\n",
       "      <td>4.4</td>\n",
       "    </tr>\n",
       "    <tr>\n",
       "      <th>registration_year</th>\n",
       "      <td>13566</td>\n",
       "      <td>4.0</td>\n",
       "    </tr>\n",
       "    <tr>\n",
       "      <th>price</th>\n",
       "      <td>0</td>\n",
       "      <td>0.0</td>\n",
       "    </tr>\n",
       "    <tr>\n",
       "      <th>model</th>\n",
       "      <td>0</td>\n",
       "      <td>0.0</td>\n",
       "    </tr>\n",
       "    <tr>\n",
       "      <th>kilometer</th>\n",
       "      <td>0</td>\n",
       "      <td>0.0</td>\n",
       "    </tr>\n",
       "    <tr>\n",
       "      <th>brand</th>\n",
       "      <td>0</td>\n",
       "      <td>0.0</td>\n",
       "    </tr>\n",
       "    <tr>\n",
       "      <th>repaired</th>\n",
       "      <td>0</td>\n",
       "      <td>0.0</td>\n",
       "    </tr>\n",
       "    <tr>\n",
       "      <th>date_created</th>\n",
       "      <td>0</td>\n",
       "      <td>0.0</td>\n",
       "    </tr>\n",
       "    <tr>\n",
       "      <th>postal_code</th>\n",
       "      <td>0</td>\n",
       "      <td>0.0</td>\n",
       "    </tr>\n",
       "    <tr>\n",
       "      <th>last_seen</th>\n",
       "      <td>0</td>\n",
       "      <td>0.0</td>\n",
       "    </tr>\n",
       "  </tbody>\n",
       "</table>\n",
       "</div>\n",
       "    <div class=\"colab-df-buttons\">\n",
       "\n",
       "  <div class=\"colab-df-container\">\n",
       "    <button class=\"colab-df-convert\" onclick=\"convertToInteractive('df-ae6b7675-b9d0-4776-8e28-acaa7d872a25')\"\n",
       "            title=\"Convert this dataframe to an interactive table.\"\n",
       "            style=\"display:none;\">\n",
       "\n",
       "  <svg xmlns=\"http://www.w3.org/2000/svg\" height=\"24px\" viewBox=\"0 -960 960 960\">\n",
       "    <path d=\"M120-120v-720h720v720H120Zm60-500h600v-160H180v160Zm220 220h160v-160H400v160Zm0 220h160v-160H400v160ZM180-400h160v-160H180v160Zm440 0h160v-160H620v160ZM180-180h160v-160H180v160Zm440 0h160v-160H620v160Z\"/>\n",
       "  </svg>\n",
       "    </button>\n",
       "\n",
       "  <style>\n",
       "    .colab-df-container {\n",
       "      display:flex;\n",
       "      gap: 12px;\n",
       "    }\n",
       "\n",
       "    .colab-df-convert {\n",
       "      background-color: #E8F0FE;\n",
       "      border: none;\n",
       "      border-radius: 50%;\n",
       "      cursor: pointer;\n",
       "      display: none;\n",
       "      fill: #1967D2;\n",
       "      height: 32px;\n",
       "      padding: 0 0 0 0;\n",
       "      width: 32px;\n",
       "    }\n",
       "\n",
       "    .colab-df-convert:hover {\n",
       "      background-color: #E2EBFA;\n",
       "      box-shadow: 0px 1px 2px rgba(60, 64, 67, 0.3), 0px 1px 3px 1px rgba(60, 64, 67, 0.15);\n",
       "      fill: #174EA6;\n",
       "    }\n",
       "\n",
       "    .colab-df-buttons div {\n",
       "      margin-bottom: 4px;\n",
       "    }\n",
       "\n",
       "    [theme=dark] .colab-df-convert {\n",
       "      background-color: #3B4455;\n",
       "      fill: #D2E3FC;\n",
       "    }\n",
       "\n",
       "    [theme=dark] .colab-df-convert:hover {\n",
       "      background-color: #434B5C;\n",
       "      box-shadow: 0px 1px 3px 1px rgba(0, 0, 0, 0.15);\n",
       "      filter: drop-shadow(0px 1px 2px rgba(0, 0, 0, 0.3));\n",
       "      fill: #FFFFFF;\n",
       "    }\n",
       "  </style>\n",
       "\n",
       "    <script>\n",
       "      const buttonEl =\n",
       "        document.querySelector('#df-ae6b7675-b9d0-4776-8e28-acaa7d872a25 button.colab-df-convert');\n",
       "      buttonEl.style.display =\n",
       "        google.colab.kernel.accessAllowed ? 'block' : 'none';\n",
       "\n",
       "      async function convertToInteractive(key) {\n",
       "        const element = document.querySelector('#df-ae6b7675-b9d0-4776-8e28-acaa7d872a25');\n",
       "        const dataTable =\n",
       "          await google.colab.kernel.invokeFunction('convertToInteractive',\n",
       "                                                    [key], {});\n",
       "        if (!dataTable) return;\n",
       "\n",
       "        const docLinkHtml = 'Like what you see? Visit the ' +\n",
       "          '<a target=\"_blank\" href=https://colab.research.google.com/notebooks/data_table.ipynb>data table notebook</a>'\n",
       "          + ' to learn more about interactive tables.';\n",
       "        element.innerHTML = '';\n",
       "        dataTable['output_type'] = 'display_data';\n",
       "        await google.colab.output.renderOutput(dataTable, element);\n",
       "        const docLink = document.createElement('div');\n",
       "        docLink.innerHTML = docLinkHtml;\n",
       "        element.appendChild(docLink);\n",
       "      }\n",
       "    </script>\n",
       "  </div>\n",
       "\n",
       "\n",
       "<div id=\"df-8385c2b4-0fdd-4418-8aeb-906b5380a062\">\n",
       "  <button class=\"colab-df-quickchart\" onclick=\"quickchart('df-8385c2b4-0fdd-4418-8aeb-906b5380a062')\"\n",
       "            title=\"Suggest charts.\"\n",
       "            style=\"display:none;\">\n",
       "\n",
       "<svg xmlns=\"http://www.w3.org/2000/svg\" height=\"24px\"viewBox=\"0 0 24 24\"\n",
       "     width=\"24px\">\n",
       "    <g>\n",
       "        <path d=\"M19 3H5c-1.1 0-2 .9-2 2v14c0 1.1.9 2 2 2h14c1.1 0 2-.9 2-2V5c0-1.1-.9-2-2-2zM9 17H7v-7h2v7zm4 0h-2V7h2v10zm4 0h-2v-4h2v4z\"/>\n",
       "    </g>\n",
       "</svg>\n",
       "  </button>\n",
       "\n",
       "<style>\n",
       "  .colab-df-quickchart {\n",
       "      --bg-color: #E8F0FE;\n",
       "      --fill-color: #1967D2;\n",
       "      --hover-bg-color: #E2EBFA;\n",
       "      --hover-fill-color: #174EA6;\n",
       "      --disabled-fill-color: #AAA;\n",
       "      --disabled-bg-color: #DDD;\n",
       "  }\n",
       "\n",
       "  [theme=dark] .colab-df-quickchart {\n",
       "      --bg-color: #3B4455;\n",
       "      --fill-color: #D2E3FC;\n",
       "      --hover-bg-color: #434B5C;\n",
       "      --hover-fill-color: #FFFFFF;\n",
       "      --disabled-bg-color: #3B4455;\n",
       "      --disabled-fill-color: #666;\n",
       "  }\n",
       "\n",
       "  .colab-df-quickchart {\n",
       "    background-color: var(--bg-color);\n",
       "    border: none;\n",
       "    border-radius: 50%;\n",
       "    cursor: pointer;\n",
       "    display: none;\n",
       "    fill: var(--fill-color);\n",
       "    height: 32px;\n",
       "    padding: 0;\n",
       "    width: 32px;\n",
       "  }\n",
       "\n",
       "  .colab-df-quickchart:hover {\n",
       "    background-color: var(--hover-bg-color);\n",
       "    box-shadow: 0 1px 2px rgba(60, 64, 67, 0.3), 0 1px 3px 1px rgba(60, 64, 67, 0.15);\n",
       "    fill: var(--button-hover-fill-color);\n",
       "  }\n",
       "\n",
       "  .colab-df-quickchart-complete:disabled,\n",
       "  .colab-df-quickchart-complete:disabled:hover {\n",
       "    background-color: var(--disabled-bg-color);\n",
       "    fill: var(--disabled-fill-color);\n",
       "    box-shadow: none;\n",
       "  }\n",
       "\n",
       "  .colab-df-spinner {\n",
       "    border: 2px solid var(--fill-color);\n",
       "    border-color: transparent;\n",
       "    border-bottom-color: var(--fill-color);\n",
       "    animation:\n",
       "      spin 1s steps(1) infinite;\n",
       "  }\n",
       "\n",
       "  @keyframes spin {\n",
       "    0% {\n",
       "      border-color: transparent;\n",
       "      border-bottom-color: var(--fill-color);\n",
       "      border-left-color: var(--fill-color);\n",
       "    }\n",
       "    20% {\n",
       "      border-color: transparent;\n",
       "      border-left-color: var(--fill-color);\n",
       "      border-top-color: var(--fill-color);\n",
       "    }\n",
       "    30% {\n",
       "      border-color: transparent;\n",
       "      border-left-color: var(--fill-color);\n",
       "      border-top-color: var(--fill-color);\n",
       "      border-right-color: var(--fill-color);\n",
       "    }\n",
       "    40% {\n",
       "      border-color: transparent;\n",
       "      border-right-color: var(--fill-color);\n",
       "      border-top-color: var(--fill-color);\n",
       "    }\n",
       "    60% {\n",
       "      border-color: transparent;\n",
       "      border-right-color: var(--fill-color);\n",
       "    }\n",
       "    80% {\n",
       "      border-color: transparent;\n",
       "      border-right-color: var(--fill-color);\n",
       "      border-bottom-color: var(--fill-color);\n",
       "    }\n",
       "    90% {\n",
       "      border-color: transparent;\n",
       "      border-bottom-color: var(--fill-color);\n",
       "    }\n",
       "  }\n",
       "</style>\n",
       "\n",
       "  <script>\n",
       "    async function quickchart(key) {\n",
       "      const quickchartButtonEl =\n",
       "        document.querySelector('#' + key + ' button');\n",
       "      quickchartButtonEl.disabled = true;  // To prevent multiple clicks.\n",
       "      quickchartButtonEl.classList.add('colab-df-spinner');\n",
       "      try {\n",
       "        const charts = await google.colab.kernel.invokeFunction(\n",
       "            'suggestCharts', [key], {});\n",
       "      } catch (error) {\n",
       "        console.error('Error during call to suggestCharts:', error);\n",
       "      }\n",
       "      quickchartButtonEl.classList.remove('colab-df-spinner');\n",
       "      quickchartButtonEl.classList.add('colab-df-quickchart-complete');\n",
       "    }\n",
       "    (() => {\n",
       "      let quickchartButtonEl =\n",
       "        document.querySelector('#df-8385c2b4-0fdd-4418-8aeb-906b5380a062 button');\n",
       "      quickchartButtonEl.style.display =\n",
       "        google.colab.kernel.accessAllowed ? 'block' : 'none';\n",
       "    })();\n",
       "  </script>\n",
       "</div>\n",
       "    </div>\n",
       "  </div>\n"
      ],
      "text/plain": [
       "                    Всего пропусков     %\n",
       "power                         34267  10.1\n",
       "vehicle_type                  31256   9.2\n",
       "registration_month            30492   9.0\n",
       "fuel_type                     26993   7.9\n",
       "gearbox                       14958   4.4\n",
       "registration_year             13566   4.0\n",
       "price                             0   0.0\n",
       "model                             0   0.0\n",
       "kilometer                         0   0.0\n",
       "brand                             0   0.0\n",
       "repaired                          0   0.0\n",
       "date_created                      0   0.0\n",
       "postal_code                       0   0.0\n",
       "last_seen                         0   0.0"
      ]
     },
     "metadata": {},
     "output_type": "display_data"
    }
   ],
   "source": [
    "show_na()"
   ]
  },
  {
   "cell_type": "markdown",
   "id": "1fda2000",
   "metadata": {
    "id": "1fda2000"
   },
   "source": [
    "Как было указано выше, знание марки и модели автомобиля помогает определить наиболее вероятное значение его конструкционных и инженерно-технических характеристик. Для заполнения пропусков в значениях типа кузова `vehicle_type`, типа двигателя `fuel_type` и типа коробки передач `gearbox` будем использовать подход, при котором для автомобиля определённой модели каждой марки пропущенное значение заполняется наиболее распространённым значением &mdash; модой &mdash; среди всех значений этой модели такой же марки.\n",
    "\n",
    "Зададим для такого заполнения функцию."
   ]
  },
  {
   "cell_type": "code",
   "execution_count": 45,
   "id": "c8478e78",
   "metadata": {
    "id": "c8478e78",
    "scrolled": true
   },
   "outputs": [],
   "source": [
    "def fill_by_mode(column):\n",
    "    '''\n",
    "    Функция заполнения пропущенных значений модой (если она одна).\n",
    "    \n",
    "    Принимает наименование признака (колонки).\n",
    "    Возвращает значение моды, рассчитанной по известным значениям\n",
    "    для сгруппированных данных по признакам brand и model.\n",
    "    \n",
    "    '''\n",
    "\n",
    "    for brand in data.loc[data[column].isna(), 'brand'].unique():\n",
    "        for model in data.loc[\n",
    "            data[column].isna()\n",
    "            & (data['brand'] == brand),\n",
    "            'model'].unique():\n",
    "\n",
    "            mode_value = data.loc[\n",
    "                data[column].notna()\n",
    "                & (data['brand'] == brand)\n",
    "                & (data['model'] == model),\n",
    "                column].mode()\n",
    "\n",
    "            if len(mode_value) == 1:\n",
    "                data.loc[\n",
    "                    data[column].isna()\n",
    "                    & (data['brand'] == brand)\n",
    "                    & (data['model'] == model),\n",
    "                    column] = mode_value[0]"
   ]
  },
  {
   "cell_type": "code",
   "execution_count": 46,
   "id": "3b2d7e52",
   "metadata": {
    "colab": {
     "base_uri": "https://localhost:8080/"
    },
    "id": "3b2d7e52",
    "outputId": "6f0dd7ff-4d31-4f89-ac7e-53e74a9bcbfa"
   },
   "outputs": [
    {
     "data": {
      "text/plain": [
       "0"
      ]
     },
     "execution_count": 46,
     "metadata": {},
     "output_type": "execute_result"
    }
   ],
   "source": [
    "fill_by_mode('gearbox')\n",
    "data['gearbox'].isna().sum()"
   ]
  },
  {
   "cell_type": "code",
   "execution_count": 47,
   "id": "01a0d189",
   "metadata": {
    "colab": {
     "base_uri": "https://localhost:8080/"
    },
    "id": "01a0d189",
    "outputId": "cc894f7a-df97-4672-cdc1-1d19fe011a2f"
   },
   "outputs": [
    {
     "data": {
      "text/plain": [
       "0"
      ]
     },
     "execution_count": 47,
     "metadata": {},
     "output_type": "execute_result"
    }
   ],
   "source": [
    "fill_by_mode('fuel_type')\n",
    "data['fuel_type'].isna().sum()"
   ]
  },
  {
   "cell_type": "code",
   "execution_count": 48,
   "id": "94eac570",
   "metadata": {
    "colab": {
     "base_uri": "https://localhost:8080/"
    },
    "id": "94eac570",
    "outputId": "c92b974a-4dce-4e73-8238-6b4d97cdc5f6"
   },
   "outputs": [
    {
     "data": {
      "text/plain": [
       "19"
      ]
     },
     "execution_count": 48,
     "metadata": {},
     "output_type": "execute_result"
    }
   ],
   "source": [
    "fill_by_mode('vehicle_type')\n",
    "data['vehicle_type'].isna().sum()"
   ]
  },
  {
   "cell_type": "markdown",
   "id": "b1ddb656",
   "metadata": {
    "id": "b1ddb656"
   },
   "source": [
    "Поскольку мощность двигателя `power` &mdash; непрерывный количественный признак, наиболее корректным подходом для заполнения пропусков будет заполнение медианой известных значений для той же модели той же марки."
   ]
  },
  {
   "cell_type": "code",
   "execution_count": 49,
   "id": "d9a9444c",
   "metadata": {
    "colab": {
     "base_uri": "https://localhost:8080/"
    },
    "id": "d9a9444c",
    "outputId": "9e7bc295-d416-46b5-ab64-3c21b17bb64e"
   },
   "outputs": [
    {
     "data": {
      "text/plain": [
       "1"
      ]
     },
     "execution_count": 49,
     "metadata": {},
     "output_type": "execute_result"
    }
   ],
   "source": [
    "for brand in data.loc[data['power'].isna(), 'brand'].unique():\n",
    "    for model in data.loc[\n",
    "        data['power'].isna()\n",
    "        & (data['brand'] == brand),\n",
    "        'model'].unique():\n",
    "\n",
    "        median_value = data.loc[\n",
    "            data['power'].notna()\n",
    "            & (data['brand'] == brand)\n",
    "            & (data['model'] == model),\n",
    "            'power'].median()\n",
    "\n",
    "        data.loc[\n",
    "            data['power'].isna()\n",
    "            & (data['brand'] == brand)\n",
    "            & (data['model'] == model),\n",
    "            'power'] = median_value\n",
    "\n",
    "data['power'].isna().sum()"
   ]
  },
  {
   "cell_type": "code",
   "execution_count": 50,
   "id": "RwrpIu5tUJaS",
   "metadata": {
    "colab": {
     "base_uri": "https://localhost:8080/",
     "height": 488
    },
    "id": "RwrpIu5tUJaS",
    "outputId": "16eb9c52-3a6f-43a1-874f-1d3b80d4098d"
   },
   "outputs": [
    {
     "data": {
      "text/html": [
       "\n",
       "  <div id=\"df-895a0d91-73f4-446f-b01e-caddb88d2da7\" class=\"colab-df-container\">\n",
       "    <div>\n",
       "<style scoped>\n",
       "    .dataframe tbody tr th:only-of-type {\n",
       "        vertical-align: middle;\n",
       "    }\n",
       "\n",
       "    .dataframe tbody tr th {\n",
       "        vertical-align: top;\n",
       "    }\n",
       "\n",
       "    .dataframe thead th {\n",
       "        text-align: right;\n",
       "    }\n",
       "</style>\n",
       "<table border=\"1\" class=\"dataframe\">\n",
       "  <thead>\n",
       "    <tr style=\"text-align: right;\">\n",
       "      <th></th>\n",
       "      <th>Всего пропусков</th>\n",
       "      <th>%</th>\n",
       "    </tr>\n",
       "  </thead>\n",
       "  <tbody>\n",
       "    <tr>\n",
       "      <th>registration_month</th>\n",
       "      <td>30492</td>\n",
       "      <td>9.0</td>\n",
       "    </tr>\n",
       "    <tr>\n",
       "      <th>registration_year</th>\n",
       "      <td>13566</td>\n",
       "      <td>4.0</td>\n",
       "    </tr>\n",
       "    <tr>\n",
       "      <th>vehicle_type</th>\n",
       "      <td>19</td>\n",
       "      <td>0.0</td>\n",
       "    </tr>\n",
       "    <tr>\n",
       "      <th>power</th>\n",
       "      <td>1</td>\n",
       "      <td>0.0</td>\n",
       "    </tr>\n",
       "    <tr>\n",
       "      <th>price</th>\n",
       "      <td>0</td>\n",
       "      <td>0.0</td>\n",
       "    </tr>\n",
       "    <tr>\n",
       "      <th>gearbox</th>\n",
       "      <td>0</td>\n",
       "      <td>0.0</td>\n",
       "    </tr>\n",
       "    <tr>\n",
       "      <th>model</th>\n",
       "      <td>0</td>\n",
       "      <td>0.0</td>\n",
       "    </tr>\n",
       "    <tr>\n",
       "      <th>kilometer</th>\n",
       "      <td>0</td>\n",
       "      <td>0.0</td>\n",
       "    </tr>\n",
       "    <tr>\n",
       "      <th>fuel_type</th>\n",
       "      <td>0</td>\n",
       "      <td>0.0</td>\n",
       "    </tr>\n",
       "    <tr>\n",
       "      <th>brand</th>\n",
       "      <td>0</td>\n",
       "      <td>0.0</td>\n",
       "    </tr>\n",
       "    <tr>\n",
       "      <th>repaired</th>\n",
       "      <td>0</td>\n",
       "      <td>0.0</td>\n",
       "    </tr>\n",
       "    <tr>\n",
       "      <th>date_created</th>\n",
       "      <td>0</td>\n",
       "      <td>0.0</td>\n",
       "    </tr>\n",
       "    <tr>\n",
       "      <th>postal_code</th>\n",
       "      <td>0</td>\n",
       "      <td>0.0</td>\n",
       "    </tr>\n",
       "    <tr>\n",
       "      <th>last_seen</th>\n",
       "      <td>0</td>\n",
       "      <td>0.0</td>\n",
       "    </tr>\n",
       "  </tbody>\n",
       "</table>\n",
       "</div>\n",
       "    <div class=\"colab-df-buttons\">\n",
       "\n",
       "  <div class=\"colab-df-container\">\n",
       "    <button class=\"colab-df-convert\" onclick=\"convertToInteractive('df-895a0d91-73f4-446f-b01e-caddb88d2da7')\"\n",
       "            title=\"Convert this dataframe to an interactive table.\"\n",
       "            style=\"display:none;\">\n",
       "\n",
       "  <svg xmlns=\"http://www.w3.org/2000/svg\" height=\"24px\" viewBox=\"0 -960 960 960\">\n",
       "    <path d=\"M120-120v-720h720v720H120Zm60-500h600v-160H180v160Zm220 220h160v-160H400v160Zm0 220h160v-160H400v160ZM180-400h160v-160H180v160Zm440 0h160v-160H620v160ZM180-180h160v-160H180v160Zm440 0h160v-160H620v160Z\"/>\n",
       "  </svg>\n",
       "    </button>\n",
       "\n",
       "  <style>\n",
       "    .colab-df-container {\n",
       "      display:flex;\n",
       "      gap: 12px;\n",
       "    }\n",
       "\n",
       "    .colab-df-convert {\n",
       "      background-color: #E8F0FE;\n",
       "      border: none;\n",
       "      border-radius: 50%;\n",
       "      cursor: pointer;\n",
       "      display: none;\n",
       "      fill: #1967D2;\n",
       "      height: 32px;\n",
       "      padding: 0 0 0 0;\n",
       "      width: 32px;\n",
       "    }\n",
       "\n",
       "    .colab-df-convert:hover {\n",
       "      background-color: #E2EBFA;\n",
       "      box-shadow: 0px 1px 2px rgba(60, 64, 67, 0.3), 0px 1px 3px 1px rgba(60, 64, 67, 0.15);\n",
       "      fill: #174EA6;\n",
       "    }\n",
       "\n",
       "    .colab-df-buttons div {\n",
       "      margin-bottom: 4px;\n",
       "    }\n",
       "\n",
       "    [theme=dark] .colab-df-convert {\n",
       "      background-color: #3B4455;\n",
       "      fill: #D2E3FC;\n",
       "    }\n",
       "\n",
       "    [theme=dark] .colab-df-convert:hover {\n",
       "      background-color: #434B5C;\n",
       "      box-shadow: 0px 1px 3px 1px rgba(0, 0, 0, 0.15);\n",
       "      filter: drop-shadow(0px 1px 2px rgba(0, 0, 0, 0.3));\n",
       "      fill: #FFFFFF;\n",
       "    }\n",
       "  </style>\n",
       "\n",
       "    <script>\n",
       "      const buttonEl =\n",
       "        document.querySelector('#df-895a0d91-73f4-446f-b01e-caddb88d2da7 button.colab-df-convert');\n",
       "      buttonEl.style.display =\n",
       "        google.colab.kernel.accessAllowed ? 'block' : 'none';\n",
       "\n",
       "      async function convertToInteractive(key) {\n",
       "        const element = document.querySelector('#df-895a0d91-73f4-446f-b01e-caddb88d2da7');\n",
       "        const dataTable =\n",
       "          await google.colab.kernel.invokeFunction('convertToInteractive',\n",
       "                                                    [key], {});\n",
       "        if (!dataTable) return;\n",
       "\n",
       "        const docLinkHtml = 'Like what you see? Visit the ' +\n",
       "          '<a target=\"_blank\" href=https://colab.research.google.com/notebooks/data_table.ipynb>data table notebook</a>'\n",
       "          + ' to learn more about interactive tables.';\n",
       "        element.innerHTML = '';\n",
       "        dataTable['output_type'] = 'display_data';\n",
       "        await google.colab.output.renderOutput(dataTable, element);\n",
       "        const docLink = document.createElement('div');\n",
       "        docLink.innerHTML = docLinkHtml;\n",
       "        element.appendChild(docLink);\n",
       "      }\n",
       "    </script>\n",
       "  </div>\n",
       "\n",
       "\n",
       "<div id=\"df-ab5787c3-3c1a-41b1-ba85-ee4ccdc6e839\">\n",
       "  <button class=\"colab-df-quickchart\" onclick=\"quickchart('df-ab5787c3-3c1a-41b1-ba85-ee4ccdc6e839')\"\n",
       "            title=\"Suggest charts.\"\n",
       "            style=\"display:none;\">\n",
       "\n",
       "<svg xmlns=\"http://www.w3.org/2000/svg\" height=\"24px\"viewBox=\"0 0 24 24\"\n",
       "     width=\"24px\">\n",
       "    <g>\n",
       "        <path d=\"M19 3H5c-1.1 0-2 .9-2 2v14c0 1.1.9 2 2 2h14c1.1 0 2-.9 2-2V5c0-1.1-.9-2-2-2zM9 17H7v-7h2v7zm4 0h-2V7h2v10zm4 0h-2v-4h2v4z\"/>\n",
       "    </g>\n",
       "</svg>\n",
       "  </button>\n",
       "\n",
       "<style>\n",
       "  .colab-df-quickchart {\n",
       "      --bg-color: #E8F0FE;\n",
       "      --fill-color: #1967D2;\n",
       "      --hover-bg-color: #E2EBFA;\n",
       "      --hover-fill-color: #174EA6;\n",
       "      --disabled-fill-color: #AAA;\n",
       "      --disabled-bg-color: #DDD;\n",
       "  }\n",
       "\n",
       "  [theme=dark] .colab-df-quickchart {\n",
       "      --bg-color: #3B4455;\n",
       "      --fill-color: #D2E3FC;\n",
       "      --hover-bg-color: #434B5C;\n",
       "      --hover-fill-color: #FFFFFF;\n",
       "      --disabled-bg-color: #3B4455;\n",
       "      --disabled-fill-color: #666;\n",
       "  }\n",
       "\n",
       "  .colab-df-quickchart {\n",
       "    background-color: var(--bg-color);\n",
       "    border: none;\n",
       "    border-radius: 50%;\n",
       "    cursor: pointer;\n",
       "    display: none;\n",
       "    fill: var(--fill-color);\n",
       "    height: 32px;\n",
       "    padding: 0;\n",
       "    width: 32px;\n",
       "  }\n",
       "\n",
       "  .colab-df-quickchart:hover {\n",
       "    background-color: var(--hover-bg-color);\n",
       "    box-shadow: 0 1px 2px rgba(60, 64, 67, 0.3), 0 1px 3px 1px rgba(60, 64, 67, 0.15);\n",
       "    fill: var(--button-hover-fill-color);\n",
       "  }\n",
       "\n",
       "  .colab-df-quickchart-complete:disabled,\n",
       "  .colab-df-quickchart-complete:disabled:hover {\n",
       "    background-color: var(--disabled-bg-color);\n",
       "    fill: var(--disabled-fill-color);\n",
       "    box-shadow: none;\n",
       "  }\n",
       "\n",
       "  .colab-df-spinner {\n",
       "    border: 2px solid var(--fill-color);\n",
       "    border-color: transparent;\n",
       "    border-bottom-color: var(--fill-color);\n",
       "    animation:\n",
       "      spin 1s steps(1) infinite;\n",
       "  }\n",
       "\n",
       "  @keyframes spin {\n",
       "    0% {\n",
       "      border-color: transparent;\n",
       "      border-bottom-color: var(--fill-color);\n",
       "      border-left-color: var(--fill-color);\n",
       "    }\n",
       "    20% {\n",
       "      border-color: transparent;\n",
       "      border-left-color: var(--fill-color);\n",
       "      border-top-color: var(--fill-color);\n",
       "    }\n",
       "    30% {\n",
       "      border-color: transparent;\n",
       "      border-left-color: var(--fill-color);\n",
       "      border-top-color: var(--fill-color);\n",
       "      border-right-color: var(--fill-color);\n",
       "    }\n",
       "    40% {\n",
       "      border-color: transparent;\n",
       "      border-right-color: var(--fill-color);\n",
       "      border-top-color: var(--fill-color);\n",
       "    }\n",
       "    60% {\n",
       "      border-color: transparent;\n",
       "      border-right-color: var(--fill-color);\n",
       "    }\n",
       "    80% {\n",
       "      border-color: transparent;\n",
       "      border-right-color: var(--fill-color);\n",
       "      border-bottom-color: var(--fill-color);\n",
       "    }\n",
       "    90% {\n",
       "      border-color: transparent;\n",
       "      border-bottom-color: var(--fill-color);\n",
       "    }\n",
       "  }\n",
       "</style>\n",
       "\n",
       "  <script>\n",
       "    async function quickchart(key) {\n",
       "      const quickchartButtonEl =\n",
       "        document.querySelector('#' + key + ' button');\n",
       "      quickchartButtonEl.disabled = true;  // To prevent multiple clicks.\n",
       "      quickchartButtonEl.classList.add('colab-df-spinner');\n",
       "      try {\n",
       "        const charts = await google.colab.kernel.invokeFunction(\n",
       "            'suggestCharts', [key], {});\n",
       "      } catch (error) {\n",
       "        console.error('Error during call to suggestCharts:', error);\n",
       "      }\n",
       "      quickchartButtonEl.classList.remove('colab-df-spinner');\n",
       "      quickchartButtonEl.classList.add('colab-df-quickchart-complete');\n",
       "    }\n",
       "    (() => {\n",
       "      let quickchartButtonEl =\n",
       "        document.querySelector('#df-ab5787c3-3c1a-41b1-ba85-ee4ccdc6e839 button');\n",
       "      quickchartButtonEl.style.display =\n",
       "        google.colab.kernel.accessAllowed ? 'block' : 'none';\n",
       "    })();\n",
       "  </script>\n",
       "</div>\n",
       "    </div>\n",
       "  </div>\n"
      ],
      "text/plain": [
       "                    Всего пропусков    %\n",
       "registration_month            30492  9.0\n",
       "registration_year             13566  4.0\n",
       "vehicle_type                     19  0.0\n",
       "power                             1  0.0\n",
       "price                             0  0.0\n",
       "gearbox                           0  0.0\n",
       "model                             0  0.0\n",
       "kilometer                         0  0.0\n",
       "fuel_type                         0  0.0\n",
       "brand                             0  0.0\n",
       "repaired                          0  0.0\n",
       "date_created                      0  0.0\n",
       "postal_code                       0  0.0\n",
       "last_seen                         0  0.0"
      ]
     },
     "metadata": {},
     "output_type": "display_data"
    }
   ],
   "source": [
    "show_na()"
   ]
  },
  {
   "cell_type": "markdown",
   "id": "2a184301",
   "metadata": {
    "id": "2a184301"
   },
   "source": [
    "Для 19 записей мода не оказалась единственной, а для ещё 1 записи не удалось рассчитать значение мощности двигателя, удалим их.\n",
    "\n",
    "Значения месяца и года регистрации невозможно заполнить, основываясь на известных данных. А поскольку сведения о регистрации автомобиля могут являться важным фактором для формирования цены автомобиля, не учитывать их будет неправильно.\n",
    "\n",
    "Поэтому удалим записи, содержащие пропуски в значениях признаков `registration_year` и `registration_month`."
   ]
  },
  {
   "cell_type": "code",
   "execution_count": 51,
   "id": "ca242488",
   "metadata": {
    "id": "ca242488"
   },
   "outputs": [],
   "source": [
    "data.dropna(inplace=True)"
   ]
  },
  {
   "cell_type": "code",
   "execution_count": 52,
   "id": "0c9bf601",
   "metadata": {
    "colab": {
     "base_uri": "https://localhost:8080/",
     "height": 488
    },
    "id": "0c9bf601",
    "outputId": "4935bd6b-b450-4696-ae4a-de7e057876e8",
    "scrolled": false
   },
   "outputs": [
    {
     "data": {
      "text/html": [
       "\n",
       "  <div id=\"df-29d5aff2-1869-4d6c-99f5-e3fc6c28a544\" class=\"colab-df-container\">\n",
       "    <div>\n",
       "<style scoped>\n",
       "    .dataframe tbody tr th:only-of-type {\n",
       "        vertical-align: middle;\n",
       "    }\n",
       "\n",
       "    .dataframe tbody tr th {\n",
       "        vertical-align: top;\n",
       "    }\n",
       "\n",
       "    .dataframe thead th {\n",
       "        text-align: right;\n",
       "    }\n",
       "</style>\n",
       "<table border=\"1\" class=\"dataframe\">\n",
       "  <thead>\n",
       "    <tr style=\"text-align: right;\">\n",
       "      <th></th>\n",
       "      <th>Всего пропусков</th>\n",
       "      <th>%</th>\n",
       "    </tr>\n",
       "  </thead>\n",
       "  <tbody>\n",
       "    <tr>\n",
       "      <th>price</th>\n",
       "      <td>0</td>\n",
       "      <td>0.0</td>\n",
       "    </tr>\n",
       "    <tr>\n",
       "      <th>vehicle_type</th>\n",
       "      <td>0</td>\n",
       "      <td>0.0</td>\n",
       "    </tr>\n",
       "    <tr>\n",
       "      <th>registration_year</th>\n",
       "      <td>0</td>\n",
       "      <td>0.0</td>\n",
       "    </tr>\n",
       "    <tr>\n",
       "      <th>gearbox</th>\n",
       "      <td>0</td>\n",
       "      <td>0.0</td>\n",
       "    </tr>\n",
       "    <tr>\n",
       "      <th>power</th>\n",
       "      <td>0</td>\n",
       "      <td>0.0</td>\n",
       "    </tr>\n",
       "    <tr>\n",
       "      <th>model</th>\n",
       "      <td>0</td>\n",
       "      <td>0.0</td>\n",
       "    </tr>\n",
       "    <tr>\n",
       "      <th>kilometer</th>\n",
       "      <td>0</td>\n",
       "      <td>0.0</td>\n",
       "    </tr>\n",
       "    <tr>\n",
       "      <th>registration_month</th>\n",
       "      <td>0</td>\n",
       "      <td>0.0</td>\n",
       "    </tr>\n",
       "    <tr>\n",
       "      <th>fuel_type</th>\n",
       "      <td>0</td>\n",
       "      <td>0.0</td>\n",
       "    </tr>\n",
       "    <tr>\n",
       "      <th>brand</th>\n",
       "      <td>0</td>\n",
       "      <td>0.0</td>\n",
       "    </tr>\n",
       "    <tr>\n",
       "      <th>repaired</th>\n",
       "      <td>0</td>\n",
       "      <td>0.0</td>\n",
       "    </tr>\n",
       "    <tr>\n",
       "      <th>date_created</th>\n",
       "      <td>0</td>\n",
       "      <td>0.0</td>\n",
       "    </tr>\n",
       "    <tr>\n",
       "      <th>postal_code</th>\n",
       "      <td>0</td>\n",
       "      <td>0.0</td>\n",
       "    </tr>\n",
       "    <tr>\n",
       "      <th>last_seen</th>\n",
       "      <td>0</td>\n",
       "      <td>0.0</td>\n",
       "    </tr>\n",
       "  </tbody>\n",
       "</table>\n",
       "</div>\n",
       "    <div class=\"colab-df-buttons\">\n",
       "\n",
       "  <div class=\"colab-df-container\">\n",
       "    <button class=\"colab-df-convert\" onclick=\"convertToInteractive('df-29d5aff2-1869-4d6c-99f5-e3fc6c28a544')\"\n",
       "            title=\"Convert this dataframe to an interactive table.\"\n",
       "            style=\"display:none;\">\n",
       "\n",
       "  <svg xmlns=\"http://www.w3.org/2000/svg\" height=\"24px\" viewBox=\"0 -960 960 960\">\n",
       "    <path d=\"M120-120v-720h720v720H120Zm60-500h600v-160H180v160Zm220 220h160v-160H400v160Zm0 220h160v-160H400v160ZM180-400h160v-160H180v160Zm440 0h160v-160H620v160ZM180-180h160v-160H180v160Zm440 0h160v-160H620v160Z\"/>\n",
       "  </svg>\n",
       "    </button>\n",
       "\n",
       "  <style>\n",
       "    .colab-df-container {\n",
       "      display:flex;\n",
       "      gap: 12px;\n",
       "    }\n",
       "\n",
       "    .colab-df-convert {\n",
       "      background-color: #E8F0FE;\n",
       "      border: none;\n",
       "      border-radius: 50%;\n",
       "      cursor: pointer;\n",
       "      display: none;\n",
       "      fill: #1967D2;\n",
       "      height: 32px;\n",
       "      padding: 0 0 0 0;\n",
       "      width: 32px;\n",
       "    }\n",
       "\n",
       "    .colab-df-convert:hover {\n",
       "      background-color: #E2EBFA;\n",
       "      box-shadow: 0px 1px 2px rgba(60, 64, 67, 0.3), 0px 1px 3px 1px rgba(60, 64, 67, 0.15);\n",
       "      fill: #174EA6;\n",
       "    }\n",
       "\n",
       "    .colab-df-buttons div {\n",
       "      margin-bottom: 4px;\n",
       "    }\n",
       "\n",
       "    [theme=dark] .colab-df-convert {\n",
       "      background-color: #3B4455;\n",
       "      fill: #D2E3FC;\n",
       "    }\n",
       "\n",
       "    [theme=dark] .colab-df-convert:hover {\n",
       "      background-color: #434B5C;\n",
       "      box-shadow: 0px 1px 3px 1px rgba(0, 0, 0, 0.15);\n",
       "      filter: drop-shadow(0px 1px 2px rgba(0, 0, 0, 0.3));\n",
       "      fill: #FFFFFF;\n",
       "    }\n",
       "  </style>\n",
       "\n",
       "    <script>\n",
       "      const buttonEl =\n",
       "        document.querySelector('#df-29d5aff2-1869-4d6c-99f5-e3fc6c28a544 button.colab-df-convert');\n",
       "      buttonEl.style.display =\n",
       "        google.colab.kernel.accessAllowed ? 'block' : 'none';\n",
       "\n",
       "      async function convertToInteractive(key) {\n",
       "        const element = document.querySelector('#df-29d5aff2-1869-4d6c-99f5-e3fc6c28a544');\n",
       "        const dataTable =\n",
       "          await google.colab.kernel.invokeFunction('convertToInteractive',\n",
       "                                                    [key], {});\n",
       "        if (!dataTable) return;\n",
       "\n",
       "        const docLinkHtml = 'Like what you see? Visit the ' +\n",
       "          '<a target=\"_blank\" href=https://colab.research.google.com/notebooks/data_table.ipynb>data table notebook</a>'\n",
       "          + ' to learn more about interactive tables.';\n",
       "        element.innerHTML = '';\n",
       "        dataTable['output_type'] = 'display_data';\n",
       "        await google.colab.output.renderOutput(dataTable, element);\n",
       "        const docLink = document.createElement('div');\n",
       "        docLink.innerHTML = docLinkHtml;\n",
       "        element.appendChild(docLink);\n",
       "      }\n",
       "    </script>\n",
       "  </div>\n",
       "\n",
       "\n",
       "<div id=\"df-5de5d9c7-0267-40b4-ac21-455a4cc23477\">\n",
       "  <button class=\"colab-df-quickchart\" onclick=\"quickchart('df-5de5d9c7-0267-40b4-ac21-455a4cc23477')\"\n",
       "            title=\"Suggest charts.\"\n",
       "            style=\"display:none;\">\n",
       "\n",
       "<svg xmlns=\"http://www.w3.org/2000/svg\" height=\"24px\"viewBox=\"0 0 24 24\"\n",
       "     width=\"24px\">\n",
       "    <g>\n",
       "        <path d=\"M19 3H5c-1.1 0-2 .9-2 2v14c0 1.1.9 2 2 2h14c1.1 0 2-.9 2-2V5c0-1.1-.9-2-2-2zM9 17H7v-7h2v7zm4 0h-2V7h2v10zm4 0h-2v-4h2v4z\"/>\n",
       "    </g>\n",
       "</svg>\n",
       "  </button>\n",
       "\n",
       "<style>\n",
       "  .colab-df-quickchart {\n",
       "      --bg-color: #E8F0FE;\n",
       "      --fill-color: #1967D2;\n",
       "      --hover-bg-color: #E2EBFA;\n",
       "      --hover-fill-color: #174EA6;\n",
       "      --disabled-fill-color: #AAA;\n",
       "      --disabled-bg-color: #DDD;\n",
       "  }\n",
       "\n",
       "  [theme=dark] .colab-df-quickchart {\n",
       "      --bg-color: #3B4455;\n",
       "      --fill-color: #D2E3FC;\n",
       "      --hover-bg-color: #434B5C;\n",
       "      --hover-fill-color: #FFFFFF;\n",
       "      --disabled-bg-color: #3B4455;\n",
       "      --disabled-fill-color: #666;\n",
       "  }\n",
       "\n",
       "  .colab-df-quickchart {\n",
       "    background-color: var(--bg-color);\n",
       "    border: none;\n",
       "    border-radius: 50%;\n",
       "    cursor: pointer;\n",
       "    display: none;\n",
       "    fill: var(--fill-color);\n",
       "    height: 32px;\n",
       "    padding: 0;\n",
       "    width: 32px;\n",
       "  }\n",
       "\n",
       "  .colab-df-quickchart:hover {\n",
       "    background-color: var(--hover-bg-color);\n",
       "    box-shadow: 0 1px 2px rgba(60, 64, 67, 0.3), 0 1px 3px 1px rgba(60, 64, 67, 0.15);\n",
       "    fill: var(--button-hover-fill-color);\n",
       "  }\n",
       "\n",
       "  .colab-df-quickchart-complete:disabled,\n",
       "  .colab-df-quickchart-complete:disabled:hover {\n",
       "    background-color: var(--disabled-bg-color);\n",
       "    fill: var(--disabled-fill-color);\n",
       "    box-shadow: none;\n",
       "  }\n",
       "\n",
       "  .colab-df-spinner {\n",
       "    border: 2px solid var(--fill-color);\n",
       "    border-color: transparent;\n",
       "    border-bottom-color: var(--fill-color);\n",
       "    animation:\n",
       "      spin 1s steps(1) infinite;\n",
       "  }\n",
       "\n",
       "  @keyframes spin {\n",
       "    0% {\n",
       "      border-color: transparent;\n",
       "      border-bottom-color: var(--fill-color);\n",
       "      border-left-color: var(--fill-color);\n",
       "    }\n",
       "    20% {\n",
       "      border-color: transparent;\n",
       "      border-left-color: var(--fill-color);\n",
       "      border-top-color: var(--fill-color);\n",
       "    }\n",
       "    30% {\n",
       "      border-color: transparent;\n",
       "      border-left-color: var(--fill-color);\n",
       "      border-top-color: var(--fill-color);\n",
       "      border-right-color: var(--fill-color);\n",
       "    }\n",
       "    40% {\n",
       "      border-color: transparent;\n",
       "      border-right-color: var(--fill-color);\n",
       "      border-top-color: var(--fill-color);\n",
       "    }\n",
       "    60% {\n",
       "      border-color: transparent;\n",
       "      border-right-color: var(--fill-color);\n",
       "    }\n",
       "    80% {\n",
       "      border-color: transparent;\n",
       "      border-right-color: var(--fill-color);\n",
       "      border-bottom-color: var(--fill-color);\n",
       "    }\n",
       "    90% {\n",
       "      border-color: transparent;\n",
       "      border-bottom-color: var(--fill-color);\n",
       "    }\n",
       "  }\n",
       "</style>\n",
       "\n",
       "  <script>\n",
       "    async function quickchart(key) {\n",
       "      const quickchartButtonEl =\n",
       "        document.querySelector('#' + key + ' button');\n",
       "      quickchartButtonEl.disabled = true;  // To prevent multiple clicks.\n",
       "      quickchartButtonEl.classList.add('colab-df-spinner');\n",
       "      try {\n",
       "        const charts = await google.colab.kernel.invokeFunction(\n",
       "            'suggestCharts', [key], {});\n",
       "      } catch (error) {\n",
       "        console.error('Error during call to suggestCharts:', error);\n",
       "      }\n",
       "      quickchartButtonEl.classList.remove('colab-df-spinner');\n",
       "      quickchartButtonEl.classList.add('colab-df-quickchart-complete');\n",
       "    }\n",
       "    (() => {\n",
       "      let quickchartButtonEl =\n",
       "        document.querySelector('#df-5de5d9c7-0267-40b4-ac21-455a4cc23477 button');\n",
       "      quickchartButtonEl.style.display =\n",
       "        google.colab.kernel.accessAllowed ? 'block' : 'none';\n",
       "    })();\n",
       "  </script>\n",
       "</div>\n",
       "    </div>\n",
       "  </div>\n"
      ],
      "text/plain": [
       "                    Всего пропусков    %\n",
       "price                             0  0.0\n",
       "vehicle_type                      0  0.0\n",
       "registration_year                 0  0.0\n",
       "gearbox                           0  0.0\n",
       "power                             0  0.0\n",
       "model                             0  0.0\n",
       "kilometer                         0  0.0\n",
       "registration_month                0  0.0\n",
       "fuel_type                         0  0.0\n",
       "brand                             0  0.0\n",
       "repaired                          0  0.0\n",
       "date_created                      0  0.0\n",
       "postal_code                       0  0.0\n",
       "last_seen                         0  0.0"
      ]
     },
     "metadata": {},
     "output_type": "display_data"
    }
   ],
   "source": [
    "show_na()"
   ]
  },
  {
   "cell_type": "code",
   "execution_count": 53,
   "id": "9bd048a9",
   "metadata": {
    "colab": {
     "base_uri": "https://localhost:8080/"
    },
    "id": "9bd048a9",
    "outputId": "c84c9061-be3e-466a-df5b-ec6188727d0e"
   },
   "outputs": [
    {
     "data": {
      "text/plain": [
       "(298913, 14)"
      ]
     },
     "execution_count": 53,
     "metadata": {},
     "output_type": "execute_result"
    }
   ],
   "source": [
    "data.shape"
   ]
  },
  {
   "cell_type": "markdown",
   "id": "7dacfcad",
   "metadata": {
    "id": "7dacfcad"
   },
   "source": [
    "### Обработка хронометрических данных"
   ]
  },
  {
   "cell_type": "markdown",
   "id": "f5a55790",
   "metadata": {
    "id": "f5a55790"
   },
   "source": [
    "Преобразуем формат *object* признака `date_created` к формату даты и времени."
   ]
  },
  {
   "cell_type": "code",
   "execution_count": 54,
   "id": "0a5eceeb",
   "metadata": {
    "colab": {
     "base_uri": "https://localhost:8080/"
    },
    "id": "0a5eceeb",
    "outputId": "bfae664c-78ae-4fcd-c220-baa37049c794"
   },
   "outputs": [
    {
     "data": {
      "text/plain": [
       "dtype('<M8[ns]')"
      ]
     },
     "execution_count": 54,
     "metadata": {},
     "output_type": "execute_result"
    }
   ],
   "source": [
    "data['date_created'] = pd.to_datetime(data['date_created'],\n",
    "                                      format='%Y-%m-%d %H:%M:%S')\n",
    "data['date_created'].dtype"
   ]
  },
  {
   "cell_type": "markdown",
   "id": "7d3579d6",
   "metadata": {
    "id": "7d3579d6"
   },
   "source": [
    "Выделим из значений признака `date_created` номер месяца и дня недели."
   ]
  },
  {
   "cell_type": "code",
   "execution_count": 55,
   "id": "8ea65299",
   "metadata": {
    "colab": {
     "base_uri": "https://localhost:8080/"
    },
    "id": "8ea65299",
    "outputId": "b1fda719-4ce4-4130-ea88-10c93ae19d13"
   },
   "outputs": [
    {
     "data": {
      "text/plain": [
       "array([ 1,  2,  3,  4,  6,  8,  9, 11, 12])"
      ]
     },
     "execution_count": 55,
     "metadata": {},
     "output_type": "execute_result"
    }
   ],
   "source": [
    "data['date_created_month'] = data['date_created'].dt.month\n",
    "data['date_created_month'].sort_values().unique()"
   ]
  },
  {
   "cell_type": "code",
   "execution_count": 56,
   "id": "3422ed19",
   "metadata": {
    "colab": {
     "base_uri": "https://localhost:8080/"
    },
    "id": "3422ed19",
    "outputId": "2d9e803a-1298-4724-894e-6e4b077e35e7"
   },
   "outputs": [
    {
     "data": {
      "text/plain": [
       "array([1, 2, 3, 4, 5, 6, 7])"
      ]
     },
     "execution_count": 56,
     "metadata": {},
     "output_type": "execute_result"
    }
   ],
   "source": [
    "data['date_created_weekday'] = data['date_created'].dt.weekday + 1\n",
    "data['date_created_weekday'].sort_values().unique()"
   ]
  },
  {
   "cell_type": "code",
   "execution_count": 57,
   "id": "f6f5713f",
   "metadata": {
    "colab": {
     "base_uri": "https://localhost:8080/"
    },
    "id": "f6f5713f",
    "outputId": "39134c9a-32f5-4ed6-af7b-f5b2672e92b0",
    "scrolled": true
   },
   "outputs": [
    {
     "data": {
      "text/plain": [
       "0"
      ]
     },
     "execution_count": 57,
     "metadata": {},
     "output_type": "execute_result"
    }
   ],
   "source": [
    "data.isna().sum().sum()"
   ]
  },
  {
   "cell_type": "markdown",
   "id": "b9fd15b3",
   "metadata": {
    "id": "b9fd15b3"
   },
   "source": [
    "### Обработка дубликатов"
   ]
  },
  {
   "cell_type": "code",
   "execution_count": 58,
   "id": "50c04397",
   "metadata": {
    "colab": {
     "base_uri": "https://localhost:8080/",
     "height": 466
    },
    "id": "50c04397",
    "outputId": "56d8f02b-b829-4f8c-8e49-f974efff1df6"
   },
   "outputs": [
    {
     "data": {
      "text/html": [
       "\n",
       "  <div id=\"df-f576507d-b5cf-4367-810b-e6fb3c8238f1\" class=\"colab-df-container\">\n",
       "    <div>\n",
       "<style scoped>\n",
       "    .dataframe tbody tr th:only-of-type {\n",
       "        vertical-align: middle;\n",
       "    }\n",
       "\n",
       "    .dataframe tbody tr th {\n",
       "        vertical-align: top;\n",
       "    }\n",
       "\n",
       "    .dataframe thead th {\n",
       "        text-align: right;\n",
       "    }\n",
       "</style>\n",
       "<table border=\"1\" class=\"dataframe\">\n",
       "  <thead>\n",
       "    <tr style=\"text-align: right;\">\n",
       "      <th></th>\n",
       "      <th>price</th>\n",
       "      <th>vehicle_type</th>\n",
       "      <th>registration_year</th>\n",
       "      <th>gearbox</th>\n",
       "      <th>power</th>\n",
       "      <th>model</th>\n",
       "      <th>kilometer</th>\n",
       "      <th>registration_month</th>\n",
       "      <th>fuel_type</th>\n",
       "      <th>brand</th>\n",
       "      <th>repaired</th>\n",
       "      <th>date_created</th>\n",
       "      <th>postal_code</th>\n",
       "      <th>last_seen</th>\n",
       "      <th>date_created_month</th>\n",
       "      <th>date_created_weekday</th>\n",
       "    </tr>\n",
       "  </thead>\n",
       "  <tbody>\n",
       "    <tr>\n",
       "      <th>327185</th>\n",
       "      <td>500</td>\n",
       "      <td>sedan</td>\n",
       "      <td>1997.0</td>\n",
       "      <td>manual</td>\n",
       "      <td>88.0</td>\n",
       "      <td>3_reihe</td>\n",
       "      <td>100000</td>\n",
       "      <td>11.0</td>\n",
       "      <td>gasoline</td>\n",
       "      <td>mazda</td>\n",
       "      <td>no</td>\n",
       "      <td>2016-04-03</td>\n",
       "      <td>87700</td>\n",
       "      <td>2016-04-06 00:16:09</td>\n",
       "      <td>4</td>\n",
       "      <td>7</td>\n",
       "    </tr>\n",
       "    <tr>\n",
       "      <th>186618</th>\n",
       "      <td>500</td>\n",
       "      <td>sedan</td>\n",
       "      <td>1997.0</td>\n",
       "      <td>manual</td>\n",
       "      <td>88.0</td>\n",
       "      <td>3_reihe</td>\n",
       "      <td>100000</td>\n",
       "      <td>11.0</td>\n",
       "      <td>gasoline</td>\n",
       "      <td>mazda</td>\n",
       "      <td>no</td>\n",
       "      <td>2016-04-03</td>\n",
       "      <td>87700</td>\n",
       "      <td>2016-04-06 00:16:09</td>\n",
       "      <td>4</td>\n",
       "      <td>7</td>\n",
       "    </tr>\n",
       "    <tr>\n",
       "      <th>329464</th>\n",
       "      <td>500</td>\n",
       "      <td>coupe</td>\n",
       "      <td>1994.0</td>\n",
       "      <td>manual</td>\n",
       "      <td>133.0</td>\n",
       "      <td>900</td>\n",
       "      <td>150000</td>\n",
       "      <td>5.0</td>\n",
       "      <td>gasoline</td>\n",
       "      <td>saab</td>\n",
       "      <td>no</td>\n",
       "      <td>2016-03-10</td>\n",
       "      <td>53225</td>\n",
       "      <td>2016-04-06 00:45:44</td>\n",
       "      <td>3</td>\n",
       "      <td>4</td>\n",
       "    </tr>\n",
       "    <tr>\n",
       "      <th>326949</th>\n",
       "      <td>500</td>\n",
       "      <td>coupe</td>\n",
       "      <td>1994.0</td>\n",
       "      <td>manual</td>\n",
       "      <td>133.0</td>\n",
       "      <td>900</td>\n",
       "      <td>150000</td>\n",
       "      <td>5.0</td>\n",
       "      <td>gasoline</td>\n",
       "      <td>saab</td>\n",
       "      <td>no</td>\n",
       "      <td>2016-03-10</td>\n",
       "      <td>53225</td>\n",
       "      <td>2016-04-06 00:45:44</td>\n",
       "      <td>3</td>\n",
       "      <td>4</td>\n",
       "    </tr>\n",
       "    <tr>\n",
       "      <th>230753</th>\n",
       "      <td>550</td>\n",
       "      <td>sedan</td>\n",
       "      <td>1995.0</td>\n",
       "      <td>manual</td>\n",
       "      <td>109.0</td>\n",
       "      <td>other</td>\n",
       "      <td>150000</td>\n",
       "      <td>3.0</td>\n",
       "      <td>gasoline</td>\n",
       "      <td>volvo</td>\n",
       "      <td>no</td>\n",
       "      <td>2016-03-26</td>\n",
       "      <td>22417</td>\n",
       "      <td>2016-04-06 06:16:09</td>\n",
       "      <td>3</td>\n",
       "      <td>6</td>\n",
       "    </tr>\n",
       "    <tr>\n",
       "      <th>57160</th>\n",
       "      <td>550</td>\n",
       "      <td>sedan</td>\n",
       "      <td>1995.0</td>\n",
       "      <td>manual</td>\n",
       "      <td>109.0</td>\n",
       "      <td>other</td>\n",
       "      <td>150000</td>\n",
       "      <td>3.0</td>\n",
       "      <td>gasoline</td>\n",
       "      <td>volvo</td>\n",
       "      <td>no</td>\n",
       "      <td>2016-03-26</td>\n",
       "      <td>22417</td>\n",
       "      <td>2016-04-06 06:16:09</td>\n",
       "      <td>3</td>\n",
       "      <td>6</td>\n",
       "    </tr>\n",
       "  </tbody>\n",
       "</table>\n",
       "</div>\n",
       "    <div class=\"colab-df-buttons\">\n",
       "\n",
       "  <div class=\"colab-df-container\">\n",
       "    <button class=\"colab-df-convert\" onclick=\"convertToInteractive('df-f576507d-b5cf-4367-810b-e6fb3c8238f1')\"\n",
       "            title=\"Convert this dataframe to an interactive table.\"\n",
       "            style=\"display:none;\">\n",
       "\n",
       "  <svg xmlns=\"http://www.w3.org/2000/svg\" height=\"24px\" viewBox=\"0 -960 960 960\">\n",
       "    <path d=\"M120-120v-720h720v720H120Zm60-500h600v-160H180v160Zm220 220h160v-160H400v160Zm0 220h160v-160H400v160ZM180-400h160v-160H180v160Zm440 0h160v-160H620v160ZM180-180h160v-160H180v160Zm440 0h160v-160H620v160Z\"/>\n",
       "  </svg>\n",
       "    </button>\n",
       "\n",
       "  <style>\n",
       "    .colab-df-container {\n",
       "      display:flex;\n",
       "      gap: 12px;\n",
       "    }\n",
       "\n",
       "    .colab-df-convert {\n",
       "      background-color: #E8F0FE;\n",
       "      border: none;\n",
       "      border-radius: 50%;\n",
       "      cursor: pointer;\n",
       "      display: none;\n",
       "      fill: #1967D2;\n",
       "      height: 32px;\n",
       "      padding: 0 0 0 0;\n",
       "      width: 32px;\n",
       "    }\n",
       "\n",
       "    .colab-df-convert:hover {\n",
       "      background-color: #E2EBFA;\n",
       "      box-shadow: 0px 1px 2px rgba(60, 64, 67, 0.3), 0px 1px 3px 1px rgba(60, 64, 67, 0.15);\n",
       "      fill: #174EA6;\n",
       "    }\n",
       "\n",
       "    .colab-df-buttons div {\n",
       "      margin-bottom: 4px;\n",
       "    }\n",
       "\n",
       "    [theme=dark] .colab-df-convert {\n",
       "      background-color: #3B4455;\n",
       "      fill: #D2E3FC;\n",
       "    }\n",
       "\n",
       "    [theme=dark] .colab-df-convert:hover {\n",
       "      background-color: #434B5C;\n",
       "      box-shadow: 0px 1px 3px 1px rgba(0, 0, 0, 0.15);\n",
       "      filter: drop-shadow(0px 1px 2px rgba(0, 0, 0, 0.3));\n",
       "      fill: #FFFFFF;\n",
       "    }\n",
       "  </style>\n",
       "\n",
       "    <script>\n",
       "      const buttonEl =\n",
       "        document.querySelector('#df-f576507d-b5cf-4367-810b-e6fb3c8238f1 button.colab-df-convert');\n",
       "      buttonEl.style.display =\n",
       "        google.colab.kernel.accessAllowed ? 'block' : 'none';\n",
       "\n",
       "      async function convertToInteractive(key) {\n",
       "        const element = document.querySelector('#df-f576507d-b5cf-4367-810b-e6fb3c8238f1');\n",
       "        const dataTable =\n",
       "          await google.colab.kernel.invokeFunction('convertToInteractive',\n",
       "                                                    [key], {});\n",
       "        if (!dataTable) return;\n",
       "\n",
       "        const docLinkHtml = 'Like what you see? Visit the ' +\n",
       "          '<a target=\"_blank\" href=https://colab.research.google.com/notebooks/data_table.ipynb>data table notebook</a>'\n",
       "          + ' to learn more about interactive tables.';\n",
       "        element.innerHTML = '';\n",
       "        dataTable['output_type'] = 'display_data';\n",
       "        await google.colab.output.renderOutput(dataTable, element);\n",
       "        const docLink = document.createElement('div');\n",
       "        docLink.innerHTML = docLinkHtml;\n",
       "        element.appendChild(docLink);\n",
       "      }\n",
       "    </script>\n",
       "  </div>\n",
       "\n",
       "\n",
       "<div id=\"df-f6f8c80d-4f76-4ea9-80c4-6f674189bb73\">\n",
       "  <button class=\"colab-df-quickchart\" onclick=\"quickchart('df-f6f8c80d-4f76-4ea9-80c4-6f674189bb73')\"\n",
       "            title=\"Suggest charts.\"\n",
       "            style=\"display:none;\">\n",
       "\n",
       "<svg xmlns=\"http://www.w3.org/2000/svg\" height=\"24px\"viewBox=\"0 0 24 24\"\n",
       "     width=\"24px\">\n",
       "    <g>\n",
       "        <path d=\"M19 3H5c-1.1 0-2 .9-2 2v14c0 1.1.9 2 2 2h14c1.1 0 2-.9 2-2V5c0-1.1-.9-2-2-2zM9 17H7v-7h2v7zm4 0h-2V7h2v10zm4 0h-2v-4h2v4z\"/>\n",
       "    </g>\n",
       "</svg>\n",
       "  </button>\n",
       "\n",
       "<style>\n",
       "  .colab-df-quickchart {\n",
       "      --bg-color: #E8F0FE;\n",
       "      --fill-color: #1967D2;\n",
       "      --hover-bg-color: #E2EBFA;\n",
       "      --hover-fill-color: #174EA6;\n",
       "      --disabled-fill-color: #AAA;\n",
       "      --disabled-bg-color: #DDD;\n",
       "  }\n",
       "\n",
       "  [theme=dark] .colab-df-quickchart {\n",
       "      --bg-color: #3B4455;\n",
       "      --fill-color: #D2E3FC;\n",
       "      --hover-bg-color: #434B5C;\n",
       "      --hover-fill-color: #FFFFFF;\n",
       "      --disabled-bg-color: #3B4455;\n",
       "      --disabled-fill-color: #666;\n",
       "  }\n",
       "\n",
       "  .colab-df-quickchart {\n",
       "    background-color: var(--bg-color);\n",
       "    border: none;\n",
       "    border-radius: 50%;\n",
       "    cursor: pointer;\n",
       "    display: none;\n",
       "    fill: var(--fill-color);\n",
       "    height: 32px;\n",
       "    padding: 0;\n",
       "    width: 32px;\n",
       "  }\n",
       "\n",
       "  .colab-df-quickchart:hover {\n",
       "    background-color: var(--hover-bg-color);\n",
       "    box-shadow: 0 1px 2px rgba(60, 64, 67, 0.3), 0 1px 3px 1px rgba(60, 64, 67, 0.15);\n",
       "    fill: var(--button-hover-fill-color);\n",
       "  }\n",
       "\n",
       "  .colab-df-quickchart-complete:disabled,\n",
       "  .colab-df-quickchart-complete:disabled:hover {\n",
       "    background-color: var(--disabled-bg-color);\n",
       "    fill: var(--disabled-fill-color);\n",
       "    box-shadow: none;\n",
       "  }\n",
       "\n",
       "  .colab-df-spinner {\n",
       "    border: 2px solid var(--fill-color);\n",
       "    border-color: transparent;\n",
       "    border-bottom-color: var(--fill-color);\n",
       "    animation:\n",
       "      spin 1s steps(1) infinite;\n",
       "  }\n",
       "\n",
       "  @keyframes spin {\n",
       "    0% {\n",
       "      border-color: transparent;\n",
       "      border-bottom-color: var(--fill-color);\n",
       "      border-left-color: var(--fill-color);\n",
       "    }\n",
       "    20% {\n",
       "      border-color: transparent;\n",
       "      border-left-color: var(--fill-color);\n",
       "      border-top-color: var(--fill-color);\n",
       "    }\n",
       "    30% {\n",
       "      border-color: transparent;\n",
       "      border-left-color: var(--fill-color);\n",
       "      border-top-color: var(--fill-color);\n",
       "      border-right-color: var(--fill-color);\n",
       "    }\n",
       "    40% {\n",
       "      border-color: transparent;\n",
       "      border-right-color: var(--fill-color);\n",
       "      border-top-color: var(--fill-color);\n",
       "    }\n",
       "    60% {\n",
       "      border-color: transparent;\n",
       "      border-right-color: var(--fill-color);\n",
       "    }\n",
       "    80% {\n",
       "      border-color: transparent;\n",
       "      border-right-color: var(--fill-color);\n",
       "      border-bottom-color: var(--fill-color);\n",
       "    }\n",
       "    90% {\n",
       "      border-color: transparent;\n",
       "      border-bottom-color: var(--fill-color);\n",
       "    }\n",
       "  }\n",
       "</style>\n",
       "\n",
       "  <script>\n",
       "    async function quickchart(key) {\n",
       "      const quickchartButtonEl =\n",
       "        document.querySelector('#' + key + ' button');\n",
       "      quickchartButtonEl.disabled = true;  // To prevent multiple clicks.\n",
       "      quickchartButtonEl.classList.add('colab-df-spinner');\n",
       "      try {\n",
       "        const charts = await google.colab.kernel.invokeFunction(\n",
       "            'suggestCharts', [key], {});\n",
       "      } catch (error) {\n",
       "        console.error('Error during call to suggestCharts:', error);\n",
       "      }\n",
       "      quickchartButtonEl.classList.remove('colab-df-spinner');\n",
       "      quickchartButtonEl.classList.add('colab-df-quickchart-complete');\n",
       "    }\n",
       "    (() => {\n",
       "      let quickchartButtonEl =\n",
       "        document.querySelector('#df-f6f8c80d-4f76-4ea9-80c4-6f674189bb73 button');\n",
       "      quickchartButtonEl.style.display =\n",
       "        google.colab.kernel.accessAllowed ? 'block' : 'none';\n",
       "    })();\n",
       "  </script>\n",
       "</div>\n",
       "    </div>\n",
       "  </div>\n"
      ],
      "text/plain": [
       "        price vehicle_type  registration_year gearbox  power    model  \\\n",
       "327185    500        sedan             1997.0  manual   88.0  3_reihe   \n",
       "186618    500        sedan             1997.0  manual   88.0  3_reihe   \n",
       "329464    500        coupe             1994.0  manual  133.0      900   \n",
       "326949    500        coupe             1994.0  manual  133.0      900   \n",
       "230753    550        sedan             1995.0  manual  109.0    other   \n",
       "57160     550        sedan             1995.0  manual  109.0    other   \n",
       "\n",
       "        kilometer  registration_month fuel_type  brand repaired date_created  \\\n",
       "327185     100000                11.0  gasoline  mazda       no   2016-04-03   \n",
       "186618     100000                11.0  gasoline  mazda       no   2016-04-03   \n",
       "329464     150000                 5.0  gasoline   saab       no   2016-03-10   \n",
       "326949     150000                 5.0  gasoline   saab       no   2016-03-10   \n",
       "230753     150000                 3.0  gasoline  volvo       no   2016-03-26   \n",
       "57160      150000                 3.0  gasoline  volvo       no   2016-03-26   \n",
       "\n",
       "        postal_code            last_seen  date_created_month  \\\n",
       "327185        87700  2016-04-06 00:16:09                   4   \n",
       "186618        87700  2016-04-06 00:16:09                   4   \n",
       "329464        53225  2016-04-06 00:45:44                   3   \n",
       "326949        53225  2016-04-06 00:45:44                   3   \n",
       "230753        22417  2016-04-06 06:16:09                   3   \n",
       "57160         22417  2016-04-06 06:16:09                   3   \n",
       "\n",
       "        date_created_weekday  \n",
       "327185                     7  \n",
       "186618                     7  \n",
       "329464                     4  \n",
       "326949                     4  \n",
       "230753                     6  \n",
       "57160                      6  "
      ]
     },
     "execution_count": 58,
     "metadata": {},
     "output_type": "execute_result"
    }
   ],
   "source": [
    "data[data.duplicated(keep=False)].sort_values(by='price').head(6)"
   ]
  },
  {
   "cell_type": "code",
   "execution_count": 59,
   "id": "1cabeb57",
   "metadata": {
    "colab": {
     "base_uri": "https://localhost:8080/"
    },
    "id": "1cabeb57",
    "outputId": "a2b6bc76-6c05-4dbe-b887-717f1be1b47c"
   },
   "outputs": [
    {
     "data": {
      "text/plain": [
       "107"
      ]
     },
     "execution_count": 59,
     "metadata": {},
     "output_type": "execute_result"
    }
   ],
   "source": [
    "data.duplicated().sum()"
   ]
  },
  {
   "cell_type": "markdown",
   "id": "e2fbadde",
   "metadata": {
    "id": "e2fbadde"
   },
   "source": [
    "Полных дубликатов в наборе данных 107. Удалим такие записи."
   ]
  },
  {
   "cell_type": "code",
   "execution_count": 60,
   "id": "9b49e457",
   "metadata": {
    "colab": {
     "base_uri": "https://localhost:8080/"
    },
    "id": "9b49e457",
    "outputId": "2a3d0bba-6973-49df-f987-c638d616a3b7"
   },
   "outputs": [
    {
     "data": {
      "text/plain": [
       "0"
      ]
     },
     "execution_count": 60,
     "metadata": {},
     "output_type": "execute_result"
    }
   ],
   "source": [
    "data.drop_duplicates(inplace=True)\n",
    "data.duplicated().sum()"
   ]
  },
  {
   "cell_type": "markdown",
   "id": "2f84f36e",
   "metadata": {
    "id": "2f84f36e"
   },
   "source": [
    "Кандидатами в дубли будем считать дублирующиеся записи, в которых не учтены значения признаков `last_seen` и `date_created`, то есть характеристики автомобиля не зависят от активности пользователя и времени создания им объявления о продаже."
   ]
  },
  {
   "cell_type": "code",
   "execution_count": 61,
   "id": "4eba0fca",
   "metadata": {
    "colab": {
     "base_uri": "https://localhost:8080/"
    },
    "id": "4eba0fca",
    "outputId": "9964aa25-b6d2-4f29-cf4d-78b9301b09a7"
   },
   "outputs": [
    {
     "data": {
      "text/plain": [
       "11704"
      ]
     },
     "execution_count": 61,
     "metadata": {},
     "output_type": "execute_result"
    }
   ],
   "source": [
    "data.drop(['last_seen', 'date_created'], axis=1).duplicated().sum()"
   ]
  },
  {
   "cell_type": "code",
   "execution_count": 62,
   "id": "1fe2e69a",
   "metadata": {
    "colab": {
     "base_uri": "https://localhost:8080/"
    },
    "id": "1fe2e69a",
    "outputId": "407a5255-9944-4371-99b2-fdc938608341"
   },
   "outputs": [
    {
     "data": {
      "text/plain": [
       "298806"
      ]
     },
     "execution_count": 62,
     "metadata": {},
     "output_type": "execute_result"
    }
   ],
   "source": [
    "data.shape[0]"
   ]
  },
  {
   "cell_type": "markdown",
   "id": "eabca894",
   "metadata": {
    "id": "eabca894"
   },
   "source": [
    "Канидатов в дубли &mdash; 11 704. Удалим их."
   ]
  },
  {
   "cell_type": "code",
   "execution_count": 63,
   "id": "6919fa98",
   "metadata": {
    "colab": {
     "base_uri": "https://localhost:8080/"
    },
    "id": "6919fa98",
    "outputId": "fe658815-3447-403f-84e6-660788a1d500"
   },
   "outputs": [
    {
     "data": {
      "text/plain": [
       "0"
      ]
     },
     "execution_count": 63,
     "metadata": {},
     "output_type": "execute_result"
    }
   ],
   "source": [
    "data.drop_duplicates(\n",
    "    subset=data.drop(['last_seen', 'date_created'], axis=1).columns.tolist(),\n",
    "    inplace=True)\n",
    "data.drop(['last_seen', 'date_created'], axis=1).duplicated().sum()"
   ]
  },
  {
   "cell_type": "code",
   "execution_count": 64,
   "id": "7c6d5fc4",
   "metadata": {
    "colab": {
     "base_uri": "https://localhost:8080/"
    },
    "id": "7c6d5fc4",
    "outputId": "d7fe6cb5-8776-402c-de26-906066600aeb"
   },
   "outputs": [
    {
     "data": {
      "text/plain": [
       "287102"
      ]
     },
     "execution_count": 64,
     "metadata": {},
     "output_type": "execute_result"
    }
   ],
   "source": [
    "data.shape[0]"
   ]
  },
  {
   "cell_type": "markdown",
   "id": "d75dc4f7",
   "metadata": {
    "id": "d75dc4f7"
   },
   "source": [
    "**Промежуточный вывод**\n",
    "\n",
    "- Выполнена предварительная обработка данных.\n",
    "- В результате предварительной обработки данных:\n",
    "    - обработаны аномальные значения, противоречащие физической природе данных; где необходимо, установлены критерии для граничных значений (минимального и максимального),\n",
    "    - устранены ошибки в значениях признаков,\n",
    "    - удалены записи со значениями, для которых не определены модель и дата регистрации автомобиля,\n",
    "    - удалены неинформативные признаки,\n",
    "    - заполнены пропуски наиболее подходящим значением,\n",
    "    - типы данных приведены в соответствии с физической природой данных и шкалами их измерения,\n",
    "    - обнаружены и удалены полные и частичные дубликаты,\n",
    "    - сохранено 81 % записей исходного набора данных."
   ]
  },
  {
   "cell_type": "markdown",
   "id": "d3b3749e",
   "metadata": {
    "id": "d3b3749e"
   },
   "source": [
    "## Построение моделей"
   ]
  },
  {
   "cell_type": "markdown",
   "id": "a572edfc",
   "metadata": {
    "id": "a572edfc"
   },
   "source": [
    "### Подготовка данных для обучения"
   ]
  },
  {
   "cell_type": "markdown",
   "id": "378c0e68",
   "metadata": {
    "id": "378c0e68"
   },
   "source": [
    "#### Удаление лишних признаков"
   ]
  },
  {
   "cell_type": "markdown",
   "id": "6fdc0dba",
   "metadata": {
    "id": "6fdc0dba"
   },
   "source": [
    "Для целей построения моделей последняя активность пользователя `last_seen` и дата создания объявления `date_created` не представляют ценности, поскольку имеют большое количество уникальных значений. Кроме того, дата создания объявления не характеризует продаваемый автомобиль, а последняя активность пользователя может постоянно изменять своё значение для одного объявления.\n",
    "\n",
    "Удалим признаки `last_seen` и `date_created` из набора данных."
   ]
  },
  {
   "cell_type": "code",
   "execution_count": 65,
   "id": "EKaWSSOlQ7tV",
   "metadata": {
    "id": "EKaWSSOlQ7tV"
   },
   "outputs": [],
   "source": [
    "data.drop(['last_seen', 'date_created'], axis=1, inplace=True)"
   ]
  },
  {
   "cell_type": "code",
   "execution_count": 66,
   "id": "e087f75d",
   "metadata": {
    "colab": {
     "base_uri": "https://localhost:8080/"
    },
    "id": "e087f75d",
    "outputId": "a464ca5e-fb30-472b-c3b6-966e053e4d3a"
   },
   "outputs": [
    {
     "data": {
      "text/plain": [
       "['brand',\n",
       " 'date_created_month',\n",
       " 'date_created_weekday',\n",
       " 'fuel_type',\n",
       " 'gearbox',\n",
       " 'kilometer',\n",
       " 'model',\n",
       " 'postal_code',\n",
       " 'power',\n",
       " 'price',\n",
       " 'registration_month',\n",
       " 'registration_year',\n",
       " 'repaired',\n",
       " 'vehicle_type']"
      ]
     },
     "execution_count": 66,
     "metadata": {},
     "output_type": "execute_result"
    }
   ],
   "source": [
    "data.columns.sort_values().tolist()"
   ]
  },
  {
   "cell_type": "code",
   "execution_count": 67,
   "id": "f0d6de60",
   "metadata": {
    "colab": {
     "base_uri": "https://localhost:8080/"
    },
    "id": "f0d6de60",
    "outputId": "83ad0863-6701-45fd-f20e-0d4e841cfa1e"
   },
   "outputs": [
    {
     "data": {
      "text/plain": [
       "0"
      ]
     },
     "execution_count": 67,
     "metadata": {},
     "output_type": "execute_result"
    }
   ],
   "source": [
    "data.duplicated().sum()"
   ]
  },
  {
   "cell_type": "markdown",
   "id": "7cbc4c9d",
   "metadata": {
    "id": "7cbc4c9d"
   },
   "source": [
    "#### Кодирование значений признаков"
   ]
  },
  {
   "cell_type": "markdown",
   "id": "b2ed67d3",
   "metadata": {
    "id": "b2ed67d3"
   },
   "source": [
    "Поскольку алгоритмы обучения принимают на вход числовые данные, выполним кодирование бинарных признаков `repaired` и `geardox` значениями 0 и 1."
   ]
  },
  {
   "cell_type": "code",
   "execution_count": 68,
   "id": "e896a1eb",
   "metadata": {
    "colab": {
     "base_uri": "https://localhost:8080/"
    },
    "id": "e896a1eb",
    "outputId": "192273cb-3f78-4e7d-a2b6-3219ff766bf6"
   },
   "outputs": [
    {
     "data": {
      "text/plain": [
       "array([1, 0])"
      ]
     },
     "execution_count": 68,
     "metadata": {},
     "output_type": "execute_result"
    }
   ],
   "source": [
    "data['repaired'].replace({'no': 0, 'yes': 1}, inplace=True)\n",
    "data['repaired'].unique()"
   ]
  },
  {
   "cell_type": "code",
   "execution_count": 69,
   "id": "c66ed533",
   "metadata": {
    "colab": {
     "base_uri": "https://localhost:8080/"
    },
    "id": "c66ed533",
    "outputId": "f8a0bdb9-c52c-484f-f66e-4058c68caa66"
   },
   "outputs": [
    {
     "data": {
      "text/plain": [
       "array([1, 0])"
      ]
     },
     "execution_count": 69,
     "metadata": {},
     "output_type": "execute_result"
    }
   ],
   "source": [
    "data['gearbox'].replace({'auto': 0, 'manual': 1}, inplace=True)\n",
    "data['gearbox'].unique()"
   ]
  },
  {
   "cell_type": "markdown",
   "id": "2b4129c1",
   "metadata": {
    "id": "2b4129c1"
   },
   "source": [
    "Для учёта цикличности в следовании дней недели и месяцев используем подход с использованием тригонометрической окружности."
   ]
  },
  {
   "cell_type": "code",
   "execution_count": 70,
   "id": "cdf69ba8",
   "metadata": {
    "id": "cdf69ba8"
   },
   "outputs": [],
   "source": [
    "data['date_created_month_sin'] = np.sin(2 * np.pi * data['date_created_month'] / 12)\n",
    "data['date_created_month_cos'] = np.cos(2 * np.pi * data['date_created_month'] / 12)"
   ]
  },
  {
   "cell_type": "code",
   "execution_count": 71,
   "id": "4542df77",
   "metadata": {
    "id": "4542df77"
   },
   "outputs": [],
   "source": [
    "data['date_created_weekday_sin'] = np.sin(2 * np.pi * data['date_created_weekday'] / 7)\n",
    "data['date_created_weekday_cos'] = np.cos(2 * np.pi * data['date_created_weekday'] / 7)"
   ]
  },
  {
   "cell_type": "code",
   "execution_count": 72,
   "id": "93e1a05c",
   "metadata": {
    "id": "93e1a05c"
   },
   "outputs": [],
   "source": [
    "data['registration_month_sin'] = np.sin(2 * np.pi * data['registration_month'] / 12)\n",
    "data['registration_month_cos'] = np.cos(2 * np.pi * data['registration_month'] / 12)"
   ]
  },
  {
   "cell_type": "code",
   "execution_count": 73,
   "id": "639e74d2",
   "metadata": {
    "colab": {
     "base_uri": "https://localhost:8080/",
     "height": 226
    },
    "id": "639e74d2",
    "outputId": "b39a37d0-6222-4622-bf70-af07c74cbb20"
   },
   "outputs": [
    {
     "data": {
      "text/html": [
       "\n",
       "  <div id=\"df-92a7f34e-cdb3-4cf7-8919-108dcacfa5fa\" class=\"colab-df-container\">\n",
       "    <div>\n",
       "<style scoped>\n",
       "    .dataframe tbody tr th:only-of-type {\n",
       "        vertical-align: middle;\n",
       "    }\n",
       "\n",
       "    .dataframe tbody tr th {\n",
       "        vertical-align: top;\n",
       "    }\n",
       "\n",
       "    .dataframe thead th {\n",
       "        text-align: right;\n",
       "    }\n",
       "</style>\n",
       "<table border=\"1\" class=\"dataframe\">\n",
       "  <thead>\n",
       "    <tr style=\"text-align: right;\">\n",
       "      <th></th>\n",
       "      <th>price</th>\n",
       "      <th>vehicle_type</th>\n",
       "      <th>registration_year</th>\n",
       "      <th>gearbox</th>\n",
       "      <th>power</th>\n",
       "      <th>model</th>\n",
       "      <th>kilometer</th>\n",
       "      <th>registration_month</th>\n",
       "      <th>fuel_type</th>\n",
       "      <th>brand</th>\n",
       "      <th>repaired</th>\n",
       "      <th>postal_code</th>\n",
       "      <th>date_created_month</th>\n",
       "      <th>date_created_weekday</th>\n",
       "      <th>date_created_month_sin</th>\n",
       "      <th>date_created_month_cos</th>\n",
       "      <th>date_created_weekday_sin</th>\n",
       "      <th>date_created_weekday_cos</th>\n",
       "      <th>registration_month_sin</th>\n",
       "      <th>registration_month_cos</th>\n",
       "    </tr>\n",
       "  </thead>\n",
       "  <tbody>\n",
       "    <tr>\n",
       "      <th>1</th>\n",
       "      <td>18300</td>\n",
       "      <td>coupe</td>\n",
       "      <td>2011.0</td>\n",
       "      <td>1</td>\n",
       "      <td>190.0</td>\n",
       "      <td>unknown</td>\n",
       "      <td>125000</td>\n",
       "      <td>5.0</td>\n",
       "      <td>gasoline</td>\n",
       "      <td>audi</td>\n",
       "      <td>1</td>\n",
       "      <td>66954</td>\n",
       "      <td>3</td>\n",
       "      <td>4</td>\n",
       "      <td>1.000000</td>\n",
       "      <td>6.123234e-17</td>\n",
       "      <td>-0.433884</td>\n",
       "      <td>-0.900969</td>\n",
       "      <td>5.000000e-01</td>\n",
       "      <td>-0.866025</td>\n",
       "    </tr>\n",
       "    <tr>\n",
       "      <th>2</th>\n",
       "      <td>9800</td>\n",
       "      <td>suv</td>\n",
       "      <td>2004.0</td>\n",
       "      <td>0</td>\n",
       "      <td>163.0</td>\n",
       "      <td>grand</td>\n",
       "      <td>125000</td>\n",
       "      <td>8.0</td>\n",
       "      <td>gasoline</td>\n",
       "      <td>jeep</td>\n",
       "      <td>0</td>\n",
       "      <td>90480</td>\n",
       "      <td>3</td>\n",
       "      <td>1</td>\n",
       "      <td>1.000000</td>\n",
       "      <td>6.123234e-17</td>\n",
       "      <td>0.781831</td>\n",
       "      <td>0.623490</td>\n",
       "      <td>-8.660254e-01</td>\n",
       "      <td>-0.500000</td>\n",
       "    </tr>\n",
       "    <tr>\n",
       "      <th>3</th>\n",
       "      <td>1500</td>\n",
       "      <td>small</td>\n",
       "      <td>2001.0</td>\n",
       "      <td>1</td>\n",
       "      <td>75.0</td>\n",
       "      <td>golf</td>\n",
       "      <td>150000</td>\n",
       "      <td>6.0</td>\n",
       "      <td>gasoline</td>\n",
       "      <td>volkswagen</td>\n",
       "      <td>0</td>\n",
       "      <td>91074</td>\n",
       "      <td>3</td>\n",
       "      <td>4</td>\n",
       "      <td>1.000000</td>\n",
       "      <td>6.123234e-17</td>\n",
       "      <td>-0.433884</td>\n",
       "      <td>-0.900969</td>\n",
       "      <td>1.224647e-16</td>\n",
       "      <td>-1.000000</td>\n",
       "    </tr>\n",
       "    <tr>\n",
       "      <th>4</th>\n",
       "      <td>3600</td>\n",
       "      <td>small</td>\n",
       "      <td>2008.0</td>\n",
       "      <td>1</td>\n",
       "      <td>69.0</td>\n",
       "      <td>fabia</td>\n",
       "      <td>90000</td>\n",
       "      <td>7.0</td>\n",
       "      <td>gasoline</td>\n",
       "      <td>skoda</td>\n",
       "      <td>0</td>\n",
       "      <td>60437</td>\n",
       "      <td>3</td>\n",
       "      <td>4</td>\n",
       "      <td>1.000000</td>\n",
       "      <td>6.123234e-17</td>\n",
       "      <td>-0.433884</td>\n",
       "      <td>-0.900969</td>\n",
       "      <td>-5.000000e-01</td>\n",
       "      <td>-0.866025</td>\n",
       "    </tr>\n",
       "    <tr>\n",
       "      <th>5</th>\n",
       "      <td>650</td>\n",
       "      <td>sedan</td>\n",
       "      <td>1995.0</td>\n",
       "      <td>1</td>\n",
       "      <td>102.0</td>\n",
       "      <td>3er</td>\n",
       "      <td>150000</td>\n",
       "      <td>10.0</td>\n",
       "      <td>gasoline</td>\n",
       "      <td>bmw</td>\n",
       "      <td>1</td>\n",
       "      <td>33775</td>\n",
       "      <td>4</td>\n",
       "      <td>1</td>\n",
       "      <td>0.866025</td>\n",
       "      <td>-5.000000e-01</td>\n",
       "      <td>0.781831</td>\n",
       "      <td>0.623490</td>\n",
       "      <td>-8.660254e-01</td>\n",
       "      <td>0.500000</td>\n",
       "    </tr>\n",
       "  </tbody>\n",
       "</table>\n",
       "</div>\n",
       "    <div class=\"colab-df-buttons\">\n",
       "\n",
       "  <div class=\"colab-df-container\">\n",
       "    <button class=\"colab-df-convert\" onclick=\"convertToInteractive('df-92a7f34e-cdb3-4cf7-8919-108dcacfa5fa')\"\n",
       "            title=\"Convert this dataframe to an interactive table.\"\n",
       "            style=\"display:none;\">\n",
       "\n",
       "  <svg xmlns=\"http://www.w3.org/2000/svg\" height=\"24px\" viewBox=\"0 -960 960 960\">\n",
       "    <path d=\"M120-120v-720h720v720H120Zm60-500h600v-160H180v160Zm220 220h160v-160H400v160Zm0 220h160v-160H400v160ZM180-400h160v-160H180v160Zm440 0h160v-160H620v160ZM180-180h160v-160H180v160Zm440 0h160v-160H620v160Z\"/>\n",
       "  </svg>\n",
       "    </button>\n",
       "\n",
       "  <style>\n",
       "    .colab-df-container {\n",
       "      display:flex;\n",
       "      gap: 12px;\n",
       "    }\n",
       "\n",
       "    .colab-df-convert {\n",
       "      background-color: #E8F0FE;\n",
       "      border: none;\n",
       "      border-radius: 50%;\n",
       "      cursor: pointer;\n",
       "      display: none;\n",
       "      fill: #1967D2;\n",
       "      height: 32px;\n",
       "      padding: 0 0 0 0;\n",
       "      width: 32px;\n",
       "    }\n",
       "\n",
       "    .colab-df-convert:hover {\n",
       "      background-color: #E2EBFA;\n",
       "      box-shadow: 0px 1px 2px rgba(60, 64, 67, 0.3), 0px 1px 3px 1px rgba(60, 64, 67, 0.15);\n",
       "      fill: #174EA6;\n",
       "    }\n",
       "\n",
       "    .colab-df-buttons div {\n",
       "      margin-bottom: 4px;\n",
       "    }\n",
       "\n",
       "    [theme=dark] .colab-df-convert {\n",
       "      background-color: #3B4455;\n",
       "      fill: #D2E3FC;\n",
       "    }\n",
       "\n",
       "    [theme=dark] .colab-df-convert:hover {\n",
       "      background-color: #434B5C;\n",
       "      box-shadow: 0px 1px 3px 1px rgba(0, 0, 0, 0.15);\n",
       "      filter: drop-shadow(0px 1px 2px rgba(0, 0, 0, 0.3));\n",
       "      fill: #FFFFFF;\n",
       "    }\n",
       "  </style>\n",
       "\n",
       "    <script>\n",
       "      const buttonEl =\n",
       "        document.querySelector('#df-92a7f34e-cdb3-4cf7-8919-108dcacfa5fa button.colab-df-convert');\n",
       "      buttonEl.style.display =\n",
       "        google.colab.kernel.accessAllowed ? 'block' : 'none';\n",
       "\n",
       "      async function convertToInteractive(key) {\n",
       "        const element = document.querySelector('#df-92a7f34e-cdb3-4cf7-8919-108dcacfa5fa');\n",
       "        const dataTable =\n",
       "          await google.colab.kernel.invokeFunction('convertToInteractive',\n",
       "                                                    [key], {});\n",
       "        if (!dataTable) return;\n",
       "\n",
       "        const docLinkHtml = 'Like what you see? Visit the ' +\n",
       "          '<a target=\"_blank\" href=https://colab.research.google.com/notebooks/data_table.ipynb>data table notebook</a>'\n",
       "          + ' to learn more about interactive tables.';\n",
       "        element.innerHTML = '';\n",
       "        dataTable['output_type'] = 'display_data';\n",
       "        await google.colab.output.renderOutput(dataTable, element);\n",
       "        const docLink = document.createElement('div');\n",
       "        docLink.innerHTML = docLinkHtml;\n",
       "        element.appendChild(docLink);\n",
       "      }\n",
       "    </script>\n",
       "  </div>\n",
       "\n",
       "\n",
       "<div id=\"df-37008701-3de5-49bb-b84e-2be825da615d\">\n",
       "  <button class=\"colab-df-quickchart\" onclick=\"quickchart('df-37008701-3de5-49bb-b84e-2be825da615d')\"\n",
       "            title=\"Suggest charts.\"\n",
       "            style=\"display:none;\">\n",
       "\n",
       "<svg xmlns=\"http://www.w3.org/2000/svg\" height=\"24px\"viewBox=\"0 0 24 24\"\n",
       "     width=\"24px\">\n",
       "    <g>\n",
       "        <path d=\"M19 3H5c-1.1 0-2 .9-2 2v14c0 1.1.9 2 2 2h14c1.1 0 2-.9 2-2V5c0-1.1-.9-2-2-2zM9 17H7v-7h2v7zm4 0h-2V7h2v10zm4 0h-2v-4h2v4z\"/>\n",
       "    </g>\n",
       "</svg>\n",
       "  </button>\n",
       "\n",
       "<style>\n",
       "  .colab-df-quickchart {\n",
       "      --bg-color: #E8F0FE;\n",
       "      --fill-color: #1967D2;\n",
       "      --hover-bg-color: #E2EBFA;\n",
       "      --hover-fill-color: #174EA6;\n",
       "      --disabled-fill-color: #AAA;\n",
       "      --disabled-bg-color: #DDD;\n",
       "  }\n",
       "\n",
       "  [theme=dark] .colab-df-quickchart {\n",
       "      --bg-color: #3B4455;\n",
       "      --fill-color: #D2E3FC;\n",
       "      --hover-bg-color: #434B5C;\n",
       "      --hover-fill-color: #FFFFFF;\n",
       "      --disabled-bg-color: #3B4455;\n",
       "      --disabled-fill-color: #666;\n",
       "  }\n",
       "\n",
       "  .colab-df-quickchart {\n",
       "    background-color: var(--bg-color);\n",
       "    border: none;\n",
       "    border-radius: 50%;\n",
       "    cursor: pointer;\n",
       "    display: none;\n",
       "    fill: var(--fill-color);\n",
       "    height: 32px;\n",
       "    padding: 0;\n",
       "    width: 32px;\n",
       "  }\n",
       "\n",
       "  .colab-df-quickchart:hover {\n",
       "    background-color: var(--hover-bg-color);\n",
       "    box-shadow: 0 1px 2px rgba(60, 64, 67, 0.3), 0 1px 3px 1px rgba(60, 64, 67, 0.15);\n",
       "    fill: var(--button-hover-fill-color);\n",
       "  }\n",
       "\n",
       "  .colab-df-quickchart-complete:disabled,\n",
       "  .colab-df-quickchart-complete:disabled:hover {\n",
       "    background-color: var(--disabled-bg-color);\n",
       "    fill: var(--disabled-fill-color);\n",
       "    box-shadow: none;\n",
       "  }\n",
       "\n",
       "  .colab-df-spinner {\n",
       "    border: 2px solid var(--fill-color);\n",
       "    border-color: transparent;\n",
       "    border-bottom-color: var(--fill-color);\n",
       "    animation:\n",
       "      spin 1s steps(1) infinite;\n",
       "  }\n",
       "\n",
       "  @keyframes spin {\n",
       "    0% {\n",
       "      border-color: transparent;\n",
       "      border-bottom-color: var(--fill-color);\n",
       "      border-left-color: var(--fill-color);\n",
       "    }\n",
       "    20% {\n",
       "      border-color: transparent;\n",
       "      border-left-color: var(--fill-color);\n",
       "      border-top-color: var(--fill-color);\n",
       "    }\n",
       "    30% {\n",
       "      border-color: transparent;\n",
       "      border-left-color: var(--fill-color);\n",
       "      border-top-color: var(--fill-color);\n",
       "      border-right-color: var(--fill-color);\n",
       "    }\n",
       "    40% {\n",
       "      border-color: transparent;\n",
       "      border-right-color: var(--fill-color);\n",
       "      border-top-color: var(--fill-color);\n",
       "    }\n",
       "    60% {\n",
       "      border-color: transparent;\n",
       "      border-right-color: var(--fill-color);\n",
       "    }\n",
       "    80% {\n",
       "      border-color: transparent;\n",
       "      border-right-color: var(--fill-color);\n",
       "      border-bottom-color: var(--fill-color);\n",
       "    }\n",
       "    90% {\n",
       "      border-color: transparent;\n",
       "      border-bottom-color: var(--fill-color);\n",
       "    }\n",
       "  }\n",
       "</style>\n",
       "\n",
       "  <script>\n",
       "    async function quickchart(key) {\n",
       "      const quickchartButtonEl =\n",
       "        document.querySelector('#' + key + ' button');\n",
       "      quickchartButtonEl.disabled = true;  // To prevent multiple clicks.\n",
       "      quickchartButtonEl.classList.add('colab-df-spinner');\n",
       "      try {\n",
       "        const charts = await google.colab.kernel.invokeFunction(\n",
       "            'suggestCharts', [key], {});\n",
       "      } catch (error) {\n",
       "        console.error('Error during call to suggestCharts:', error);\n",
       "      }\n",
       "      quickchartButtonEl.classList.remove('colab-df-spinner');\n",
       "      quickchartButtonEl.classList.add('colab-df-quickchart-complete');\n",
       "    }\n",
       "    (() => {\n",
       "      let quickchartButtonEl =\n",
       "        document.querySelector('#df-37008701-3de5-49bb-b84e-2be825da615d button');\n",
       "      quickchartButtonEl.style.display =\n",
       "        google.colab.kernel.accessAllowed ? 'block' : 'none';\n",
       "    })();\n",
       "  </script>\n",
       "</div>\n",
       "    </div>\n",
       "  </div>\n"
      ],
      "text/plain": [
       "   price vehicle_type  registration_year  gearbox  power    model  kilometer  \\\n",
       "1  18300        coupe             2011.0        1  190.0  unknown     125000   \n",
       "2   9800          suv             2004.0        0  163.0    grand     125000   \n",
       "3   1500        small             2001.0        1   75.0     golf     150000   \n",
       "4   3600        small             2008.0        1   69.0    fabia      90000   \n",
       "5    650        sedan             1995.0        1  102.0      3er     150000   \n",
       "\n",
       "   registration_month fuel_type       brand  repaired  postal_code  \\\n",
       "1                 5.0  gasoline        audi         1        66954   \n",
       "2                 8.0  gasoline        jeep         0        90480   \n",
       "3                 6.0  gasoline  volkswagen         0        91074   \n",
       "4                 7.0  gasoline       skoda         0        60437   \n",
       "5                10.0  gasoline         bmw         1        33775   \n",
       "\n",
       "   date_created_month  date_created_weekday  date_created_month_sin  \\\n",
       "1                   3                     4                1.000000   \n",
       "2                   3                     1                1.000000   \n",
       "3                   3                     4                1.000000   \n",
       "4                   3                     4                1.000000   \n",
       "5                   4                     1                0.866025   \n",
       "\n",
       "   date_created_month_cos  date_created_weekday_sin  date_created_weekday_cos  \\\n",
       "1            6.123234e-17                 -0.433884                 -0.900969   \n",
       "2            6.123234e-17                  0.781831                  0.623490   \n",
       "3            6.123234e-17                 -0.433884                 -0.900969   \n",
       "4            6.123234e-17                 -0.433884                 -0.900969   \n",
       "5           -5.000000e-01                  0.781831                  0.623490   \n",
       "\n",
       "   registration_month_sin  registration_month_cos  \n",
       "1            5.000000e-01               -0.866025  \n",
       "2           -8.660254e-01               -0.500000  \n",
       "3            1.224647e-16               -1.000000  \n",
       "4           -5.000000e-01               -0.866025  \n",
       "5           -8.660254e-01                0.500000  "
      ]
     },
     "execution_count": 73,
     "metadata": {},
     "output_type": "execute_result"
    }
   ],
   "source": [
    "data.head()"
   ]
  },
  {
   "cell_type": "markdown",
   "id": "93f7370d",
   "metadata": {
    "id": "93f7370d"
   },
   "source": [
    "#### Разделение данных на выборки"
   ]
  },
  {
   "cell_type": "markdown",
   "id": "48f30fa4",
   "metadata": {
    "id": "48f30fa4"
   },
   "source": [
    "Выделим из данных целевой признак `price`."
   ]
  },
  {
   "cell_type": "code",
   "execution_count": 74,
   "id": "7e1bbc91",
   "metadata": {
    "id": "7e1bbc91"
   },
   "outputs": [],
   "source": [
    "features = data.drop(['price'], axis=1)\n",
    "target = data['price']"
   ]
  },
  {
   "cell_type": "markdown",
   "id": "99901716",
   "metadata": {
    "id": "99901716"
   },
   "source": [
    "Поскольку отдельной тестовой выборки нет, разделим данные на тренировочную и тестовую выборки в отношении 3 : 1."
   ]
  },
  {
   "cell_type": "code",
   "execution_count": 75,
   "id": "894dcbcf",
   "metadata": {
    "id": "894dcbcf"
   },
   "outputs": [],
   "source": [
    "features_train, features_test, target_train, target_test = train_test_split(\n",
    "    features, target, test_size=0.25, random_state=RANDOM_STATE)"
   ]
  },
  {
   "cell_type": "markdown",
   "id": "33aba355",
   "metadata": {
    "id": "33aba355"
   },
   "source": [
    "Посмотрим, какие выборки получились после разделения."
   ]
  },
  {
   "cell_type": "code",
   "execution_count": 76,
   "id": "734882b0",
   "metadata": {
    "colab": {
     "base_uri": "https://localhost:8080/"
    },
    "id": "734882b0",
    "outputId": "bbdf3fbc-1a57-42ba-f98e-fe2af2dda9fe"
   },
   "outputs": [
    {
     "data": {
      "text/plain": [
       "(215326, 19)"
      ]
     },
     "execution_count": 76,
     "metadata": {},
     "output_type": "execute_result"
    }
   ],
   "source": [
    "features_train.shape"
   ]
  },
  {
   "cell_type": "code",
   "execution_count": 77,
   "id": "7681e4ba",
   "metadata": {
    "colab": {
     "base_uri": "https://localhost:8080/"
    },
    "id": "7681e4ba",
    "outputId": "39e8f0fa-d20f-431c-f9ef-102b81beba8f"
   },
   "outputs": [
    {
     "data": {
      "text/plain": [
       "(71776, 19)"
      ]
     },
     "execution_count": 77,
     "metadata": {},
     "output_type": "execute_result"
    }
   ],
   "source": [
    "features_test.shape"
   ]
  },
  {
   "cell_type": "markdown",
   "id": "7178a93a",
   "metadata": {
    "id": "7178a93a"
   },
   "source": [
    "Выделим в наборе данных признаки категориального (в том числе бинарного) и количественного типа."
   ]
  },
  {
   "cell_type": "code",
   "execution_count": 78,
   "id": "353c06f1",
   "metadata": {
    "id": "353c06f1"
   },
   "outputs": [],
   "source": [
    "categorical_columns = ['brand', 'vehicle_type', 'fuel_type',\n",
    "                       'model', 'date_created_month']\n",
    "categorical_cyclical_columns = ['registration_month', 'date_created_weekday']\n",
    "numerical_columns = ['kilometer', 'postal_code', 'power', 'registration_year',\n",
    "                     'date_created_month_cos', 'date_created_month_sin',\n",
    "                     'date_created_weekday_cos', 'date_created_weekday_sin',\n",
    "                     'registration_month_cos', 'registration_month_sin']\n",
    "binary_columns = ['gearbox', 'repaired']"
   ]
  },
  {
   "cell_type": "markdown",
   "id": "dc42ea1f",
   "metadata": {
    "id": "dc42ea1f"
   },
   "source": [
    "### Обучение моделей"
   ]
  },
  {
   "cell_type": "markdown",
   "id": "db502297",
   "metadata": {
    "id": "db502297"
   },
   "source": [
    "Поскольку признак `price` &mdash; количественный, непрерывный, следовательно, необходимо решить задачу регрессии.\n",
    "\n",
    "Зафиксируем псевдослучайность для алгоритмов обучения.\n",
    "\n",
    "Оценку качества обученных моделей будем проводить, рассчитывая значение среднеквадратичной ошибки (RMSE). Обученная модель будет считаться выполняющей качественный прогноз, если значение среднеквадратичной ошибки не будет превышать 2500 евро.\n",
    "\n",
    "Для того чтобы получить максимально высокое качество предсказания, нужно перебрать в алгоритмах обучения разные значения гиперпараметров. Наилучшими гиперпараметрами для моделей признаем те, при которых получится минимальное значение RMSE, оценённое при проведении кросс-валидации."
   ]
  },
  {
   "cell_type": "markdown",
   "id": "8RRJOQbQXYTU",
   "metadata": {
    "id": "8RRJOQbQXYTU"
   },
   "source": [
    "#### Валидация"
   ]
  },
  {
   "cell_type": "markdown",
   "id": "1880990b",
   "metadata": {
    "id": "1880990b"
   },
   "source": [
    "Подбор параметров моделей и оценку качества обучаемых моделей будем производить кросс-валидацией. Подвыборки будем формировать схожими по размеру тестовой выборке. Таким образом, количество формируемых подвыборок для обучения одной модели равно 3."
   ]
  },
  {
   "cell_type": "code",
   "execution_count": 79,
   "id": "GVEfkFHUXeA9",
   "metadata": {
    "id": "GVEfkFHUXeA9"
   },
   "outputs": [],
   "source": [
    "CV = 3\n",
    "SCORER = 'neg_root_mean_squared_error'"
   ]
  },
  {
   "cell_type": "markdown",
   "id": "b6b4f0a5",
   "metadata": {
    "id": "b6b4f0a5"
   },
   "source": [
    "Предварительно зададим функцию, рассчитывающую метрики качества моделей в результате кросс-валидации."
   ]
  },
  {
   "cell_type": "code",
   "execution_count": 80,
   "id": "X0L0Lo7BXgjP",
   "metadata": {
    "id": "X0L0Lo7BXgjP"
   },
   "outputs": [],
   "source": [
    "def cv_score(model, X=features_train, y=target_train):\n",
    "    '''\n",
    "    Функция расчёта метрики качества (RMSE) модели,\n",
    "    полученной в результате кросс-валидации.\n",
    "    \n",
    "    Принимает алгоритм с заданными гиперпараметрами\n",
    "    (опционально - тренировочные данные).\n",
    "    Возвращает среднее значение среднеквадратичной ошибки (RMSE).\n",
    "    \n",
    "    '''\n",
    "\n",
    "    return abs(cross_val_score(model, X=X, y=y,\n",
    "                               cv=CV, n_jobs=-1, error_score='raise',\n",
    "                               scoring=SCORER).mean())"
   ]
  },
  {
   "cell_type": "markdown",
   "id": "tqTL0FfFj8fO",
   "metadata": {
    "id": "tqTL0FfFj8fO"
   },
   "source": [
    "#### Простая модель"
   ]
  },
  {
   "cell_type": "code",
   "execution_count": 81,
   "id": "DG794WSpj-zE",
   "metadata": {
    "colab": {
     "base_uri": "https://localhost:8080/"
    },
    "id": "DG794WSpj-zE",
    "outputId": "5034119b-30f6-49e5-a505-220671ad7811"
   },
   "outputs": [
    {
     "name": "stdout",
     "output_type": "stream",
     "text": [
      "Простая модель, предсказывающая среднее арифметическое значение\n",
      "\n",
      "RMSE = 4594 евро\n",
      "\n",
      "CPU times: user 287 ms, sys: 106 ms, total: 393 ms\n",
      "Wall time: 2.2 s\n"
     ]
    }
   ],
   "source": [
    "%%time\n",
    "\n",
    "STRATEGY = 'mean'\n",
    "\n",
    "model_dr = DummyRegressor(strategy=STRATEGY)\n",
    "model_dr_score = cv_score(model_dr)\n",
    "\n",
    "print('Простая модель, предсказывающая среднее арифметическое значение')\n",
    "print('\\nRMSE =', round(model_dr_score), 'евро\\n')"
   ]
  },
  {
   "cell_type": "markdown",
   "id": "c2c7e489",
   "metadata": {
    "id": "c2c7e489"
   },
   "source": [
    "#### Линейная регрессия"
   ]
  },
  {
   "cell_type": "code",
   "execution_count": 82,
   "id": "8b13af16",
   "metadata": {
    "colab": {
     "base_uri": "https://localhost:8080/"
    },
    "id": "8b13af16",
    "outputId": "9ad30547-ae42-4f2d-e8a5-5ee009c5a21d"
   },
   "outputs": [
    {
     "name": "stdout",
     "output_type": "stream",
     "text": [
      "Модель линейной регрессии\n",
      "\n",
      "RMSE = 2840 евро\n",
      "\n",
      "CPU times: user 343 ms, sys: 47.4 ms, total: 391 ms\n",
      "Wall time: 12.5 s\n"
     ]
    }
   ],
   "source": [
    "%%time\n",
    "\n",
    "pipeliner = Pipeline([\n",
    "    ('transformer', ColumnTransformer([\n",
    "        ('encoder1', OneHotEncoder(handle_unknown='ignore'),\n",
    "         categorical_columns),\n",
    "        ('encoder2', OneHotEncoder(drop='first', handle_unknown='ignore'),\n",
    "         categorical_cyclical_columns),\n",
    "        ('scaler', StandardScaler(), numerical_columns)\n",
    "    ])),\n",
    "    ('model', LinearRegression(n_jobs=-1))])\n",
    "\n",
    "model_lr_score = cv_score(pipeliner)\n",
    "\n",
    "print('Модель линейной регрессии')\n",
    "print('\\nRMSE =', round(model_lr_score), 'евро\\n')"
   ]
  },
  {
   "cell_type": "markdown",
   "id": "SFjWrXTtqXoG",
   "metadata": {
    "id": "SFjWrXTtqXoG"
   },
   "source": [
    "#### Стохастический градиентный спуск"
   ]
  },
  {
   "cell_type": "code",
   "execution_count": 83,
   "id": "_gTd6cXF2HO-",
   "metadata": {
    "colab": {
     "base_uri": "https://localhost:8080/"
    },
    "id": "_gTd6cXF2HO-",
    "outputId": "53e5db0c-749f-4790-9e8b-562909e2cf3b"
   },
   "outputs": [
    {
     "name": "stdout",
     "output_type": "stream",
     "text": [
      "Модель стохастического градиентного спуска\n",
      "\n",
      "RMSE = 2853 евро\n",
      "\n",
      "Параметры наилучшей модели:                        \n",
      "model__tol    10.000000\n",
      "model__eta0    0.010000\n",
      "model__alpha   0.000001\n",
      "CPU times: user 14.3 s, sys: 736 ms, total: 15 s\n",
      "Wall time: 4min 44s\n"
     ]
    }
   ],
   "source": [
    "%%time\n",
    "\n",
    "pipeliner = Pipeline([\n",
    "    ('transformer', ColumnTransformer([\n",
    "        ('encoder1', OneHotEncoder(handle_unknown='ignore'),\n",
    "         categorical_columns),\n",
    "        ('encoder2', OneHotEncoder(drop='first', handle_unknown='ignore'),\n",
    "         categorical_cyclical_columns),\n",
    "        ('scaler', StandardScaler(), numerical_columns)\n",
    "    ])),\n",
    "    ('model', SGDRegressor(random_state=RANDOM_STATE))])\n",
    "\n",
    "parameters = {'model__alpha': [10**n for n in range(1, -7, -1)],\n",
    "              'model__tol': [10**n for n in range(1, -6, -1)],\n",
    "              'model__eta0': [10**n for n in range(1, -4, -1)]}\n",
    "\n",
    "sgdr = RandomizedSearchCV(\n",
    "    pipeliner,\n",
    "    param_distributions=parameters,\n",
    "    cv=CV,\n",
    "    n_iter=30,\n",
    "    scoring=SCORER,\n",
    "    random_state=RANDOM_STATE,\n",
    "    n_jobs=-1,\n",
    "    error_score='raise')\n",
    "\n",
    "sgdr.fit(features_train, target_train)\n",
    "\n",
    "print('Модель стохастического градиентного спуска')\n",
    "print('\\nRMSE =', round(abs(sgdr.best_score_)), 'евро')\n",
    "print('\\nПараметры наилучшей модели:',\n",
    "      pd.DataFrame(sgdr.best_params_, index = ['']).T)"
   ]
  },
  {
   "cell_type": "markdown",
   "id": "fRmDT4JEp6z3",
   "metadata": {
    "id": "fRmDT4JEp6z3"
   },
   "source": [
    "#### Гребневая регрессия"
   ]
  },
  {
   "cell_type": "code",
   "execution_count": 84,
   "id": "3Knf5Vrr76ea",
   "metadata": {
    "colab": {
     "base_uri": "https://localhost:8080/"
    },
    "id": "3Knf5Vrr76ea",
    "outputId": "c2da4907-3c79-4589-c487-301dd07ffe64"
   },
   "outputs": [
    {
     "name": "stdout",
     "output_type": "stream",
     "text": [
      "Модель гребневой регрессии\n",
      "\n",
      "RMSE = 2839 евро\n",
      "\n",
      "Параметры наилучшей модели:                           \n",
      "model__tol          0.0001\n",
      "model__max_iter  1000.0000\n",
      "model__alpha        1.0000\n",
      "CPU times: user 12 s, sys: 3.15 s, total: 15.2 s\n",
      "Wall time: 1min 35s\n"
     ]
    }
   ],
   "source": [
    "%%time\n",
    "\n",
    "pipeliner = Pipeline([\n",
    "    ('transformer', ColumnTransformer([\n",
    "        ('encoder1', OneHotEncoder(handle_unknown='ignore'),\n",
    "         categorical_columns),\n",
    "        ('encoder2', OneHotEncoder(drop='first', handle_unknown='ignore'),\n",
    "         categorical_cyclical_columns),\n",
    "        ('scaler', StandardScaler(), numerical_columns)\n",
    "    ])),\n",
    "    ('model', Ridge(random_state=RANDOM_STATE))])\n",
    "\n",
    "\n",
    "parameters = {'model__alpha': [10**n for n in range(2, -2, -1)],\n",
    "              'model__tol': [10**n for n in range(1, -6, -1)],\n",
    "              'model__max_iter': [None]+[10**n for n in range(1, 4, 1)]}\n",
    "\n",
    "ridge = RandomizedSearchCV(\n",
    "    pipeliner,\n",
    "    param_distributions=parameters,\n",
    "    cv=CV,\n",
    "    n_iter=30,\n",
    "    scoring=SCORER,\n",
    "    random_state=RANDOM_STATE,\n",
    "    n_jobs=-1,\n",
    "    error_score='raise')\n",
    "\n",
    "ridge.fit(features_train, target_train)\n",
    "\n",
    "print('Модель гребневой регрессии')\n",
    "print('\\nRMSE =', round(abs(ridge.best_score_)), 'евро')\n",
    "print('\\nПараметры наилучшей модели:',\n",
    "      pd.DataFrame(ridge.best_params_, index = ['']).T)"
   ]
  },
  {
   "cell_type": "markdown",
   "id": "A5WF2lf4p_ja",
   "metadata": {
    "id": "A5WF2lf4p_ja"
   },
   "source": [
    "#### Регрессия LASSO"
   ]
  },
  {
   "cell_type": "code",
   "execution_count": 85,
   "id": "rWDNj6alOkzM",
   "metadata": {
    "colab": {
     "base_uri": "https://localhost:8080/"
    },
    "id": "rWDNj6alOkzM",
    "outputId": "be5a3f30-b1fb-40bf-a6b0-8cac69d0c9dc"
   },
   "outputs": [
    {
     "name": "stdout",
     "output_type": "stream",
     "text": [
      "Модель регрессии Lasso\n",
      "\n",
      "RMSE = 2840 евро\n",
      "\n",
      "Параметры наилучшей модели:                            \n",
      "model__tol          0.00001\n",
      "model__max_iter  1000.00000\n",
      "model__alpha        0.10000\n",
      "CPU times: user 3min 49s, sys: 16.3 s, total: 4min 5s\n",
      "Wall time: 10min 9s\n"
     ]
    }
   ],
   "source": [
    "%%time\n",
    "\n",
    "pipeliner = Pipeline([\n",
    "    ('transformer', ColumnTransformer([\n",
    "        ('encoder1', OneHotEncoder(handle_unknown='ignore'),\n",
    "         categorical_columns),\n",
    "        ('encoder2', OneHotEncoder(drop='first', handle_unknown='ignore'),\n",
    "         categorical_cyclical_columns),\n",
    "        ('scaler', StandardScaler(), numerical_columns)\n",
    "    ])),\n",
    "    ('model', Lasso(random_state=RANDOM_STATE))])\n",
    "\n",
    "parameters = {'model__alpha': [10**n for n in range(2, -2, -1)],\n",
    "              'model__tol': [10**n for n in range(1, -6, -1)],\n",
    "              'model__max_iter': [10**n for n in range(1, 4, 1)]}\n",
    "\n",
    "lasso = RandomizedSearchCV(\n",
    "    pipeliner,\n",
    "    param_distributions=parameters,\n",
    "    cv=CV,\n",
    "    n_iter=20,\n",
    "    scoring=SCORER,\n",
    "    random_state=RANDOM_STATE,\n",
    "    n_jobs=-1,\n",
    "    error_score='raise')\n",
    "\n",
    "lasso.fit(features_train, target_train)\n",
    "\n",
    "print('Модель регрессии Lasso')\n",
    "print('\\nRMSE =', round(abs(lasso.best_score_)), 'евро')\n",
    "print('\\nПараметры наилучшей модели:',\n",
    "      pd.DataFrame(lasso.best_params_, index = ['']).T)"
   ]
  },
  {
   "cell_type": "markdown",
   "id": "HZSBtiBbFU0o",
   "metadata": {
    "id": "HZSBtiBbFU0o"
   },
   "source": [
    "#### Дерево решений"
   ]
  },
  {
   "cell_type": "code",
   "execution_count": 86,
   "id": "7bgaaVCXXxe4",
   "metadata": {
    "colab": {
     "base_uri": "https://localhost:8080/"
    },
    "id": "7bgaaVCXXxe4",
    "outputId": "0e0086e7-d767-42b6-a462-490485ba9cd7"
   },
   "outputs": [
    {
     "name": "stdout",
     "output_type": "stream",
     "text": [
      "Модель решающего дерева\n",
      "\n",
      "RMSE = 1929 евро\n",
      "\n",
      "Параметры наилучшей модели:                             \n",
      "model__min_samples_split   9\n",
      "model__min_samples_leaf   22\n",
      "model__max_depth          18\n",
      "CPU times: user 31.9 s, sys: 1.26 s, total: 33.2 s\n",
      "Wall time: 9min 26s\n"
     ]
    }
   ],
   "source": [
    "%%time\n",
    "\n",
    "pipeliner = Pipeline([\n",
    "    ('transformer', ColumnTransformer([\n",
    "        ('encoder1', OneHotEncoder(handle_unknown='ignore'),\n",
    "         categorical_columns),\n",
    "        ('encoder2', OneHotEncoder(drop='first', handle_unknown='ignore'),\n",
    "         categorical_cyclical_columns),\n",
    "        ('scaler', StandardScaler(), numerical_columns)\n",
    "    ])),\n",
    "    ('model', DecisionTreeRegressor(random_state=RANDOM_STATE))])\n",
    "\n",
    "parameters = {'model__max_depth': [None]+[n for n in range(1, 31, 1)],\n",
    "              'model__min_samples_leaf': [n for n in range(1, 31, 1)],\n",
    "              'model__min_samples_split': [n for n in range(2, 11, 1)]}\n",
    "\n",
    "dtr = RandomizedSearchCV(\n",
    "    pipeliner,\n",
    "    param_distributions=parameters,\n",
    "    cv=CV,\n",
    "    n_iter=20,\n",
    "    scoring=SCORER,\n",
    "    random_state=RANDOM_STATE,\n",
    "    n_jobs=-1,\n",
    "    error_score='raise')\n",
    "\n",
    "dtr.fit(features_train, target_train)\n",
    "\n",
    "print('Модель решающего дерева')\n",
    "print('\\nRMSE =', round(abs(dtr.best_score_)), 'евро')\n",
    "print('\\nПараметры наилучшей модели:',\n",
    "      pd.DataFrame(dtr.best_params_, index = ['']).T)"
   ]
  },
  {
   "cell_type": "markdown",
   "id": "ZK2NxC5KjLcz",
   "metadata": {
    "id": "ZK2NxC5KjLcz"
   },
   "source": [
    "#### Случайный лес"
   ]
  },
  {
   "cell_type": "code",
   "execution_count": 87,
   "id": "BqvEjorEb7HE",
   "metadata": {
    "colab": {
     "base_uri": "https://localhost:8080/"
    },
    "id": "BqvEjorEb7HE",
    "outputId": "2c34aedc-1de2-4e31-e5a0-4bd5bdc165cd"
   },
   "outputs": [
    {
     "name": "stdout",
     "output_type": "stream",
     "text": [
      "Модель случайного леса\n",
      "\n",
      "RMSE = 2001 евро\n",
      "\n",
      "Параметры наилучшей модели:                         \n",
      "model__n_estimators  150\n",
      "model__max_depth       9\n",
      "CPU times: user 14min 59s, sys: 7.01 s, total: 15min 6s\n",
      "Wall time: 1h 11min 7s\n"
     ]
    }
   ],
   "source": [
    "%%time\n",
    "\n",
    "pipeliner = Pipeline([\n",
    "    ('transformer', ColumnTransformer([\n",
    "        ('encoder1', OneHotEncoder(handle_unknown='ignore'),\n",
    "         categorical_columns),\n",
    "        ('encoder2', OneHotEncoder(drop='first', handle_unknown='ignore'),\n",
    "         categorical_cyclical_columns),\n",
    "        ('scaler', StandardScaler(), numerical_columns)\n",
    "    ])),\n",
    "    ('model', RandomForestRegressor(random_state=RANDOM_STATE, n_jobs=-1))])\n",
    "\n",
    "parameters = {'model__n_estimators': [n for n in range(10, 310, 10)],\n",
    "              'model__max_depth': [None]+[n for n in range(1, 11, 1)]}\n",
    "\n",
    "rfr = RandomizedSearchCV(\n",
    "    pipeliner,\n",
    "    param_distributions=parameters,\n",
    "    cv=CV,\n",
    "    n_iter=10,\n",
    "    scoring=SCORER,\n",
    "    random_state=RANDOM_STATE,\n",
    "    n_jobs=-1,\n",
    "    error_score='raise')\n",
    "\n",
    "rfr.fit(features_train, target_train)\n",
    "\n",
    "print('Модель случайного леса')\n",
    "print('\\nRMSE =', round(abs(rfr.best_score_)), 'евро')\n",
    "print('\\nПараметры наилучшей модели:',\n",
    "      pd.DataFrame(rfr.best_params_, index = ['']).T)"
   ]
  },
  {
   "cell_type": "markdown",
   "id": "qQd5gJ_axHwt",
   "metadata": {
    "id": "qQd5gJ_axHwt"
   },
   "source": [
    "#### Градиентный бустинг"
   ]
  },
  {
   "cell_type": "markdown",
   "id": "fOYUae5wMyc5",
   "metadata": {
    "id": "fOYUae5wMyc5"
   },
   "source": [
    "##### Базовая модель градиентного бустинга"
   ]
  },
  {
   "cell_type": "code",
   "execution_count": 88,
   "id": "BKdve2Cvou5Y",
   "metadata": {
    "colab": {
     "base_uri": "https://localhost:8080/"
    },
    "id": "BKdve2Cvou5Y",
    "outputId": "30aeef9e-5342-4a85-9d1b-815a1730de6b"
   },
   "outputs": [
    {
     "name": "stdout",
     "output_type": "stream",
     "text": [
      "Модель градиентного бустинга на основе алгоритма scikit-learn\n",
      "\n",
      "RMSE = 1733 евро\n",
      "\n",
      "Параметры наилучшей модели:                             \n",
      "model__n_estimators   1000.0\n",
      "model__learning_rate     0.2\n",
      "CPU times: user 8min 59s, sys: 5.3 s, total: 9min 4s\n",
      "Wall time: 50min 59s\n"
     ]
    }
   ],
   "source": [
    "%%time\n",
    "\n",
    "pipeliner = Pipeline([\n",
    "    ('transformer', ColumnTransformer([\n",
    "        ('encoder1', OneHotEncoder(handle_unknown='ignore'),\n",
    "         categorical_columns),\n",
    "        ('encoder2', OneHotEncoder(drop='first', handle_unknown='ignore'),\n",
    "         categorical_cyclical_columns),\n",
    "        ('scaler', StandardScaler(), numerical_columns)\n",
    "    ])),\n",
    "    ('model', GradientBoostingRegressor())])\n",
    "\n",
    "parameters = {'model__n_estimators': [10, 20, 50, 100, 200, 500, 1000],\n",
    "              'model__learning_rate':\n",
    "               [0.005, 0.01, 0.05]+[0.1*n for n in range(1, 10)]}\n",
    "\n",
    "gbr = RandomizedSearchCV(\n",
    "    pipeliner,\n",
    "    param_distributions=parameters,\n",
    "    cv=CV,\n",
    "    n_iter=10,\n",
    "    scoring=SCORER,\n",
    "    random_state=RANDOM_STATE,\n",
    "    n_jobs=-1,\n",
    "    error_score='raise')\n",
    "\n",
    "gbr.fit(features_train, target_train)\n",
    "\n",
    "print('Модель градиентного бустинга на основе алгоритма scikit-learn')\n",
    "print('\\nRMSE =', round(abs(gbr.best_score_)), 'евро')\n",
    "print('\\nПараметры наилучшей модели:',\n",
    "      pd.DataFrame(gbr.best_params_, index = ['']).T)"
   ]
  },
  {
   "cell_type": "markdown",
   "id": "VmmSYmK-Mlwy",
   "metadata": {
    "id": "VmmSYmK-Mlwy"
   },
   "source": [
    "##### LightGBM"
   ]
  },
  {
   "cell_type": "code",
   "execution_count": 89,
   "id": "IDz5yKFJVgxm",
   "metadata": {
    "colab": {
     "base_uri": "https://localhost:8080/"
    },
    "id": "IDz5yKFJVgxm",
    "outputId": "1e3f16f3-285f-4a76-c23a-4e84807b8473"
   },
   "outputs": [
    {
     "name": "stdout",
     "output_type": "stream",
     "text": [
      "[LightGBM] [Info] Auto-choosing row-wise multi-threading, the overhead of testing was 0.035594 seconds.\n",
      "You can set `force_row_wise=true` to remove the overhead.\n",
      "And if memory is not enough, you can set `force_col_wise=true`.\n",
      "[LightGBM] [Info] Total Bins 1270\n",
      "[LightGBM] [Info] Number of data points in the train set: 215326, number of used features: 318\n",
      "[LightGBM] [Info] Start training from score 4843.633579\n",
      "Модель градиентного бустинга на основе алгоритма LightGBM\n",
      "\n",
      "RMSE = 1672 евро\n",
      "\n",
      "Параметры наилучшей модели:                             \n",
      "model__n_estimators   2000.0\n",
      "model__learning_rate     0.1\n",
      "CPU times: user 37.2 s, sys: 1.36 s, total: 38.5 s\n",
      "Wall time: 7min 20s\n"
     ]
    }
   ],
   "source": [
    "%%time\n",
    "\n",
    "pipeliner = Pipeline([\n",
    "    ('transformer', ColumnTransformer([\n",
    "        ('encoder1', OneHotEncoder(handle_unknown='ignore'),\n",
    "         categorical_columns),\n",
    "        ('encoder2', OneHotEncoder(drop='first', handle_unknown='ignore'),\n",
    "         categorical_cyclical_columns),\n",
    "        ('scaler', StandardScaler(), numerical_columns)\n",
    "    ])),\n",
    "    ('model', LGBMRegressor())])\n",
    "\n",
    "parameters = {'model__n_estimators': [10, 20, 50, 100, 200, 500, 1000, 2000],\n",
    "              'model__learning_rate':\n",
    "               [0.005, 0.01, 0.05]+[0.1*n for n in range(1, 10)]}\n",
    "\n",
    "lightgbm = RandomizedSearchCV(\n",
    "    pipeliner,\n",
    "    param_distributions=parameters,\n",
    "    cv=CV,\n",
    "    n_iter=20,\n",
    "    scoring=SCORER,\n",
    "    random_state=RANDOM_STATE,\n",
    "    n_jobs=-1,\n",
    "    error_score='raise')\n",
    "\n",
    "lightgbm.fit(features_train, target_train)\n",
    "\n",
    "print('Модель градиентного бустинга на основе алгоритма LightGBM')\n",
    "print('\\nRMSE =', round(abs(lightgbm.best_score_)), 'евро')\n",
    "print('\\nПараметры наилучшей модели:',\n",
    "      pd.DataFrame(lightgbm.best_params_, index = ['']).T)"
   ]
  },
  {
   "cell_type": "markdown",
   "id": "Nv2gxUu4MrWH",
   "metadata": {
    "id": "Nv2gxUu4MrWH"
   },
   "source": [
    "##### XGBoost"
   ]
  },
  {
   "cell_type": "code",
   "execution_count": 90,
   "id": "lXsVCQkKblYk",
   "metadata": {
    "colab": {
     "base_uri": "https://localhost:8080/"
    },
    "id": "lXsVCQkKblYk",
    "outputId": "92c23236-4815-4307-fd78-72342ebb6d50"
   },
   "outputs": [
    {
     "name": "stdout",
     "output_type": "stream",
     "text": [
      "Модель градиентного бустинга на основе алгоритма XGBoost\n",
      "\n",
      "RMSE = 1678 евро\n",
      "\n",
      "Параметры наилучшей модели:                             \n",
      "model__n_estimators   2000.0\n",
      "model__learning_rate     0.1\n",
      "CPU times: user 1min 30s, sys: 2.21 s, total: 1min 33s\n",
      "Wall time: 12min 21s\n"
     ]
    }
   ],
   "source": [
    "%%time\n",
    "\n",
    "pipeliner = Pipeline([\n",
    "    ('transformer', ColumnTransformer([\n",
    "        ('encoder1', OneHotEncoder(handle_unknown='ignore'),\n",
    "         categorical_columns),\n",
    "        ('encoder2', OneHotEncoder(drop='first', handle_unknown='ignore'),\n",
    "         categorical_cyclical_columns),\n",
    "        ('scaler', StandardScaler(), numerical_columns)\n",
    "    ])),\n",
    "    ('model', XGBRegressor())])\n",
    "\n",
    "parameters = {'model__n_estimators': [10, 20, 50, 100, 200, 500, 1000, 2000],\n",
    "              'model__learning_rate':\n",
    "               [0.005, 0.01, 0.05]+[0.1*n for n in range(1, 10)]}\n",
    "\n",
    "xgboost = RandomizedSearchCV(\n",
    "    pipeliner,\n",
    "    param_distributions=parameters,\n",
    "    cv=CV,\n",
    "    n_iter=20,\n",
    "    scoring=SCORER,\n",
    "    random_state=RANDOM_STATE,\n",
    "    n_jobs=-1,\n",
    "    error_score='raise')\n",
    "\n",
    "xgboost.fit(features_train, target_train)\n",
    "\n",
    "print('Модель градиентного бустинга на основе алгоритма XGBoost')\n",
    "print('\\nRMSE =', round(abs(xgboost.best_score_)), 'евро')\n",
    "print('\\nПараметры наилучшей модели:',\n",
    "      pd.DataFrame(xgboost.best_params_, index = ['']).T)"
   ]
  },
  {
   "cell_type": "markdown",
   "id": "JN3IqnM7MdJV",
   "metadata": {
    "id": "JN3IqnM7MdJV"
   },
   "source": [
    "##### CatBoost"
   ]
  },
  {
   "cell_type": "code",
   "execution_count": 91,
   "id": "sO4-XTob3flR",
   "metadata": {
    "id": "sO4-XTob3flR"
   },
   "outputs": [],
   "source": [
    "features_cat_train = features_train.copy()"
   ]
  },
  {
   "cell_type": "code",
   "execution_count": 92,
   "id": "A4ZEqct7xhFO",
   "metadata": {
    "colab": {
     "base_uri": "https://localhost:8080/"
    },
    "id": "A4ZEqct7xhFO",
    "outputId": "2f3d1534-18c6-45ae-f21c-19d91a04899a"
   },
   "outputs": [
    {
     "data": {
      "text/plain": [
       "brand                   object\n",
       "vehicle_type            object\n",
       "fuel_type               object\n",
       "model                   object\n",
       "date_created_month      object\n",
       "registration_month      object\n",
       "date_created_weekday    object\n",
       "gearbox                 object\n",
       "repaired                object\n",
       "dtype: object"
      ]
     },
     "execution_count": 92,
     "metadata": {},
     "output_type": "execute_result"
    }
   ],
   "source": [
    "categorical_features = categorical_columns + \\\n",
    "                       categorical_cyclical_columns + binary_columns\n",
    "features_cat_train[categorical_features] = \\\n",
    "features_cat_train[categorical_features].astype('str')\n",
    "features_cat_train[categorical_features].dtypes"
   ]
  },
  {
   "cell_type": "code",
   "execution_count": 93,
   "id": "zzDPLNMww4yL",
   "metadata": {
    "colab": {
     "base_uri": "https://localhost:8080/"
    },
    "id": "zzDPLNMww4yL",
    "outputId": "442399e1-a8b9-4596-f23f-2d3984c36f63"
   },
   "outputs": [
    {
     "name": "stdout",
     "output_type": "stream",
     "text": [
      "Модель градиентного бустинга на основе алгоритма CatBoost\n",
      "\n",
      "RMSE = 1639 евро\n",
      "\n",
      "Параметры наилучшей модели:                      \n",
      "n_estimators   1000.0\n",
      "learning_rate     0.2\n",
      "CPU times: user 9min 35s, sys: 10.4 s, total: 9min 46s\n",
      "Wall time: 42min 38s\n"
     ]
    }
   ],
   "source": [
    "%%time\n",
    "\n",
    "model_catboost = CatBoostRegressor(verbose=False,\n",
    "                                   cat_features=categorical_features)\n",
    "\n",
    "parameters = {'n_estimators': [10, 20, 50, 100, 200, 500, 1000],\n",
    "              'learning_rate':\n",
    "               [0.005, 0.01, 0.05]+[0.1*n for n in range(1, 10)]}\n",
    "\n",
    "catboost = RandomizedSearchCV(\n",
    "    model_catboost,\n",
    "    param_distributions=parameters,\n",
    "    cv=CV,\n",
    "    n_iter=10,\n",
    "    scoring=SCORER,\n",
    "    random_state=RANDOM_STATE,\n",
    "    n_jobs=-1,\n",
    "    error_score='raise')\n",
    "\n",
    "catboost.fit(features_cat_train, target_train)\n",
    "\n",
    "print('Модель градиентного бустинга на основе алгоритма CatBoost')\n",
    "print('\\nRMSE =', round(abs(catboost.best_score_)), 'евро')\n",
    "print('\\nПараметры наилучшей модели:',\n",
    "      pd.DataFrame(catboost.best_params_, index = ['']).T)"
   ]
  },
  {
   "cell_type": "markdown",
   "id": "5bfe4e30",
   "metadata": {
    "id": "5bfe4e30"
   },
   "source": [
    "### Оценка моделей"
   ]
  },
  {
   "cell_type": "markdown",
   "id": "vl8T6pFysYkf",
   "metadata": {
    "id": "vl8T6pFysYkf"
   },
   "source": [
    "#### Оценка скорости обучения и скорости предсказания"
   ]
  },
  {
   "cell_type": "markdown",
   "id": "vMU-ot_8si_H",
   "metadata": {
    "id": "vMU-ot_8si_H"
   },
   "source": [
    "Простая модель, которая для каждого объекта предсказывает среднее арифметическое значение цены, имеет значение среднеквадратичной ошибки (RMSE) 4594 евро.\n",
    "\n",
    "Линейные модели не достаточно качественно объясняют данные, значение среднеквадратичной ошибки, полученное в результате кросс-валидации, для линейных регрессионных моделей превышает 2500 евро:\n",
    "\n",
    "|Модель|RMSE, евро|\n",
    "|:-|:-:|\n",
    "|Линейная регрессия|2840|\n",
    "|Стохастический градиентный спуск|2853|\n",
    "|Гребневая регрессия|2839|\n",
    "|Регрессия LASSO|2840|\n",
    "\n",
    "Модели, основанные на деревьях решений, могут достаточно качественно объяснять данные. Значения среднеквадратической ошибки удалось получить ниже 2500 евро:\n",
    "\n",
    "|Модель|RMSE, евро|Параметры модели|\n",
    "|:-|:-:|:-|\n",
    "|Дерево решений|1929|Глубина дерева: 18. Минимальное число листьев: 22. Минимальное количество выборок: 9\n",
    "|Случайный лес|2001|Количество деревьев в лесу: 150. Глубина каждого дерева: 9\n",
    "|Градиентный бустинг:||\n",
    "|&ndash; базовая модель sklearn|1733|Число итераций: 1000. Скорость обучения: 0.2\n",
    "|&ndash; LightGBM|1672|Число итераций: 2000. Скорость обучения: 0.1\n",
    "|&ndash; XGBoost|1678|Число итераций: 2000. Скорость обучения: 0.1\n",
    "|&ndash; CatBoost|1639|Число итераций: 1000. Скорость обучения: 0.2\n",
    "\n",
    "Далее для оценки значений скоростей обучения и последующего предсказания будем тестировать алгоритмы на основе деревьев решений с подобранными значениями параметров. Процессы обучения алгоритма и построения предсказания обйченной моделью быдем считать быстрыми, если для этого будет затрачено минимальное время. Объём данных для обучения и построения предсказания быдем использовать одинаковым для тестирования каждой отобранной модели. Оценку времени обучения и времени построения предсказания будем выполнять на тренировочных данных."
   ]
  },
  {
   "cell_type": "markdown",
   "id": "1bd69229",
   "metadata": {
    "id": "1bd69229"
   },
   "source": [
    "##### Дерево решений"
   ]
  },
  {
   "cell_type": "markdown",
   "id": "OcrGzXiXULEz",
   "metadata": {
    "id": "OcrGzXiXULEz"
   },
   "source": [
    "Оценим время обучения и время построения предсказания для модели дерева решений с глубиной дерева &mdash; 18, минимальным числом листьев &mdash; 22, минимальным количеством выборок &mdash; 9. Для модели с такими параметрами RMSE имеет наименьшее значение среди обученных моделей решающего дерева и составляет 1929 евро."
   ]
  },
  {
   "cell_type": "code",
   "execution_count": 94,
   "id": "Tv0UxOo4ulYX",
   "metadata": {
    "colab": {
     "base_uri": "https://localhost:8080/"
    },
    "id": "Tv0UxOo4ulYX",
    "outputId": "2c0db596-db13-4ce3-e0bc-d500d542a774"
   },
   "outputs": [
    {
     "name": "stdout",
     "output_type": "stream",
     "text": [
      "Время обучения модели: 23.18 с\n",
      "CPU times: user 23.1 s, sys: 75.3 ms, total: 23.1 s\n",
      "Wall time: 23.2 s\n"
     ]
    }
   ],
   "source": [
    "%%time\n",
    "\n",
    "model_dtr = Pipeline([\n",
    "    ('transformer', ColumnTransformer([\n",
    "        ('encoder1', OneHotEncoder(handle_unknown='ignore'),\n",
    "         categorical_columns),\n",
    "        ('encoder2', OneHotEncoder(drop='first', handle_unknown='ignore'),\n",
    "         categorical_cyclical_columns),\n",
    "        ('scaler', StandardScaler(), numerical_columns)\n",
    "    ])),\n",
    "    ('model', DecisionTreeRegressor(\n",
    "        min_samples_split=5,\n",
    "        min_samples_leaf=20,\n",
    "        max_depth=17,\n",
    "        random_state=RANDOM_STATE))])\n",
    "\n",
    "start_time = time.time()\n",
    "model_dtr.fit(features_train, target_train)\n",
    "end_time = time.time()\n",
    "\n",
    "print('Время обучения модели:', round(end_time - start_time, 2), 'с')"
   ]
  },
  {
   "cell_type": "code",
   "execution_count": 95,
   "id": "5f4e9bfa",
   "metadata": {
    "colab": {
     "base_uri": "https://localhost:8080/"
    },
    "id": "5f4e9bfa",
    "outputId": "3b958fa7-a348-4f32-dba6-1990d9ff611c"
   },
   "outputs": [
    {
     "name": "stdout",
     "output_type": "stream",
     "text": [
      "Время выполнения предсказаний модели: 0.55 с\n",
      "CPU times: user 522 ms, sys: 35.8 ms, total: 558 ms\n",
      "Wall time: 555 ms\n"
     ]
    }
   ],
   "source": [
    "%%time\n",
    "\n",
    "start_time = time.time()\n",
    "predictions = model_dtr.predict(features_train)\n",
    "end_time = time.time()\n",
    "\n",
    "print('Время выполнения предсказаний модели:',\n",
    "      round(end_time - start_time, 2), 'с')"
   ]
  },
  {
   "cell_type": "markdown",
   "id": "kBWLJIB5UyjR",
   "metadata": {
    "id": "kBWLJIB5UyjR"
   },
   "source": [
    "Время обучения модели составило 23,18 с.\n",
    "<br> Время построения предсказания: 0,55 с."
   ]
  },
  {
   "cell_type": "markdown",
   "id": "2e1db3b5",
   "metadata": {
    "id": "2e1db3b5"
   },
   "source": [
    "##### Случайный лес"
   ]
  },
  {
   "cell_type": "markdown",
   "id": "OwbNQg09WPVq",
   "metadata": {
    "id": "OwbNQg09WPVq"
   },
   "source": [
    "Оценим время обучения и время построения предсказания для модели случайного леса с глубиной каждого дерева &mdash; 9 и числом деревьев &mdash; 150. Для модели с такими параметрами RMSE имеет наименьшее значение среди обученных моделей случайного леса и составляет 2001 евро."
   ]
  },
  {
   "cell_type": "code",
   "execution_count": 96,
   "id": "c26d2e02",
   "metadata": {
    "colab": {
     "base_uri": "https://localhost:8080/"
    },
    "id": "c26d2e02",
    "outputId": "9e1ca8b6-faac-4103-f346-e32970ae002c"
   },
   "outputs": [
    {
     "name": "stdout",
     "output_type": "stream",
     "text": [
      "Время обучения модели: 594.33 с\n",
      "CPU times: user 16min 46s, sys: 2.58 s, total: 16min 48s\n",
      "Wall time: 9min 54s\n"
     ]
    }
   ],
   "source": [
    "%%time\n",
    "\n",
    "model_rfr = Pipeline([\n",
    "    ('transformer', ColumnTransformer([\n",
    "        ('encoder1', OneHotEncoder(handle_unknown='ignore'),\n",
    "         categorical_columns),\n",
    "        ('encoder2', OneHotEncoder(drop='first', handle_unknown='ignore'),\n",
    "         categorical_cyclical_columns),\n",
    "        ('scaler', StandardScaler(), numerical_columns)\n",
    "    ])),\n",
    "    ('model', RandomForestRegressor(\n",
    "        n_estimators=150,\n",
    "        max_depth=9,\n",
    "        random_state=RANDOM_STATE,\n",
    "        n_jobs=-1))])\n",
    "\n",
    "start_time = time.time()\n",
    "model_rfr.fit(features_train, target_train)\n",
    "end_time = time.time()\n",
    "\n",
    "print('Время обучения модели:', round(end_time - start_time, 2), 'с')"
   ]
  },
  {
   "cell_type": "code",
   "execution_count": 97,
   "id": "05fb0af9",
   "metadata": {
    "colab": {
     "base_uri": "https://localhost:8080/"
    },
    "id": "05fb0af9",
    "outputId": "e3cb4359-e3e2-480d-d948-cb735914d5f7"
   },
   "outputs": [
    {
     "name": "stdout",
     "output_type": "stream",
     "text": [
      "Время выполнения предсказаний модели: 3.53 с\n",
      "CPU times: user 5.07 s, sys: 110 ms, total: 5.18 s\n",
      "Wall time: 3.53 s\n"
     ]
    }
   ],
   "source": [
    "%%time\n",
    "\n",
    "start_time = time.time()\n",
    "predictions = model_rfr.predict(features_train)\n",
    "end_time = time.time()\n",
    "\n",
    "print('Время выполнения предсказаний модели:',\n",
    "      round(end_time - start_time, 2), 'с')"
   ]
  },
  {
   "cell_type": "markdown",
   "id": "Zn3wX8SAXSdg",
   "metadata": {
    "id": "Zn3wX8SAXSdg"
   },
   "source": [
    "Время обучения модели составило 594,33 с.\n",
    "<br> Время построения предсказания: 3,53 с."
   ]
  },
  {
   "cell_type": "markdown",
   "id": "4a54b1c7",
   "metadata": {
    "id": "4a54b1c7"
   },
   "source": [
    "##### Базовая модель градиентного бустинга"
   ]
  },
  {
   "cell_type": "markdown",
   "id": "fr3ONbaZZ2S2",
   "metadata": {
    "id": "fr3ONbaZZ2S2"
   },
   "source": [
    "Оценим время обучения и время построения предсказания для базовой модели градиентного бустинга из библиотеки sklearn с числом итераций &mdash; 1000 и скоростью обучения &mdash; 0,2. Для модели с такими параметрами RMSE имеет наименьшее значение среди обученных базовых моделей градиентного бустинга и составляет 1733 евро."
   ]
  },
  {
   "cell_type": "code",
   "execution_count": 98,
   "id": "7db6eb8d",
   "metadata": {
    "colab": {
     "base_uri": "https://localhost:8080/"
    },
    "id": "7db6eb8d",
    "outputId": "ec89bb75-ea19-43d9-cb91-355c81ca4fcf"
   },
   "outputs": [
    {
     "name": "stdout",
     "output_type": "stream",
     "text": [
      "Время обучения модели: 543.56 с\n",
      "CPU times: user 9min 2s, sys: 579 ms, total: 9min 3s\n",
      "Wall time: 9min 3s\n"
     ]
    }
   ],
   "source": [
    "%%time\n",
    "\n",
    "model_gbr = Pipeline([\n",
    "    ('transformer', ColumnTransformer([\n",
    "        ('encoder1', OneHotEncoder(handle_unknown='ignore'),\n",
    "         categorical_columns),\n",
    "        ('encoder2', OneHotEncoder(drop='first', handle_unknown='ignore'),\n",
    "         categorical_cyclical_columns),\n",
    "        ('scaler', StandardScaler(), numerical_columns)\n",
    "    ])),\n",
    "    ('model', GradientBoostingRegressor(\n",
    "        n_estimators=1000,\n",
    "        learning_rate=0.2))])\n",
    "\n",
    "start_time = time.time()\n",
    "model_gbr.fit(features_train, target_train)\n",
    "end_time = time.time()\n",
    "\n",
    "print('Время обучения модели:', round(end_time - start_time, 2), 'с')"
   ]
  },
  {
   "cell_type": "code",
   "execution_count": 99,
   "id": "1dba1584",
   "metadata": {
    "colab": {
     "base_uri": "https://localhost:8080/"
    },
    "id": "1dba1584",
    "outputId": "8c288239-9447-4865-c482-83b5a9ca4937"
   },
   "outputs": [
    {
     "name": "stdout",
     "output_type": "stream",
     "text": [
      "Время выполнения предсказаний модели: 7.26 с\n",
      "CPU times: user 7.23 s, sys: 55.9 ms, total: 7.28 s\n",
      "Wall time: 7.27 s\n"
     ]
    }
   ],
   "source": [
    "%%time\n",
    "\n",
    "start_time = time.time()\n",
    "predictions = model_gbr.predict(features_train)\n",
    "end_time = time.time()\n",
    "\n",
    "print('Время выполнения предсказаний модели:',\n",
    "      round(end_time - start_time, 2), 'с')"
   ]
  },
  {
   "cell_type": "markdown",
   "id": "nTO6PV8NaVby",
   "metadata": {
    "id": "nTO6PV8NaVby"
   },
   "source": [
    "Время обучения модели составило 543,56 с.\n",
    "<br> Время построения предсказания: 7,26 с."
   ]
  },
  {
   "cell_type": "markdown",
   "id": "Z_TOCthaowWD",
   "metadata": {
    "id": "Z_TOCthaowWD"
   },
   "source": [
    "##### LightGBM"
   ]
  },
  {
   "cell_type": "markdown",
   "id": "6IJAVekucH8G",
   "metadata": {
    "id": "6IJAVekucH8G"
   },
   "source": [
    "Оценим время обучения и время построения предсказания для модели градиентного бустинга из библиотеки LightGBM с числом итераций &mdash; 2000 и скоростью обучения &mdash; 0,1. Для модели с такими параметрами RMSE имеет наименьшее значение среди обученных моделей LightGBM и составляет 1672 евро."
   ]
  },
  {
   "cell_type": "code",
   "execution_count": 100,
   "id": "ZeKZOph4o01K",
   "metadata": {
    "colab": {
     "base_uri": "https://localhost:8080/"
    },
    "id": "ZeKZOph4o01K",
    "outputId": "ed8f2a1e-90a5-4acb-affe-d5a05938872e"
   },
   "outputs": [
    {
     "name": "stdout",
     "output_type": "stream",
     "text": [
      "[LightGBM] [Info] Auto-choosing row-wise multi-threading, the overhead of testing was 0.058243 seconds.\n",
      "You can set `force_row_wise=true` to remove the overhead.\n",
      "And if memory is not enough, you can set `force_col_wise=true`.\n",
      "[LightGBM] [Info] Total Bins 1270\n",
      "[LightGBM] [Info] Number of data points in the train set: 215326, number of used features: 318\n",
      "[LightGBM] [Info] Start training from score 4843.633579\n",
      "Время обучения модели: 25.76 с\n",
      "CPU times: user 25.6 s, sys: 136 ms, total: 25.7 s\n",
      "Wall time: 25.8 s\n"
     ]
    }
   ],
   "source": [
    "%%time\n",
    "\n",
    "model_lightgbm = Pipeline([\n",
    "    ('transformer', ColumnTransformer([\n",
    "        ('encoder1', OneHotEncoder(handle_unknown='ignore'),\n",
    "         categorical_columns),\n",
    "        ('encoder2', OneHotEncoder(drop='first', handle_unknown='ignore'),\n",
    "         categorical_cyclical_columns),\n",
    "        ('scaler', StandardScaler(), numerical_columns)\n",
    "    ])),\n",
    "    ('model', LGBMRegressor(\n",
    "        n_estimators=2000,\n",
    "        learning_rate=0.1))])\n",
    "\n",
    "start_time = time.time()\n",
    "model_lightgbm.fit(features_train, target_train)\n",
    "end_time = time.time()\n",
    "\n",
    "print('Время обучения модели:', round(end_time - start_time, 2), 'с')"
   ]
  },
  {
   "cell_type": "code",
   "execution_count": 101,
   "id": "uCRXQzzJpRBV",
   "metadata": {
    "colab": {
     "base_uri": "https://localhost:8080/"
    },
    "id": "uCRXQzzJpRBV",
    "outputId": "8bc73365-6ce8-4dbd-a01a-cae497abcbfd"
   },
   "outputs": [
    {
     "name": "stdout",
     "output_type": "stream",
     "text": [
      "Время выполнения предсказаний модели: 33.38 с\n",
      "CPU times: user 33.2 s, sys: 81 ms, total: 33.3 s\n",
      "Wall time: 33.4 s\n"
     ]
    }
   ],
   "source": [
    "%%time\n",
    "\n",
    "start_time = time.time()\n",
    "predictions = model_lightgbm.predict(features_train)\n",
    "end_time = time.time()\n",
    "\n",
    "print('Время выполнения предсказаний модели:',\n",
    "      round(end_time - start_time, 2), 'с')"
   ]
  },
  {
   "cell_type": "markdown",
   "id": "wZE5e4wIc29V",
   "metadata": {
    "id": "wZE5e4wIc29V"
   },
   "source": [
    "Время обучения модели составило 25,76 с.\n",
    "<br> Время построения предсказания: 33,38 с."
   ]
  },
  {
   "cell_type": "markdown",
   "id": "8X_4AplBpktB",
   "metadata": {
    "id": "8X_4AplBpktB"
   },
   "source": [
    "##### XGBoost"
   ]
  },
  {
   "cell_type": "markdown",
   "id": "rpobm4KYeGPH",
   "metadata": {
    "id": "rpobm4KYeGPH"
   },
   "source": [
    "Оценим время обучения и время построения предсказания для модели градиентного бустинга из библиотеки XGBoost с числом итераций &mdash; 2000 и скоростью обучения &mdash; 0,1. Для модели с такими параметрами RMSE имеет наименьшее значение среди обученных моделей XGBoost и составляет 1678 евро."
   ]
  },
  {
   "cell_type": "code",
   "execution_count": 102,
   "id": "kQT3KiMFpwBP",
   "metadata": {
    "colab": {
     "base_uri": "https://localhost:8080/"
    },
    "id": "kQT3KiMFpwBP",
    "outputId": "fc5ba93e-9ec7-4d70-9964-94f0caca1d14"
   },
   "outputs": [
    {
     "name": "stdout",
     "output_type": "stream",
     "text": [
      "Время обучения модели: 43.29 с\n",
      "CPU times: user 1min 16s, sys: 297 ms, total: 1min 17s\n",
      "Wall time: 43.3 s\n"
     ]
    }
   ],
   "source": [
    "%%time\n",
    "\n",
    "model_xgboost = Pipeline([\n",
    "    ('transformer', ColumnTransformer([\n",
    "        ('encoder1', OneHotEncoder(handle_unknown='ignore'),\n",
    "         categorical_columns),\n",
    "        ('encoder2', OneHotEncoder(drop='first', handle_unknown='ignore'),\n",
    "         categorical_cyclical_columns),\n",
    "        ('scaler', StandardScaler(), numerical_columns)\n",
    "    ])),\n",
    "    ('model', XGBRegressor(\n",
    "        n_estimators=2000,\n",
    "        learning_rate=0.1))])\n",
    "\n",
    "start_time = time.time()\n",
    "model_xgboost.fit(features_train, target_train)\n",
    "end_time = time.time()\n",
    "\n",
    "print('Время обучения модели:', round(end_time - start_time, 2), 'с')"
   ]
  },
  {
   "cell_type": "code",
   "execution_count": 103,
   "id": "MgHwvu3fp-3s",
   "metadata": {
    "colab": {
     "base_uri": "https://localhost:8080/"
    },
    "id": "MgHwvu3fp-3s",
    "outputId": "2762fda7-08c4-43fd-b36c-a50542b64952"
   },
   "outputs": [
    {
     "name": "stdout",
     "output_type": "stream",
     "text": [
      "Время выполнения предсказаний модели: 48.94 с\n",
      "CPU times: user 1min 23s, sys: 122 ms, total: 1min 23s\n",
      "Wall time: 48.9 s\n"
     ]
    }
   ],
   "source": [
    "%%time\n",
    "\n",
    "start_time = time.time()\n",
    "predictions = model_xgboost.predict(features_train)\n",
    "end_time = time.time()\n",
    "\n",
    "print('Время выполнения предсказаний модели:',\n",
    "      round(end_time - start_time, 2), 'с')"
   ]
  },
  {
   "cell_type": "markdown",
   "id": "g0XneaWTeUXQ",
   "metadata": {
    "id": "g0XneaWTeUXQ"
   },
   "source": [
    "Время обучения модели составило 43,29 с.\n",
    "<br> Время построения предсказания: 48,94 с."
   ]
  },
  {
   "cell_type": "markdown",
   "id": "eDl7swV_qEqr",
   "metadata": {
    "id": "eDl7swV_qEqr"
   },
   "source": [
    "##### CatBoost"
   ]
  },
  {
   "cell_type": "markdown",
   "id": "hnErtw4Nil7i",
   "metadata": {
    "id": "hnErtw4Nil7i"
   },
   "source": [
    "Оценим время обучения и время построения предсказания для модели градиентного бустинга из библиотеки CatBoost с числом итераций &mdash; 1000 и скоростью обучения &mdash; 0,2. Для модели с такими параметрами RMSE имеет наименьшее значение среди обученных моделей CatBoost и составляет 1639 евро."
   ]
  },
  {
   "cell_type": "code",
   "execution_count": 104,
   "id": "7sY3juCMqH4g",
   "metadata": {
    "colab": {
     "base_uri": "https://localhost:8080/"
    },
    "id": "7sY3juCMqH4g",
    "outputId": "f685e492-1d0d-45a1-a8fd-551bc92a8d37"
   },
   "outputs": [
    {
     "name": "stdout",
     "output_type": "stream",
     "text": [
      "Время обучения модели: 310.57 с\n",
      "CPU times: user 8min 43s, sys: 3.42 s, total: 8min 46s\n",
      "Wall time: 5min 10s\n"
     ]
    }
   ],
   "source": [
    "%%time\n",
    "\n",
    "model_catboost = CatBoostRegressor(\n",
    "    n_estimators=1000,\n",
    "    learning_rate=0.2,\n",
    "    cat_features=categorical_features)\n",
    "\n",
    "start_time = time.time()\n",
    "model_catboost.fit(features_cat_train, target_train, verbose=False)\n",
    "end_time = time.time()\n",
    "\n",
    "print('Время обучения модели:', round(end_time - start_time, 2), 'с')"
   ]
  },
  {
   "cell_type": "code",
   "execution_count": 105,
   "id": "9YkB1_UrqZwY",
   "metadata": {
    "colab": {
     "base_uri": "https://localhost:8080/"
    },
    "id": "9YkB1_UrqZwY",
    "outputId": "0f1fcf3e-af71-44a0-fde1-d06f63801ff9"
   },
   "outputs": [
    {
     "name": "stdout",
     "output_type": "stream",
     "text": [
      "Время выполнения предсказаний модели: 2.92 с\n",
      "CPU times: user 5.29 s, sys: 9.9 ms, total: 5.3 s\n",
      "Wall time: 2.92 s\n"
     ]
    }
   ],
   "source": [
    "%%time\n",
    "\n",
    "start_time = time.time()\n",
    "predictions = model_catboost.predict(features_cat_train)\n",
    "end_time = time.time()\n",
    "\n",
    "print('Время выполнения предсказаний модели:',\n",
    "      round(end_time - start_time, 2), 'с')"
   ]
  },
  {
   "cell_type": "markdown",
   "id": "8SClUWTCi1nZ",
   "metadata": {
    "id": "8SClUWTCi1nZ"
   },
   "source": [
    "Время обучения модели составило 310,57 с.\n",
    "<br> Время построения предсказания: 2,92 с."
   ]
  },
  {
   "cell_type": "markdown",
   "id": "uOR2FWfIqDeB",
   "metadata": {
    "id": "uOR2FWfIqDeB"
   },
   "source": [
    "#### Тестирование лучшей модели"
   ]
  },
  {
   "cell_type": "markdown",
   "id": "c06KmVPHuBqI",
   "metadata": {
    "id": "c06KmVPHuBqI"
   },
   "source": [
    "В процессе оценки времени обучения и времени построения предсказаний для моделей, которые показывают значение RMSE менее 2500 евро, были получены следующие результаты:\n",
    "\n",
    "|<br>Модель и её параметры|<br>RMSE,<br>евро|<br>Время<br>обучения, с|Время<br>построения<br>прогноза, с|\n",
    "|:-|:-:|-:|-:|\n",
    "|**Дерево решений**\n",
    "|&ndash; глубина дерева: 18, минимальное число листьев: 22,<br>минимальное количество выборок: 9|1929|23,18|0,55|\n",
    "|**Случайный лес**\n",
    "|&ndash; число деревьев: 150, глубина дерева: 9|2001|594,33|3,53|\n",
    "|**Градиентный бустинг sklearn**\n",
    "|&ndash; число итераций: 1000, скорость обучения: 0,2|1733|543,56|7,26|\n",
    "|**LightGBM**\n",
    "|&ndash; число итераций: 2000, скорость обучения: 0,1|1672|25,76|33,38|\n",
    "|**XGBoost**\n",
    "|&ndash; число итераций: 2000, скорость обучения: 0,1|1678|43,29|48,94|\n",
    "|**CatBoost**\n",
    "|&ndash; число итераций: 1000, скорость обучения: 0,2|1639|310,57|2,92|\n",
    "\n",
    "Для целей прогнозирования цены автомобиля наилучшей моделью является модель градиетного бустинга CatBoost.\n",
    "\n",
    "Модель градиентного бустинга CatBoost позволяет достичь наименьшего значения RMSE, кроме того, время построения предсказания с её помощью одно из самых низких среди всех зарегистрированных значений. Однако время обучения модели не самое низкое.\n",
    "\n",
    "Модель решающего дерева обучается и строит предсказание быстрее, чем модель CatBoost, но значение RMSE она показывает на 290 евро больше. Поэтому если быстрое обучение и быстрое получение предсказания важнее большей точности предсказания, можно использовать модель решающего дерева."
   ]
  },
  {
   "cell_type": "code",
   "execution_count": 106,
   "id": "E9yZsgx4FVbw",
   "metadata": {
    "colab": {
     "base_uri": "https://localhost:8080/"
    },
    "id": "E9yZsgx4FVbw",
    "outputId": "de916ed8-6869-423c-ddbe-7ff267dd2ce9"
   },
   "outputs": [
    {
     "data": {
      "text/plain": [
       "brand                   object\n",
       "vehicle_type            object\n",
       "fuel_type               object\n",
       "model                   object\n",
       "date_created_month      object\n",
       "registration_month      object\n",
       "date_created_weekday    object\n",
       "gearbox                 object\n",
       "repaired                object\n",
       "dtype: object"
      ]
     },
     "execution_count": 106,
     "metadata": {},
     "output_type": "execute_result"
    }
   ],
   "source": [
    "features_cat_test = features_test.copy()\n",
    "features_cat_test[categorical_features] = \\\n",
    "features_cat_test[categorical_features].astype('str')\n",
    "features_cat_test[categorical_features].dtypes"
   ]
  },
  {
   "cell_type": "code",
   "execution_count": 107,
   "id": "k7FdLr46EsyN",
   "metadata": {
    "colab": {
     "base_uri": "https://localhost:8080/"
    },
    "id": "k7FdLr46EsyN",
    "outputId": "7f93a439-925e-4a0b-f791-c5a3996a25ee"
   },
   "outputs": [
    {
     "name": "stdout",
     "output_type": "stream",
     "text": [
      "Модель градиентного бустинга CatBoost\n",
      "\n",
      "Значение среднеквадратичной ошибки на тестовой выборке\n",
      "RMSE = 1619 евро\n"
     ]
    }
   ],
   "source": [
    "predictions = model_catboost.predict(features_cat_test)\n",
    "\n",
    "print('Модель градиентного бустинга CatBoost')\n",
    "print('\\nЗначение среднеквадратичной ошибки на тестовой выборке')\n",
    "print('RMSE =',\n",
    "      round(mean_squared_error(target_test, predictions, squared=False)),\n",
    "      'евро')"
   ]
  },
  {
   "cell_type": "markdown",
   "id": "lCIPfYSevFwo",
   "metadata": {
    "id": "lCIPfYSevFwo"
   },
   "source": [
    "## Общий вывод"
   ]
  },
  {
   "cell_type": "markdown",
   "id": "4dw3pBhAvI7_",
   "metadata": {
    "id": "4dw3pBhAvI7_"
   },
   "source": [
    "1. Для целей предсказания цены автомобиля с пробегом были обучены линейные модели:\n",
    "- линейная регрессия,\n",
    "- стохастический градиентный спуск,\n",
    "- гребневая регрессия,\n",
    "- регрессия LASSO,\n",
    "\n",
    "а также модели, основанные на использовании деревьев решений:\n",
    "- дерево решений,\n",
    "- случайный лес,\n",
    "- градиентный бустинг sklearn,\n",
    "- градиентный бустинг LightGBM,\n",
    "- градиентный бустинг XGBoost,\n",
    "- градиентный бустинг CatBoost.\n",
    "\n",
    "2. Для каждого алгоритма было обучено несколько моделей с различными гиперпараметрами.\n",
    "\n",
    "3. Критерием отбора моделей для дальнейшего исследования было значение среднеквадратичной ошибки (RMSE) предсказания цены автомобиля, полученной в результате проведения кросс-валидации. Пороговое значение RMSE установлено на уровне 2500 евро.\n",
    "\n",
    "4. Линейные модели не обеспечивают высокое качество предсказания. Значения RMSE для обученных линейных моделей превышает 2500 евро.\n",
    "\n",
    "5. Модели, основанные на применении деревьев решений, демонстрируют лучшее качество предсказаний. Значение RMSE для обученных моделей решающего дерева, случайного леса и градиентных бустингов меньше порогового значения в 2500 евро. Модели, основанные на этих алгоритмах, были исследованы для установления времени обучения и времени построения предсказания.\n",
    "\n",
    "6. Путём подбора значений гиперпараметров удалось отобрать модели, которые показывают не только низкое значение RMSE, но также имеют низкое значение времени обучения и времени построения предсказания.\n",
    "\n",
    "7. В процессе оценки времени обучения и времени построения предсказаний для моделей были получены следующие результаты:\n",
    "\n",
    "|<br>Модель и её параметры|<br>RMSE,<br>евро|<br>Время<br>обучения, с|Время<br>построения<br>прогноза, с|\n",
    "|:-|:-:|-:|-:|\n",
    "|**Модель, предсказывающая среднее арифметическое значение**|4594|&ndash;|&ndash;\n",
    "|\n",
    "|**Линейная регрессия**|2840|&ndash;|&ndash;\n",
    "|\n",
    "|**Стохастический градиентный спуск**|2853|&ndash;|&ndash;\n",
    "|&ndash; альфа: 10$^{-6}$, начальная скорость обучения: 0,01,<br>порог остановки обучения: 10\n",
    "|**Гребневая регрессия**|2839|&ndash;|&ndash;\n",
    "|&ndash; альфа: 1, максимальное число итераций: 1000,<br>порог остановки обучения: 10$^{-4}$\n",
    "|**Регрессия LASSO**|2840|&ndash;|&ndash;\n",
    "|&ndash; альфа: 0,1, максимальное число итераций: 1000,<br>порог остановки обучения: 10$^{-5}$\n",
    "|**Дерево решений**|1929|23,18|0,55|\n",
    "|&ndash; глубина дерева: 18, минимальное число листьев: 22,<br>минимальное количество выборок: 9\n",
    "|**Случайный лес**|2001|594,33|3,53|\n",
    "|&ndash; число деревьев: 150, глубина дерева: 9\n",
    "|**Градиентный бустинг sklearn**|1733|543,56|7,26|\n",
    "|&ndash; число итераций: 1000, скорость обучения: 0,2\n",
    "|**LightGBM**|1672|25,76|33,38|\n",
    "|&ndash; число итераций: 2000, скорость обучения: 0,1\n",
    "|**XGBoost**|1678|43,29|48,94|\n",
    "|&ndash; число итераций: 2000, скорость обучения: 0,1\n",
    "|**CatBoost**|1639|310,57|2,92|\n",
    "|&ndash; число итераций: 1000, скорость обучения: 0,2\n",
    "\n",
    "8. Наилучшие показатели качества демонстрирует модель градиентного бустинга на основе алгоритма CatBoost с числом итераций &mdash; 1000 и скоростью обучения &mdash; 0,2:\n",
    "- значение RMSE является одним из самых низких среди рассмотренных моделей &mdash; 1639 евро,\n",
    "- время обучения составляет 5 мин,\n",
    "- время построения предсказания составляет 3 с."
   ]
  }
 ],
 "metadata": {
  "ExecuteTimeLog": [
   {
    "duration": 8764,
    "start_time": "2023-07-25T08:07:40.739Z"
   },
   {
    "duration": 2911,
    "start_time": "2023-07-25T08:07:49.506Z"
   },
   {
    "duration": 2686,
    "start_time": "2023-07-25T08:07:52.419Z"
   },
   {
    "duration": 2722,
    "start_time": "2023-07-25T08:07:55.107Z"
   },
   {
    "duration": 2512,
    "start_time": "2023-07-25T08:07:57.831Z"
   },
   {
    "duration": 2488,
    "start_time": "2023-07-25T08:10:02.918Z"
   },
   {
    "duration": 17,
    "start_time": "2023-07-25T08:10:45.207Z"
   },
   {
    "duration": 13,
    "start_time": "2023-07-25T08:10:49.939Z"
   },
   {
    "duration": 5,
    "start_time": "2023-07-25T08:10:51.399Z"
   },
   {
    "duration": 4,
    "start_time": "2023-07-25T08:10:59.554Z"
   },
   {
    "duration": 14,
    "start_time": "2023-07-25T08:11:00.686Z"
   },
   {
    "duration": 4,
    "start_time": "2023-07-25T08:11:02.728Z"
   },
   {
    "duration": 8,
    "start_time": "2023-07-25T08:11:03.695Z"
   },
   {
    "duration": 148,
    "start_time": "2023-07-25T08:11:04.504Z"
   },
   {
    "duration": 6012,
    "start_time": "2023-07-25T08:11:06.287Z"
   },
   {
    "duration": 150,
    "start_time": "2023-07-25T08:11:19.697Z"
   },
   {
    "duration": 173,
    "start_time": "2023-07-25T08:11:20.958Z"
   },
   {
    "duration": 54,
    "start_time": "2023-07-25T08:11:48.360Z"
   },
   {
    "duration": 1710,
    "start_time": "2023-07-25T08:12:48.619Z"
   },
   {
    "duration": 4,
    "start_time": "2023-07-25T08:12:50.331Z"
   },
   {
    "duration": 681,
    "start_time": "2023-07-25T08:16:22.250Z"
   },
   {
    "duration": 4,
    "start_time": "2023-07-25T08:16:22.933Z"
   },
   {
    "duration": 668,
    "start_time": "2023-07-25T08:16:25.636Z"
   },
   {
    "duration": 92,
    "start_time": "2023-07-25T08:16:27.170Z"
   },
   {
    "duration": 409,
    "start_time": "2023-07-25T08:16:29.007Z"
   },
   {
    "duration": 2263,
    "start_time": "2023-07-25T08:17:30.806Z"
   },
   {
    "duration": 53,
    "start_time": "2023-07-25T08:17:57.612Z"
   },
   {
    "duration": 404,
    "start_time": "2023-07-25T08:19:15.604Z"
   },
   {
    "duration": 23,
    "start_time": "2023-07-25T08:19:20.151Z"
   },
   {
    "duration": 18,
    "start_time": "2023-07-25T08:19:26.600Z"
   },
   {
    "duration": 9,
    "start_time": "2023-07-25T08:20:41.898Z"
   },
   {
    "duration": 21,
    "start_time": "2023-07-25T08:20:43.627Z"
   },
   {
    "duration": 43,
    "start_time": "2023-07-25T08:22:11.818Z"
   },
   {
    "duration": 74,
    "start_time": "2023-07-25T08:23:38.133Z"
   },
   {
    "duration": 5,
    "start_time": "2023-07-25T08:23:39.493Z"
   },
   {
    "duration": 5,
    "start_time": "2023-07-25T08:24:35.451Z"
   },
   {
    "duration": 435,
    "start_time": "2023-07-25T08:24:35.903Z"
   },
   {
    "duration": 37,
    "start_time": "2023-07-25T08:24:47.406Z"
   },
   {
    "duration": 422,
    "start_time": "2023-07-25T08:26:31.263Z"
   },
   {
    "duration": 421,
    "start_time": "2023-07-25T08:26:45.895Z"
   },
   {
    "duration": 6,
    "start_time": "2023-07-25T08:27:00.002Z"
   },
   {
    "duration": 39140,
    "start_time": "2023-07-25T08:27:00.455Z"
   },
   {
    "duration": 40932,
    "start_time": "2023-07-25T08:27:39.598Z"
   },
   {
    "duration": 44697,
    "start_time": "2023-07-25T08:28:20.532Z"
   },
   {
    "duration": 32326,
    "start_time": "2023-07-25T08:29:05.231Z"
   },
   {
    "duration": 481,
    "start_time": "2023-07-25T08:29:37.564Z"
   },
   {
    "duration": 163,
    "start_time": "2023-07-25T08:31:38.229Z"
   },
   {
    "duration": 409,
    "start_time": "2023-07-25T08:31:38.603Z"
   },
   {
    "duration": 5,
    "start_time": "2023-07-25T08:31:39.702Z"
   },
   {
    "duration": 93,
    "start_time": "2023-07-25T08:31:46.364Z"
   },
   {
    "duration": 66,
    "start_time": "2023-07-25T08:31:47.316Z"
   },
   {
    "duration": 72,
    "start_time": "2023-07-25T08:31:47.774Z"
   },
   {
    "duration": 105,
    "start_time": "2023-07-25T08:31:48.404Z"
   },
   {
    "duration": 326,
    "start_time": "2023-07-25T08:31:58.267Z"
   },
   {
    "duration": 305,
    "start_time": "2023-07-25T08:31:59.760Z"
   },
   {
    "duration": 646,
    "start_time": "2023-07-25T08:33:18.426Z"
   },
   {
    "duration": 270,
    "start_time": "2023-07-25T08:35:52.362Z"
   },
   {
    "duration": 4,
    "start_time": "2023-07-25T08:35:53.164Z"
   },
   {
    "duration": 522,
    "start_time": "2023-07-25T08:35:54.769Z"
   },
   {
    "duration": 5,
    "start_time": "2023-07-25T08:35:55.600Z"
   },
   {
    "duration": 108,
    "start_time": "2023-07-25T08:36:38.260Z"
   },
   {
    "duration": 23,
    "start_time": "2023-07-25T08:37:02.609Z"
   },
   {
    "duration": 6,
    "start_time": "2023-07-25T08:37:02.821Z"
   },
   {
    "duration": 179,
    "start_time": "2023-07-25T08:37:20.197Z"
   },
   {
    "duration": 130,
    "start_time": "2023-07-25T08:40:46.197Z"
   },
   {
    "duration": 98,
    "start_time": "2023-07-25T08:40:46.706Z"
   },
   {
    "duration": 15,
    "start_time": "2023-07-25T08:40:47.726Z"
   },
   {
    "duration": 25,
    "start_time": "2023-07-25T08:40:48.253Z"
   },
   {
    "duration": 21,
    "start_time": "2023-07-25T08:40:50.431Z"
   },
   {
    "duration": 18,
    "start_time": "2023-07-25T08:40:51.598Z"
   },
   {
    "duration": 18,
    "start_time": "2023-07-25T08:40:59.211Z"
   },
   {
    "duration": 43,
    "start_time": "2023-07-25T08:41:09.705Z"
   },
   {
    "duration": 98,
    "start_time": "2023-07-25T08:41:10.240Z"
   },
   {
    "duration": 4,
    "start_time": "2023-07-25T08:41:10.726Z"
   },
   {
    "duration": 4,
    "start_time": "2023-07-25T08:41:10.860Z"
   },
   {
    "duration": 4,
    "start_time": "2023-07-25T08:41:13.397Z"
   },
   {
    "duration": 723,
    "start_time": "2023-07-25T08:41:38.402Z"
   },
   {
    "duration": 2957,
    "start_time": "2023-07-25T08:45:02.709Z"
   },
   {
    "duration": 789,
    "start_time": "2023-07-25T08:45:10.705Z"
   },
   {
    "duration": 361,
    "start_time": "2023-07-25T08:45:14.550Z"
   },
   {
    "duration": 4,
    "start_time": "2023-07-25T08:45:15.432Z"
   },
   {
    "duration": 4,
    "start_time": "2023-07-25T08:45:15.849Z"
   },
   {
    "duration": 550,
    "start_time": "2023-07-25T08:45:18.436Z"
   },
   {
    "duration": 439,
    "start_time": "2023-07-25T08:45:19.700Z"
   },
   {
    "duration": 319,
    "start_time": "2023-07-25T08:45:21.212Z"
   },
   {
    "duration": 350,
    "start_time": "2023-07-25T08:45:22.306Z"
   },
   {
    "duration": 3,
    "start_time": "2023-07-25T08:45:25.463Z"
   },
   {
    "duration": 6,
    "start_time": "2023-07-25T08:45:30.297Z"
   },
   {
    "duration": 1583,
    "start_time": "2023-07-25T08:45:40.089Z"
   }
  ],
  "colab": {
   "provenance": [],
   "toc_visible": true
  },
  "kernelspec": {
   "display_name": "Python 3 (ipykernel)",
   "language": "python",
   "name": "python3"
  },
  "language_info": {
   "codemirror_mode": {
    "name": "ipython",
    "version": 3
   },
   "file_extension": ".py",
   "mimetype": "text/x-python",
   "name": "python",
   "nbconvert_exporter": "python",
   "pygments_lexer": "ipython3",
   "version": "3.9.15"
  },
  "toc": {
   "base_numbering": 1,
   "nav_menu": {},
   "number_sections": true,
   "sideBar": true,
   "skip_h1_title": true,
   "title_cell": "Содержание",
   "title_sidebar": "Содержание",
   "toc_cell": true,
   "toc_position": {
    "height": "calc(100% - 180px)",
    "left": "10px",
    "top": "150px",
    "width": "263.594px"
   },
   "toc_section_display": true,
   "toc_window_display": true
  }
 },
 "nbformat": 4,
 "nbformat_minor": 5
}
