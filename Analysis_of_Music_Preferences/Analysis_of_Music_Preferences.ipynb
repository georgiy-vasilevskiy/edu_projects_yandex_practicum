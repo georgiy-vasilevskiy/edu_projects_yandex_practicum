{
 "cells": [
  {
   "cell_type": "markdown",
   "id": "c8aae6b6",
   "metadata": {},
   "source": [
    "# Анализ музыкальных предпочтений<br>пользователей сервиса Яндекс Музыка<br>в Москве и Санкт-Петербурге"
   ]
  },
  {
   "cell_type": "markdown",
   "id": "92f8dcc1",
   "metadata": {},
   "source": [
    "Москва и Санкт-Петербург &mdash; два крупнейших города, две столицы, два сердца страны. Каждый из этих городов имеет свои уникальные особенности и культурные традиции.\n",
    "\n",
    "Оба города являются мегаполисами с высоким уровнем развития и интенсивной жизнью. Более активный и быстрый ритм жизни &mdash; в Москве: высокий уровень коммерциализации и развитая инфраструктура способствуют установлению динамичного темпа жизни, с большим количеством событий и широкими возможностями. В Санкт-Петербурге, напротив, &mdash; более спокойный и размеренный ритм жизни. Наличие в городе множества парковых зон и регулярное проведение культурных мероприятий создают более расслабленную и творческую атмосферу.\n",
    "\n",
    "Санкт-Петербург является культурной столицей России и имеет богатое наследие в области искусства, литературы и музыки. Москва также имеет богатое культурное наследие и является центром искусства, науки и образования.\n",
    "Москва и Санкт-Петербург &mdash; оба являются культурными столицами России, но отличаются своими архитектурными стилями, историческим наследием и уникальным характером. Каждый город имеет свою уникальную атмосферу.\n",
    "\n",
    "Схожие черты и наличие различий &mdash; всё это делает Москву и Санкт-Петербург интересными для исследований и сравнений.\n",
    "\n",
    "Москва предлагает более широкий спектр музыкальных возможностей. Здесь можно найти концерты и выступления практически любых музыкальных жанров &mdash; от классической музыки и джаза до рока, поп-музыки и электронной музыки. Москва часто становится местом проведения крупных фестивалей и концертов мировых звёзд. Санкт-Петербург также имеет богатую музыкальную сцену. Город известен своими классическими музыкальными концертами и оперными выступлениями. Санкт-Петербург также является центром русского рока.\n",
    "\n",
    "Музыкальные предпочтения жителей разных городов являются субъективными и могут сильно отличаться у каждого индивида. Они могут зависеть от множества факторов, таких как возраст, пол, культурные особенности человека и другие особенности его личности. Но оказывает ли влияние на музыкальные предпочтения город, в котором живёт человек?\n",
    "\n",
    "Чтобы ответить на этот вопрос нужны данные, которые помогут выявить предпочтения жителей Москвы и Санкт-Петербурга в выборе музыки, которую они слушают. Выявленное преобладание музыкального жанра в выборе слушателей будет означать, что он имеет большую популярность и привлекательность для аудитории по сравнению с другими жанрами. Такое преобладание одного или нескольких музыкальных жанров, возможно, будет обусловлено ещё и такими факторами, как модные тенденции и социокультурные влияния в городе.\n",
    "\n",
    "Яндекс Музыка &mdash; это сервис потокового музыкального контента. Он позволяет пользователям из разных городов слушать музыку онлайн и оффлайн, создавать плейлисты, получать рекомендации, следить за новинками музыкальной индустрии. Пользователям доступен каталог с десятками миллионов музыкальных треков разных жанров и исполнителей.\n",
    "\n",
    "Анализ данных о том, какие жанры музыки предпочитают слушать в сервисе Яндекс Музыка жители Москвы и Санкт-Петербурга, поможет понять, что больше всего нравится именно этому сегменту пользователей и что ещё можно им предложить. Кроме того, это позволит выявить популярные жанры и тренды в музыке, что, в свою очередь, может быть полезным для авторов и исполнителей музыкальных композиций.\n",
    "\n",
    "В нашем распоряжении находятся данные сервиса Яндекс Музыка: сведения о пользователях и прослушанных ими треках. Для каждого пользователя доступна информация о городе проживания, для каждого трека &mdash; информация о названии, исполнителе и жанре музыкальной композиции, также имеются сведения о дне недели и времени прослушивания треков пользователями.\n",
    "\n",
    "**Цель проекта:** проверить гипотезы:\n",
    "1. Количество прослушанных пользователями сервиса треков зависит от дня недели, причём оно изменяется по-разному у пользователей из разных городов &mdash; Москвы и Санкт-Петербурга.\n",
    "2. Жанры, в которых пользователи предпочитают слушать музыку в понедельник утром или в пятницу вечером, &mdash; разные в разных городах &mdash; Москве и Санкт-Петербурге.\n",
    "3. Пользователи из разных городов предпочитают слушать музыку разных жанров: в Москве чаще слушают поп-музыку, в Санкт-Петербурге &mdash; русский рэп.\n",
    "\n",
    "**Задачи исследования:**\n",
    "- выполнить предобработку данных;\n",
    "- изучить обработанные данные;\n",
    "- найти особенности и выявить зависимости между признаками."
   ]
  },
  {
   "cell_type": "markdown",
   "id": "796455c2",
   "metadata": {
    "toc": true
   },
   "source": [
    "<h1>Содержание<span class=\"tocSkip\"></span></h1>\n",
    "<div class=\"toc\"><ul class=\"toc-item\"><li><span><a href=\"#Обзор-данных\" data-toc-modified-id=\"Обзор-данных-1\"><span class=\"toc-item-num\">1&nbsp;&nbsp;</span>Обзор данных</a></span><ul class=\"toc-item\"><li><span><a href=\"#Импорт-библиотек-и-предварительные-настройки\" data-toc-modified-id=\"Импорт-библиотек-и-предварительные-настройки-1.1\"><span class=\"toc-item-num\">1.1&nbsp;&nbsp;</span>Импорт библиотек и предварительные настройки</a></span></li><li><span><a href=\"#Чтение-файлов-и-загрузка-данных\" data-toc-modified-id=\"Чтение-файлов-и-загрузка-данных-1.2\"><span class=\"toc-item-num\">1.2&nbsp;&nbsp;</span>Чтение файлов и загрузка данных</a></span></li><li><span><a href=\"#Общая-характеристика-набора-данных\" data-toc-modified-id=\"Общая-характеристика-набора-данных-1.3\"><span class=\"toc-item-num\">1.3&nbsp;&nbsp;</span>Общая характеристика набора данных</a></span></li><li><span><a href=\"#Преобразование-наименований-признаков\" data-toc-modified-id=\"Преобразование-наименований-признаков-1.4\"><span class=\"toc-item-num\">1.4&nbsp;&nbsp;</span>Преобразование наименований признаков</a></span></li></ul></li><li><span><a href=\"#Понимание-данных\" data-toc-modified-id=\"Понимание-данных-2\"><span class=\"toc-item-num\">2&nbsp;&nbsp;</span>Понимание данных</a></span></li><li><span><a href=\"#Предобработка-данных\" data-toc-modified-id=\"Предобработка-данных-3\"><span class=\"toc-item-num\">3&nbsp;&nbsp;</span>Предобработка данных</a></span><ul class=\"toc-item\"><li><span><a href=\"#Обработка-пропусков\" data-toc-modified-id=\"Обработка-пропусков-3.1\"><span class=\"toc-item-num\">3.1&nbsp;&nbsp;</span>Обработка пропусков</a></span></li><li><span><a href=\"#Обработка-текстовых-значений\" data-toc-modified-id=\"Обработка-текстовых-значений-3.2\"><span class=\"toc-item-num\">3.2&nbsp;&nbsp;</span>Обработка текстовых значений</a></span></li><li><span><a href=\"#Обработка-дубликатов\" data-toc-modified-id=\"Обработка-дубликатов-3.3\"><span class=\"toc-item-num\">3.3&nbsp;&nbsp;</span>Обработка дубликатов</a></span></li></ul></li><li><span><a href=\"#Исследовательский-анализ\" data-toc-modified-id=\"Исследовательский-анализ-4\"><span class=\"toc-item-num\">4&nbsp;&nbsp;</span>Исследовательский анализ</a></span><ul class=\"toc-item\"><li><span><a href=\"#Описательный-анализ\" data-toc-modified-id=\"Описательный-анализ-4.1\"><span class=\"toc-item-num\">4.1&nbsp;&nbsp;</span>Описательный анализ</a></span><ul class=\"toc-item\"><li><span><a href=\"#Идентификатор-пользователя\" data-toc-modified-id=\"Идентификатор-пользователя-4.1.1\"><span class=\"toc-item-num\">4.1.1&nbsp;&nbsp;</span>Идентификатор пользователя</a></span></li><li><span><a href=\"#Город-местонахождения-пользователя\" data-toc-modified-id=\"Город-местонахождения-пользователя-4.1.2\"><span class=\"toc-item-num\">4.1.2&nbsp;&nbsp;</span>Город местонахождения пользователя</a></span></li><li><span><a href=\"#Название-трека\" data-toc-modified-id=\"Название-трека-4.1.3\"><span class=\"toc-item-num\">4.1.3&nbsp;&nbsp;</span>Название трека</a></span></li><li><span><a href=\"#Имя-исполнителя\" data-toc-modified-id=\"Имя-исполнителя-4.1.4\"><span class=\"toc-item-num\">4.1.4&nbsp;&nbsp;</span>Имя исполнителя</a></span></li><li><span><a href=\"#Название-жанра\" data-toc-modified-id=\"Название-жанра-4.1.5\"><span class=\"toc-item-num\">4.1.5&nbsp;&nbsp;</span>Название жанра</a></span></li><li><span><a href=\"#День-недели-прослушивания-трека\" data-toc-modified-id=\"День-недели-прослушивания-трека-4.1.6\"><span class=\"toc-item-num\">4.1.6&nbsp;&nbsp;</span>День недели прослушивания трека</a></span></li><li><span><a href=\"#Время-начала-прослушивания-трека\" data-toc-modified-id=\"Время-начала-прослушивания-трека-4.1.7\"><span class=\"toc-item-num\">4.1.7&nbsp;&nbsp;</span>Время начала прослушивания трека</a></span></li></ul></li><li><span><a href=\"#Проверка-гипотез\" data-toc-modified-id=\"Проверка-гипотез-4.2\"><span class=\"toc-item-num\">4.2&nbsp;&nbsp;</span>Проверка гипотез</a></span><ul class=\"toc-item\"><li><span><a href=\"#Сравнение-поведения-пользователей-двух-столиц\" data-toc-modified-id=\"Сравнение-поведения-пользователей-двух-столиц-4.2.1\"><span class=\"toc-item-num\">4.2.1&nbsp;&nbsp;</span>Сравнение поведения пользователей двух столиц</a></span></li><li><span><a href=\"#Музыка-в-начале-и-в-конце-недели\" data-toc-modified-id=\"Музыка-в-начале-и-в-конце-недели-4.2.2\"><span class=\"toc-item-num\">4.2.2&nbsp;&nbsp;</span>Музыка в начале и в конце недели</a></span></li><li><span><a href=\"#Жанровые-предпочтения-в-Москве-и-Петербурге\" data-toc-modified-id=\"Жанровые-предпочтения-в-Москве-и-Петербурге-4.2.3\"><span class=\"toc-item-num\">4.2.3&nbsp;&nbsp;</span>Жанровые предпочтения в Москве и Петербурге</a></span></li></ul></li></ul></li><li><span><a href=\"#Общий-вывод\" data-toc-modified-id=\"Общий-вывод-5\"><span class=\"toc-item-num\">5&nbsp;&nbsp;</span>Общий вывод</a></span></li></ul></div>"
   ]
  },
  {
   "cell_type": "markdown",
   "id": "32cb80f3",
   "metadata": {},
   "source": [
    "## Обзор данных"
   ]
  },
  {
   "cell_type": "markdown",
   "id": "e2dc1b2f",
   "metadata": {},
   "source": [
    "### Импорт библиотек и предварительные настройки"
   ]
  },
  {
   "cell_type": "code",
   "execution_count": 1,
   "id": "1d403321",
   "metadata": {},
   "outputs": [],
   "source": [
    "import pandas as pd\n",
    "import matplotlib.pyplot as plt\n",
    "import numpy as np\n",
    "import seaborn as sns\n",
    "import sys\n",
    "import os\n",
    "\n",
    "pd.set_option('display.max_columns', None)\n",
    "np.set_printoptions(threshold=sys.maxsize)"
   ]
  },
  {
   "cell_type": "markdown",
   "id": "29667c5f",
   "metadata": {},
   "source": [
    "### Чтение файлов и загрузка данных"
   ]
  },
  {
   "cell_type": "markdown",
   "id": "9b217747",
   "metadata": {},
   "source": [
    "Все данные хранятся в одном файле.\n",
    "<br>Файл данных `yandex_music_project.csv` имеет формат `CSV`."
   ]
  },
  {
   "cell_type": "code",
   "execution_count": 2,
   "id": "7f09bb17",
   "metadata": {},
   "outputs": [],
   "source": [
    "pth1 = r'C:\\Users\\Георгий\\Documents\\DS_projects\\yandex_music_project.csv'\n",
    "pth2 = '/datasets/yandex_music_project.csv'\n",
    "pth3 = '/content/yandex_music_project.csv'\n",
    "\n",
    "if os.path.exists(pth1):\n",
    "    data = pd.read_csv(pth1)\n",
    "elif os.path.exists(pth2):\n",
    "    data = pd.read_csv(pth2)\n",
    "elif os.path.exists(pth3):\n",
    "    data = pd.read_csv(pth3)\n",
    "else:\n",
    "    print('Something is wrong')"
   ]
  },
  {
   "cell_type": "markdown",
   "id": "a85625dc",
   "metadata": {},
   "source": [
    "Убедимся, что данные подгрузились верно, без ошибок.\n",
    "\n",
    "Для этого выведем первые 10 строк и последние 10 строк набора данных."
   ]
  },
  {
   "cell_type": "code",
   "execution_count": 3,
   "id": "0a495a2e",
   "metadata": {},
   "outputs": [
    {
     "data": {
      "text/html": [
       "<div>\n",
       "<style scoped>\n",
       "    .dataframe tbody tr th:only-of-type {\n",
       "        vertical-align: middle;\n",
       "    }\n",
       "\n",
       "    .dataframe tbody tr th {\n",
       "        vertical-align: top;\n",
       "    }\n",
       "\n",
       "    .dataframe thead th {\n",
       "        text-align: right;\n",
       "    }\n",
       "</style>\n",
       "<table border=\"1\" class=\"dataframe\">\n",
       "  <thead>\n",
       "    <tr style=\"text-align: right;\">\n",
       "      <th></th>\n",
       "      <th>userID</th>\n",
       "      <th>Track</th>\n",
       "      <th>artist</th>\n",
       "      <th>genre</th>\n",
       "      <th>City</th>\n",
       "      <th>time</th>\n",
       "      <th>Day</th>\n",
       "    </tr>\n",
       "  </thead>\n",
       "  <tbody>\n",
       "    <tr>\n",
       "      <th>0</th>\n",
       "      <td>FFB692EC</td>\n",
       "      <td>Kamigata To Boots</td>\n",
       "      <td>The Mass Missile</td>\n",
       "      <td>rock</td>\n",
       "      <td>Saint-Petersburg</td>\n",
       "      <td>20:28:33</td>\n",
       "      <td>Wednesday</td>\n",
       "    </tr>\n",
       "    <tr>\n",
       "      <th>1</th>\n",
       "      <td>55204538</td>\n",
       "      <td>Delayed Because of Accident</td>\n",
       "      <td>Andreas Rönnberg</td>\n",
       "      <td>rock</td>\n",
       "      <td>Moscow</td>\n",
       "      <td>14:07:09</td>\n",
       "      <td>Friday</td>\n",
       "    </tr>\n",
       "    <tr>\n",
       "      <th>2</th>\n",
       "      <td>20EC38</td>\n",
       "      <td>Funiculì funiculà</td>\n",
       "      <td>Mario Lanza</td>\n",
       "      <td>pop</td>\n",
       "      <td>Saint-Petersburg</td>\n",
       "      <td>20:58:07</td>\n",
       "      <td>Wednesday</td>\n",
       "    </tr>\n",
       "    <tr>\n",
       "      <th>3</th>\n",
       "      <td>A3DD03C9</td>\n",
       "      <td>Dragons in the Sunset</td>\n",
       "      <td>Fire + Ice</td>\n",
       "      <td>folk</td>\n",
       "      <td>Saint-Petersburg</td>\n",
       "      <td>08:37:09</td>\n",
       "      <td>Monday</td>\n",
       "    </tr>\n",
       "    <tr>\n",
       "      <th>4</th>\n",
       "      <td>E2DC1FAE</td>\n",
       "      <td>Soul People</td>\n",
       "      <td>Space Echo</td>\n",
       "      <td>dance</td>\n",
       "      <td>Moscow</td>\n",
       "      <td>08:34:34</td>\n",
       "      <td>Monday</td>\n",
       "    </tr>\n",
       "    <tr>\n",
       "      <th>5</th>\n",
       "      <td>842029A1</td>\n",
       "      <td>Преданная</td>\n",
       "      <td>IMPERVTOR</td>\n",
       "      <td>rusrap</td>\n",
       "      <td>Saint-Petersburg</td>\n",
       "      <td>13:09:41</td>\n",
       "      <td>Friday</td>\n",
       "    </tr>\n",
       "    <tr>\n",
       "      <th>6</th>\n",
       "      <td>4CB90AA5</td>\n",
       "      <td>True</td>\n",
       "      <td>Roman Messer</td>\n",
       "      <td>dance</td>\n",
       "      <td>Moscow</td>\n",
       "      <td>13:00:07</td>\n",
       "      <td>Wednesday</td>\n",
       "    </tr>\n",
       "    <tr>\n",
       "      <th>7</th>\n",
       "      <td>F03E1C1F</td>\n",
       "      <td>Feeling This Way</td>\n",
       "      <td>Polina Griffith</td>\n",
       "      <td>dance</td>\n",
       "      <td>Moscow</td>\n",
       "      <td>20:47:49</td>\n",
       "      <td>Wednesday</td>\n",
       "    </tr>\n",
       "    <tr>\n",
       "      <th>8</th>\n",
       "      <td>8FA1D3BE</td>\n",
       "      <td>И вновь продолжается бой</td>\n",
       "      <td>NaN</td>\n",
       "      <td>ruspop</td>\n",
       "      <td>Moscow</td>\n",
       "      <td>09:17:40</td>\n",
       "      <td>Friday</td>\n",
       "    </tr>\n",
       "    <tr>\n",
       "      <th>9</th>\n",
       "      <td>E772D5C0</td>\n",
       "      <td>Pessimist</td>\n",
       "      <td>NaN</td>\n",
       "      <td>dance</td>\n",
       "      <td>Saint-Petersburg</td>\n",
       "      <td>21:20:49</td>\n",
       "      <td>Wednesday</td>\n",
       "    </tr>\n",
       "  </tbody>\n",
       "</table>\n",
       "</div>"
      ],
      "text/plain": [
       "     userID                        Track            artist   genre  \\\n",
       "0  FFB692EC            Kamigata To Boots  The Mass Missile    rock   \n",
       "1  55204538  Delayed Because of Accident  Andreas Rönnberg    rock   \n",
       "2    20EC38            Funiculì funiculà       Mario Lanza     pop   \n",
       "3  A3DD03C9        Dragons in the Sunset        Fire + Ice    folk   \n",
       "4  E2DC1FAE                  Soul People        Space Echo   dance   \n",
       "5  842029A1                    Преданная         IMPERVTOR  rusrap   \n",
       "6  4CB90AA5                         True      Roman Messer   dance   \n",
       "7  F03E1C1F             Feeling This Way   Polina Griffith   dance   \n",
       "8  8FA1D3BE     И вновь продолжается бой               NaN  ruspop   \n",
       "9  E772D5C0                    Pessimist               NaN   dance   \n",
       "\n",
       "             City        time        Day  \n",
       "0  Saint-Petersburg  20:28:33  Wednesday  \n",
       "1            Moscow  14:07:09     Friday  \n",
       "2  Saint-Petersburg  20:58:07  Wednesday  \n",
       "3  Saint-Petersburg  08:37:09     Monday  \n",
       "4            Moscow  08:34:34     Monday  \n",
       "5  Saint-Petersburg  13:09:41     Friday  \n",
       "6            Moscow  13:00:07  Wednesday  \n",
       "7            Moscow  20:47:49  Wednesday  \n",
       "8            Moscow  09:17:40     Friday  \n",
       "9  Saint-Petersburg  21:20:49  Wednesday  "
      ]
     },
     "execution_count": 3,
     "metadata": {},
     "output_type": "execute_result"
    }
   ],
   "source": [
    "data.head(10)"
   ]
  },
  {
   "cell_type": "code",
   "execution_count": 4,
   "id": "95ca83a0",
   "metadata": {},
   "outputs": [
    {
     "data": {
      "text/html": [
       "<div>\n",
       "<style scoped>\n",
       "    .dataframe tbody tr th:only-of-type {\n",
       "        vertical-align: middle;\n",
       "    }\n",
       "\n",
       "    .dataframe tbody tr th {\n",
       "        vertical-align: top;\n",
       "    }\n",
       "\n",
       "    .dataframe thead th {\n",
       "        text-align: right;\n",
       "    }\n",
       "</style>\n",
       "<table border=\"1\" class=\"dataframe\">\n",
       "  <thead>\n",
       "    <tr style=\"text-align: right;\">\n",
       "      <th></th>\n",
       "      <th>userID</th>\n",
       "      <th>Track</th>\n",
       "      <th>artist</th>\n",
       "      <th>genre</th>\n",
       "      <th>City</th>\n",
       "      <th>time</th>\n",
       "      <th>Day</th>\n",
       "    </tr>\n",
       "  </thead>\n",
       "  <tbody>\n",
       "    <tr>\n",
       "      <th>65069</th>\n",
       "      <td>BE1AAD74</td>\n",
       "      <td>Waterwalk</td>\n",
       "      <td>Eduardo Gonzales</td>\n",
       "      <td>electronic</td>\n",
       "      <td>Moscow</td>\n",
       "      <td>20:38:59</td>\n",
       "      <td>Monday</td>\n",
       "    </tr>\n",
       "    <tr>\n",
       "      <th>65070</th>\n",
       "      <td>49F35D53</td>\n",
       "      <td>Ass Up</td>\n",
       "      <td>Rameez</td>\n",
       "      <td>dance</td>\n",
       "      <td>Moscow</td>\n",
       "      <td>14:08:58</td>\n",
       "      <td>Friday</td>\n",
       "    </tr>\n",
       "    <tr>\n",
       "      <th>65071</th>\n",
       "      <td>92378E24</td>\n",
       "      <td>Swing it Like You Mean it</td>\n",
       "      <td>OJOJOJ</td>\n",
       "      <td>techno</td>\n",
       "      <td>Moscow</td>\n",
       "      <td>21:12:56</td>\n",
       "      <td>Friday</td>\n",
       "    </tr>\n",
       "    <tr>\n",
       "      <th>65072</th>\n",
       "      <td>C532021D</td>\n",
       "      <td>We Can Not Be Silenced</td>\n",
       "      <td>Pänzer</td>\n",
       "      <td>extrememetal</td>\n",
       "      <td>Moscow</td>\n",
       "      <td>08:38:24</td>\n",
       "      <td>Friday</td>\n",
       "    </tr>\n",
       "    <tr>\n",
       "      <th>65073</th>\n",
       "      <td>83A474E7</td>\n",
       "      <td>I Worship Only What You Bleed</td>\n",
       "      <td>The Black Dahlia Murder</td>\n",
       "      <td>extrememetal</td>\n",
       "      <td>Moscow</td>\n",
       "      <td>21:07:12</td>\n",
       "      <td>Monday</td>\n",
       "    </tr>\n",
       "    <tr>\n",
       "      <th>65074</th>\n",
       "      <td>729CBB09</td>\n",
       "      <td>My Name</td>\n",
       "      <td>McLean</td>\n",
       "      <td>rnb</td>\n",
       "      <td>Moscow</td>\n",
       "      <td>13:32:28</td>\n",
       "      <td>Wednesday</td>\n",
       "    </tr>\n",
       "    <tr>\n",
       "      <th>65075</th>\n",
       "      <td>D08D4A55</td>\n",
       "      <td>Maybe One Day (feat. Black Spade)</td>\n",
       "      <td>Blu &amp; Exile</td>\n",
       "      <td>hip</td>\n",
       "      <td>Saint-Petersburg</td>\n",
       "      <td>10:00:00</td>\n",
       "      <td>Monday</td>\n",
       "    </tr>\n",
       "    <tr>\n",
       "      <th>65076</th>\n",
       "      <td>C5E3A0D5</td>\n",
       "      <td>Jalopiina</td>\n",
       "      <td>NaN</td>\n",
       "      <td>industrial</td>\n",
       "      <td>Moscow</td>\n",
       "      <td>20:09:26</td>\n",
       "      <td>Friday</td>\n",
       "    </tr>\n",
       "    <tr>\n",
       "      <th>65077</th>\n",
       "      <td>321D0506</td>\n",
       "      <td>Freight Train</td>\n",
       "      <td>Chas McDevitt</td>\n",
       "      <td>rock</td>\n",
       "      <td>Moscow</td>\n",
       "      <td>21:43:59</td>\n",
       "      <td>Friday</td>\n",
       "    </tr>\n",
       "    <tr>\n",
       "      <th>65078</th>\n",
       "      <td>3A64EF84</td>\n",
       "      <td>Tell Me Sweet Little Lies</td>\n",
       "      <td>Monica Lopez</td>\n",
       "      <td>country</td>\n",
       "      <td>Moscow</td>\n",
       "      <td>21:59:46</td>\n",
       "      <td>Friday</td>\n",
       "    </tr>\n",
       "  </tbody>\n",
       "</table>\n",
       "</div>"
      ],
      "text/plain": [
       "         userID                              Track                   artist  \\\n",
       "65069  BE1AAD74                          Waterwalk         Eduardo Gonzales   \n",
       "65070  49F35D53                             Ass Up                   Rameez   \n",
       "65071  92378E24          Swing it Like You Mean it                   OJOJOJ   \n",
       "65072  C532021D             We Can Not Be Silenced                   Pänzer   \n",
       "65073  83A474E7      I Worship Only What You Bleed  The Black Dahlia Murder   \n",
       "65074  729CBB09                            My Name                   McLean   \n",
       "65075  D08D4A55  Maybe One Day (feat. Black Spade)              Blu & Exile   \n",
       "65076  C5E3A0D5                          Jalopiina                      NaN   \n",
       "65077  321D0506                      Freight Train            Chas McDevitt   \n",
       "65078  3A64EF84          Tell Me Sweet Little Lies             Monica Lopez   \n",
       "\n",
       "              genre            City        time        Day  \n",
       "65069    electronic            Moscow  20:38:59     Monday  \n",
       "65070         dance            Moscow  14:08:58     Friday  \n",
       "65071        techno            Moscow  21:12:56     Friday  \n",
       "65072  extrememetal            Moscow  08:38:24     Friday  \n",
       "65073  extrememetal            Moscow  21:07:12     Monday  \n",
       "65074           rnb            Moscow  13:32:28  Wednesday  \n",
       "65075           hip  Saint-Petersburg  10:00:00     Monday  \n",
       "65076    industrial            Moscow  20:09:26     Friday  \n",
       "65077          rock            Moscow  21:43:59     Friday  \n",
       "65078       country            Moscow  21:59:46     Friday  "
      ]
     },
     "execution_count": 4,
     "metadata": {},
     "output_type": "execute_result"
    }
   ],
   "source": [
    "data.tail(10)"
   ]
  },
  {
   "cell_type": "markdown",
   "id": "ea792f75",
   "metadata": {},
   "source": [
    "### Общая характеристика набора данных"
   ]
  },
  {
   "cell_type": "markdown",
   "id": "6bda70b1",
   "metadata": {},
   "source": [
    "Размер набора данных:"
   ]
  },
  {
   "cell_type": "code",
   "execution_count": 5,
   "id": "86b137f3",
   "metadata": {},
   "outputs": [
    {
     "data": {
      "text/plain": [
       "(65079, 7)"
      ]
     },
     "execution_count": 5,
     "metadata": {},
     "output_type": "execute_result"
    }
   ],
   "source": [
    "data.shape"
   ]
  },
  {
   "cell_type": "markdown",
   "id": "feedf348",
   "metadata": {},
   "source": [
    "Уникальные наименования признаков:"
   ]
  },
  {
   "cell_type": "code",
   "execution_count": 6,
   "id": "6e8db67b",
   "metadata": {},
   "outputs": [
    {
     "data": {
      "text/plain": [
       "['  City  ', '  userID', 'Day', 'Track', 'artist', 'genre', 'time']"
      ]
     },
     "execution_count": 6,
     "metadata": {},
     "output_type": "execute_result"
    }
   ],
   "source": [
    "data.columns.sort_values().tolist()"
   ]
  },
  {
   "cell_type": "markdown",
   "id": "613e3443",
   "metadata": {},
   "source": [
    "Количество элементов данных:"
   ]
  },
  {
   "cell_type": "code",
   "execution_count": 7,
   "id": "02429b4a",
   "metadata": {},
   "outputs": [
    {
     "data": {
      "text/plain": [
       "455553"
      ]
     },
     "execution_count": 7,
     "metadata": {},
     "output_type": "execute_result"
    }
   ],
   "source": [
    "data.size"
   ]
  },
  {
   "cell_type": "markdown",
   "id": "5c962082",
   "metadata": {},
   "source": [
    "Типы данных набора данных:"
   ]
  },
  {
   "cell_type": "code",
   "execution_count": 8,
   "id": "78cc77b3",
   "metadata": {},
   "outputs": [
    {
     "data": {
      "text/plain": [
       "object    7\n",
       "Name: count, dtype: int64"
      ]
     },
     "execution_count": 8,
     "metadata": {},
     "output_type": "execute_result"
    }
   ],
   "source": [
    "data.dtypes.value_counts()"
   ]
  },
  {
   "cell_type": "markdown",
   "id": "24770e22",
   "metadata": {},
   "source": [
    "Пропущенные значения в данных:"
   ]
  },
  {
   "cell_type": "code",
   "execution_count": 9,
   "id": "be571872",
   "metadata": {},
   "outputs": [
    {
     "data": {
      "text/plain": [
       "  userID       0\n",
       "Track       1231\n",
       "artist      7203\n",
       "genre       1198\n",
       "  City         0\n",
       "time           0\n",
       "Day            0\n",
       "dtype: int64"
      ]
     },
     "execution_count": 9,
     "metadata": {},
     "output_type": "execute_result"
    }
   ],
   "source": [
    "data.isna().sum()"
   ]
  },
  {
   "cell_type": "markdown",
   "id": "ca0516a4",
   "metadata": {},
   "source": [
    "Всего пропущенных элементов данных:"
   ]
  },
  {
   "cell_type": "code",
   "execution_count": 10,
   "id": "4adbcfd1",
   "metadata": {},
   "outputs": [
    {
     "data": {
      "text/plain": [
       "9632"
      ]
     },
     "execution_count": 10,
     "metadata": {},
     "output_type": "execute_result"
    }
   ],
   "source": [
    "data.isna().sum().sum()"
   ]
  },
  {
   "cell_type": "markdown",
   "id": "84430bdd",
   "metadata": {},
   "source": [
    "Распределение пропущенных значений в наборе данных:"
   ]
  },
  {
   "cell_type": "code",
   "execution_count": 11,
   "id": "4de2f8e3",
   "metadata": {},
   "outputs": [
    {
     "data": {
      "image/png": "[encoded data removed]",
      "text/plain": [
       "<Figure size 640x480 with 2 Axes>"
      ]
     },
     "metadata": {},
     "output_type": "display_data"
    }
   ],
   "source": [
    "sns.heatmap(data.sort_values(by=['artist', 'Track', 'genre']).isna(),\n",
    "            cmap=sns.color_palette(['#000000', '#ffffff']))\n",
    "plt.title('Тепловая карта\\nраспределения пропущенных значений')\n",
    "plt.xlabel('Название признака')\n",
    "plt.ylabel('Номер записи')\n",
    "plt.show()"
   ]
  },
  {
   "cell_type": "markdown",
   "id": "1d245420",
   "metadata": {},
   "source": [
    "**Промежуточный вывод**\n",
    "\n",
    "* Набор данных содержит 7 уникальных признаков и 65 079 записей.\n",
    "* Всего: 455 553 элементов данных.\n",
    "* Набор данных содержит данные следующего типа:\n",
    "    - вещественный — 7 признаков.\n",
    "* Все признаки содержат значения (не являются пустыми).\n",
    "* 4 признака не содержат пропущенные значения.\n",
    "* 3 признака содержат пропущенные значения:\n",
    "    * практически все пропуски в признаке `genre` сопровождаются пропусками в признаках `Track` и `artist` за исключением нескольких записей, в которых пропущенные значения наблюдаются только в признаке `genre`;\n",
    "    * все пропуски в признаке `Track` сопровождаются пропусками в признаках `artist`;\n",
    "    * всего в данных 9632 пропущенных значений &mdash; около 2,1 % от всех элементов данных.\n",
    "* Необходимо привести названия признаков к \"змеиному_регистру\"."
   ]
  },
  {
   "cell_type": "markdown",
   "id": "0a9f8458",
   "metadata": {},
   "source": [
    "### Преобразование наименований признаков"
   ]
  },
  {
   "cell_type": "markdown",
   "id": "bb7cc8eb",
   "metadata": {},
   "source": [
    "Приведение названий столбцов к \"змеиному_регистру\"."
   ]
  },
  {
   "cell_type": "code",
   "execution_count": 12,
   "id": "bba55d30",
   "metadata": {},
   "outputs": [
    {
     "data": {
      "text/plain": [
       "['user_id', 'track', 'artist', 'genre', 'city', 'time', 'day']"
      ]
     },
     "execution_count": 12,
     "metadata": {},
     "output_type": "execute_result"
    }
   ],
   "source": [
    "data = data.rename(\n",
    "    columns=lambda column: \n",
    "    ' '.join(column.split()).lower())\n",
    "data.rename(columns={'userid': 'user_id'}, inplace=True)\n",
    "data.columns.tolist()"
   ]
  },
  {
   "cell_type": "markdown",
   "id": "111704e4",
   "metadata": {},
   "source": [
    "## Понимание данных"
   ]
  },
  {
   "cell_type": "markdown",
   "id": "6575a97b",
   "metadata": {},
   "source": [
    "Все данные можно разделить на две категории:\n",
    "- данные, описывающие трек: название, имя исполнителя и жанр;\n",
    "- данные о пользователе: из какого он города, когда он слушал музыку.\n",
    "\n",
    "***Сведения о музыкальных композициях***\n",
    "\n",
    "> **Название трека** &mdash; это название песни или композиции, под которым она представлена в каталоге сервиса Яндекс Музыка.\n",
    "\n",
    "Название трека обычно указывается артистом или лейблом, выпустившим песню, и помогает идентифицировать композицию и отличать её от других композиций.\n",
    "\n",
    "`track` &mdash; название трека\n",
    "<br>Признак является категориальным, номинальным.\n",
    "<br>Шкала измерения признака: номинальная шкала.\n",
    "\n",
    "> **Имя исполнителя** трека &mdash; это информация о музыканте или группе, которые представлены в сервисе и исполняют музыкальные композиции.\n",
    "\n",
    "Информация об имени исполнителя в сервисе Яндекс Музыка обычно отображается вместе с названием трека и является ещё одной частью уникальной идентификации музыкальной композиции. Имя исполнителя также используют для поиска и прослушивания треков, а также для создания индивидуальных плейлистов и создания персонализированных рекомендаций, основанных на предпочтениях пользователя.\n",
    "\n",
    "`artist` &mdash; имя исполнителя\n",
    "<br>Признак является категориальным, номинальным.\n",
    "<br>Шкала измерения признака: номинальная шкала.\n",
    "\n",
    "> **Название жанра** трека &mdash; это информация о стиле или направлении, к которому относится данный трек.\n",
    "\n",
    "В сервисе Яндекс Музыка представлены треки широкого спектра жанров: от популярных направлений (поп, рок, хип-хоп, электронная музыка) до более специфических. Название жанра обычно отображается вместе с названием трека и именем исполнителя и помогает пользователям находить музыку, соответствующую их вкусам и предпочтениям.\n",
    "\n",
    "`genre` &mdash; название жанра\n",
    "<br>Признак является категориальным, номинальным.\n",
    "<br>Шкала измерения признака: номинальная шкала.\n",
    "\n",
    "***Сведения о пользователях***\n",
    "\n",
    "> **Уникальный идентификатор пользователя** &mdash; это уникальный код или номер, который присваивается каждому пользователю при регистрации на сервисе Яндекс Музыка.\n",
    "\n",
    "Идентификатор позволяет системе отличать одного пользователя от другого и предоставлять ему персонализированный контент и функциональные возможности. Как правило, уникальный идентификатор представлен в виде цифр или буквенно-цифровой комбинации.\n",
    "\n",
    "`user_id` &mdash; идентификатор пользователя\n",
    "<br>Признак является категориальным, номинальным.\n",
    "<br>Шкала измерения признака: номинальная шкала.\n",
    "\n",
    "> **Город местонахождения пользователя** &mdash; это географическое местоположение  устройства, с которого пользователь использует сервис в текущий момент времени.\n",
    "\n",
    "Сервис может использовать эту информацию для предоставления персонализированных музыкальных рекомендаций с учётом предпочтений других пользователей, находящихся в том же городе.\n",
    "\n",
    "`city` &mdash; город местонахождения пользователя\n",
    "<br>Признак является категориальным, бинарным.\n",
    "<br>Шкала измерения признака: дихотомическая шкала.\n",
    "\n",
    "*Хронометрические данные*\n",
    "\n",
    "> **День недели** и **время начала прослушивания** трека &mdash; это момент времени (в течение определённого дня недели), в который пользователь запускает воспроизведение данного трека.\n",
    "\n",
    "Информацию можно использовать в анализе популярности и предпочтений слушателей в зависимости от дня недели и времени в течение одного дня, и можно использовать для составления плейлистов или рекомендаций.\n",
    "\n",
    "`day` &mdash; день недели прослушивания трека\n",
    "<br>Признак является категориальным, ординальным.\n",
    "<br>Шкала измерения признака: порядковая шкала.\n",
    "\n",
    "`time` &mdash; время начала прослушивания трека\n",
    "<br>Признак является количественным, непрерывным.\n",
    "<br>Шкала измерения признака: интервальная шкала."
   ]
  },
  {
   "cell_type": "markdown",
   "id": "79bd9b20",
   "metadata": {},
   "source": [
    "## Предобработка данных"
   ]
  },
  {
   "cell_type": "markdown",
   "id": "c81873f6",
   "metadata": {},
   "source": [
    "### Обработка пропусков"
   ]
  },
  {
   "cell_type": "code",
   "execution_count": 13,
   "id": "11c94678",
   "metadata": {},
   "outputs": [
    {
     "data": {
      "text/html": [
       "<div>\n",
       "<style scoped>\n",
       "    .dataframe tbody tr th:only-of-type {\n",
       "        vertical-align: middle;\n",
       "    }\n",
       "\n",
       "    .dataframe tbody tr th {\n",
       "        vertical-align: top;\n",
       "    }\n",
       "\n",
       "    .dataframe thead th {\n",
       "        text-align: right;\n",
       "    }\n",
       "</style>\n",
       "<table border=\"1\" class=\"dataframe\">\n",
       "  <thead>\n",
       "    <tr style=\"text-align: right;\">\n",
       "      <th></th>\n",
       "      <th>Всего пропусков</th>\n",
       "      <th>%</th>\n",
       "    </tr>\n",
       "  </thead>\n",
       "  <tbody>\n",
       "    <tr>\n",
       "      <th>artist</th>\n",
       "      <td>7203</td>\n",
       "      <td>11.1</td>\n",
       "    </tr>\n",
       "    <tr>\n",
       "      <th>track</th>\n",
       "      <td>1231</td>\n",
       "      <td>1.9</td>\n",
       "    </tr>\n",
       "    <tr>\n",
       "      <th>genre</th>\n",
       "      <td>1198</td>\n",
       "      <td>1.8</td>\n",
       "    </tr>\n",
       "    <tr>\n",
       "      <th>user_id</th>\n",
       "      <td>0</td>\n",
       "      <td>0.0</td>\n",
       "    </tr>\n",
       "    <tr>\n",
       "      <th>city</th>\n",
       "      <td>0</td>\n",
       "      <td>0.0</td>\n",
       "    </tr>\n",
       "    <tr>\n",
       "      <th>time</th>\n",
       "      <td>0</td>\n",
       "      <td>0.0</td>\n",
       "    </tr>\n",
       "    <tr>\n",
       "      <th>day</th>\n",
       "      <td>0</td>\n",
       "      <td>0.0</td>\n",
       "    </tr>\n",
       "  </tbody>\n",
       "</table>\n",
       "</div>"
      ],
      "text/plain": [
       "         Всего пропусков     %\n",
       "artist              7203  11.1\n",
       "track               1231   1.9\n",
       "genre               1198   1.8\n",
       "user_id                0   0.0\n",
       "city                   0   0.0\n",
       "time                   0   0.0\n",
       "day                    0   0.0"
      ]
     },
     "execution_count": 13,
     "metadata": {},
     "output_type": "execute_result"
    }
   ],
   "source": [
    "total = data.isna().sum().sort_values(ascending=False)\n",
    "percent = (data.isna().sum() /\n",
    "           data.isna().count() * 100).round(1).sort_values(ascending=False)\n",
    "pd.concat([total, percent], axis=1, keys=['Всего пропусков', '%'])"
   ]
  },
  {
   "cell_type": "markdown",
   "id": "06c230f5",
   "metadata": {},
   "source": [
    "Поскольку название трека и имя исполнителя являются идентификационными данными музыкальной композиции, по другим признакам не представляется возможным заполнить эти значения. Жанр композиции не всегда удаётся указать, отталкиваясь от того, в каких жанрах у исполнителя написаны другие песни, поскольку один исполнитель может исполнять песни, написанные в разных жанрах. Тем более, это сложно сделать, если в наборе данных отсутствуют сведения о других песнях этого же исполнителя.\n",
    "\n",
    "Поскольку других возможностей восстановить пропущенные значения нет, заполним их значением 'unknown'."
   ]
  },
  {
   "cell_type": "code",
   "execution_count": 14,
   "id": "85647fb9",
   "metadata": {},
   "outputs": [
    {
     "data": {
      "text/plain": [
       "0"
      ]
     },
     "execution_count": 14,
     "metadata": {},
     "output_type": "execute_result"
    }
   ],
   "source": [
    "data[['track', 'artist', 'genre']] = \\\n",
    "data[['track', 'artist', 'genre']].fillna('unknown')\n",
    "\n",
    "data.isna().sum().sum()"
   ]
  },
  {
   "cell_type": "markdown",
   "id": "2da38ccc",
   "metadata": {},
   "source": [
    "### Обработка текстовых значений"
   ]
  },
  {
   "cell_type": "code",
   "execution_count": 15,
   "id": "8c50fb86",
   "metadata": {
    "scrolled": false
   },
   "outputs": [
    {
     "data": {
      "text/plain": [
       "array(['acid', 'acoustic', 'action', 'adult', 'africa', 'afrikaans',\n",
       "       'alternative', 'alternativepunk', 'ambient', 'americana',\n",
       "       'animated', 'anime', 'arabesk', 'arabic', 'arena',\n",
       "       'argentinetango', 'art', 'audiobook', 'author', 'avantgarde',\n",
       "       'axé', 'baile', 'balkan', 'beats', 'bigroom', 'black', 'bluegrass',\n",
       "       'blues', 'bollywood', 'bossa', 'brazilian', 'breakbeat', 'breaks',\n",
       "       'broadway', 'cantautori', 'cantopop', 'canzone', 'caribbean',\n",
       "       'caucasian', 'celtic', 'chamber', 'chanson', 'children', 'chill',\n",
       "       'chinese', 'choral', 'christian', 'christmas', 'classical',\n",
       "       'classicmetal', 'club', 'colombian', 'comedy', 'conjazz',\n",
       "       'contemporary', 'country', 'cuban', 'dance', 'dancehall',\n",
       "       'dancepop', 'dark', 'death', 'deep', 'deutschrock', 'deutschspr',\n",
       "       'dirty', 'disco', 'dnb', 'documentary', 'downbeat', 'downtempo',\n",
       "       'drum', 'dub', 'dubstep', 'eastern', 'easy', 'electronic',\n",
       "       'electropop', 'emo', 'entehno', 'epicmetal', 'estrada', 'ethnic',\n",
       "       'eurofolk', 'european', 'experimental', 'extrememetal', 'fado',\n",
       "       'fairytail', 'film', 'fitness', 'flamenco', 'folk', 'folklore',\n",
       "       'folkmetal', 'folkrock', 'folktronica', 'forró', 'frankreich',\n",
       "       'französisch', 'french', 'funk', 'future', 'gangsta', 'garage',\n",
       "       'german', 'ghazal', 'gitarre', 'glitch', 'gospel', 'gothic',\n",
       "       'grime', 'grunge', 'gypsy', 'handsup', \"hard'n'heavy\", 'hardcore',\n",
       "       'hardstyle', 'hardtechno', 'hip', 'hip-hop', 'hiphop',\n",
       "       'historisch', 'holiday', 'hop', 'horror', 'house', 'hymn', 'idm',\n",
       "       'independent', 'indian', 'indie', 'indipop', 'industrial',\n",
       "       'inspirational', 'instrumental', 'international', 'irish', 'jam',\n",
       "       'japanese', 'jazz', 'jewish', 'jpop', 'jungle', 'k-pop',\n",
       "       'karadeniz', 'karaoke', 'kayokyoku', 'korean', 'laiko', 'latin',\n",
       "       'latino', 'leftfield', 'local', 'lounge', 'loungeelectronic',\n",
       "       'lovers', 'malaysian', 'mandopop', 'marschmusik', 'meditative',\n",
       "       'mediterranean', 'melodic', 'metal', 'metalcore', 'mexican',\n",
       "       'middle', 'minimal', 'miscellaneous', 'modern', 'mood', 'mpb',\n",
       "       'muslim', 'native', 'neoklassik', 'neue', 'new', 'newage',\n",
       "       'newwave', 'nu', 'nujazz', 'numetal', 'oceania', 'old', 'opera',\n",
       "       'orchestral', 'other', 'piano', 'podcasts', 'pop', 'popdance',\n",
       "       'popelectronic', 'popeurodance', 'poprussian', 'post',\n",
       "       'posthardcore', 'postrock', 'power', 'progmetal', 'progressive',\n",
       "       'psychedelic', 'punjabi', 'punk', 'quebecois', 'ragga', 'ram',\n",
       "       'rancheras', 'rap', 'rave', 'reggae', 'reggaeton', 'regional',\n",
       "       'relax', 'religious', 'retro', 'rhythm', 'rnb', 'rnr', 'rock',\n",
       "       'rockabilly', 'rockalternative', 'rockindie', 'rockother',\n",
       "       'romance', 'roots', 'ruspop', 'rusrap', 'rusrock', 'russian',\n",
       "       'salsa', 'samba', 'scenic', 'schlager', 'self', 'sertanejo',\n",
       "       'shanson', 'shoegazing', 'showtunes', 'singer', 'ska', 'skarock',\n",
       "       'slow', 'smooth', 'soft', 'soul', 'soulful', 'sound', 'soundtrack',\n",
       "       'southern', 'specialty', 'speech', 'spiritual', 'sport',\n",
       "       'stonerrock', 'surf', 'swing', 'synthpop', 'synthrock',\n",
       "       'sängerportrait', 'tango', 'tanzorchester', 'taraftar', 'tatar',\n",
       "       'tech', 'techno', 'teen', 'thrash', 'top', 'traditional',\n",
       "       'tradjazz', 'trance', 'tribal', 'trip', 'triphop', 'tropical',\n",
       "       'türk', 'türkçe', 'ukrrock', 'unknown', 'urban', 'uzbek',\n",
       "       'variété', 'vi', 'videogame', 'vocal', 'western', 'world',\n",
       "       'worldbeat', 'ïîï', 'электроника'], dtype=object)"
      ]
     },
     "execution_count": 15,
     "metadata": {},
     "output_type": "execute_result"
    }
   ],
   "source": [
    "data['genre'].sort_values().unique()"
   ]
  },
  {
   "cell_type": "code",
   "execution_count": 16,
   "id": "f137fb08",
   "metadata": {},
   "outputs": [
    {
     "data": {
      "text/plain": [
       "290"
      ]
     },
     "execution_count": 16,
     "metadata": {},
     "output_type": "execute_result"
    }
   ],
   "source": [
    "len(data['genre'].unique())"
   ]
  },
  {
   "cell_type": "markdown",
   "id": "83e2bfd8",
   "metadata": {},
   "source": [
    "Среди значений жанра встречаются неявные дубликаты: названия одного жанра на разных языках или части названия одного жанра. Устраним неявные дубликаты, приведём наименования дублирующихся жанров к одному наименованию."
   ]
  },
  {
   "cell_type": "code",
   "execution_count": 17,
   "id": "97d57bc4",
   "metadata": {},
   "outputs": [
    {
     "data": {
      "text/plain": [
       "283"
      ]
     },
     "execution_count": 17,
     "metadata": {},
     "output_type": "execute_result"
    }
   ],
   "source": [
    "data['genre'] = data['genre'].replace(['hip', 'hop', 'hip-hop'], 'hiphop')\n",
    "data['genre'] = data['genre'].replace('neue', 'new')\n",
    "data['genre'] = data['genre'].replace('shanson', 'chanson')\n",
    "data['genre'] = data['genre'].replace('türkçe', 'türk')\n",
    "data['genre'] = data['genre'].replace('электроника', 'electronic')\n",
    "\n",
    "len(data['genre'].unique())"
   ]
  },
  {
   "cell_type": "markdown",
   "id": "98d031fd",
   "metadata": {},
   "source": [
    "### Обработка дубликатов"
   ]
  },
  {
   "cell_type": "code",
   "execution_count": 18,
   "id": "cee0a778",
   "metadata": {},
   "outputs": [
    {
     "data": {
      "text/html": [
       "<div>\n",
       "<style scoped>\n",
       "    .dataframe tbody tr th:only-of-type {\n",
       "        vertical-align: middle;\n",
       "    }\n",
       "\n",
       "    .dataframe tbody tr th {\n",
       "        vertical-align: top;\n",
       "    }\n",
       "\n",
       "    .dataframe thead th {\n",
       "        text-align: right;\n",
       "    }\n",
       "</style>\n",
       "<table border=\"1\" class=\"dataframe\">\n",
       "  <thead>\n",
       "    <tr style=\"text-align: right;\">\n",
       "      <th></th>\n",
       "      <th>user_id</th>\n",
       "      <th>track</th>\n",
       "      <th>artist</th>\n",
       "      <th>genre</th>\n",
       "      <th>city</th>\n",
       "      <th>time</th>\n",
       "      <th>day</th>\n",
       "    </tr>\n",
       "  </thead>\n",
       "  <tbody>\n",
       "    <tr>\n",
       "      <th>15410</th>\n",
       "      <td>1001CE90</td>\n",
       "      <td>Invasion</td>\n",
       "      <td>Nick Arundel</td>\n",
       "      <td>videogame</td>\n",
       "      <td>Moscow</td>\n",
       "      <td>09:35:01</td>\n",
       "      <td>Monday</td>\n",
       "    </tr>\n",
       "    <tr>\n",
       "      <th>39981</th>\n",
       "      <td>1001CE90</td>\n",
       "      <td>Invasion</td>\n",
       "      <td>Nick Arundel</td>\n",
       "      <td>videogame</td>\n",
       "      <td>Moscow</td>\n",
       "      <td>09:35:01</td>\n",
       "      <td>Monday</td>\n",
       "    </tr>\n",
       "    <tr>\n",
       "      <th>4542</th>\n",
       "      <td>100261F9</td>\n",
       "      <td>Jump</td>\n",
       "      <td>Kris Kross</td>\n",
       "      <td>hiphop</td>\n",
       "      <td>Moscow</td>\n",
       "      <td>14:42:21</td>\n",
       "      <td>Friday</td>\n",
       "    </tr>\n",
       "    <tr>\n",
       "      <th>64923</th>\n",
       "      <td>100261F9</td>\n",
       "      <td>Jump</td>\n",
       "      <td>Kris Kross</td>\n",
       "      <td>hiphop</td>\n",
       "      <td>Moscow</td>\n",
       "      <td>14:42:21</td>\n",
       "      <td>Friday</td>\n",
       "    </tr>\n",
       "    <tr>\n",
       "      <th>3845</th>\n",
       "      <td>10189D10</td>\n",
       "      <td>Alia Aventuro</td>\n",
       "      <td>La Perdita Generacio</td>\n",
       "      <td>pop</td>\n",
       "      <td>Saint-Petersburg</td>\n",
       "      <td>09:07:49</td>\n",
       "      <td>Wednesday</td>\n",
       "    </tr>\n",
       "    <tr>\n",
       "      <th>18944</th>\n",
       "      <td>10189D10</td>\n",
       "      <td>Alia Aventuro</td>\n",
       "      <td>La Perdita Generacio</td>\n",
       "      <td>pop</td>\n",
       "      <td>Saint-Petersburg</td>\n",
       "      <td>09:07:49</td>\n",
       "      <td>Wednesday</td>\n",
       "    </tr>\n",
       "    <tr>\n",
       "      <th>7051</th>\n",
       "      <td>10189D10</td>\n",
       "      <td>Jolene</td>\n",
       "      <td>Hey Ocean!</td>\n",
       "      <td>alternative</td>\n",
       "      <td>Saint-Petersburg</td>\n",
       "      <td>09:42:17</td>\n",
       "      <td>Wednesday</td>\n",
       "    </tr>\n",
       "    <tr>\n",
       "      <th>56707</th>\n",
       "      <td>10189D10</td>\n",
       "      <td>Jolene</td>\n",
       "      <td>Hey Ocean!</td>\n",
       "      <td>alternative</td>\n",
       "      <td>Saint-Petersburg</td>\n",
       "      <td>09:42:17</td>\n",
       "      <td>Wednesday</td>\n",
       "    </tr>\n",
       "    <tr>\n",
       "      <th>517</th>\n",
       "      <td>10189D10</td>\n",
       "      <td>Kontra krusadanto</td>\n",
       "      <td>Dochamar</td>\n",
       "      <td>pop</td>\n",
       "      <td>Saint-Petersburg</td>\n",
       "      <td>14:34:24</td>\n",
       "      <td>Monday</td>\n",
       "    </tr>\n",
       "    <tr>\n",
       "      <th>39972</th>\n",
       "      <td>10189D10</td>\n",
       "      <td>Kontra krusadanto</td>\n",
       "      <td>Dochamar</td>\n",
       "      <td>pop</td>\n",
       "      <td>Saint-Petersburg</td>\n",
       "      <td>14:34:24</td>\n",
       "      <td>Monday</td>\n",
       "    </tr>\n",
       "  </tbody>\n",
       "</table>\n",
       "</div>"
      ],
      "text/plain": [
       "        user_id              track                artist        genre  \\\n",
       "15410  1001CE90           Invasion          Nick Arundel    videogame   \n",
       "39981  1001CE90           Invasion          Nick Arundel    videogame   \n",
       "4542   100261F9               Jump            Kris Kross       hiphop   \n",
       "64923  100261F9               Jump            Kris Kross       hiphop   \n",
       "3845   10189D10      Alia Aventuro  La Perdita Generacio          pop   \n",
       "18944  10189D10      Alia Aventuro  La Perdita Generacio          pop   \n",
       "7051   10189D10             Jolene            Hey Ocean!  alternative   \n",
       "56707  10189D10             Jolene            Hey Ocean!  alternative   \n",
       "517    10189D10  Kontra krusadanto              Dochamar          pop   \n",
       "39972  10189D10  Kontra krusadanto              Dochamar          pop   \n",
       "\n",
       "                   city      time        day  \n",
       "15410            Moscow  09:35:01     Monday  \n",
       "39981            Moscow  09:35:01     Monday  \n",
       "4542             Moscow  14:42:21     Friday  \n",
       "64923            Moscow  14:42:21     Friday  \n",
       "3845   Saint-Petersburg  09:07:49  Wednesday  \n",
       "18944  Saint-Petersburg  09:07:49  Wednesday  \n",
       "7051   Saint-Petersburg  09:42:17  Wednesday  \n",
       "56707  Saint-Petersburg  09:42:17  Wednesday  \n",
       "517    Saint-Petersburg  14:34:24     Monday  \n",
       "39972  Saint-Petersburg  14:34:24     Monday  "
      ]
     },
     "execution_count": 18,
     "metadata": {},
     "output_type": "execute_result"
    }
   ],
   "source": [
    "data[data.duplicated(keep=False)].sort_values(by=['user_id', 'track']).head(10)"
   ]
  },
  {
   "cell_type": "code",
   "execution_count": 19,
   "id": "60507512",
   "metadata": {},
   "outputs": [
    {
     "data": {
      "text/plain": [
       "3826"
      ]
     },
     "execution_count": 19,
     "metadata": {},
     "output_type": "execute_result"
    }
   ],
   "source": [
    "data.duplicated().sum()"
   ]
  },
  {
   "cell_type": "markdown",
   "id": "2ca46e68",
   "metadata": {},
   "source": [
    "В наборе данных 3826 полных дубликатов. Удалим их."
   ]
  },
  {
   "cell_type": "code",
   "execution_count": 20,
   "id": "15e96a77",
   "metadata": {},
   "outputs": [
    {
     "data": {
      "text/plain": [
       "0"
      ]
     },
     "execution_count": 20,
     "metadata": {},
     "output_type": "execute_result"
    }
   ],
   "source": [
    "data.drop_duplicates(inplace=True)\n",
    "data.duplicated().sum()"
   ]
  },
  {
   "cell_type": "code",
   "execution_count": 21,
   "id": "f1df01ad",
   "metadata": {},
   "outputs": [
    {
     "data": {
      "text/plain": [
       "(61253, 7)"
      ]
     },
     "execution_count": 21,
     "metadata": {},
     "output_type": "execute_result"
    }
   ],
   "source": [
    "data.shape"
   ]
  },
  {
   "cell_type": "markdown",
   "id": "984987d4",
   "metadata": {},
   "source": [
    "**Промежуточный вывод**\n",
    "\n",
    "- Выполнена предварительная обработка данных.\n",
    "- В результате предварительной обработки данных:\n",
    "    - устранены ошибки в значениях признаков: синонимы в значениях признаков приведены к одному значению,\n",
    "    - заполнены пропуски значением-заглушкой,\n",
    "    - обнаружены и удалены полные дубликаты,\n",
    "    - сохранено 94 % записей исходного набора данных."
   ]
  },
  {
   "cell_type": "markdown",
   "id": "e4fa43a8",
   "metadata": {},
   "source": [
    "## Исследовательский анализ"
   ]
  },
  {
   "cell_type": "markdown",
   "id": "1f760bef",
   "metadata": {},
   "source": [
    "### Описательный анализ"
   ]
  },
  {
   "cell_type": "markdown",
   "id": "b45674ed",
   "metadata": {},
   "source": [
    "#### Идентификатор пользователя"
   ]
  },
  {
   "cell_type": "code",
   "execution_count": 22,
   "id": "e0807798",
   "metadata": {},
   "outputs": [
    {
     "data": {
      "text/plain": [
       "41748"
      ]
     },
     "execution_count": 22,
     "metadata": {},
     "output_type": "execute_result"
    }
   ],
   "source": [
    "len(data['user_id'].unique())"
   ]
  },
  {
   "cell_type": "code",
   "execution_count": 23,
   "id": "baedc462",
   "metadata": {},
   "outputs": [
    {
     "data": {
      "text/html": [
       "<div>\n",
       "<style scoped>\n",
       "    .dataframe tbody tr th:only-of-type {\n",
       "        vertical-align: middle;\n",
       "    }\n",
       "\n",
       "    .dataframe tbody tr th {\n",
       "        vertical-align: top;\n",
       "    }\n",
       "\n",
       "    .dataframe thead th {\n",
       "        text-align: right;\n",
       "    }\n",
       "</style>\n",
       "<table border=\"1\" class=\"dataframe\">\n",
       "  <thead>\n",
       "    <tr style=\"text-align: right;\">\n",
       "      <th></th>\n",
       "      <th>ID пользователя</th>\n",
       "      <th>Количество треков</th>\n",
       "    </tr>\n",
       "  </thead>\n",
       "  <tbody>\n",
       "    <tr>\n",
       "      <th>0</th>\n",
       "      <td>A8AE9169</td>\n",
       "      <td>71</td>\n",
       "    </tr>\n",
       "    <tr>\n",
       "      <th>1</th>\n",
       "      <td>7D166C63</td>\n",
       "      <td>51</td>\n",
       "    </tr>\n",
       "    <tr>\n",
       "      <th>2</th>\n",
       "      <td>414F229D</td>\n",
       "      <td>50</td>\n",
       "    </tr>\n",
       "    <tr>\n",
       "      <th>3</th>\n",
       "      <td>E8339398</td>\n",
       "      <td>43</td>\n",
       "    </tr>\n",
       "    <tr>\n",
       "      <th>4</th>\n",
       "      <td>EED05948</td>\n",
       "      <td>36</td>\n",
       "    </tr>\n",
       "    <tr>\n",
       "      <th>5</th>\n",
       "      <td>D6A03F1E</td>\n",
       "      <td>36</td>\n",
       "    </tr>\n",
       "    <tr>\n",
       "      <th>6</th>\n",
       "      <td>B5496034</td>\n",
       "      <td>34</td>\n",
       "    </tr>\n",
       "    <tr>\n",
       "      <th>7</th>\n",
       "      <td>B851E1A5</td>\n",
       "      <td>33</td>\n",
       "    </tr>\n",
       "    <tr>\n",
       "      <th>8</th>\n",
       "      <td>3E4BFAA7</td>\n",
       "      <td>31</td>\n",
       "    </tr>\n",
       "    <tr>\n",
       "      <th>9</th>\n",
       "      <td>39EDC574</td>\n",
       "      <td>30</td>\n",
       "    </tr>\n",
       "  </tbody>\n",
       "</table>\n",
       "</div>"
      ],
      "text/plain": [
       "  ID пользователя  Количество треков\n",
       "0        A8AE9169                 71\n",
       "1        7D166C63                 51\n",
       "2        414F229D                 50\n",
       "3        E8339398                 43\n",
       "4        EED05948                 36\n",
       "5        D6A03F1E                 36\n",
       "6        B5496034                 34\n",
       "7        B851E1A5                 33\n",
       "8        3E4BFAA7                 31\n",
       "9        39EDC574                 30"
      ]
     },
     "execution_count": 23,
     "metadata": {},
     "output_type": "execute_result"
    }
   ],
   "source": [
    "pd.DataFrame(data['user_id'].value_counts().head(10)) \\\n",
    "    .reset_index().rename(\n",
    "    columns={'user_id': 'ID пользователя', \n",
    "             'count': 'Количество треков'})"
   ]
  },
  {
   "cell_type": "markdown",
   "id": "56ff2349",
   "metadata": {},
   "source": [
    "- В 61 253 записях содержится информация о 41 748 уникальных пользователях.\n",
    "- 10 человек прослушали треки 30 и более раз.\n",
    "- Максимальное количество треков &mdash; 71 &mdash; прослушал один пользователь."
   ]
  },
  {
   "cell_type": "markdown",
   "id": "b9068a8c",
   "metadata": {},
   "source": [
    "#### Город местонахождения пользователя"
   ]
  },
  {
   "cell_type": "code",
   "execution_count": 24,
   "id": "59dfd655",
   "metadata": {},
   "outputs": [
    {
     "data": {
      "text/plain": [
       "array(['Saint-Petersburg', 'Moscow'], dtype=object)"
      ]
     },
     "execution_count": 24,
     "metadata": {},
     "output_type": "execute_result"
    }
   ],
   "source": [
    "data['city'].unique()"
   ]
  },
  {
   "cell_type": "code",
   "execution_count": 25,
   "id": "424d4673",
   "metadata": {},
   "outputs": [
    {
     "data": {
      "image/png": "[encoded data removed]",
      "text/plain": [
       "<Figure size 400x400 with 1 Axes>"
      ]
     },
     "metadata": {},
     "output_type": "display_data"
    }
   ],
   "source": [
    "data['city'].value_counts().rename(\n",
    "    index={'Moscow': 'Москва', \n",
    "           'Saint-Petersburg': 'Санкт-Петербург'}\n",
    ").plot(\n",
    "    kind='pie', \n",
    "    figsize=(4, 4), \n",
    "    title='Круговая диаграмма' +\n",
    "          '\\nраспределения количества прослушиваний треков' +\n",
    "          '\\nпо городам',\n",
    "    label='',\n",
    "    autopct='%.0f %%')\n",
    "plt.show()"
   ]
  },
  {
   "cell_type": "code",
   "execution_count": 26,
   "id": "3e3786fe",
   "metadata": {},
   "outputs": [
    {
     "data": {
      "text/html": [
       "<div>\n",
       "<style scoped>\n",
       "    .dataframe tbody tr th:only-of-type {\n",
       "        vertical-align: middle;\n",
       "    }\n",
       "\n",
       "    .dataframe tbody tr th {\n",
       "        vertical-align: top;\n",
       "    }\n",
       "\n",
       "    .dataframe thead th {\n",
       "        text-align: right;\n",
       "    }\n",
       "</style>\n",
       "<table border=\"1\" class=\"dataframe\">\n",
       "  <thead>\n",
       "    <tr style=\"text-align: right;\">\n",
       "      <th>Город</th>\n",
       "      <th>Москва</th>\n",
       "      <th>Санкт-Петербург</th>\n",
       "    </tr>\n",
       "  </thead>\n",
       "  <tbody>\n",
       "    <tr>\n",
       "      <th>Количество прослушиваний</th>\n",
       "      <td>42741</td>\n",
       "      <td>18512</td>\n",
       "    </tr>\n",
       "  </tbody>\n",
       "</table>\n",
       "</div>"
      ],
      "text/plain": [
       "Город                     Москва  Санкт-Петербург\n",
       "Количество прослушиваний   42741            18512"
      ]
     },
     "execution_count": 26,
     "metadata": {},
     "output_type": "execute_result"
    }
   ],
   "source": [
    "pd.DataFrame(data['city'].value_counts().rename(\n",
    "    index={'Moscow': 'Москва', \n",
    "           'Saint-Petersburg': 'Санкт-Петербург'})) \\\n",
    "    .reset_index() \\\n",
    "    .rename(columns={'city': 'Город', \n",
    "                     'count': 'Количество прослушиваний'}) \\\n",
    "    .set_index('Город').T"
   ]
  },
  {
   "cell_type": "markdown",
   "id": "8b971232",
   "metadata": {},
   "source": [
    "- В наборе данных имеются сведения о прослушанных треках только в городах Санкт-Петербурге и Москве.\n",
    "- Соотношение количества записей о прослушанных треках в Москве к количеству записей о прослушанных треках в Санкт-Петербурге равно 7 : 3."
   ]
  },
  {
   "cell_type": "markdown",
   "id": "433fbeb8",
   "metadata": {},
   "source": [
    "#### Название трека"
   ]
  },
  {
   "cell_type": "code",
   "execution_count": 27,
   "id": "e5a07abb",
   "metadata": {},
   "outputs": [
    {
     "data": {
      "text/plain": [
       "47246"
      ]
     },
     "execution_count": 27,
     "metadata": {},
     "output_type": "execute_result"
    }
   ],
   "source": [
    "len(data['track'].unique())"
   ]
  },
  {
   "cell_type": "code",
   "execution_count": 28,
   "id": "da7dcd8a",
   "metadata": {},
   "outputs": [
    {
     "data": {
      "text/html": [
       "<div>\n",
       "<style scoped>\n",
       "    .dataframe tbody tr th:only-of-type {\n",
       "        vertical-align: middle;\n",
       "    }\n",
       "\n",
       "    .dataframe tbody tr th {\n",
       "        vertical-align: top;\n",
       "    }\n",
       "\n",
       "    .dataframe thead th {\n",
       "        text-align: right;\n",
       "    }\n",
       "</style>\n",
       "<table border=\"1\" class=\"dataframe\">\n",
       "  <thead>\n",
       "    <tr style=\"text-align: right;\">\n",
       "      <th></th>\n",
       "      <th>Название трека</th>\n",
       "      <th>Количество прослушиваний</th>\n",
       "    </tr>\n",
       "  </thead>\n",
       "  <tbody>\n",
       "    <tr>\n",
       "      <th>0</th>\n",
       "      <td>unknown</td>\n",
       "      <td>1155</td>\n",
       "    </tr>\n",
       "    <tr>\n",
       "      <th>1</th>\n",
       "      <td>Intro</td>\n",
       "      <td>34</td>\n",
       "    </tr>\n",
       "    <tr>\n",
       "      <th>2</th>\n",
       "      <td>Home</td>\n",
       "      <td>27</td>\n",
       "    </tr>\n",
       "    <tr>\n",
       "      <th>3</th>\n",
       "      <td>Stay</td>\n",
       "      <td>22</td>\n",
       "    </tr>\n",
       "    <tr>\n",
       "      <th>4</th>\n",
       "      <td>Closer</td>\n",
       "      <td>21</td>\n",
       "    </tr>\n",
       "    <tr>\n",
       "      <th>5</th>\n",
       "      <td>Time</td>\n",
       "      <td>21</td>\n",
       "    </tr>\n",
       "    <tr>\n",
       "      <th>6</th>\n",
       "      <td>All of Me</td>\n",
       "      <td>21</td>\n",
       "    </tr>\n",
       "    <tr>\n",
       "      <th>7</th>\n",
       "      <td>Fire</td>\n",
       "      <td>20</td>\n",
       "    </tr>\n",
       "    <tr>\n",
       "      <th>8</th>\n",
       "      <td>Heartbeat</td>\n",
       "      <td>20</td>\n",
       "    </tr>\n",
       "    <tr>\n",
       "      <th>9</th>\n",
       "      <td>Alone</td>\n",
       "      <td>19</td>\n",
       "    </tr>\n",
       "  </tbody>\n",
       "</table>\n",
       "</div>"
      ],
      "text/plain": [
       "  Название трека  Количество прослушиваний\n",
       "0        unknown                      1155\n",
       "1          Intro                        34\n",
       "2           Home                        27\n",
       "3           Stay                        22\n",
       "4         Closer                        21\n",
       "5           Time                        21\n",
       "6      All of Me                        21\n",
       "7           Fire                        20\n",
       "8      Heartbeat                        20\n",
       "9          Alone                        19"
      ]
     },
     "execution_count": 28,
     "metadata": {},
     "output_type": "execute_result"
    }
   ],
   "source": [
    "pd.DataFrame(data['track'].value_counts().head(10)) \\\n",
    "    .reset_index().rename(\n",
    "    columns={'track': 'Название трека', \n",
    "             'count': 'Количество прослушиваний'}) "
   ]
  },
  {
   "cell_type": "markdown",
   "id": "cafffa9b",
   "metadata": {},
   "source": [
    "- В 61 253 записях содержится информация о 47 246 уникальных названиях треков.\n",
    "- Некоторые треки &mdash; 1155 &mdash; не имеют названия. Это почти 2 % всех записей.\n",
    "- Наиболее часто встречаются названия \"Intro\" &mdash; 34 раза, \"Home\" &mdash; 27 раз, \"Stay\" &mdash; 22 раза."
   ]
  },
  {
   "cell_type": "markdown",
   "id": "664f5831",
   "metadata": {},
   "source": [
    "#### Имя исполнителя"
   ]
  },
  {
   "cell_type": "code",
   "execution_count": 29,
   "id": "613ceac8",
   "metadata": {},
   "outputs": [
    {
     "data": {
      "text/plain": [
       "43606"
      ]
     },
     "execution_count": 29,
     "metadata": {},
     "output_type": "execute_result"
    }
   ],
   "source": [
    "len(data['artist'].unique())"
   ]
  },
  {
   "cell_type": "code",
   "execution_count": 30,
   "id": "dbc9cb29",
   "metadata": {},
   "outputs": [
    {
     "data": {
      "text/html": [
       "<div>\n",
       "<style scoped>\n",
       "    .dataframe tbody tr th:only-of-type {\n",
       "        vertical-align: middle;\n",
       "    }\n",
       "\n",
       "    .dataframe tbody tr th {\n",
       "        vertical-align: top;\n",
       "    }\n",
       "\n",
       "    .dataframe thead th {\n",
       "        text-align: right;\n",
       "    }\n",
       "</style>\n",
       "<table border=\"1\" class=\"dataframe\">\n",
       "  <thead>\n",
       "    <tr style=\"text-align: right;\">\n",
       "      <th></th>\n",
       "      <th>Имя исполнителя</th>\n",
       "      <th>Количество треков</th>\n",
       "    </tr>\n",
       "  </thead>\n",
       "  <tbody>\n",
       "    <tr>\n",
       "      <th>0</th>\n",
       "      <td>unknown</td>\n",
       "      <td>6772</td>\n",
       "    </tr>\n",
       "    <tr>\n",
       "      <th>1</th>\n",
       "      <td>Sasha</td>\n",
       "      <td>6</td>\n",
       "    </tr>\n",
       "    <tr>\n",
       "      <th>2</th>\n",
       "      <td>Grey</td>\n",
       "      <td>5</td>\n",
       "    </tr>\n",
       "    <tr>\n",
       "      <th>3</th>\n",
       "      <td>Amir</td>\n",
       "      <td>5</td>\n",
       "    </tr>\n",
       "    <tr>\n",
       "      <th>4</th>\n",
       "      <td>Samra</td>\n",
       "      <td>5</td>\n",
       "    </tr>\n",
       "    <tr>\n",
       "      <th>5</th>\n",
       "      <td>Aura</td>\n",
       "      <td>5</td>\n",
       "    </tr>\n",
       "    <tr>\n",
       "      <th>6</th>\n",
       "      <td>Lila</td>\n",
       "      <td>5</td>\n",
       "    </tr>\n",
       "    <tr>\n",
       "      <th>7</th>\n",
       "      <td>Enigma</td>\n",
       "      <td>5</td>\n",
       "    </tr>\n",
       "    <tr>\n",
       "      <th>8</th>\n",
       "      <td>Sabrina</td>\n",
       "      <td>5</td>\n",
       "    </tr>\n",
       "    <tr>\n",
       "      <th>9</th>\n",
       "      <td>Rocket</td>\n",
       "      <td>5</td>\n",
       "    </tr>\n",
       "  </tbody>\n",
       "</table>\n",
       "</div>"
      ],
      "text/plain": [
       "  Имя исполнителя  Количество треков\n",
       "0         unknown               6772\n",
       "1           Sasha                  6\n",
       "2            Grey                  5\n",
       "3            Amir                  5\n",
       "4           Samra                  5\n",
       "5            Aura                  5\n",
       "6            Lila                  5\n",
       "7          Enigma                  5\n",
       "8         Sabrina                  5\n",
       "9          Rocket                  5"
      ]
     },
     "execution_count": 30,
     "metadata": {},
     "output_type": "execute_result"
    }
   ],
   "source": [
    "pd.DataFrame(data['artist'].value_counts().head(10)) \\\n",
    "    .reset_index().rename(\n",
    "    columns={'artist': 'Имя исполнителя', \n",
    "             'count': 'Количество треков'}) "
   ]
  },
  {
   "cell_type": "markdown",
   "id": "ce470cb7",
   "metadata": {},
   "source": [
    "- В 61 253 записях содержится информация о 43 606 уникальных исполнителях.\n",
    "- Для большого числа треков &mdash; 6772 &mdash; не известно имя исполнителя. Это 11 % всех записей.\n",
    "- Наиболее часто встречается исполнитель \"Sasha\" &mdash; 6 раз."
   ]
  },
  {
   "cell_type": "markdown",
   "id": "487d94be",
   "metadata": {},
   "source": [
    "#### Название жанра"
   ]
  },
  {
   "cell_type": "code",
   "execution_count": 31,
   "id": "9a081d50",
   "metadata": {},
   "outputs": [
    {
     "data": {
      "text/plain": [
       "283"
      ]
     },
     "execution_count": 31,
     "metadata": {},
     "output_type": "execute_result"
    }
   ],
   "source": [
    "len(data['genre'].unique())"
   ]
  },
  {
   "cell_type": "code",
   "execution_count": 32,
   "id": "51849e10",
   "metadata": {},
   "outputs": [
    {
     "data": {
      "text/html": [
       "<div>\n",
       "<style scoped>\n",
       "    .dataframe tbody tr th:only-of-type {\n",
       "        vertical-align: middle;\n",
       "    }\n",
       "\n",
       "    .dataframe tbody tr th {\n",
       "        vertical-align: top;\n",
       "    }\n",
       "\n",
       "    .dataframe thead th {\n",
       "        text-align: right;\n",
       "    }\n",
       "</style>\n",
       "<table border=\"1\" class=\"dataframe\">\n",
       "  <thead>\n",
       "    <tr style=\"text-align: right;\">\n",
       "      <th></th>\n",
       "      <th>Название жанра</th>\n",
       "      <th>Количество треков</th>\n",
       "    </tr>\n",
       "  </thead>\n",
       "  <tbody>\n",
       "    <tr>\n",
       "      <th>0</th>\n",
       "      <td>pop</td>\n",
       "      <td>8323</td>\n",
       "    </tr>\n",
       "    <tr>\n",
       "      <th>1</th>\n",
       "      <td>dance</td>\n",
       "      <td>6367</td>\n",
       "    </tr>\n",
       "    <tr>\n",
       "      <th>2</th>\n",
       "      <td>rock</td>\n",
       "      <td>5844</td>\n",
       "    </tr>\n",
       "    <tr>\n",
       "      <th>3</th>\n",
       "      <td>electronic</td>\n",
       "      <td>5523</td>\n",
       "    </tr>\n",
       "    <tr>\n",
       "      <th>4</th>\n",
       "      <td>hiphop</td>\n",
       "      <td>3056</td>\n",
       "    </tr>\n",
       "    <tr>\n",
       "      <th>5</th>\n",
       "      <td>classical</td>\n",
       "      <td>2262</td>\n",
       "    </tr>\n",
       "    <tr>\n",
       "      <th>6</th>\n",
       "      <td>alternative</td>\n",
       "      <td>2028</td>\n",
       "    </tr>\n",
       "    <tr>\n",
       "      <th>7</th>\n",
       "      <td>world</td>\n",
       "      <td>1947</td>\n",
       "    </tr>\n",
       "    <tr>\n",
       "      <th>8</th>\n",
       "      <td>ruspop</td>\n",
       "      <td>1910</td>\n",
       "    </tr>\n",
       "    <tr>\n",
       "      <th>9</th>\n",
       "      <td>rusrap</td>\n",
       "      <td>1725</td>\n",
       "    </tr>\n",
       "    <tr>\n",
       "      <th>10</th>\n",
       "      <td>jazz</td>\n",
       "      <td>1466</td>\n",
       "    </tr>\n",
       "    <tr>\n",
       "      <th>11</th>\n",
       "      <td>metal</td>\n",
       "      <td>1210</td>\n",
       "    </tr>\n",
       "    <tr>\n",
       "      <th>12</th>\n",
       "      <td>unknown</td>\n",
       "      <td>1127</td>\n",
       "    </tr>\n",
       "    <tr>\n",
       "      <th>13</th>\n",
       "      <td>soundtrack</td>\n",
       "      <td>1116</td>\n",
       "    </tr>\n",
       "    <tr>\n",
       "      <th>14</th>\n",
       "      <td>folk</td>\n",
       "      <td>972</td>\n",
       "    </tr>\n",
       "  </tbody>\n",
       "</table>\n",
       "</div>"
      ],
      "text/plain": [
       "   Название жанра  Количество треков\n",
       "0             pop               8323\n",
       "1           dance               6367\n",
       "2            rock               5844\n",
       "3      electronic               5523\n",
       "4          hiphop               3056\n",
       "5       classical               2262\n",
       "6     alternative               2028\n",
       "7           world               1947\n",
       "8          ruspop               1910\n",
       "9          rusrap               1725\n",
       "10           jazz               1466\n",
       "11          metal               1210\n",
       "12        unknown               1127\n",
       "13     soundtrack               1116\n",
       "14           folk                972"
      ]
     },
     "execution_count": 32,
     "metadata": {},
     "output_type": "execute_result"
    }
   ],
   "source": [
    "pd.DataFrame(data['genre'].value_counts().head(15)) \\\n",
    "    .reset_index().rename(\n",
    "    columns={'genre': 'Название жанра', \n",
    "             'count': 'Количество треков'}) "
   ]
  },
  {
   "cell_type": "markdown",
   "id": "1cd4f6dc",
   "metadata": {},
   "source": [
    "- Все треки относятся к 282 уникальным жанрам.\n",
    "- Для некоторых треков не определён жанр &mdash; их 1127. Это почти 2 % всех записей.\n",
    "- В топ-5 жанров входят поп, танцевальная музыка, рок, электронная музыка и хип-хоп."
   ]
  },
  {
   "cell_type": "markdown",
   "id": "a73dc850",
   "metadata": {},
   "source": [
    "#### День недели прослушивания трека"
   ]
  },
  {
   "cell_type": "code",
   "execution_count": 33,
   "id": "0785268a",
   "metadata": {},
   "outputs": [
    {
     "data": {
      "text/plain": [
       "array(['Wednesday', 'Friday', 'Monday'], dtype=object)"
      ]
     },
     "execution_count": 33,
     "metadata": {},
     "output_type": "execute_result"
    }
   ],
   "source": [
    "data['day'].unique()"
   ]
  },
  {
   "cell_type": "code",
   "execution_count": 34,
   "id": "a36ee21a",
   "metadata": {},
   "outputs": [
    {
     "data": {
      "image/png": "[encoded data removed]",
      "text/plain": [
       "<Figure size 400x400 with 1 Axes>"
      ]
     },
     "metadata": {},
     "output_type": "display_data"
    }
   ],
   "source": [
    "data['day'].value_counts().rename(\n",
    "    index={'Monday': 'Понедельник', \n",
    "           'Wednesday': 'Среда', \n",
    "           'Friday': 'Пятница'}\n",
    ").plot(\n",
    "    kind='pie', \n",
    "    figsize=(4, 4), \n",
    "    title='Круговая диаграмма' +\n",
    "          '\\nраспределения количества прослушиваний треков' +\n",
    "          '\\nпо дням недели',\n",
    "    label='',\n",
    "    autopct='%.0f %%')\n",
    "plt.show()"
   ]
  },
  {
   "cell_type": "markdown",
   "id": "70175c43",
   "metadata": {},
   "source": [
    "- В наборе данных представлены сведения только о трёх днях недели, в которые пользователи слушали треки: понедельник, среда и пятница.\n",
    "- Распределение записей между днями недели почти одинаковое: 35 % треков прослушаны в понедельник, 29 % &mdash; в среду, 36 % &mdash; в пятницу."
   ]
  },
  {
   "cell_type": "markdown",
   "id": "73f2dede",
   "metadata": {},
   "source": [
    "#### Время начала прослушивания трека"
   ]
  },
  {
   "cell_type": "code",
   "execution_count": 35,
   "id": "ad989bfa",
   "metadata": {},
   "outputs": [
    {
     "data": {
      "text/plain": [
       "'08:00:00'"
      ]
     },
     "execution_count": 35,
     "metadata": {},
     "output_type": "execute_result"
    }
   ],
   "source": [
    "data['time'].min()"
   ]
  },
  {
   "cell_type": "code",
   "execution_count": 36,
   "id": "07986acc",
   "metadata": {},
   "outputs": [
    {
     "data": {
      "text/plain": [
       "'22:00:59'"
      ]
     },
     "execution_count": 36,
     "metadata": {},
     "output_type": "execute_result"
    }
   ],
   "source": [
    "data['time'].max()"
   ]
  },
  {
   "cell_type": "markdown",
   "id": "f5bfddf8",
   "metadata": {},
   "source": [
    "Приведём значения признака `time` к формату даты и времени."
   ]
  },
  {
   "cell_type": "code",
   "execution_count": 37,
   "id": "23d4c5bd",
   "metadata": {},
   "outputs": [
    {
     "data": {
      "text/plain": [
       "dtype('<M8[ns]')"
      ]
     },
     "execution_count": 37,
     "metadata": {},
     "output_type": "execute_result"
    }
   ],
   "source": [
    "data['time'] = pd.to_datetime(data['time'], format='%H:%M:%S')\n",
    "data['time'].dtypes"
   ]
  },
  {
   "cell_type": "markdown",
   "id": "b037e633",
   "metadata": {},
   "source": [
    "Создадим признак `hour` со значением времени, округлённого до часа в меньшую сторону."
   ]
  },
  {
   "cell_type": "code",
   "execution_count": 38,
   "id": "c83c1444",
   "metadata": {},
   "outputs": [
    {
     "data": {
      "text/html": [
       "<div>\n",
       "<style scoped>\n",
       "    .dataframe tbody tr th:only-of-type {\n",
       "        vertical-align: middle;\n",
       "    }\n",
       "\n",
       "    .dataframe tbody tr th {\n",
       "        vertical-align: top;\n",
       "    }\n",
       "\n",
       "    .dataframe thead th {\n",
       "        text-align: right;\n",
       "    }\n",
       "</style>\n",
       "<table border=\"1\" class=\"dataframe\">\n",
       "  <thead>\n",
       "    <tr style=\"text-align: right;\">\n",
       "      <th></th>\n",
       "      <th>time</th>\n",
       "      <th>hour</th>\n",
       "    </tr>\n",
       "  </thead>\n",
       "  <tbody>\n",
       "    <tr>\n",
       "      <th>0</th>\n",
       "      <td>1900-01-01 20:28:33</td>\n",
       "      <td>20</td>\n",
       "    </tr>\n",
       "    <tr>\n",
       "      <th>1</th>\n",
       "      <td>1900-01-01 14:07:09</td>\n",
       "      <td>14</td>\n",
       "    </tr>\n",
       "    <tr>\n",
       "      <th>2</th>\n",
       "      <td>1900-01-01 20:58:07</td>\n",
       "      <td>20</td>\n",
       "    </tr>\n",
       "    <tr>\n",
       "      <th>3</th>\n",
       "      <td>1900-01-01 08:37:09</td>\n",
       "      <td>8</td>\n",
       "    </tr>\n",
       "    <tr>\n",
       "      <th>4</th>\n",
       "      <td>1900-01-01 08:34:34</td>\n",
       "      <td>8</td>\n",
       "    </tr>\n",
       "  </tbody>\n",
       "</table>\n",
       "</div>"
      ],
      "text/plain": [
       "                 time  hour\n",
       "0 1900-01-01 20:28:33    20\n",
       "1 1900-01-01 14:07:09    14\n",
       "2 1900-01-01 20:58:07    20\n",
       "3 1900-01-01 08:37:09     8\n",
       "4 1900-01-01 08:34:34     8"
      ]
     },
     "execution_count": 38,
     "metadata": {},
     "output_type": "execute_result"
    }
   ],
   "source": [
    "data['hour'] = data['time'].dt.hour\n",
    "data[['time', 'hour']].head()"
   ]
  },
  {
   "cell_type": "code",
   "execution_count": 39,
   "id": "725b249a",
   "metadata": {},
   "outputs": [
    {
     "data": {
      "image/png": "[encoded data removed]",
      "text/plain": [
       "<Figure size 640x480 with 1 Axes>"
      ]
     },
     "metadata": {},
     "output_type": "display_data"
    }
   ],
   "source": [
    "plt.title('Диаграмма распределения' +\n",
    "          '\\nколичества прослушанных треков по часам')\n",
    "data['hour'].value_counts().sort_index().plot.bar(rot=0)\n",
    "plt.xlabel('Время начала прослушивания (час без минут)')\n",
    "plt.ylabel('Количество прослушанных треков')\n",
    "plt.show()"
   ]
  },
  {
   "cell_type": "markdown",
   "id": "be8f8745",
   "metadata": {},
   "source": [
    "- Самое раннее время прослушивания треков &mdash; 08:00, самое позднее &mdash; 22:00:59.\n",
    "- В наборе данных выделены три группы записей в зависимости от того, когда пользователи начинали воспроизводить треки: с 08:00 до 10:00, с 13:00 до 15:00 и с 20:00 до 22:00.\n",
    "- Маленький люфт времени после 10:00, 15:00 и 22:00 длиной в одну минуту вызван техническими особенностями при формировании набора данных. Однако данные и за эту минуту тоже будут включены в анализ. Таким образом, длительность временного промежутка получается одинаковой для каждой группы записей и составляет 121 минуту.\n",
    "- Количество записей между группами распределено практически одинаково. В каждый час прослушивают около 10 тыс. треков."
   ]
  },
  {
   "cell_type": "markdown",
   "id": "9bdc0ab8",
   "metadata": {},
   "source": [
    "### Проверка гипотез"
   ]
  },
  {
   "cell_type": "markdown",
   "id": "11bb5a40",
   "metadata": {},
   "source": [
    "#### Сравнение поведения пользователей двух столиц"
   ]
  },
  {
   "cell_type": "code",
   "execution_count": 40,
   "id": "16183684",
   "metadata": {},
   "outputs": [
    {
     "data": {
      "text/html": [
       "<div>\n",
       "<style scoped>\n",
       "    .dataframe tbody tr th:only-of-type {\n",
       "        vertical-align: middle;\n",
       "    }\n",
       "\n",
       "    .dataframe tbody tr th {\n",
       "        vertical-align: top;\n",
       "    }\n",
       "\n",
       "    .dataframe thead th {\n",
       "        text-align: right;\n",
       "    }\n",
       "</style>\n",
       "<table border=\"1\" class=\"dataframe\">\n",
       "  <thead>\n",
       "    <tr style=\"text-align: right;\">\n",
       "      <th>day</th>\n",
       "      <th>city</th>\n",
       "      <th>Monday</th>\n",
       "      <th>Wednesday</th>\n",
       "      <th>Friday</th>\n",
       "    </tr>\n",
       "  </thead>\n",
       "  <tbody>\n",
       "    <tr>\n",
       "      <th>0</th>\n",
       "      <td>Moscow</td>\n",
       "      <td>15740</td>\n",
       "      <td>11056</td>\n",
       "      <td>15945</td>\n",
       "    </tr>\n",
       "    <tr>\n",
       "      <th>1</th>\n",
       "      <td>Saint-Petersburg</td>\n",
       "      <td>5614</td>\n",
       "      <td>7003</td>\n",
       "      <td>5895</td>\n",
       "    </tr>\n",
       "  </tbody>\n",
       "</table>\n",
       "</div>"
      ],
      "text/plain": [
       "day              city  Monday  Wednesday  Friday\n",
       "0              Moscow   15740      11056   15945\n",
       "1    Saint-Petersburg    5614       7003    5895"
      ]
     },
     "execution_count": 40,
     "metadata": {},
     "output_type": "execute_result"
    }
   ],
   "source": [
    "pivot = data.pivot_table(\n",
    "    index='city', \n",
    "    columns='day', \n",
    "    values='user_id', \n",
    "    aggfunc='count'\n",
    ").reset_index()\n",
    "pivot = pivot[['city', 'Monday', 'Wednesday', 'Friday']]\n",
    "pivot"
   ]
  },
  {
   "cell_type": "code",
   "execution_count": 41,
   "id": "e010bc26",
   "metadata": {},
   "outputs": [
    {
     "data": {
      "image/png": "[encoded data removed]",
      "text/plain": [
       "<Figure size 640x480 with 1 Axes>"
      ]
     },
     "metadata": {},
     "output_type": "display_data"
    }
   ],
   "source": [
    "data.pivot_table(\n",
    "    index='city', \n",
    "    columns='day', \n",
    "    values='user_id', \n",
    "    aggfunc='count'\n",
    ")[['Monday', 'Wednesday', 'Friday']].plot.bar(\n",
    "    rot=0, \n",
    "    title='Диаграмма распределения' +\n",
    "          '\\nколичества прослушанныхтреков' +\n",
    "          '\\nпо городам по дням недели',\n",
    "    xlabel='Город',\n",
    "    ylabel='Количество прослушанных треков')\n",
    "plt.show()"
   ]
  },
  {
   "cell_type": "markdown",
   "id": "be67c726",
   "metadata": {},
   "source": [
    "- В Москве количество прослушанных в понедельник и пятницу треков приблизительно одинаково; в среду количество прослушанных треков заметно ниже &mdash; на 30 %.\n",
    "- В Санкт-Петербурге, наоборот, больше треков слушают по средам. В понедельник и пятницу количество прослушанных треков меньше, чем в среду, на 20&ndash;25 %."
   ]
  },
  {
   "cell_type": "markdown",
   "id": "1fde5fb9",
   "metadata": {},
   "source": [
    "#### Музыка в начале и в конце недели"
   ]
  },
  {
   "cell_type": "markdown",
   "id": "d7812063",
   "metadata": {},
   "source": [
    "***Жанровые предпочтения утром понедельника***"
   ]
  },
  {
   "cell_type": "code",
   "execution_count": 42,
   "id": "7cecb336",
   "metadata": {},
   "outputs": [
    {
     "data": {
      "text/plain": [
       "genre\n",
       "pop            781\n",
       "dance          549\n",
       "electronic     480\n",
       "rock           474\n",
       "hiphop         286\n",
       "ruspop         186\n",
       "world          181\n",
       "rusrap         175\n",
       "alternative    164\n",
       "unknown        161\n",
       "Name: count, dtype: int64"
      ]
     },
     "execution_count": 42,
     "metadata": {},
     "output_type": "execute_result"
    }
   ],
   "source": [
    "data.loc[(data['city'] == 'Moscow') &\n",
    "         (data['day'] == 'Monday') &\n",
    "         (data['hour'] < 11), \n",
    "         'genre'].value_counts().head(10)"
   ]
  },
  {
   "cell_type": "code",
   "execution_count": 43,
   "id": "7835c7b7",
   "metadata": {},
   "outputs": [
    {
     "data": {
      "text/plain": [
       "genre\n",
       "pop            218\n",
       "dance          182\n",
       "rock           162\n",
       "electronic     147\n",
       "hiphop          80\n",
       "ruspop          64\n",
       "alternative     58\n",
       "rusrap          55\n",
       "jazz            44\n",
       "classical       40\n",
       "Name: count, dtype: int64"
      ]
     },
     "execution_count": 43,
     "metadata": {},
     "output_type": "execute_result"
    }
   ],
   "source": [
    "data.loc[(data['city'] == 'Saint-Petersburg') &\n",
    "         (data['day'] == 'Monday') &\n",
    "         (data['hour'] < 11), \n",
    "         'genre'].value_counts().head(10)"
   ]
  },
  {
   "cell_type": "markdown",
   "id": "8a608a7d",
   "metadata": {},
   "source": [
    "- В понедельник утром в Москве и Санкт-Петербурге слушают похожую музыку: списки топ-10 жанров практически одинаковые. Отличие состоит только в том, что в Москве в топ-10 входит жанр “world”, а в Санкт-Петербурге &mdash; жанры джаз и классика.\n",
    "- В Москве в топ-10 наблюдается значение \"unknown\", которое находится на десятом месте. Таким образом, пропущенные значения в признаке `genre` занимают существенную долю в данных и могут искажать распределение треков по жанрам и снижать достоверность исследования."
   ]
  },
  {
   "cell_type": "markdown",
   "id": "287b9306",
   "metadata": {},
   "source": [
    "***Жанровые предпочтения вечером пятницы***"
   ]
  },
  {
   "cell_type": "code",
   "execution_count": 44,
   "id": "9c0d4fa4",
   "metadata": {},
   "outputs": [
    {
     "data": {
      "text/plain": [
       "genre\n",
       "pop            713\n",
       "rock           517\n",
       "dance          495\n",
       "electronic     482\n",
       "hiphop         273\n",
       "world          208\n",
       "ruspop         170\n",
       "classical      163\n",
       "alternative    163\n",
       "rusrap         142\n",
       "Name: count, dtype: int64"
      ]
     },
     "execution_count": 44,
     "metadata": {},
     "output_type": "execute_result"
    }
   ],
   "source": [
    "data.loc[(data['city'] == 'Moscow') &\n",
    "         (data['day'] == 'Friday') &\n",
    "         (data['hour'] > 17), \n",
    "         'genre'].value_counts().head(10)"
   ]
  },
  {
   "cell_type": "code",
   "execution_count": 45,
   "id": "19388b31",
   "metadata": {},
   "outputs": [
    {
     "data": {
      "text/plain": [
       "genre\n",
       "pop            256\n",
       "electronic     216\n",
       "rock           216\n",
       "dance          210\n",
       "hiphop          97\n",
       "alternative     63\n",
       "jazz            61\n",
       "classical       60\n",
       "rusrap          59\n",
       "world           54\n",
       "Name: count, dtype: int64"
      ]
     },
     "execution_count": 45,
     "metadata": {},
     "output_type": "execute_result"
    }
   ],
   "source": [
    "data.loc[(data['city'] == 'Saint-Petersburg') &\n",
    "         (data['day'] == 'Friday') &\n",
    "         (data['hour'] > 17), \n",
    "         'genre'].value_counts().head(10)"
   ]
  },
  {
   "cell_type": "markdown",
   "id": "b2777ca2",
   "metadata": {},
   "source": [
    "- В пятницу вечером в Москве и Санкт-Петербурге тоже предпочитают слушать одинаковые жанры. Распределения треков по жанрам хоть и отличаются, но списки топ-10 жанров похожи. Отличие в списках топ-10 такие же, как и в понедельник утром: в Москве слушают музыку в жанре \"world\", в Санкт-Петербурге &mdash; джаз."
   ]
  },
  {
   "cell_type": "markdown",
   "id": "3e1ebc8f",
   "metadata": {},
   "source": [
    "#### Жанровые предпочтения в Москве и Петербурге"
   ]
  },
  {
   "cell_type": "code",
   "execution_count": 46,
   "id": "661f73bc",
   "metadata": {},
   "outputs": [
    {
     "data": {
      "text/plain": [
       "genre\n",
       "pop            5892\n",
       "dance          4435\n",
       "rock           3965\n",
       "electronic     3786\n",
       "hiphop         2096\n",
       "classical      1616\n",
       "world          1432\n",
       "alternative    1379\n",
       "ruspop         1372\n",
       "rusrap         1161\n",
       "Name: count, dtype: int64"
      ]
     },
     "execution_count": 46,
     "metadata": {},
     "output_type": "execute_result"
    }
   ],
   "source": [
    "data.loc[data['city'] == 'Moscow', 'genre'].value_counts().head(10)"
   ]
  },
  {
   "cell_type": "code",
   "execution_count": 47,
   "id": "f16a24af",
   "metadata": {},
   "outputs": [
    {
     "data": {
      "text/plain": [
       "genre\n",
       "pop            2431\n",
       "dance          1932\n",
       "rock           1879\n",
       "electronic     1737\n",
       "hiphop          960\n",
       "alternative     649\n",
       "classical       646\n",
       "rusrap          564\n",
       "ruspop          538\n",
       "world           515\n",
       "Name: count, dtype: int64"
      ]
     },
     "execution_count": 47,
     "metadata": {},
     "output_type": "execute_result"
    }
   ],
   "source": [
    "data.loc[data['city'] == 'Saint-Petersburg', 'genre'].value_counts().head(10)"
   ]
  },
  {
   "cell_type": "markdown",
   "id": "313508b4",
   "metadata": {},
   "source": [
    "- В Москве самый популярный жанр &mdash; поп-музыка. Кроме того, в списке топ-10 жанров встречается близкий жанр &mdash; русская популярная музыка.\n",
    "- В Санкт-Петербурге также предпочитают больше слушать популярную музыку. Именно этот жанр занимает верхнюю строчку списка топ-10 жанров. В списке топ-10 тоже встречается и русская поп-музыка.\n",
    "- Рэп даже не входит в топ-5 жанров. В списке топ-10 жанров, которые предпочитают жители Санкт-Петербурга, рэп находится на 8 месте, а в топ-10 жанров, которые предпочитают жители Москвы, &mdash; на 10 месте."
   ]
  },
  {
   "cell_type": "markdown",
   "id": "7513a6c9",
   "metadata": {},
   "source": [
    "## Общий вывод"
   ]
  },
  {
   "cell_type": "markdown",
   "id": "6b6eb91d",
   "metadata": {},
   "source": [
    "В наборе данных представлены сведения о прослушанных треках жителями Москвы и Санкт-Петербурга. Всего 61 253 записей. Причём количество тректов, прослушанных в Москве и Санкт-Петербурге, относится как 7 : 3.\n",
    "\n",
    "Большая часть записей относится к уникальным пользователям сервиса &mdash; 41 748 человек. Некоторые из пользователей слушали более 30 треков. Максимально прослушанное число треков &mdash; 71.\n",
    "\n",
    "Все представленные треки относятся к 282 различным жанрам. Около 2 % треков не имеют явно указанного жанра. Самыми популярными жанрами являются поп, танцевальная музыка, рок, электронная музыка и хип-хоп.\n",
    "\n",
    "Авторами треков являются 43 606 уникальных исполнителя. Для примерно 11 % треков исполнитель не известен. Самым популярным исполнителем оказался \"Sasha\". Его треки слушали 6 раз.\n",
    "\n",
    "Всего в наборе данных встречается 47 246 уникальных названий треков. У приблизительно 2 % треков название не известно. Наиболее часто встречаются названия \"Intro\" &mdash; 34 раза, \"Home\" &mdash; 27 раз, \"Stay\" &mdash; 22 раза. Это не обязательно должны быть одни и те же музыкальные композиции, поскольку у разных авторов могут быть схожие названия их произведений.\n",
    "\n",
    "В наборе данных представлены сведения о прослушивании треков пользователями сервиса в понедельник, среду и пятницу во временные интервалы: с 08:00 до 10:00, с 13:00 до 15:00 и с 20:00 до 22:00. Количество треков распределено практически поровну между днями недели. Поровну распределены треки и в трёх временных интервалах.\n",
    "\n",
    "В результате исследования удалось проверить гипотезы и установить, что:\n",
    "1. Действительно, количество прослушанных пользователями сервиса треков зависит от дня недели, причём это количество изменяется по-разному у пользователей из разных городов &mdash; Москвы и Санкт-Петербурга.\n",
    "\n",
    "Так в Москве больше треков слушают в понедельник и пятницу, нежели в среду. И если в понедельник и пятницу количество прослушанных треков находится приблизительно на одном уровне &mdash; около 16 тыс., то в среду это количество снижается на 30 %.\n",
    "<br>Обратная картина наблюдается в Санкт-Петербурге. Больше треков слушают в среду &mdash; около 7 тыс., а в понедельник и пятницу количество прослушанных треков меньше на 20&ndash;25 % по сравнению со средой.\n",
    "<br>Гипотеза полностью подтвердилась.\n",
    "\n",
    "2. Жанры, в которых пользователи предпочитают слушать музыку в понедельник утром или в пятницу вечером, &mdash; практически одинаковые в Москве и Санкт-Петербурге.\n",
    "\n",
    "Но всё же заметны небольшие отличия. Так в Москве предпочитают музыку жанра \"world\", а в Санкт-Петербурге &mdash; джаз. Кроме того, в понедельник утром пользователи из Санкт-Петербурга в отличие от пользователей из Москвы предпочитают слушать классику.\n",
    "<br>Стоит также отметить, что большое количество пропусков может искажать распределение треков по жанрам, которые предпочитают пользователи из Москвы. Распределение треков по жанрам, возможно, могло бы быть иным, если бы пропуски в данных отсутствовали.\n",
    "<br>Гипотеза подтвердилась частично.\n",
    "\n",
    "3. Пользователи из Москвы и Санкт-Петербурга предпочитают слушать музыку схожих жанров: наиболее популярным жанром является поп-музыка. Рэп слушают гораздо реже и в Москве, и в Санкт-Петербурге.\n",
    "\n",
    "Гипотеза о том, что пользователи из разных городов предпочитают слушать музыку разных жанров: в Москве чаще слушают поп-музыку, в Санкт-Петербурге &mdash; русский рэп, не подтвердилась.\n"
   ]
  }
 ],
 "metadata": {
  "kernelspec": {
   "display_name": "Python 3 (ipykernel)",
   "language": "python",
   "name": "python3"
  },
  "language_info": {
   "codemirror_mode": {
    "name": "ipython",
    "version": 3
   },
   "file_extension": ".py",
   "mimetype": "text/x-python",
   "name": "python",
   "nbconvert_exporter": "python",
   "pygments_lexer": "ipython3",
   "version": "3.9.15"
  },
  "toc": {
   "base_numbering": 1,
   "nav_menu": {},
   "number_sections": true,
   "sideBar": true,
   "skip_h1_title": true,
   "title_cell": "Содержание",
   "title_sidebar": "Содержание",
   "toc_cell": true,
   "toc_position": {
    "height": "calc(100% - 180px)",
    "left": "10px",
    "top": "150px",
    "width": "263.594px"
   },
   "toc_section_display": true,
   "toc_window_display": true
  }
 },
 "nbformat": 4,
 "nbformat_minor": 5
}
